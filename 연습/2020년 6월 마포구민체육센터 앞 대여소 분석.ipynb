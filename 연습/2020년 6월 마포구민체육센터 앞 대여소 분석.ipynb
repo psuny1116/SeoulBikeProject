{
 "cells": [
  {
   "cell_type": "code",
   "execution_count": 1,
   "metadata": {},
   "outputs": [],
   "source": [
    "import pandas as pd\n",
    "import numpy as np\n",
    "\n",
    "import matplotlib as mpl\n",
    "import matplotlib.pyplot as plt\n",
    "import seaborn as sns\n",
    "\n",
    "import warnings\n",
    "warnings.filterwarnings('ignore')\n",
    "\n",
    "mpl.rcParams['axes.unicode_minus'] = False\n",
    "plt.rcParams['font.family'] = 'NanumGothic'"
   ]
  },
  {
   "cell_type": "code",
   "execution_count": 2,
   "metadata": {
    "scrolled": false
   },
   "outputs": [
    {
     "data": {
      "text/html": [
       "<div>\n",
       "<style scoped>\n",
       "    .dataframe tbody tr th:only-of-type {\n",
       "        vertical-align: middle;\n",
       "    }\n",
       "\n",
       "    .dataframe tbody tr th {\n",
       "        vertical-align: top;\n",
       "    }\n",
       "\n",
       "    .dataframe thead th {\n",
       "        text-align: right;\n",
       "    }\n",
       "</style>\n",
       "<table border=\"1\" class=\"dataframe\">\n",
       "  <thead>\n",
       "    <tr style=\"text-align: right;\">\n",
       "      <th></th>\n",
       "      <th>자전거번호</th>\n",
       "      <th>대여일시</th>\n",
       "      <th>대여대여소번호</th>\n",
       "      <th>대여대여소명</th>\n",
       "      <th>대여거치대</th>\n",
       "      <th>반납일시</th>\n",
       "      <th>반납대여소번호</th>\n",
       "      <th>반납대여소명</th>\n",
       "      <th>반납거치대</th>\n",
       "      <th>이용시간</th>\n",
       "      <th>이용거리</th>\n",
       "    </tr>\n",
       "  </thead>\n",
       "  <tbody>\n",
       "    <tr>\n",
       "      <th>0</th>\n",
       "      <td>SPB-36260</td>\n",
       "      <td>2020-06-01 00:00:35</td>\n",
       "      <td>1681</td>\n",
       "      <td>현대6차 아파트</td>\n",
       "      <td>0</td>\n",
       "      <td>2020-06-01 00:05:24</td>\n",
       "      <td>1665</td>\n",
       "      <td>양지근린공원앞</td>\n",
       "      <td>0</td>\n",
       "      <td>5</td>\n",
       "      <td>0.00</td>\n",
       "    </tr>\n",
       "    <tr>\n",
       "      <th>1</th>\n",
       "      <td>SPB-36146</td>\n",
       "      <td>2020-06-01 00:01:47</td>\n",
       "      <td>816</td>\n",
       "      <td>신용산역 6번출구 앞</td>\n",
       "      <td>0</td>\n",
       "      <td>2020-06-01 00:05:54</td>\n",
       "      <td>829</td>\n",
       "      <td>베르가모앞</td>\n",
       "      <td>0</td>\n",
       "      <td>4</td>\n",
       "      <td>0.00</td>\n",
       "    </tr>\n",
       "    <tr>\n",
       "      <th>2</th>\n",
       "      <td>SPB-33273</td>\n",
       "      <td>2020-06-01 00:03:05</td>\n",
       "      <td>1050</td>\n",
       "      <td>둔촌역 3번 출입구</td>\n",
       "      <td>0</td>\n",
       "      <td>2020-06-01 00:05:59</td>\n",
       "      <td>1078</td>\n",
       "      <td>둔촌사거리</td>\n",
       "      <td>0</td>\n",
       "      <td>3</td>\n",
       "      <td>0.00</td>\n",
       "    </tr>\n",
       "    <tr>\n",
       "      <th>3</th>\n",
       "      <td>SPB-35969</td>\n",
       "      <td>2020-06-01 00:04:31</td>\n",
       "      <td>1209</td>\n",
       "      <td>잠실나루역 (2번 출구 쪽)</td>\n",
       "      <td>0</td>\n",
       "      <td>2020-06-01 00:06:10</td>\n",
       "      <td>1209</td>\n",
       "      <td>잠실나루역 (2번 출구 쪽)</td>\n",
       "      <td>0</td>\n",
       "      <td>2</td>\n",
       "      <td>0.00</td>\n",
       "    </tr>\n",
       "    <tr>\n",
       "      <th>4</th>\n",
       "      <td>SPB-30703</td>\n",
       "      <td>2020-06-01 00:00:46</td>\n",
       "      <td>1132</td>\n",
       "      <td>등촌역 7번출구</td>\n",
       "      <td>0</td>\n",
       "      <td>2020-06-01 00:06:53</td>\n",
       "      <td>1169</td>\n",
       "      <td>염창역 1번 출구</td>\n",
       "      <td>0</td>\n",
       "      <td>6</td>\n",
       "      <td>0.00</td>\n",
       "    </tr>\n",
       "    <tr>\n",
       "      <th>...</th>\n",
       "      <td>...</td>\n",
       "      <td>...</td>\n",
       "      <td>...</td>\n",
       "      <td>...</td>\n",
       "      <td>...</td>\n",
       "      <td>...</td>\n",
       "      <td>...</td>\n",
       "      <td>...</td>\n",
       "      <td>...</td>\n",
       "      <td>...</td>\n",
       "      <td>...</td>\n",
       "    </tr>\n",
       "    <tr>\n",
       "      <th>2725232</th>\n",
       "      <td>SPB-12680</td>\n",
       "      <td>2020-06-30 13:01:33</td>\n",
       "      <td>1346</td>\n",
       "      <td>길음8골어린이공원 옆</td>\n",
       "      <td>1</td>\n",
       "      <td>2020-07-01 02:50:27</td>\n",
       "      <td>1347</td>\n",
       "      <td>길음래미안아파트817동 상가 앞</td>\n",
       "      <td>1</td>\n",
       "      <td>15</td>\n",
       "      <td>7230.00</td>\n",
       "    </tr>\n",
       "    <tr>\n",
       "      <th>2725233</th>\n",
       "      <td>SPB-40800</td>\n",
       "      <td>2020-06-30 23:56:30</td>\n",
       "      <td>107</td>\n",
       "      <td>신한은행 서교동금융센터점 앞</td>\n",
       "      <td>0</td>\n",
       "      <td>2020-07-01 07:41:32</td>\n",
       "      <td>438</td>\n",
       "      <td>성산2-1 공영주차장</td>\n",
       "      <td>0</td>\n",
       "      <td>465</td>\n",
       "      <td>0.00</td>\n",
       "    </tr>\n",
       "    <tr>\n",
       "      <th>2725234</th>\n",
       "      <td>SPB-32402</td>\n",
       "      <td>2020-06-30 16:45:32</td>\n",
       "      <td>1956</td>\n",
       "      <td>도야미리숯불갈비 앞</td>\n",
       "      <td>0</td>\n",
       "      <td>2020-07-01 08:04:52</td>\n",
       "      <td>1956</td>\n",
       "      <td>도야미리숯불갈비 앞</td>\n",
       "      <td>0</td>\n",
       "      <td>919</td>\n",
       "      <td>39786.76</td>\n",
       "    </tr>\n",
       "    <tr>\n",
       "      <th>2725235</th>\n",
       "      <td>SPB-38526</td>\n",
       "      <td>2020-06-30 23:23:38</td>\n",
       "      <td>703</td>\n",
       "      <td>오목교역 7번출구 앞</td>\n",
       "      <td>0</td>\n",
       "      <td>2020-07-01 08:37:15</td>\n",
       "      <td>734</td>\n",
       "      <td>신트리공원 입구</td>\n",
       "      <td>0</td>\n",
       "      <td>554</td>\n",
       "      <td>0.00</td>\n",
       "    </tr>\n",
       "    <tr>\n",
       "      <th>2725236</th>\n",
       "      <td>SPB-21598</td>\n",
       "      <td>2020-06-30 23:52:23</td>\n",
       "      <td>1008</td>\n",
       "      <td>암사역 3번출구(국민은행앞)</td>\n",
       "      <td>4</td>\n",
       "      <td>2020-07-01 09:07:47</td>\n",
       "      <td>1008</td>\n",
       "      <td>암사역 3번출구(국민은행앞)</td>\n",
       "      <td>4</td>\n",
       "      <td>42</td>\n",
       "      <td>310.00</td>\n",
       "    </tr>\n",
       "  </tbody>\n",
       "</table>\n",
       "<p>2725237 rows × 11 columns</p>\n",
       "</div>"
      ],
      "text/plain": [
       "             자전거번호                 대여일시  대여대여소번호           대여대여소명  대여거치대  \\\n",
       "0        SPB-36260  2020-06-01 00:00:35     1681         현대6차 아파트      0   \n",
       "1        SPB-36146  2020-06-01 00:01:47      816      신용산역 6번출구 앞      0   \n",
       "2        SPB-33273  2020-06-01 00:03:05     1050       둔촌역 3번 출입구      0   \n",
       "3        SPB-35969  2020-06-01 00:04:31     1209  잠실나루역 (2번 출구 쪽)      0   \n",
       "4        SPB-30703  2020-06-01 00:00:46     1132         등촌역 7번출구      0   \n",
       "...            ...                  ...      ...              ...    ...   \n",
       "2725232  SPB-12680  2020-06-30 13:01:33     1346      길음8골어린이공원 옆      1   \n",
       "2725233  SPB-40800  2020-06-30 23:56:30      107  신한은행 서교동금융센터점 앞      0   \n",
       "2725234  SPB-32402  2020-06-30 16:45:32     1956       도야미리숯불갈비 앞      0   \n",
       "2725235  SPB-38526  2020-06-30 23:23:38      703      오목교역 7번출구 앞      0   \n",
       "2725236  SPB-21598  2020-06-30 23:52:23     1008  암사역 3번출구(국민은행앞)      4   \n",
       "\n",
       "                        반납일시  반납대여소번호             반납대여소명  반납거치대  이용시간  \\\n",
       "0        2020-06-01 00:05:24     1665            양지근린공원앞      0     5   \n",
       "1        2020-06-01 00:05:54      829              베르가모앞      0     4   \n",
       "2        2020-06-01 00:05:59     1078              둔촌사거리      0     3   \n",
       "3        2020-06-01 00:06:10     1209    잠실나루역 (2번 출구 쪽)      0     2   \n",
       "4        2020-06-01 00:06:53     1169          염창역 1번 출구      0     6   \n",
       "...                      ...      ...                ...    ...   ...   \n",
       "2725232  2020-07-01 02:50:27     1347  길음래미안아파트817동 상가 앞      1    15   \n",
       "2725233  2020-07-01 07:41:32      438        성산2-1 공영주차장      0   465   \n",
       "2725234  2020-07-01 08:04:52     1956         도야미리숯불갈비 앞      0   919   \n",
       "2725235  2020-07-01 08:37:15      734           신트리공원 입구      0   554   \n",
       "2725236  2020-07-01 09:07:47     1008    암사역 3번출구(국민은행앞)      4    42   \n",
       "\n",
       "             이용거리  \n",
       "0            0.00  \n",
       "1            0.00  \n",
       "2            0.00  \n",
       "3            0.00  \n",
       "4            0.00  \n",
       "...           ...  \n",
       "2725232   7230.00  \n",
       "2725233      0.00  \n",
       "2725234  39786.76  \n",
       "2725235      0.00  \n",
       "2725236    310.00  \n",
       "\n",
       "[2725237 rows x 11 columns]"
      ]
     },
     "execution_count": 2,
     "metadata": {},
     "output_type": "execute_result"
    }
   ],
   "source": [
    "df = pd.read_csv('./data/공공자전거 대여이력 정보_2020.06.csv', engine = 'python')\n",
    "df"
   ]
  },
  {
   "cell_type": "code",
   "execution_count": 3,
   "metadata": {},
   "outputs": [
    {
     "data": {
      "text/html": [
       "<div>\n",
       "<style scoped>\n",
       "    .dataframe tbody tr th:only-of-type {\n",
       "        vertical-align: middle;\n",
       "    }\n",
       "\n",
       "    .dataframe tbody tr th {\n",
       "        vertical-align: top;\n",
       "    }\n",
       "\n",
       "    .dataframe thead th {\n",
       "        text-align: right;\n",
       "    }\n",
       "</style>\n",
       "<table border=\"1\" class=\"dataframe\">\n",
       "  <thead>\n",
       "    <tr style=\"text-align: right;\">\n",
       "      <th></th>\n",
       "      <th>대여일시</th>\n",
       "      <th>대여대여소명</th>\n",
       "      <th>반납일시</th>\n",
       "      <th>반납대여소명</th>\n",
       "    </tr>\n",
       "  </thead>\n",
       "  <tbody>\n",
       "    <tr>\n",
       "      <th>0</th>\n",
       "      <td>2020-06-01 00:00:35</td>\n",
       "      <td>현대6차 아파트</td>\n",
       "      <td>2020-06-01 00:05:24</td>\n",
       "      <td>양지근린공원앞</td>\n",
       "    </tr>\n",
       "    <tr>\n",
       "      <th>1</th>\n",
       "      <td>2020-06-01 00:01:47</td>\n",
       "      <td>신용산역 6번출구 앞</td>\n",
       "      <td>2020-06-01 00:05:54</td>\n",
       "      <td>베르가모앞</td>\n",
       "    </tr>\n",
       "    <tr>\n",
       "      <th>2</th>\n",
       "      <td>2020-06-01 00:03:05</td>\n",
       "      <td>둔촌역 3번 출입구</td>\n",
       "      <td>2020-06-01 00:05:59</td>\n",
       "      <td>둔촌사거리</td>\n",
       "    </tr>\n",
       "    <tr>\n",
       "      <th>3</th>\n",
       "      <td>2020-06-01 00:04:31</td>\n",
       "      <td>잠실나루역 (2번 출구 쪽)</td>\n",
       "      <td>2020-06-01 00:06:10</td>\n",
       "      <td>잠실나루역 (2번 출구 쪽)</td>\n",
       "    </tr>\n",
       "    <tr>\n",
       "      <th>4</th>\n",
       "      <td>2020-06-01 00:00:46</td>\n",
       "      <td>등촌역 7번출구</td>\n",
       "      <td>2020-06-01 00:06:53</td>\n",
       "      <td>염창역 1번 출구</td>\n",
       "    </tr>\n",
       "    <tr>\n",
       "      <th>...</th>\n",
       "      <td>...</td>\n",
       "      <td>...</td>\n",
       "      <td>...</td>\n",
       "      <td>...</td>\n",
       "    </tr>\n",
       "    <tr>\n",
       "      <th>2725232</th>\n",
       "      <td>2020-06-30 13:01:33</td>\n",
       "      <td>길음8골어린이공원 옆</td>\n",
       "      <td>2020-07-01 02:50:27</td>\n",
       "      <td>길음래미안아파트817동 상가 앞</td>\n",
       "    </tr>\n",
       "    <tr>\n",
       "      <th>2725233</th>\n",
       "      <td>2020-06-30 23:56:30</td>\n",
       "      <td>신한은행 서교동금융센터점 앞</td>\n",
       "      <td>2020-07-01 07:41:32</td>\n",
       "      <td>성산2-1 공영주차장</td>\n",
       "    </tr>\n",
       "    <tr>\n",
       "      <th>2725234</th>\n",
       "      <td>2020-06-30 16:45:32</td>\n",
       "      <td>도야미리숯불갈비 앞</td>\n",
       "      <td>2020-07-01 08:04:52</td>\n",
       "      <td>도야미리숯불갈비 앞</td>\n",
       "    </tr>\n",
       "    <tr>\n",
       "      <th>2725235</th>\n",
       "      <td>2020-06-30 23:23:38</td>\n",
       "      <td>오목교역 7번출구 앞</td>\n",
       "      <td>2020-07-01 08:37:15</td>\n",
       "      <td>신트리공원 입구</td>\n",
       "    </tr>\n",
       "    <tr>\n",
       "      <th>2725236</th>\n",
       "      <td>2020-06-30 23:52:23</td>\n",
       "      <td>암사역 3번출구(국민은행앞)</td>\n",
       "      <td>2020-07-01 09:07:47</td>\n",
       "      <td>암사역 3번출구(국민은행앞)</td>\n",
       "    </tr>\n",
       "  </tbody>\n",
       "</table>\n",
       "<p>2725237 rows × 4 columns</p>\n",
       "</div>"
      ],
      "text/plain": [
       "                        대여일시           대여대여소명                 반납일시  \\\n",
       "0        2020-06-01 00:00:35         현대6차 아파트  2020-06-01 00:05:24   \n",
       "1        2020-06-01 00:01:47      신용산역 6번출구 앞  2020-06-01 00:05:54   \n",
       "2        2020-06-01 00:03:05       둔촌역 3번 출입구  2020-06-01 00:05:59   \n",
       "3        2020-06-01 00:04:31  잠실나루역 (2번 출구 쪽)  2020-06-01 00:06:10   \n",
       "4        2020-06-01 00:00:46         등촌역 7번출구  2020-06-01 00:06:53   \n",
       "...                      ...              ...                  ...   \n",
       "2725232  2020-06-30 13:01:33      길음8골어린이공원 옆  2020-07-01 02:50:27   \n",
       "2725233  2020-06-30 23:56:30  신한은행 서교동금융센터점 앞  2020-07-01 07:41:32   \n",
       "2725234  2020-06-30 16:45:32       도야미리숯불갈비 앞  2020-07-01 08:04:52   \n",
       "2725235  2020-06-30 23:23:38      오목교역 7번출구 앞  2020-07-01 08:37:15   \n",
       "2725236  2020-06-30 23:52:23  암사역 3번출구(국민은행앞)  2020-07-01 09:07:47   \n",
       "\n",
       "                    반납대여소명  \n",
       "0                  양지근린공원앞  \n",
       "1                    베르가모앞  \n",
       "2                    둔촌사거리  \n",
       "3          잠실나루역 (2번 출구 쪽)  \n",
       "4                염창역 1번 출구  \n",
       "...                    ...  \n",
       "2725232  길음래미안아파트817동 상가 앞  \n",
       "2725233        성산2-1 공영주차장  \n",
       "2725234         도야미리숯불갈비 앞  \n",
       "2725235           신트리공원 입구  \n",
       "2725236    암사역 3번출구(국민은행앞)  \n",
       "\n",
       "[2725237 rows x 4 columns]"
      ]
     },
     "execution_count": 3,
     "metadata": {},
     "output_type": "execute_result"
    }
   ],
   "source": [
    "df = df.drop(['자전거번호', '대여대여소번호', '대여거치대', '반납대여소번호', '반납거치대', '이용시간', '이용거리'], axis = 1)\n",
    "df"
   ]
  },
  {
   "cell_type": "code",
   "execution_count": 4,
   "metadata": {},
   "outputs": [],
   "source": [
    "df['대여일시'] = pd.to_datetime(df['대여일시'])\n",
    "df['반납일시'] = pd.to_datetime(df['반납일시'])"
   ]
  },
  {
   "cell_type": "code",
   "execution_count": 5,
   "metadata": {},
   "outputs": [],
   "source": [
    "df['대여월'] = df['대여일시'].dt.month\n",
    "df['대여일'] = df['대여일시'].dt.day\n",
    "df['대여요일'] = df['대여일시'].dt.dayofweek\n",
    "df['대여시간'] = df['대여일시'].dt.hour\n",
    "df['대여시간_분'] = df['대여일시'].dt.minute\n",
    "\n",
    "df['반납월'] = df['반납일시'].dt.month\n",
    "df['반납일'] = df['반납일시'].dt.day\n",
    "df['반납요일'] = df['반납일시'].dt.dayofweek\n",
    "df['반납시간'] = df['반납일시'].dt.hour\n",
    "df['반납시간_분'] = df['반납일시'].dt.minute"
   ]
  },
  {
   "cell_type": "code",
   "execution_count": 6,
   "metadata": {},
   "outputs": [],
   "source": [
    "df = df.sort_values('대여일시', ignore_index = True)"
   ]
  },
  {
   "cell_type": "code",
   "execution_count": 7,
   "metadata": {},
   "outputs": [],
   "source": [
    "df = df[df['대여월'] != 5]\n",
    "df = df[df['반납월'] != 7]"
   ]
  },
  {
   "cell_type": "code",
   "execution_count": 8,
   "metadata": {},
   "outputs": [],
   "source": [
    "df['대여대여소명'] = df['대여대여소명'].astype('category')\n",
    "df['반납대여소명'] = df['반납대여소명'].astype('category')"
   ]
  },
  {
   "cell_type": "markdown",
   "metadata": {},
   "source": [
    "### 평균서비스율(10분당 자전거 대여수의 평균) = $\\mu$\n",
    "- $\\mu$ = 10이면 10분동안 평균 10대의 자전거 대여"
   ]
  },
  {
   "cell_type": "code",
   "execution_count": 9,
   "metadata": {},
   "outputs": [
    {
     "data": {
      "text/html": [
       "<div>\n",
       "<style scoped>\n",
       "    .dataframe tbody tr th:only-of-type {\n",
       "        vertical-align: middle;\n",
       "    }\n",
       "\n",
       "    .dataframe tbody tr th {\n",
       "        vertical-align: top;\n",
       "    }\n",
       "\n",
       "    .dataframe thead th {\n",
       "        text-align: right;\n",
       "    }\n",
       "</style>\n",
       "<table border=\"1\" class=\"dataframe\">\n",
       "  <thead>\n",
       "    <tr style=\"text-align: right;\">\n",
       "      <th></th>\n",
       "      <th>대여일시</th>\n",
       "      <th>대여대여소명</th>\n",
       "      <th>대여월</th>\n",
       "      <th>대여일</th>\n",
       "      <th>대여요일</th>\n",
       "      <th>대여시간</th>\n",
       "      <th>대여시간_분</th>\n",
       "    </tr>\n",
       "  </thead>\n",
       "  <tbody>\n",
       "    <tr>\n",
       "      <th>0</th>\n",
       "      <td>2020-06-01 00:00:00</td>\n",
       "      <td>합정역 7번출구 앞</td>\n",
       "      <td>6</td>\n",
       "      <td>1</td>\n",
       "      <td>0</td>\n",
       "      <td>0</td>\n",
       "      <td>0</td>\n",
       "    </tr>\n",
       "    <tr>\n",
       "      <th>1</th>\n",
       "      <td>2020-06-01 00:00:16</td>\n",
       "      <td>응암시장교차로</td>\n",
       "      <td>6</td>\n",
       "      <td>1</td>\n",
       "      <td>0</td>\n",
       "      <td>0</td>\n",
       "      <td>0</td>\n",
       "    </tr>\n",
       "    <tr>\n",
       "      <th>2</th>\n",
       "      <td>2020-06-01 00:00:24</td>\n",
       "      <td>삼호물산버스정류장(23370) 옆</td>\n",
       "      <td>6</td>\n",
       "      <td>1</td>\n",
       "      <td>0</td>\n",
       "      <td>0</td>\n",
       "      <td>0</td>\n",
       "    </tr>\n",
       "    <tr>\n",
       "      <th>3</th>\n",
       "      <td>2020-06-01 00:00:26</td>\n",
       "      <td>능골근린공원</td>\n",
       "      <td>6</td>\n",
       "      <td>1</td>\n",
       "      <td>0</td>\n",
       "      <td>0</td>\n",
       "      <td>0</td>\n",
       "    </tr>\n",
       "    <tr>\n",
       "      <th>4</th>\n",
       "      <td>2020-06-01 00:00:32</td>\n",
       "      <td>응봉역 1번출구</td>\n",
       "      <td>6</td>\n",
       "      <td>1</td>\n",
       "      <td>0</td>\n",
       "      <td>0</td>\n",
       "      <td>0</td>\n",
       "    </tr>\n",
       "    <tr>\n",
       "      <th>...</th>\n",
       "      <td>...</td>\n",
       "      <td>...</td>\n",
       "      <td>...</td>\n",
       "      <td>...</td>\n",
       "      <td>...</td>\n",
       "      <td>...</td>\n",
       "      <td>...</td>\n",
       "    </tr>\n",
       "    <tr>\n",
       "      <th>2724714</th>\n",
       "      <td>2020-06-30 23:55:01</td>\n",
       "      <td>천호초교 입구 사거리(일주빌딩)</td>\n",
       "      <td>6</td>\n",
       "      <td>30</td>\n",
       "      <td>1</td>\n",
       "      <td>23</td>\n",
       "      <td>55</td>\n",
       "    </tr>\n",
       "    <tr>\n",
       "      <th>2724715</th>\n",
       "      <td>2020-06-30 23:55:17</td>\n",
       "      <td>가좌삼거리</td>\n",
       "      <td>6</td>\n",
       "      <td>30</td>\n",
       "      <td>1</td>\n",
       "      <td>23</td>\n",
       "      <td>55</td>\n",
       "    </tr>\n",
       "    <tr>\n",
       "      <th>2724716</th>\n",
       "      <td>2020-06-30 23:56:01</td>\n",
       "      <td>신사역 4번출구 뒤</td>\n",
       "      <td>6</td>\n",
       "      <td>30</td>\n",
       "      <td>1</td>\n",
       "      <td>23</td>\n",
       "      <td>56</td>\n",
       "    </tr>\n",
       "    <tr>\n",
       "      <th>2724717</th>\n",
       "      <td>2020-06-30 23:56:41</td>\n",
       "      <td>쌍문현대1차아파트 108동 앞</td>\n",
       "      <td>6</td>\n",
       "      <td>30</td>\n",
       "      <td>1</td>\n",
       "      <td>23</td>\n",
       "      <td>56</td>\n",
       "    </tr>\n",
       "    <tr>\n",
       "      <th>2724718</th>\n",
       "      <td>2020-06-30 23:57:07</td>\n",
       "      <td>석촌호수교차로(동호 팔각정 앞)</td>\n",
       "      <td>6</td>\n",
       "      <td>30</td>\n",
       "      <td>1</td>\n",
       "      <td>23</td>\n",
       "      <td>57</td>\n",
       "    </tr>\n",
       "  </tbody>\n",
       "</table>\n",
       "<p>2724719 rows × 7 columns</p>\n",
       "</div>"
      ],
      "text/plain": [
       "                       대여일시              대여대여소명  대여월  대여일  대여요일  대여시간  대여시간_분\n",
       "0       2020-06-01 00:00:00          합정역 7번출구 앞    6    1     0     0       0\n",
       "1       2020-06-01 00:00:16             응암시장교차로    6    1     0     0       0\n",
       "2       2020-06-01 00:00:24  삼호물산버스정류장(23370) 옆    6    1     0     0       0\n",
       "3       2020-06-01 00:00:26              능골근린공원    6    1     0     0       0\n",
       "4       2020-06-01 00:00:32            응봉역 1번출구    6    1     0     0       0\n",
       "...                     ...                 ...  ...  ...   ...   ...     ...\n",
       "2724714 2020-06-30 23:55:01   천호초교 입구 사거리(일주빌딩)    6   30     1    23      55\n",
       "2724715 2020-06-30 23:55:17               가좌삼거리    6   30     1    23      55\n",
       "2724716 2020-06-30 23:56:01          신사역 4번출구 뒤    6   30     1    23      56\n",
       "2724717 2020-06-30 23:56:41    쌍문현대1차아파트 108동 앞    6   30     1    23      56\n",
       "2724718 2020-06-30 23:57:07   석촌호수교차로(동호 팔각정 앞)    6   30     1    23      57\n",
       "\n",
       "[2724719 rows x 7 columns]"
      ]
     },
     "execution_count": 9,
     "metadata": {},
     "output_type": "execute_result"
    }
   ],
   "source": [
    "df_rental = df[['대여일시', '대여대여소명', '대여월', '대여일', '대여요일', '대여시간', '대여시간_분']]\n",
    "df_rental.reset_index(drop = True, inplace = True)\n",
    "df_rental"
   ]
  },
  {
   "cell_type": "code",
   "execution_count": 10,
   "metadata": {},
   "outputs": [
    {
     "data": {
      "text/html": [
       "<div>\n",
       "<style scoped>\n",
       "    .dataframe tbody tr th:only-of-type {\n",
       "        vertical-align: middle;\n",
       "    }\n",
       "\n",
       "    .dataframe tbody tr th {\n",
       "        vertical-align: top;\n",
       "    }\n",
       "\n",
       "    .dataframe thead th {\n",
       "        text-align: right;\n",
       "    }\n",
       "</style>\n",
       "<table border=\"1\" class=\"dataframe\">\n",
       "  <thead>\n",
       "    <tr style=\"text-align: right;\">\n",
       "      <th></th>\n",
       "      <th>대여일시</th>\n",
       "      <th>대여대여소명</th>\n",
       "      <th>대여월</th>\n",
       "      <th>대여일</th>\n",
       "      <th>대여요일</th>\n",
       "      <th>대여시간</th>\n",
       "      <th>대여시간_분</th>\n",
       "    </tr>\n",
       "  </thead>\n",
       "  <tbody>\n",
       "    <tr>\n",
       "      <th>0</th>\n",
       "      <td>2020-06-01 00:34:40</td>\n",
       "      <td>마포구민체육센터 앞</td>\n",
       "      <td>6</td>\n",
       "      <td>1</td>\n",
       "      <td>0</td>\n",
       "      <td>0</td>\n",
       "      <td>34</td>\n",
       "    </tr>\n",
       "    <tr>\n",
       "      <th>1</th>\n",
       "      <td>2020-06-01 00:53:19</td>\n",
       "      <td>마포구민체육센터 앞</td>\n",
       "      <td>6</td>\n",
       "      <td>1</td>\n",
       "      <td>0</td>\n",
       "      <td>0</td>\n",
       "      <td>53</td>\n",
       "    </tr>\n",
       "    <tr>\n",
       "      <th>2</th>\n",
       "      <td>2020-06-01 00:54:05</td>\n",
       "      <td>마포구민체육센터 앞</td>\n",
       "      <td>6</td>\n",
       "      <td>1</td>\n",
       "      <td>0</td>\n",
       "      <td>0</td>\n",
       "      <td>54</td>\n",
       "    </tr>\n",
       "    <tr>\n",
       "      <th>3</th>\n",
       "      <td>2020-06-01 02:20:07</td>\n",
       "      <td>마포구민체육센터 앞</td>\n",
       "      <td>6</td>\n",
       "      <td>1</td>\n",
       "      <td>0</td>\n",
       "      <td>2</td>\n",
       "      <td>20</td>\n",
       "    </tr>\n",
       "    <tr>\n",
       "      <th>4</th>\n",
       "      <td>2020-06-01 06:34:12</td>\n",
       "      <td>마포구민체육센터 앞</td>\n",
       "      <td>6</td>\n",
       "      <td>1</td>\n",
       "      <td>0</td>\n",
       "      <td>6</td>\n",
       "      <td>34</td>\n",
       "    </tr>\n",
       "    <tr>\n",
       "      <th>...</th>\n",
       "      <td>...</td>\n",
       "      <td>...</td>\n",
       "      <td>...</td>\n",
       "      <td>...</td>\n",
       "      <td>...</td>\n",
       "      <td>...</td>\n",
       "      <td>...</td>\n",
       "    </tr>\n",
       "    <tr>\n",
       "      <th>11526</th>\n",
       "      <td>2020-06-30 20:53:12</td>\n",
       "      <td>마포구민체육센터 앞</td>\n",
       "      <td>6</td>\n",
       "      <td>30</td>\n",
       "      <td>1</td>\n",
       "      <td>20</td>\n",
       "      <td>53</td>\n",
       "    </tr>\n",
       "    <tr>\n",
       "      <th>11527</th>\n",
       "      <td>2020-06-30 21:10:28</td>\n",
       "      <td>마포구민체육센터 앞</td>\n",
       "      <td>6</td>\n",
       "      <td>30</td>\n",
       "      <td>1</td>\n",
       "      <td>21</td>\n",
       "      <td>10</td>\n",
       "    </tr>\n",
       "    <tr>\n",
       "      <th>11528</th>\n",
       "      <td>2020-06-30 23:17:36</td>\n",
       "      <td>마포구민체육센터 앞</td>\n",
       "      <td>6</td>\n",
       "      <td>30</td>\n",
       "      <td>1</td>\n",
       "      <td>23</td>\n",
       "      <td>17</td>\n",
       "    </tr>\n",
       "    <tr>\n",
       "      <th>11529</th>\n",
       "      <td>2020-06-30 23:19:54</td>\n",
       "      <td>마포구민체육센터 앞</td>\n",
       "      <td>6</td>\n",
       "      <td>30</td>\n",
       "      <td>1</td>\n",
       "      <td>23</td>\n",
       "      <td>19</td>\n",
       "    </tr>\n",
       "    <tr>\n",
       "      <th>11530</th>\n",
       "      <td>2020-06-30 23:40:25</td>\n",
       "      <td>마포구민체육센터 앞</td>\n",
       "      <td>6</td>\n",
       "      <td>30</td>\n",
       "      <td>1</td>\n",
       "      <td>23</td>\n",
       "      <td>40</td>\n",
       "    </tr>\n",
       "  </tbody>\n",
       "</table>\n",
       "<p>11531 rows × 7 columns</p>\n",
       "</div>"
      ],
      "text/plain": [
       "                     대여일시      대여대여소명  대여월  대여일  대여요일  대여시간  대여시간_분\n",
       "0     2020-06-01 00:34:40  마포구민체육센터 앞    6    1     0     0      34\n",
       "1     2020-06-01 00:53:19  마포구민체육센터 앞    6    1     0     0      53\n",
       "2     2020-06-01 00:54:05  마포구민체육센터 앞    6    1     0     0      54\n",
       "3     2020-06-01 02:20:07  마포구민체육센터 앞    6    1     0     2      20\n",
       "4     2020-06-01 06:34:12  마포구민체육센터 앞    6    1     0     6      34\n",
       "...                   ...         ...  ...  ...   ...   ...     ...\n",
       "11526 2020-06-30 20:53:12  마포구민체육센터 앞    6   30     1    20      53\n",
       "11527 2020-06-30 21:10:28  마포구민체육센터 앞    6   30     1    21      10\n",
       "11528 2020-06-30 23:17:36  마포구민체육센터 앞    6   30     1    23      17\n",
       "11529 2020-06-30 23:19:54  마포구민체육센터 앞    6   30     1    23      19\n",
       "11530 2020-06-30 23:40:25  마포구민체육센터 앞    6   30     1    23      40\n",
       "\n",
       "[11531 rows x 7 columns]"
      ]
     },
     "execution_count": 10,
     "metadata": {},
     "output_type": "execute_result"
    }
   ],
   "source": [
    "df_rental = df_rental[df_rental['대여대여소명'] == '마포구민체육센터 앞']\n",
    "df_rental.reset_index(drop = True, inplace = True)\n",
    "df_rental"
   ]
  },
  {
   "cell_type": "markdown",
   "metadata": {},
   "source": [
    "#### 0시"
   ]
  },
  {
   "cell_type": "code",
   "execution_count": 11,
   "metadata": {},
   "outputs": [
    {
     "data": {
      "text/html": [
       "<div>\n",
       "<style scoped>\n",
       "    .dataframe tbody tr th:only-of-type {\n",
       "        vertical-align: middle;\n",
       "    }\n",
       "\n",
       "    .dataframe tbody tr th {\n",
       "        vertical-align: top;\n",
       "    }\n",
       "\n",
       "    .dataframe thead th {\n",
       "        text-align: right;\n",
       "    }\n",
       "</style>\n",
       "<table border=\"1\" class=\"dataframe\">\n",
       "  <thead>\n",
       "    <tr style=\"text-align: right;\">\n",
       "      <th></th>\n",
       "      <th>대여시간_분_그룹</th>\n",
       "      <th>count</th>\n",
       "    </tr>\n",
       "  </thead>\n",
       "  <tbody>\n",
       "    <tr>\n",
       "      <th>0</th>\n",
       "      <td>0</td>\n",
       "      <td>81</td>\n",
       "    </tr>\n",
       "    <tr>\n",
       "      <th>1</th>\n",
       "      <td>10</td>\n",
       "      <td>92</td>\n",
       "    </tr>\n",
       "    <tr>\n",
       "      <th>2</th>\n",
       "      <td>20</td>\n",
       "      <td>90</td>\n",
       "    </tr>\n",
       "    <tr>\n",
       "      <th>3</th>\n",
       "      <td>30</td>\n",
       "      <td>79</td>\n",
       "    </tr>\n",
       "    <tr>\n",
       "      <th>4</th>\n",
       "      <td>40</td>\n",
       "      <td>72</td>\n",
       "    </tr>\n",
       "    <tr>\n",
       "      <th>5</th>\n",
       "      <td>50</td>\n",
       "      <td>54</td>\n",
       "    </tr>\n",
       "  </tbody>\n",
       "</table>\n",
       "</div>"
      ],
      "text/plain": [
       "   대여시간_분_그룹  count\n",
       "0          0     81\n",
       "1         10     92\n",
       "2         20     90\n",
       "3         30     79\n",
       "4         40     72\n",
       "5         50     54"
      ]
     },
     "execution_count": 11,
     "metadata": {},
     "output_type": "execute_result"
    }
   ],
   "source": [
    "df_rental_hour = df_rental[df_rental['대여시간'] == 0]\n",
    "df_rental_hour.reset_index(drop = True, inplace = True)\n",
    "df_rental_hour['대여시간_분_그룹'] = -1\n",
    "for i in range(len(df_rental_hour)):\n",
    "    if df_rental_hour['대여시간_분'][i] >= 50:\n",
    "        df_rental_hour['대여시간_분_그룹'][i] = 50\n",
    "    elif df_rental_hour['대여시간_분'][i] >= 40:\n",
    "        df_rental_hour['대여시간_분_그룹'][i] = 40\n",
    "    elif df_rental_hour['대여시간_분'][i] >= 30:\n",
    "        df_rental_hour['대여시간_분_그룹'][i] = 30\n",
    "    elif df_rental_hour['대여시간_분'][i] >= 20:\n",
    "        df_rental_hour['대여시간_분_그룹'][i] = 20\n",
    "    elif df_rental_hour['대여시간_분'][i] >= 10:\n",
    "        df_rental_hour['대여시간_분_그룹'][i] = 10\n",
    "    else:\n",
    "        df_rental_hour['대여시간_분_그룹'][i] = 0\n",
    "df_rental_hour_group = df_rental_hour.groupby('대여시간_분_그룹')[['대여시간_분']].count().reset_index()\n",
    "df_rental_hour_group.rename(columns = {'대여시간_분' : 'count'}, inplace = True)\n",
    "df_rental_hour_group"
   ]
  },
  {
   "cell_type": "code",
   "execution_count": 12,
   "metadata": {},
   "outputs": [
    {
     "data": {
      "text/plain": [
       "78.0"
      ]
     },
     "execution_count": 12,
     "metadata": {},
     "output_type": "execute_result"
    }
   ],
   "source": [
    "# 10분당 평균 대여율 = 평균서비스율\n",
    "\n",
    "mu0 = df_rental_hour_group['count'].sum() / 6\n",
    "mu0"
   ]
  },
  {
   "cell_type": "markdown",
   "metadata": {},
   "source": [
    "#### 1시"
   ]
  },
  {
   "cell_type": "code",
   "execution_count": 13,
   "metadata": {},
   "outputs": [
    {
     "data": {
      "text/html": [
       "<div>\n",
       "<style scoped>\n",
       "    .dataframe tbody tr th:only-of-type {\n",
       "        vertical-align: middle;\n",
       "    }\n",
       "\n",
       "    .dataframe tbody tr th {\n",
       "        vertical-align: top;\n",
       "    }\n",
       "\n",
       "    .dataframe thead th {\n",
       "        text-align: right;\n",
       "    }\n",
       "</style>\n",
       "<table border=\"1\" class=\"dataframe\">\n",
       "  <thead>\n",
       "    <tr style=\"text-align: right;\">\n",
       "      <th></th>\n",
       "      <th>대여시간_분_그룹</th>\n",
       "      <th>count</th>\n",
       "    </tr>\n",
       "  </thead>\n",
       "  <tbody>\n",
       "    <tr>\n",
       "      <th>0</th>\n",
       "      <td>0</td>\n",
       "      <td>74</td>\n",
       "    </tr>\n",
       "    <tr>\n",
       "      <th>1</th>\n",
       "      <td>10</td>\n",
       "      <td>59</td>\n",
       "    </tr>\n",
       "    <tr>\n",
       "      <th>2</th>\n",
       "      <td>20</td>\n",
       "      <td>53</td>\n",
       "    </tr>\n",
       "    <tr>\n",
       "      <th>3</th>\n",
       "      <td>30</td>\n",
       "      <td>40</td>\n",
       "    </tr>\n",
       "    <tr>\n",
       "      <th>4</th>\n",
       "      <td>40</td>\n",
       "      <td>52</td>\n",
       "    </tr>\n",
       "    <tr>\n",
       "      <th>5</th>\n",
       "      <td>50</td>\n",
       "      <td>35</td>\n",
       "    </tr>\n",
       "  </tbody>\n",
       "</table>\n",
       "</div>"
      ],
      "text/plain": [
       "   대여시간_분_그룹  count\n",
       "0          0     74\n",
       "1         10     59\n",
       "2         20     53\n",
       "3         30     40\n",
       "4         40     52\n",
       "5         50     35"
      ]
     },
     "execution_count": 13,
     "metadata": {},
     "output_type": "execute_result"
    }
   ],
   "source": [
    "df_rental_hour = df_rental[df_rental['대여시간'] == 1]\n",
    "df_rental_hour.reset_index(drop = True, inplace = True)\n",
    "df_rental_hour['대여시간_분_그룹'] = -1\n",
    "for i in range(len(df_rental_hour)):\n",
    "    if df_rental_hour['대여시간_분'][i] >= 50:\n",
    "        df_rental_hour['대여시간_분_그룹'][i] = 50\n",
    "    elif df_rental_hour['대여시간_분'][i] >= 40:\n",
    "        df_rental_hour['대여시간_분_그룹'][i] = 40\n",
    "    elif df_rental_hour['대여시간_분'][i] >= 30:\n",
    "        df_rental_hour['대여시간_분_그룹'][i] = 30\n",
    "    elif df_rental_hour['대여시간_분'][i] >= 20:\n",
    "        df_rental_hour['대여시간_분_그룹'][i] = 20\n",
    "    elif df_rental_hour['대여시간_분'][i] >= 10:\n",
    "        df_rental_hour['대여시간_분_그룹'][i] = 10\n",
    "    else:\n",
    "        df_rental_hour['대여시간_분_그룹'][i] = 0\n",
    "df_rental_hour_group = df_rental_hour.groupby('대여시간_분_그룹')[['대여시간_분']].count().reset_index()\n",
    "df_rental_hour_group.rename(columns = {'대여시간_분' : 'count'}, inplace = True)\n",
    "df_rental_hour_group"
   ]
  },
  {
   "cell_type": "code",
   "execution_count": 14,
   "metadata": {},
   "outputs": [
    {
     "data": {
      "text/plain": [
       "52.166666666666664"
      ]
     },
     "execution_count": 14,
     "metadata": {},
     "output_type": "execute_result"
    }
   ],
   "source": [
    "# 1시 10분당 평균 대여율 = 평균서비스율\n",
    "\n",
    "mu1 = df_rental_hour_group['count'].sum() / 6\n",
    "mu1"
   ]
  },
  {
   "cell_type": "markdown",
   "metadata": {},
   "source": [
    "#### 2시"
   ]
  },
  {
   "cell_type": "code",
   "execution_count": 15,
   "metadata": {},
   "outputs": [
    {
     "data": {
      "text/html": [
       "<div>\n",
       "<style scoped>\n",
       "    .dataframe tbody tr th:only-of-type {\n",
       "        vertical-align: middle;\n",
       "    }\n",
       "\n",
       "    .dataframe tbody tr th {\n",
       "        vertical-align: top;\n",
       "    }\n",
       "\n",
       "    .dataframe thead th {\n",
       "        text-align: right;\n",
       "    }\n",
       "</style>\n",
       "<table border=\"1\" class=\"dataframe\">\n",
       "  <thead>\n",
       "    <tr style=\"text-align: right;\">\n",
       "      <th></th>\n",
       "      <th>대여시간_분_그룹</th>\n",
       "      <th>count</th>\n",
       "    </tr>\n",
       "  </thead>\n",
       "  <tbody>\n",
       "    <tr>\n",
       "      <th>0</th>\n",
       "      <td>0</td>\n",
       "      <td>27</td>\n",
       "    </tr>\n",
       "    <tr>\n",
       "      <th>1</th>\n",
       "      <td>10</td>\n",
       "      <td>33</td>\n",
       "    </tr>\n",
       "    <tr>\n",
       "      <th>2</th>\n",
       "      <td>20</td>\n",
       "      <td>29</td>\n",
       "    </tr>\n",
       "    <tr>\n",
       "      <th>3</th>\n",
       "      <td>30</td>\n",
       "      <td>24</td>\n",
       "    </tr>\n",
       "    <tr>\n",
       "      <th>4</th>\n",
       "      <td>40</td>\n",
       "      <td>28</td>\n",
       "    </tr>\n",
       "    <tr>\n",
       "      <th>5</th>\n",
       "      <td>50</td>\n",
       "      <td>22</td>\n",
       "    </tr>\n",
       "  </tbody>\n",
       "</table>\n",
       "</div>"
      ],
      "text/plain": [
       "   대여시간_분_그룹  count\n",
       "0          0     27\n",
       "1         10     33\n",
       "2         20     29\n",
       "3         30     24\n",
       "4         40     28\n",
       "5         50     22"
      ]
     },
     "execution_count": 15,
     "metadata": {},
     "output_type": "execute_result"
    }
   ],
   "source": [
    "df_rental_hour = df_rental[df_rental['대여시간'] == 2]\n",
    "df_rental_hour.reset_index(drop = True, inplace = True)\n",
    "df_rental_hour['대여시간_분_그룹'] = -1\n",
    "for i in range(len(df_rental_hour)):\n",
    "    if df_rental_hour['대여시간_분'][i] >= 50:\n",
    "        df_rental_hour['대여시간_분_그룹'][i] = 50\n",
    "    elif df_rental_hour['대여시간_분'][i] >= 40:\n",
    "        df_rental_hour['대여시간_분_그룹'][i] = 40\n",
    "    elif df_rental_hour['대여시간_분'][i] >= 30:\n",
    "        df_rental_hour['대여시간_분_그룹'][i] = 30\n",
    "    elif df_rental_hour['대여시간_분'][i] >= 20:\n",
    "        df_rental_hour['대여시간_분_그룹'][i] = 20\n",
    "    elif df_rental_hour['대여시간_분'][i] >= 10:\n",
    "        df_rental_hour['대여시간_분_그룹'][i] = 10\n",
    "    else:\n",
    "        df_rental_hour['대여시간_분_그룹'][i] = 0\n",
    "df_rental_hour_group = df_rental_hour.groupby('대여시간_분_그룹')[['대여시간_분']].count().reset_index()\n",
    "df_rental_hour_group.rename(columns = {'대여시간_분' : 'count'}, inplace = True)\n",
    "df_rental_hour_group"
   ]
  },
  {
   "cell_type": "code",
   "execution_count": 16,
   "metadata": {},
   "outputs": [
    {
     "data": {
      "text/plain": [
       "27.166666666666668"
      ]
     },
     "execution_count": 16,
     "metadata": {},
     "output_type": "execute_result"
    }
   ],
   "source": [
    "# 2시 10분당 평균 대여율 = 평균서비스율\n",
    "\n",
    "mu2 = df_rental_hour_group['count'].sum() / 6\n",
    "mu2"
   ]
  },
  {
   "cell_type": "markdown",
   "metadata": {},
   "source": [
    "#### 3시"
   ]
  },
  {
   "cell_type": "code",
   "execution_count": 17,
   "metadata": {},
   "outputs": [
    {
     "data": {
      "text/html": [
       "<div>\n",
       "<style scoped>\n",
       "    .dataframe tbody tr th:only-of-type {\n",
       "        vertical-align: middle;\n",
       "    }\n",
       "\n",
       "    .dataframe tbody tr th {\n",
       "        vertical-align: top;\n",
       "    }\n",
       "\n",
       "    .dataframe thead th {\n",
       "        text-align: right;\n",
       "    }\n",
       "</style>\n",
       "<table border=\"1\" class=\"dataframe\">\n",
       "  <thead>\n",
       "    <tr style=\"text-align: right;\">\n",
       "      <th></th>\n",
       "      <th>대여시간_분_그룹</th>\n",
       "      <th>count</th>\n",
       "    </tr>\n",
       "  </thead>\n",
       "  <tbody>\n",
       "    <tr>\n",
       "      <th>0</th>\n",
       "      <td>0</td>\n",
       "      <td>26</td>\n",
       "    </tr>\n",
       "    <tr>\n",
       "      <th>1</th>\n",
       "      <td>10</td>\n",
       "      <td>15</td>\n",
       "    </tr>\n",
       "    <tr>\n",
       "      <th>2</th>\n",
       "      <td>20</td>\n",
       "      <td>10</td>\n",
       "    </tr>\n",
       "    <tr>\n",
       "      <th>3</th>\n",
       "      <td>30</td>\n",
       "      <td>18</td>\n",
       "    </tr>\n",
       "    <tr>\n",
       "      <th>4</th>\n",
       "      <td>40</td>\n",
       "      <td>5</td>\n",
       "    </tr>\n",
       "    <tr>\n",
       "      <th>5</th>\n",
       "      <td>50</td>\n",
       "      <td>6</td>\n",
       "    </tr>\n",
       "  </tbody>\n",
       "</table>\n",
       "</div>"
      ],
      "text/plain": [
       "   대여시간_분_그룹  count\n",
       "0          0     26\n",
       "1         10     15\n",
       "2         20     10\n",
       "3         30     18\n",
       "4         40      5\n",
       "5         50      6"
      ]
     },
     "execution_count": 17,
     "metadata": {},
     "output_type": "execute_result"
    }
   ],
   "source": [
    "df_rental_hour = df_rental[df_rental['대여시간'] == 3]\n",
    "df_rental_hour.reset_index(drop = True, inplace = True)\n",
    "df_rental_hour['대여시간_분_그룹'] = -1\n",
    "for i in range(len(df_rental_hour)):\n",
    "    if df_rental_hour['대여시간_분'][i] >= 50:\n",
    "        df_rental_hour['대여시간_분_그룹'][i] = 50\n",
    "    elif df_rental_hour['대여시간_분'][i] >= 40:\n",
    "        df_rental_hour['대여시간_분_그룹'][i] = 40\n",
    "    elif df_rental_hour['대여시간_분'][i] >= 30:\n",
    "        df_rental_hour['대여시간_분_그룹'][i] = 30\n",
    "    elif df_rental_hour['대여시간_분'][i] >= 20:\n",
    "        df_rental_hour['대여시간_분_그룹'][i] = 20\n",
    "    elif df_rental_hour['대여시간_분'][i] >= 10:\n",
    "        df_rental_hour['대여시간_분_그룹'][i] = 10\n",
    "    else:\n",
    "        df_rental_hour['대여시간_분_그룹'][i] = 0\n",
    "df_rental_hour_group = df_rental_hour.groupby('대여시간_분_그룹')[['대여시간_분']].count().reset_index()\n",
    "df_rental_hour_group.rename(columns = {'대여시간_분' : 'count'}, inplace = True)\n",
    "df_rental_hour_group"
   ]
  },
  {
   "cell_type": "code",
   "execution_count": 18,
   "metadata": {},
   "outputs": [
    {
     "data": {
      "text/plain": [
       "13.333333333333334"
      ]
     },
     "execution_count": 18,
     "metadata": {},
     "output_type": "execute_result"
    }
   ],
   "source": [
    "# 10분당 평균 대여율 = 평균서비스율\n",
    "\n",
    "mu3 = df_rental_hour_group['count'].sum() / 6\n",
    "mu3"
   ]
  },
  {
   "cell_type": "markdown",
   "metadata": {},
   "source": [
    "#### 4시"
   ]
  },
  {
   "cell_type": "code",
   "execution_count": 19,
   "metadata": {},
   "outputs": [
    {
     "data": {
      "text/html": [
       "<div>\n",
       "<style scoped>\n",
       "    .dataframe tbody tr th:only-of-type {\n",
       "        vertical-align: middle;\n",
       "    }\n",
       "\n",
       "    .dataframe tbody tr th {\n",
       "        vertical-align: top;\n",
       "    }\n",
       "\n",
       "    .dataframe thead th {\n",
       "        text-align: right;\n",
       "    }\n",
       "</style>\n",
       "<table border=\"1\" class=\"dataframe\">\n",
       "  <thead>\n",
       "    <tr style=\"text-align: right;\">\n",
       "      <th></th>\n",
       "      <th>대여시간_분_그룹</th>\n",
       "      <th>count</th>\n",
       "    </tr>\n",
       "  </thead>\n",
       "  <tbody>\n",
       "    <tr>\n",
       "      <th>0</th>\n",
       "      <td>0</td>\n",
       "      <td>13</td>\n",
       "    </tr>\n",
       "    <tr>\n",
       "      <th>1</th>\n",
       "      <td>10</td>\n",
       "      <td>6</td>\n",
       "    </tr>\n",
       "    <tr>\n",
       "      <th>2</th>\n",
       "      <td>20</td>\n",
       "      <td>14</td>\n",
       "    </tr>\n",
       "    <tr>\n",
       "      <th>3</th>\n",
       "      <td>30</td>\n",
       "      <td>11</td>\n",
       "    </tr>\n",
       "    <tr>\n",
       "      <th>4</th>\n",
       "      <td>40</td>\n",
       "      <td>4</td>\n",
       "    </tr>\n",
       "    <tr>\n",
       "      <th>5</th>\n",
       "      <td>50</td>\n",
       "      <td>9</td>\n",
       "    </tr>\n",
       "  </tbody>\n",
       "</table>\n",
       "</div>"
      ],
      "text/plain": [
       "   대여시간_분_그룹  count\n",
       "0          0     13\n",
       "1         10      6\n",
       "2         20     14\n",
       "3         30     11\n",
       "4         40      4\n",
       "5         50      9"
      ]
     },
     "execution_count": 19,
     "metadata": {},
     "output_type": "execute_result"
    }
   ],
   "source": [
    "df_rental_hour = df_rental[df_rental['대여시간'] == 4]\n",
    "df_rental_hour.reset_index(drop = True, inplace = True)\n",
    "df_rental_hour['대여시간_분_그룹'] = -1\n",
    "for i in range(len(df_rental_hour)):\n",
    "    if df_rental_hour['대여시간_분'][i] >= 50:\n",
    "        df_rental_hour['대여시간_분_그룹'][i] = 50\n",
    "    elif df_rental_hour['대여시간_분'][i] >= 40:\n",
    "        df_rental_hour['대여시간_분_그룹'][i] = 40\n",
    "    elif df_rental_hour['대여시간_분'][i] >= 30:\n",
    "        df_rental_hour['대여시간_분_그룹'][i] = 30\n",
    "    elif df_rental_hour['대여시간_분'][i] >= 20:\n",
    "        df_rental_hour['대여시간_분_그룹'][i] = 20\n",
    "    elif df_rental_hour['대여시간_분'][i] >= 10:\n",
    "        df_rental_hour['대여시간_분_그룹'][i] = 10\n",
    "    else:\n",
    "        df_rental_hour['대여시간_분_그룹'][i] = 0\n",
    "df_rental_hour_group = df_rental_hour.groupby('대여시간_분_그룹')[['대여시간_분']].count().reset_index()\n",
    "df_rental_hour_group.rename(columns = {'대여시간_분' : 'count'}, inplace = True)\n",
    "df_rental_hour_group"
   ]
  },
  {
   "cell_type": "code",
   "execution_count": 20,
   "metadata": {},
   "outputs": [
    {
     "data": {
      "text/plain": [
       "9.5"
      ]
     },
     "execution_count": 20,
     "metadata": {},
     "output_type": "execute_result"
    }
   ],
   "source": [
    "# 10분당 평균 대여율 = 평균서비스율\n",
    "\n",
    "mu4 = df_rental_hour_group['count'].sum() / 6\n",
    "mu4"
   ]
  },
  {
   "cell_type": "markdown",
   "metadata": {},
   "source": [
    "#### 5시"
   ]
  },
  {
   "cell_type": "code",
   "execution_count": 21,
   "metadata": {},
   "outputs": [
    {
     "data": {
      "text/html": [
       "<div>\n",
       "<style scoped>\n",
       "    .dataframe tbody tr th:only-of-type {\n",
       "        vertical-align: middle;\n",
       "    }\n",
       "\n",
       "    .dataframe tbody tr th {\n",
       "        vertical-align: top;\n",
       "    }\n",
       "\n",
       "    .dataframe thead th {\n",
       "        text-align: right;\n",
       "    }\n",
       "</style>\n",
       "<table border=\"1\" class=\"dataframe\">\n",
       "  <thead>\n",
       "    <tr style=\"text-align: right;\">\n",
       "      <th></th>\n",
       "      <th>대여시간_분_그룹</th>\n",
       "      <th>count</th>\n",
       "    </tr>\n",
       "  </thead>\n",
       "  <tbody>\n",
       "    <tr>\n",
       "      <th>0</th>\n",
       "      <td>0</td>\n",
       "      <td>10</td>\n",
       "    </tr>\n",
       "    <tr>\n",
       "      <th>1</th>\n",
       "      <td>10</td>\n",
       "      <td>7</td>\n",
       "    </tr>\n",
       "    <tr>\n",
       "      <th>2</th>\n",
       "      <td>20</td>\n",
       "      <td>11</td>\n",
       "    </tr>\n",
       "    <tr>\n",
       "      <th>3</th>\n",
       "      <td>30</td>\n",
       "      <td>8</td>\n",
       "    </tr>\n",
       "    <tr>\n",
       "      <th>4</th>\n",
       "      <td>40</td>\n",
       "      <td>4</td>\n",
       "    </tr>\n",
       "    <tr>\n",
       "      <th>5</th>\n",
       "      <td>50</td>\n",
       "      <td>11</td>\n",
       "    </tr>\n",
       "  </tbody>\n",
       "</table>\n",
       "</div>"
      ],
      "text/plain": [
       "   대여시간_분_그룹  count\n",
       "0          0     10\n",
       "1         10      7\n",
       "2         20     11\n",
       "3         30      8\n",
       "4         40      4\n",
       "5         50     11"
      ]
     },
     "execution_count": 21,
     "metadata": {},
     "output_type": "execute_result"
    }
   ],
   "source": [
    "df_rental_hour = df_rental[df_rental['대여시간'] == 5]\n",
    "df_rental_hour.reset_index(drop = True, inplace = True)\n",
    "df_rental_hour['대여시간_분_그룹'] = -1\n",
    "for i in range(len(df_rental_hour)):\n",
    "    if df_rental_hour['대여시간_분'][i] >= 50:\n",
    "        df_rental_hour['대여시간_분_그룹'][i] = 50\n",
    "    elif df_rental_hour['대여시간_분'][i] >= 40:\n",
    "        df_rental_hour['대여시간_분_그룹'][i] = 40\n",
    "    elif df_rental_hour['대여시간_분'][i] >= 30:\n",
    "        df_rental_hour['대여시간_분_그룹'][i] = 30\n",
    "    elif df_rental_hour['대여시간_분'][i] >= 20:\n",
    "        df_rental_hour['대여시간_분_그룹'][i] = 20\n",
    "    elif df_rental_hour['대여시간_분'][i] >= 10:\n",
    "        df_rental_hour['대여시간_분_그룹'][i] = 10\n",
    "    else:\n",
    "        df_rental_hour['대여시간_분_그룹'][i] = 0\n",
    "df_rental_hour_group = df_rental_hour.groupby('대여시간_분_그룹')[['대여시간_분']].count().reset_index()\n",
    "df_rental_hour_group.rename(columns = {'대여시간_분' : 'count'}, inplace = True)\n",
    "df_rental_hour_group"
   ]
  },
  {
   "cell_type": "code",
   "execution_count": 22,
   "metadata": {},
   "outputs": [
    {
     "data": {
      "text/plain": [
       "8.5"
      ]
     },
     "execution_count": 22,
     "metadata": {},
     "output_type": "execute_result"
    }
   ],
   "source": [
    "# 10분당 평균 대여율 = 평균서비스율\n",
    "\n",
    "mu5 = df_rental_hour_group['count'].sum() / 6\n",
    "mu5"
   ]
  },
  {
   "cell_type": "markdown",
   "metadata": {},
   "source": [
    "#### 6시"
   ]
  },
  {
   "cell_type": "code",
   "execution_count": 23,
   "metadata": {},
   "outputs": [
    {
     "data": {
      "text/html": [
       "<div>\n",
       "<style scoped>\n",
       "    .dataframe tbody tr th:only-of-type {\n",
       "        vertical-align: middle;\n",
       "    }\n",
       "\n",
       "    .dataframe tbody tr th {\n",
       "        vertical-align: top;\n",
       "    }\n",
       "\n",
       "    .dataframe thead th {\n",
       "        text-align: right;\n",
       "    }\n",
       "</style>\n",
       "<table border=\"1\" class=\"dataframe\">\n",
       "  <thead>\n",
       "    <tr style=\"text-align: right;\">\n",
       "      <th></th>\n",
       "      <th>대여시간_분_그룹</th>\n",
       "      <th>count</th>\n",
       "    </tr>\n",
       "  </thead>\n",
       "  <tbody>\n",
       "    <tr>\n",
       "      <th>0</th>\n",
       "      <td>0</td>\n",
       "      <td>10</td>\n",
       "    </tr>\n",
       "    <tr>\n",
       "      <th>1</th>\n",
       "      <td>10</td>\n",
       "      <td>11</td>\n",
       "    </tr>\n",
       "    <tr>\n",
       "      <th>2</th>\n",
       "      <td>20</td>\n",
       "      <td>11</td>\n",
       "    </tr>\n",
       "    <tr>\n",
       "      <th>3</th>\n",
       "      <td>30</td>\n",
       "      <td>17</td>\n",
       "    </tr>\n",
       "    <tr>\n",
       "      <th>4</th>\n",
       "      <td>40</td>\n",
       "      <td>18</td>\n",
       "    </tr>\n",
       "    <tr>\n",
       "      <th>5</th>\n",
       "      <td>50</td>\n",
       "      <td>37</td>\n",
       "    </tr>\n",
       "  </tbody>\n",
       "</table>\n",
       "</div>"
      ],
      "text/plain": [
       "   대여시간_분_그룹  count\n",
       "0          0     10\n",
       "1         10     11\n",
       "2         20     11\n",
       "3         30     17\n",
       "4         40     18\n",
       "5         50     37"
      ]
     },
     "execution_count": 23,
     "metadata": {},
     "output_type": "execute_result"
    }
   ],
   "source": [
    "df_rental_hour = df_rental[df_rental['대여시간'] == 6]\n",
    "df_rental_hour.reset_index(drop = True, inplace = True)\n",
    "df_rental_hour['대여시간_분_그룹'] = -1\n",
    "for i in range(len(df_rental_hour)):\n",
    "    if df_rental_hour['대여시간_분'][i] >= 50:\n",
    "        df_rental_hour['대여시간_분_그룹'][i] = 50\n",
    "    elif df_rental_hour['대여시간_분'][i] >= 40:\n",
    "        df_rental_hour['대여시간_분_그룹'][i] = 40\n",
    "    elif df_rental_hour['대여시간_분'][i] >= 30:\n",
    "        df_rental_hour['대여시간_분_그룹'][i] = 30\n",
    "    elif df_rental_hour['대여시간_분'][i] >= 20:\n",
    "        df_rental_hour['대여시간_분_그룹'][i] = 20\n",
    "    elif df_rental_hour['대여시간_분'][i] >= 10:\n",
    "        df_rental_hour['대여시간_분_그룹'][i] = 10\n",
    "    else:\n",
    "        df_rental_hour['대여시간_분_그룹'][i] = 0\n",
    "df_rental_hour_group = df_rental_hour.groupby('대여시간_분_그룹')[['대여시간_분']].count().reset_index()\n",
    "df_rental_hour_group.rename(columns = {'대여시간_분' : 'count'}, inplace = True)\n",
    "df_rental_hour_group"
   ]
  },
  {
   "cell_type": "code",
   "execution_count": 24,
   "metadata": {},
   "outputs": [
    {
     "data": {
      "text/plain": [
       "17.333333333333332"
      ]
     },
     "execution_count": 24,
     "metadata": {},
     "output_type": "execute_result"
    }
   ],
   "source": [
    "# 10분당 평균 대여율 = 평균서비스율\n",
    "\n",
    "mu6 = df_rental_hour_group['count'].sum() / 6\n",
    "mu6"
   ]
  },
  {
   "cell_type": "markdown",
   "metadata": {},
   "source": [
    "#### 7시"
   ]
  },
  {
   "cell_type": "code",
   "execution_count": 25,
   "metadata": {},
   "outputs": [
    {
     "data": {
      "text/html": [
       "<div>\n",
       "<style scoped>\n",
       "    .dataframe tbody tr th:only-of-type {\n",
       "        vertical-align: middle;\n",
       "    }\n",
       "\n",
       "    .dataframe tbody tr th {\n",
       "        vertical-align: top;\n",
       "    }\n",
       "\n",
       "    .dataframe thead th {\n",
       "        text-align: right;\n",
       "    }\n",
       "</style>\n",
       "<table border=\"1\" class=\"dataframe\">\n",
       "  <thead>\n",
       "    <tr style=\"text-align: right;\">\n",
       "      <th></th>\n",
       "      <th>대여시간_분_그룹</th>\n",
       "      <th>count</th>\n",
       "    </tr>\n",
       "  </thead>\n",
       "  <tbody>\n",
       "    <tr>\n",
       "      <th>0</th>\n",
       "      <td>0</td>\n",
       "      <td>43</td>\n",
       "    </tr>\n",
       "    <tr>\n",
       "      <th>1</th>\n",
       "      <td>10</td>\n",
       "      <td>53</td>\n",
       "    </tr>\n",
       "    <tr>\n",
       "      <th>2</th>\n",
       "      <td>20</td>\n",
       "      <td>35</td>\n",
       "    </tr>\n",
       "    <tr>\n",
       "      <th>3</th>\n",
       "      <td>30</td>\n",
       "      <td>43</td>\n",
       "    </tr>\n",
       "    <tr>\n",
       "      <th>4</th>\n",
       "      <td>40</td>\n",
       "      <td>32</td>\n",
       "    </tr>\n",
       "    <tr>\n",
       "      <th>5</th>\n",
       "      <td>50</td>\n",
       "      <td>28</td>\n",
       "    </tr>\n",
       "  </tbody>\n",
       "</table>\n",
       "</div>"
      ],
      "text/plain": [
       "   대여시간_분_그룹  count\n",
       "0          0     43\n",
       "1         10     53\n",
       "2         20     35\n",
       "3         30     43\n",
       "4         40     32\n",
       "5         50     28"
      ]
     },
     "execution_count": 25,
     "metadata": {},
     "output_type": "execute_result"
    }
   ],
   "source": [
    "df_rental_hour = df_rental[df_rental['대여시간'] == 7]\n",
    "df_rental_hour.reset_index(drop = True, inplace = True)\n",
    "df_rental_hour['대여시간_분_그룹'] = -1\n",
    "for i in range(len(df_rental_hour)):\n",
    "    if df_rental_hour['대여시간_분'][i] >= 50:\n",
    "        df_rental_hour['대여시간_분_그룹'][i] = 50\n",
    "    elif df_rental_hour['대여시간_분'][i] >= 40:\n",
    "        df_rental_hour['대여시간_분_그룹'][i] = 40\n",
    "    elif df_rental_hour['대여시간_분'][i] >= 30:\n",
    "        df_rental_hour['대여시간_분_그룹'][i] = 30\n",
    "    elif df_rental_hour['대여시간_분'][i] >= 20:\n",
    "        df_rental_hour['대여시간_분_그룹'][i] = 20\n",
    "    elif df_rental_hour['대여시간_분'][i] >= 10:\n",
    "        df_rental_hour['대여시간_분_그룹'][i] = 10\n",
    "    else:\n",
    "        df_rental_hour['대여시간_분_그룹'][i] = 0\n",
    "df_rental_hour_group = df_rental_hour.groupby('대여시간_분_그룹')[['대여시간_분']].count().reset_index()\n",
    "df_rental_hour_group.rename(columns = {'대여시간_분' : 'count'}, inplace = True)\n",
    "df_rental_hour_group"
   ]
  },
  {
   "cell_type": "code",
   "execution_count": 26,
   "metadata": {},
   "outputs": [
    {
     "data": {
      "text/plain": [
       "39.0"
      ]
     },
     "execution_count": 26,
     "metadata": {},
     "output_type": "execute_result"
    }
   ],
   "source": [
    "# 10분당 평균 대여율 = 평균서비스율\n",
    "\n",
    "mu7 = df_rental_hour_group['count'].sum() / 6\n",
    "mu7"
   ]
  },
  {
   "cell_type": "markdown",
   "metadata": {},
   "source": [
    "#### 8시"
   ]
  },
  {
   "cell_type": "code",
   "execution_count": 27,
   "metadata": {},
   "outputs": [
    {
     "data": {
      "text/html": [
       "<div>\n",
       "<style scoped>\n",
       "    .dataframe tbody tr th:only-of-type {\n",
       "        vertical-align: middle;\n",
       "    }\n",
       "\n",
       "    .dataframe tbody tr th {\n",
       "        vertical-align: top;\n",
       "    }\n",
       "\n",
       "    .dataframe thead th {\n",
       "        text-align: right;\n",
       "    }\n",
       "</style>\n",
       "<table border=\"1\" class=\"dataframe\">\n",
       "  <thead>\n",
       "    <tr style=\"text-align: right;\">\n",
       "      <th></th>\n",
       "      <th>대여시간_분_그룹</th>\n",
       "      <th>count</th>\n",
       "    </tr>\n",
       "  </thead>\n",
       "  <tbody>\n",
       "    <tr>\n",
       "      <th>0</th>\n",
       "      <td>0</td>\n",
       "      <td>36</td>\n",
       "    </tr>\n",
       "    <tr>\n",
       "      <th>1</th>\n",
       "      <td>10</td>\n",
       "      <td>32</td>\n",
       "    </tr>\n",
       "    <tr>\n",
       "      <th>2</th>\n",
       "      <td>20</td>\n",
       "      <td>45</td>\n",
       "    </tr>\n",
       "    <tr>\n",
       "      <th>3</th>\n",
       "      <td>30</td>\n",
       "      <td>72</td>\n",
       "    </tr>\n",
       "    <tr>\n",
       "      <th>4</th>\n",
       "      <td>40</td>\n",
       "      <td>63</td>\n",
       "    </tr>\n",
       "    <tr>\n",
       "      <th>5</th>\n",
       "      <td>50</td>\n",
       "      <td>22</td>\n",
       "    </tr>\n",
       "  </tbody>\n",
       "</table>\n",
       "</div>"
      ],
      "text/plain": [
       "   대여시간_분_그룹  count\n",
       "0          0     36\n",
       "1         10     32\n",
       "2         20     45\n",
       "3         30     72\n",
       "4         40     63\n",
       "5         50     22"
      ]
     },
     "execution_count": 27,
     "metadata": {},
     "output_type": "execute_result"
    }
   ],
   "source": [
    "df_rental_hour = df_rental[df_rental['대여시간'] == 8]\n",
    "df_rental_hour.reset_index(drop = True, inplace = True)\n",
    "df_rental_hour['대여시간_분_그룹'] = -1\n",
    "for i in range(len(df_rental_hour)):\n",
    "    if df_rental_hour['대여시간_분'][i] >= 50:\n",
    "        df_rental_hour['대여시간_분_그룹'][i] = 50\n",
    "    elif df_rental_hour['대여시간_분'][i] >= 40:\n",
    "        df_rental_hour['대여시간_분_그룹'][i] = 40\n",
    "    elif df_rental_hour['대여시간_분'][i] >= 30:\n",
    "        df_rental_hour['대여시간_분_그룹'][i] = 30\n",
    "    elif df_rental_hour['대여시간_분'][i] >= 20:\n",
    "        df_rental_hour['대여시간_분_그룹'][i] = 20\n",
    "    elif df_rental_hour['대여시간_분'][i] >= 10:\n",
    "        df_rental_hour['대여시간_분_그룹'][i] = 10\n",
    "    else:\n",
    "        df_rental_hour['대여시간_분_그룹'][i] = 0\n",
    "df_rental_hour_group = df_rental_hour.groupby('대여시간_분_그룹')[['대여시간_분']].count().reset_index()\n",
    "df_rental_hour_group.rename(columns = {'대여시간_분' : 'count'}, inplace = True)\n",
    "df_rental_hour_group"
   ]
  },
  {
   "cell_type": "code",
   "execution_count": 28,
   "metadata": {},
   "outputs": [
    {
     "data": {
      "text/plain": [
       "45.0"
      ]
     },
     "execution_count": 28,
     "metadata": {},
     "output_type": "execute_result"
    }
   ],
   "source": [
    "# 10분당 평균 대여율 = 평균서비스율\n",
    "\n",
    "mu8 = df_rental_hour_group['count'].sum() / 6\n",
    "mu8"
   ]
  },
  {
   "cell_type": "markdown",
   "metadata": {},
   "source": [
    "#### 9시"
   ]
  },
  {
   "cell_type": "code",
   "execution_count": 29,
   "metadata": {},
   "outputs": [
    {
     "data": {
      "text/html": [
       "<div>\n",
       "<style scoped>\n",
       "    .dataframe tbody tr th:only-of-type {\n",
       "        vertical-align: middle;\n",
       "    }\n",
       "\n",
       "    .dataframe tbody tr th {\n",
       "        vertical-align: top;\n",
       "    }\n",
       "\n",
       "    .dataframe thead th {\n",
       "        text-align: right;\n",
       "    }\n",
       "</style>\n",
       "<table border=\"1\" class=\"dataframe\">\n",
       "  <thead>\n",
       "    <tr style=\"text-align: right;\">\n",
       "      <th></th>\n",
       "      <th>대여시간_분_그룹</th>\n",
       "      <th>count</th>\n",
       "    </tr>\n",
       "  </thead>\n",
       "  <tbody>\n",
       "    <tr>\n",
       "      <th>0</th>\n",
       "      <td>0</td>\n",
       "      <td>31</td>\n",
       "    </tr>\n",
       "    <tr>\n",
       "      <th>1</th>\n",
       "      <td>10</td>\n",
       "      <td>26</td>\n",
       "    </tr>\n",
       "    <tr>\n",
       "      <th>2</th>\n",
       "      <td>20</td>\n",
       "      <td>41</td>\n",
       "    </tr>\n",
       "    <tr>\n",
       "      <th>3</th>\n",
       "      <td>30</td>\n",
       "      <td>34</td>\n",
       "    </tr>\n",
       "    <tr>\n",
       "      <th>4</th>\n",
       "      <td>40</td>\n",
       "      <td>34</td>\n",
       "    </tr>\n",
       "    <tr>\n",
       "      <th>5</th>\n",
       "      <td>50</td>\n",
       "      <td>27</td>\n",
       "    </tr>\n",
       "  </tbody>\n",
       "</table>\n",
       "</div>"
      ],
      "text/plain": [
       "   대여시간_분_그룹  count\n",
       "0          0     31\n",
       "1         10     26\n",
       "2         20     41\n",
       "3         30     34\n",
       "4         40     34\n",
       "5         50     27"
      ]
     },
     "execution_count": 29,
     "metadata": {},
     "output_type": "execute_result"
    }
   ],
   "source": [
    "df_rental_hour = df_rental[df_rental['대여시간'] == 9]\n",
    "df_rental_hour.reset_index(drop = True, inplace = True)\n",
    "df_rental_hour['대여시간_분_그룹'] = -1\n",
    "for i in range(len(df_rental_hour)):\n",
    "    if df_rental_hour['대여시간_분'][i] >= 50:\n",
    "        df_rental_hour['대여시간_분_그룹'][i] = 50\n",
    "    elif df_rental_hour['대여시간_분'][i] >= 40:\n",
    "        df_rental_hour['대여시간_분_그룹'][i] = 40\n",
    "    elif df_rental_hour['대여시간_분'][i] >= 30:\n",
    "        df_rental_hour['대여시간_분_그룹'][i] = 30\n",
    "    elif df_rental_hour['대여시간_분'][i] >= 20:\n",
    "        df_rental_hour['대여시간_분_그룹'][i] = 20\n",
    "    elif df_rental_hour['대여시간_분'][i] >= 10:\n",
    "        df_rental_hour['대여시간_분_그룹'][i] = 10\n",
    "    else:\n",
    "        df_rental_hour['대여시간_분_그룹'][i] = 0\n",
    "df_rental_hour_group = df_rental_hour.groupby('대여시간_분_그룹')[['대여시간_분']].count().reset_index()\n",
    "df_rental_hour_group.rename(columns = {'대여시간_분' : 'count'}, inplace = True)\n",
    "df_rental_hour_group"
   ]
  },
  {
   "cell_type": "code",
   "execution_count": 30,
   "metadata": {},
   "outputs": [
    {
     "data": {
      "text/plain": [
       "32.166666666666664"
      ]
     },
     "execution_count": 30,
     "metadata": {},
     "output_type": "execute_result"
    }
   ],
   "source": [
    "# 10분당 평균 대여율 = 평균서비스율\n",
    "\n",
    "mu9 = df_rental_hour_group['count'].sum() / 6\n",
    "mu9"
   ]
  },
  {
   "cell_type": "markdown",
   "metadata": {},
   "source": [
    "#### 10시"
   ]
  },
  {
   "cell_type": "code",
   "execution_count": 31,
   "metadata": {},
   "outputs": [
    {
     "data": {
      "text/html": [
       "<div>\n",
       "<style scoped>\n",
       "    .dataframe tbody tr th:only-of-type {\n",
       "        vertical-align: middle;\n",
       "    }\n",
       "\n",
       "    .dataframe tbody tr th {\n",
       "        vertical-align: top;\n",
       "    }\n",
       "\n",
       "    .dataframe thead th {\n",
       "        text-align: right;\n",
       "    }\n",
       "</style>\n",
       "<table border=\"1\" class=\"dataframe\">\n",
       "  <thead>\n",
       "    <tr style=\"text-align: right;\">\n",
       "      <th></th>\n",
       "      <th>대여시간_분_그룹</th>\n",
       "      <th>count</th>\n",
       "    </tr>\n",
       "  </thead>\n",
       "  <tbody>\n",
       "    <tr>\n",
       "      <th>0</th>\n",
       "      <td>0</td>\n",
       "      <td>28</td>\n",
       "    </tr>\n",
       "    <tr>\n",
       "      <th>1</th>\n",
       "      <td>10</td>\n",
       "      <td>27</td>\n",
       "    </tr>\n",
       "    <tr>\n",
       "      <th>2</th>\n",
       "      <td>20</td>\n",
       "      <td>37</td>\n",
       "    </tr>\n",
       "    <tr>\n",
       "      <th>3</th>\n",
       "      <td>30</td>\n",
       "      <td>31</td>\n",
       "    </tr>\n",
       "    <tr>\n",
       "      <th>4</th>\n",
       "      <td>40</td>\n",
       "      <td>33</td>\n",
       "    </tr>\n",
       "    <tr>\n",
       "      <th>5</th>\n",
       "      <td>50</td>\n",
       "      <td>41</td>\n",
       "    </tr>\n",
       "  </tbody>\n",
       "</table>\n",
       "</div>"
      ],
      "text/plain": [
       "   대여시간_분_그룹  count\n",
       "0          0     28\n",
       "1         10     27\n",
       "2         20     37\n",
       "3         30     31\n",
       "4         40     33\n",
       "5         50     41"
      ]
     },
     "execution_count": 31,
     "metadata": {},
     "output_type": "execute_result"
    }
   ],
   "source": [
    "df_rental_hour = df_rental[df_rental['대여시간'] == 10]\n",
    "df_rental_hour.reset_index(drop = True, inplace = True)\n",
    "df_rental_hour['대여시간_분_그룹'] = -1\n",
    "for i in range(len(df_rental_hour)):\n",
    "    if df_rental_hour['대여시간_분'][i] >= 50:\n",
    "        df_rental_hour['대여시간_분_그룹'][i] = 50\n",
    "    elif df_rental_hour['대여시간_분'][i] >= 40:\n",
    "        df_rental_hour['대여시간_분_그룹'][i] = 40\n",
    "    elif df_rental_hour['대여시간_분'][i] >= 30:\n",
    "        df_rental_hour['대여시간_분_그룹'][i] = 30\n",
    "    elif df_rental_hour['대여시간_분'][i] >= 20:\n",
    "        df_rental_hour['대여시간_분_그룹'][i] = 20\n",
    "    elif df_rental_hour['대여시간_분'][i] >= 10:\n",
    "        df_rental_hour['대여시간_분_그룹'][i] = 10\n",
    "    else:\n",
    "        df_rental_hour['대여시간_분_그룹'][i] = 0\n",
    "df_rental_hour_group = df_rental_hour.groupby('대여시간_분_그룹')[['대여시간_분']].count().reset_index()\n",
    "df_rental_hour_group.rename(columns = {'대여시간_분' : 'count'}, inplace = True)\n",
    "df_rental_hour_group"
   ]
  },
  {
   "cell_type": "code",
   "execution_count": 32,
   "metadata": {},
   "outputs": [
    {
     "data": {
      "text/plain": [
       "32.833333333333336"
      ]
     },
     "execution_count": 32,
     "metadata": {},
     "output_type": "execute_result"
    }
   ],
   "source": [
    "# 10분당 평균 대여율 = 평균서비스율\n",
    "\n",
    "mu10 = df_rental_hour_group['count'].sum() / 6\n",
    "mu10"
   ]
  },
  {
   "cell_type": "markdown",
   "metadata": {},
   "source": [
    "#### 11시"
   ]
  },
  {
   "cell_type": "code",
   "execution_count": 33,
   "metadata": {},
   "outputs": [
    {
     "data": {
      "text/html": [
       "<div>\n",
       "<style scoped>\n",
       "    .dataframe tbody tr th:only-of-type {\n",
       "        vertical-align: middle;\n",
       "    }\n",
       "\n",
       "    .dataframe tbody tr th {\n",
       "        vertical-align: top;\n",
       "    }\n",
       "\n",
       "    .dataframe thead th {\n",
       "        text-align: right;\n",
       "    }\n",
       "</style>\n",
       "<table border=\"1\" class=\"dataframe\">\n",
       "  <thead>\n",
       "    <tr style=\"text-align: right;\">\n",
       "      <th></th>\n",
       "      <th>대여시간_분_그룹</th>\n",
       "      <th>count</th>\n",
       "    </tr>\n",
       "  </thead>\n",
       "  <tbody>\n",
       "    <tr>\n",
       "      <th>0</th>\n",
       "      <td>0</td>\n",
       "      <td>18</td>\n",
       "    </tr>\n",
       "    <tr>\n",
       "      <th>1</th>\n",
       "      <td>10</td>\n",
       "      <td>33</td>\n",
       "    </tr>\n",
       "    <tr>\n",
       "      <th>2</th>\n",
       "      <td>20</td>\n",
       "      <td>31</td>\n",
       "    </tr>\n",
       "    <tr>\n",
       "      <th>3</th>\n",
       "      <td>30</td>\n",
       "      <td>44</td>\n",
       "    </tr>\n",
       "    <tr>\n",
       "      <th>4</th>\n",
       "      <td>40</td>\n",
       "      <td>38</td>\n",
       "    </tr>\n",
       "    <tr>\n",
       "      <th>5</th>\n",
       "      <td>50</td>\n",
       "      <td>33</td>\n",
       "    </tr>\n",
       "  </tbody>\n",
       "</table>\n",
       "</div>"
      ],
      "text/plain": [
       "   대여시간_분_그룹  count\n",
       "0          0     18\n",
       "1         10     33\n",
       "2         20     31\n",
       "3         30     44\n",
       "4         40     38\n",
       "5         50     33"
      ]
     },
     "execution_count": 33,
     "metadata": {},
     "output_type": "execute_result"
    }
   ],
   "source": [
    "df_rental_hour = df_rental[df_rental['대여시간'] == 11]\n",
    "df_rental_hour.reset_index(drop = True, inplace = True)\n",
    "df_rental_hour['대여시간_분_그룹'] = -1\n",
    "for i in range(len(df_rental_hour)):\n",
    "    if df_rental_hour['대여시간_분'][i] >= 50:\n",
    "        df_rental_hour['대여시간_분_그룹'][i] = 50\n",
    "    elif df_rental_hour['대여시간_분'][i] >= 40:\n",
    "        df_rental_hour['대여시간_분_그룹'][i] = 40\n",
    "    elif df_rental_hour['대여시간_분'][i] >= 30:\n",
    "        df_rental_hour['대여시간_분_그룹'][i] = 30\n",
    "    elif df_rental_hour['대여시간_분'][i] >= 20:\n",
    "        df_rental_hour['대여시간_분_그룹'][i] = 20\n",
    "    elif df_rental_hour['대여시간_분'][i] >= 10:\n",
    "        df_rental_hour['대여시간_분_그룹'][i] = 10\n",
    "    else:\n",
    "        df_rental_hour['대여시간_분_그룹'][i] = 0\n",
    "df_rental_hour_group = df_rental_hour.groupby('대여시간_분_그룹')[['대여시간_분']].count().reset_index()\n",
    "df_rental_hour_group.rename(columns = {'대여시간_분' : 'count'}, inplace = True)\n",
    "df_rental_hour_group"
   ]
  },
  {
   "cell_type": "code",
   "execution_count": 34,
   "metadata": {},
   "outputs": [
    {
     "data": {
      "text/plain": [
       "32.833333333333336"
      ]
     },
     "execution_count": 34,
     "metadata": {},
     "output_type": "execute_result"
    }
   ],
   "source": [
    "# 10분당 평균 대여율 = 평균서비스율\n",
    "\n",
    "mu11 = df_rental_hour_group['count'].sum() / 6\n",
    "mu11"
   ]
  },
  {
   "cell_type": "markdown",
   "metadata": {},
   "source": [
    "#### 12시"
   ]
  },
  {
   "cell_type": "code",
   "execution_count": 35,
   "metadata": {},
   "outputs": [
    {
     "data": {
      "text/html": [
       "<div>\n",
       "<style scoped>\n",
       "    .dataframe tbody tr th:only-of-type {\n",
       "        vertical-align: middle;\n",
       "    }\n",
       "\n",
       "    .dataframe tbody tr th {\n",
       "        vertical-align: top;\n",
       "    }\n",
       "\n",
       "    .dataframe thead th {\n",
       "        text-align: right;\n",
       "    }\n",
       "</style>\n",
       "<table border=\"1\" class=\"dataframe\">\n",
       "  <thead>\n",
       "    <tr style=\"text-align: right;\">\n",
       "      <th></th>\n",
       "      <th>대여시간_분_그룹</th>\n",
       "      <th>count</th>\n",
       "    </tr>\n",
       "  </thead>\n",
       "  <tbody>\n",
       "    <tr>\n",
       "      <th>0</th>\n",
       "      <td>0</td>\n",
       "      <td>49</td>\n",
       "    </tr>\n",
       "    <tr>\n",
       "      <th>1</th>\n",
       "      <td>10</td>\n",
       "      <td>35</td>\n",
       "    </tr>\n",
       "    <tr>\n",
       "      <th>2</th>\n",
       "      <td>20</td>\n",
       "      <td>26</td>\n",
       "    </tr>\n",
       "    <tr>\n",
       "      <th>3</th>\n",
       "      <td>30</td>\n",
       "      <td>23</td>\n",
       "    </tr>\n",
       "    <tr>\n",
       "      <th>4</th>\n",
       "      <td>40</td>\n",
       "      <td>45</td>\n",
       "    </tr>\n",
       "    <tr>\n",
       "      <th>5</th>\n",
       "      <td>50</td>\n",
       "      <td>31</td>\n",
       "    </tr>\n",
       "  </tbody>\n",
       "</table>\n",
       "</div>"
      ],
      "text/plain": [
       "   대여시간_분_그룹  count\n",
       "0          0     49\n",
       "1         10     35\n",
       "2         20     26\n",
       "3         30     23\n",
       "4         40     45\n",
       "5         50     31"
      ]
     },
     "execution_count": 35,
     "metadata": {},
     "output_type": "execute_result"
    }
   ],
   "source": [
    "df_rental_hour = df_rental[df_rental['대여시간'] == 12]\n",
    "df_rental_hour.reset_index(drop = True, inplace = True)\n",
    "df_rental_hour['대여시간_분_그룹'] = -1\n",
    "for i in range(len(df_rental_hour)):\n",
    "    if df_rental_hour['대여시간_분'][i] >= 50:\n",
    "        df_rental_hour['대여시간_분_그룹'][i] = 50\n",
    "    elif df_rental_hour['대여시간_분'][i] >= 40:\n",
    "        df_rental_hour['대여시간_분_그룹'][i] = 40\n",
    "    elif df_rental_hour['대여시간_분'][i] >= 30:\n",
    "        df_rental_hour['대여시간_분_그룹'][i] = 30\n",
    "    elif df_rental_hour['대여시간_분'][i] >= 20:\n",
    "        df_rental_hour['대여시간_분_그룹'][i] = 20\n",
    "    elif df_rental_hour['대여시간_분'][i] >= 10:\n",
    "        df_rental_hour['대여시간_분_그룹'][i] = 10\n",
    "    else:\n",
    "        df_rental_hour['대여시간_분_그룹'][i] = 0\n",
    "df_rental_hour_group = df_rental_hour.groupby('대여시간_분_그룹')[['대여시간_분']].count().reset_index()\n",
    "df_rental_hour_group.rename(columns = {'대여시간_분' : 'count'}, inplace = True)\n",
    "df_rental_hour_group"
   ]
  },
  {
   "cell_type": "code",
   "execution_count": 36,
   "metadata": {},
   "outputs": [
    {
     "data": {
      "text/plain": [
       "34.833333333333336"
      ]
     },
     "execution_count": 36,
     "metadata": {},
     "output_type": "execute_result"
    }
   ],
   "source": [
    "# 10분당 평균 대여율 = 평균서비스율\n",
    "\n",
    "mu12 = df_rental_hour_group['count'].sum() / 6\n",
    "mu12"
   ]
  },
  {
   "cell_type": "markdown",
   "metadata": {},
   "source": [
    "#### 13시"
   ]
  },
  {
   "cell_type": "code",
   "execution_count": 37,
   "metadata": {},
   "outputs": [
    {
     "data": {
      "text/html": [
       "<div>\n",
       "<style scoped>\n",
       "    .dataframe tbody tr th:only-of-type {\n",
       "        vertical-align: middle;\n",
       "    }\n",
       "\n",
       "    .dataframe tbody tr th {\n",
       "        vertical-align: top;\n",
       "    }\n",
       "\n",
       "    .dataframe thead th {\n",
       "        text-align: right;\n",
       "    }\n",
       "</style>\n",
       "<table border=\"1\" class=\"dataframe\">\n",
       "  <thead>\n",
       "    <tr style=\"text-align: right;\">\n",
       "      <th></th>\n",
       "      <th>대여시간_분_그룹</th>\n",
       "      <th>count</th>\n",
       "    </tr>\n",
       "  </thead>\n",
       "  <tbody>\n",
       "    <tr>\n",
       "      <th>0</th>\n",
       "      <td>0</td>\n",
       "      <td>33</td>\n",
       "    </tr>\n",
       "    <tr>\n",
       "      <th>1</th>\n",
       "      <td>10</td>\n",
       "      <td>41</td>\n",
       "    </tr>\n",
       "    <tr>\n",
       "      <th>2</th>\n",
       "      <td>20</td>\n",
       "      <td>32</td>\n",
       "    </tr>\n",
       "    <tr>\n",
       "      <th>3</th>\n",
       "      <td>30</td>\n",
       "      <td>49</td>\n",
       "    </tr>\n",
       "    <tr>\n",
       "      <th>4</th>\n",
       "      <td>40</td>\n",
       "      <td>54</td>\n",
       "    </tr>\n",
       "    <tr>\n",
       "      <th>5</th>\n",
       "      <td>50</td>\n",
       "      <td>40</td>\n",
       "    </tr>\n",
       "  </tbody>\n",
       "</table>\n",
       "</div>"
      ],
      "text/plain": [
       "   대여시간_분_그룹  count\n",
       "0          0     33\n",
       "1         10     41\n",
       "2         20     32\n",
       "3         30     49\n",
       "4         40     54\n",
       "5         50     40"
      ]
     },
     "execution_count": 37,
     "metadata": {},
     "output_type": "execute_result"
    }
   ],
   "source": [
    "df_rental_hour = df_rental[df_rental['대여시간'] == 13]\n",
    "df_rental_hour.reset_index(drop = True, inplace = True)\n",
    "df_rental_hour['대여시간_분_그룹'] = -1\n",
    "for i in range(len(df_rental_hour)):\n",
    "    if df_rental_hour['대여시간_분'][i] >= 50:\n",
    "        df_rental_hour['대여시간_분_그룹'][i] = 50\n",
    "    elif df_rental_hour['대여시간_분'][i] >= 40:\n",
    "        df_rental_hour['대여시간_분_그룹'][i] = 40\n",
    "    elif df_rental_hour['대여시간_분'][i] >= 30:\n",
    "        df_rental_hour['대여시간_분_그룹'][i] = 30\n",
    "    elif df_rental_hour['대여시간_분'][i] >= 20:\n",
    "        df_rental_hour['대여시간_분_그룹'][i] = 20\n",
    "    elif df_rental_hour['대여시간_분'][i] >= 10:\n",
    "        df_rental_hour['대여시간_분_그룹'][i] = 10\n",
    "    else:\n",
    "        df_rental_hour['대여시간_분_그룹'][i] = 0\n",
    "df_rental_hour_group = df_rental_hour.groupby('대여시간_분_그룹')[['대여시간_분']].count().reset_index()\n",
    "df_rental_hour_group.rename(columns = {'대여시간_분' : 'count'}, inplace = True)\n",
    "df_rental_hour_group"
   ]
  },
  {
   "cell_type": "code",
   "execution_count": 38,
   "metadata": {},
   "outputs": [
    {
     "data": {
      "text/plain": [
       "41.5"
      ]
     },
     "execution_count": 38,
     "metadata": {},
     "output_type": "execute_result"
    }
   ],
   "source": [
    "# 10분당 평균 대여율 = 평균서비스율\n",
    "\n",
    "mu13 = df_rental_hour_group['count'].sum() / 6\n",
    "mu13"
   ]
  },
  {
   "cell_type": "markdown",
   "metadata": {},
   "source": [
    "#### 14시"
   ]
  },
  {
   "cell_type": "code",
   "execution_count": 39,
   "metadata": {},
   "outputs": [
    {
     "data": {
      "text/html": [
       "<div>\n",
       "<style scoped>\n",
       "    .dataframe tbody tr th:only-of-type {\n",
       "        vertical-align: middle;\n",
       "    }\n",
       "\n",
       "    .dataframe tbody tr th {\n",
       "        vertical-align: top;\n",
       "    }\n",
       "\n",
       "    .dataframe thead th {\n",
       "        text-align: right;\n",
       "    }\n",
       "</style>\n",
       "<table border=\"1\" class=\"dataframe\">\n",
       "  <thead>\n",
       "    <tr style=\"text-align: right;\">\n",
       "      <th></th>\n",
       "      <th>대여시간_분_그룹</th>\n",
       "      <th>count</th>\n",
       "    </tr>\n",
       "  </thead>\n",
       "  <tbody>\n",
       "    <tr>\n",
       "      <th>0</th>\n",
       "      <td>0</td>\n",
       "      <td>35</td>\n",
       "    </tr>\n",
       "    <tr>\n",
       "      <th>1</th>\n",
       "      <td>10</td>\n",
       "      <td>55</td>\n",
       "    </tr>\n",
       "    <tr>\n",
       "      <th>2</th>\n",
       "      <td>20</td>\n",
       "      <td>36</td>\n",
       "    </tr>\n",
       "    <tr>\n",
       "      <th>3</th>\n",
       "      <td>30</td>\n",
       "      <td>42</td>\n",
       "    </tr>\n",
       "    <tr>\n",
       "      <th>4</th>\n",
       "      <td>40</td>\n",
       "      <td>46</td>\n",
       "    </tr>\n",
       "    <tr>\n",
       "      <th>5</th>\n",
       "      <td>50</td>\n",
       "      <td>50</td>\n",
       "    </tr>\n",
       "  </tbody>\n",
       "</table>\n",
       "</div>"
      ],
      "text/plain": [
       "   대여시간_분_그룹  count\n",
       "0          0     35\n",
       "1         10     55\n",
       "2         20     36\n",
       "3         30     42\n",
       "4         40     46\n",
       "5         50     50"
      ]
     },
     "execution_count": 39,
     "metadata": {},
     "output_type": "execute_result"
    }
   ],
   "source": [
    "df_rental_hour = df_rental[df_rental['대여시간'] == 14]\n",
    "df_rental_hour.reset_index(drop = True, inplace = True)\n",
    "df_rental_hour['대여시간_분_그룹'] = -1\n",
    "for i in range(len(df_rental_hour)):\n",
    "    if df_rental_hour['대여시간_분'][i] >= 50:\n",
    "        df_rental_hour['대여시간_분_그룹'][i] = 50\n",
    "    elif df_rental_hour['대여시간_분'][i] >= 40:\n",
    "        df_rental_hour['대여시간_분_그룹'][i] = 40\n",
    "    elif df_rental_hour['대여시간_분'][i] >= 30:\n",
    "        df_rental_hour['대여시간_분_그룹'][i] = 30\n",
    "    elif df_rental_hour['대여시간_분'][i] >= 20:\n",
    "        df_rental_hour['대여시간_분_그룹'][i] = 20\n",
    "    elif df_rental_hour['대여시간_분'][i] >= 10:\n",
    "        df_rental_hour['대여시간_분_그룹'][i] = 10\n",
    "    else:\n",
    "        df_rental_hour['대여시간_분_그룹'][i] = 0\n",
    "df_rental_hour_group = df_rental_hour.groupby('대여시간_분_그룹')[['대여시간_분']].count().reset_index()\n",
    "df_rental_hour_group.rename(columns = {'대여시간_분' : 'count'}, inplace = True)\n",
    "df_rental_hour_group"
   ]
  },
  {
   "cell_type": "code",
   "execution_count": 40,
   "metadata": {},
   "outputs": [
    {
     "data": {
      "text/plain": [
       "44.0"
      ]
     },
     "execution_count": 40,
     "metadata": {},
     "output_type": "execute_result"
    }
   ],
   "source": [
    "# 10분당 평균 대여율 = 평균서비스율\n",
    "\n",
    "mu14 = df_rental_hour_group['count'].sum() / 6\n",
    "mu14"
   ]
  },
  {
   "cell_type": "markdown",
   "metadata": {},
   "source": [
    "#### 15시"
   ]
  },
  {
   "cell_type": "code",
   "execution_count": 41,
   "metadata": {},
   "outputs": [
    {
     "data": {
      "text/html": [
       "<div>\n",
       "<style scoped>\n",
       "    .dataframe tbody tr th:only-of-type {\n",
       "        vertical-align: middle;\n",
       "    }\n",
       "\n",
       "    .dataframe tbody tr th {\n",
       "        vertical-align: top;\n",
       "    }\n",
       "\n",
       "    .dataframe thead th {\n",
       "        text-align: right;\n",
       "    }\n",
       "</style>\n",
       "<table border=\"1\" class=\"dataframe\">\n",
       "  <thead>\n",
       "    <tr style=\"text-align: right;\">\n",
       "      <th></th>\n",
       "      <th>대여시간_분_그룹</th>\n",
       "      <th>count</th>\n",
       "    </tr>\n",
       "  </thead>\n",
       "  <tbody>\n",
       "    <tr>\n",
       "      <th>0</th>\n",
       "      <td>0</td>\n",
       "      <td>69</td>\n",
       "    </tr>\n",
       "    <tr>\n",
       "      <th>1</th>\n",
       "      <td>10</td>\n",
       "      <td>31</td>\n",
       "    </tr>\n",
       "    <tr>\n",
       "      <th>2</th>\n",
       "      <td>20</td>\n",
       "      <td>64</td>\n",
       "    </tr>\n",
       "    <tr>\n",
       "      <th>3</th>\n",
       "      <td>30</td>\n",
       "      <td>43</td>\n",
       "    </tr>\n",
       "    <tr>\n",
       "      <th>4</th>\n",
       "      <td>40</td>\n",
       "      <td>55</td>\n",
       "    </tr>\n",
       "    <tr>\n",
       "      <th>5</th>\n",
       "      <td>50</td>\n",
       "      <td>60</td>\n",
       "    </tr>\n",
       "  </tbody>\n",
       "</table>\n",
       "</div>"
      ],
      "text/plain": [
       "   대여시간_분_그룹  count\n",
       "0          0     69\n",
       "1         10     31\n",
       "2         20     64\n",
       "3         30     43\n",
       "4         40     55\n",
       "5         50     60"
      ]
     },
     "execution_count": 41,
     "metadata": {},
     "output_type": "execute_result"
    }
   ],
   "source": [
    "df_rental_hour = df_rental[df_rental['대여시간'] == 15]\n",
    "df_rental_hour.reset_index(drop = True, inplace = True)\n",
    "df_rental_hour['대여시간_분_그룹'] = -1\n",
    "for i in range(len(df_rental_hour)):\n",
    "    if df_rental_hour['대여시간_분'][i] >= 50:\n",
    "        df_rental_hour['대여시간_분_그룹'][i] = 50\n",
    "    elif df_rental_hour['대여시간_분'][i] >= 40:\n",
    "        df_rental_hour['대여시간_분_그룹'][i] = 40\n",
    "    elif df_rental_hour['대여시간_분'][i] >= 30:\n",
    "        df_rental_hour['대여시간_분_그룹'][i] = 30\n",
    "    elif df_rental_hour['대여시간_분'][i] >= 20:\n",
    "        df_rental_hour['대여시간_분_그룹'][i] = 20\n",
    "    elif df_rental_hour['대여시간_분'][i] >= 10:\n",
    "        df_rental_hour['대여시간_분_그룹'][i] = 10\n",
    "    else:\n",
    "        df_rental_hour['대여시간_분_그룹'][i] = 0\n",
    "df_rental_hour_group = df_rental_hour.groupby('대여시간_분_그룹')[['대여시간_분']].count().reset_index()\n",
    "df_rental_hour_group.rename(columns = {'대여시간_분' : 'count'}, inplace = True)\n",
    "df_rental_hour_group"
   ]
  },
  {
   "cell_type": "code",
   "execution_count": 42,
   "metadata": {},
   "outputs": [
    {
     "data": {
      "text/plain": [
       "53.666666666666664"
      ]
     },
     "execution_count": 42,
     "metadata": {},
     "output_type": "execute_result"
    }
   ],
   "source": [
    "# 10분당 평균 대여율 = 평균서비스율\n",
    "\n",
    "mu15 = df_rental_hour_group['count'].sum() / 6\n",
    "mu15"
   ]
  },
  {
   "cell_type": "markdown",
   "metadata": {},
   "source": [
    "#### 16시"
   ]
  },
  {
   "cell_type": "code",
   "execution_count": 43,
   "metadata": {},
   "outputs": [
    {
     "data": {
      "text/html": [
       "<div>\n",
       "<style scoped>\n",
       "    .dataframe tbody tr th:only-of-type {\n",
       "        vertical-align: middle;\n",
       "    }\n",
       "\n",
       "    .dataframe tbody tr th {\n",
       "        vertical-align: top;\n",
       "    }\n",
       "\n",
       "    .dataframe thead th {\n",
       "        text-align: right;\n",
       "    }\n",
       "</style>\n",
       "<table border=\"1\" class=\"dataframe\">\n",
       "  <thead>\n",
       "    <tr style=\"text-align: right;\">\n",
       "      <th></th>\n",
       "      <th>대여시간_분_그룹</th>\n",
       "      <th>count</th>\n",
       "    </tr>\n",
       "  </thead>\n",
       "  <tbody>\n",
       "    <tr>\n",
       "      <th>0</th>\n",
       "      <td>0</td>\n",
       "      <td>47</td>\n",
       "    </tr>\n",
       "    <tr>\n",
       "      <th>1</th>\n",
       "      <td>10</td>\n",
       "      <td>91</td>\n",
       "    </tr>\n",
       "    <tr>\n",
       "      <th>2</th>\n",
       "      <td>20</td>\n",
       "      <td>71</td>\n",
       "    </tr>\n",
       "    <tr>\n",
       "      <th>3</th>\n",
       "      <td>30</td>\n",
       "      <td>86</td>\n",
       "    </tr>\n",
       "    <tr>\n",
       "      <th>4</th>\n",
       "      <td>40</td>\n",
       "      <td>95</td>\n",
       "    </tr>\n",
       "    <tr>\n",
       "      <th>5</th>\n",
       "      <td>50</td>\n",
       "      <td>77</td>\n",
       "    </tr>\n",
       "  </tbody>\n",
       "</table>\n",
       "</div>"
      ],
      "text/plain": [
       "   대여시간_분_그룹  count\n",
       "0          0     47\n",
       "1         10     91\n",
       "2         20     71\n",
       "3         30     86\n",
       "4         40     95\n",
       "5         50     77"
      ]
     },
     "execution_count": 43,
     "metadata": {},
     "output_type": "execute_result"
    }
   ],
   "source": [
    "df_rental_hour = df_rental[df_rental['대여시간'] == 16]\n",
    "df_rental_hour.reset_index(drop = True, inplace = True)\n",
    "df_rental_hour['대여시간_분_그룹'] = -1\n",
    "for i in range(len(df_rental_hour)):\n",
    "    if df_rental_hour['대여시간_분'][i] >= 50:\n",
    "        df_rental_hour['대여시간_분_그룹'][i] = 50\n",
    "    elif df_rental_hour['대여시간_분'][i] >= 40:\n",
    "        df_rental_hour['대여시간_분_그룹'][i] = 40\n",
    "    elif df_rental_hour['대여시간_분'][i] >= 30:\n",
    "        df_rental_hour['대여시간_분_그룹'][i] = 30\n",
    "    elif df_rental_hour['대여시간_분'][i] >= 20:\n",
    "        df_rental_hour['대여시간_분_그룹'][i] = 20\n",
    "    elif df_rental_hour['대여시간_분'][i] >= 10:\n",
    "        df_rental_hour['대여시간_분_그룹'][i] = 10\n",
    "    else:\n",
    "        df_rental_hour['대여시간_분_그룹'][i] = 0\n",
    "df_rental_hour_group = df_rental_hour.groupby('대여시간_분_그룹')[['대여시간_분']].count().reset_index()\n",
    "df_rental_hour_group.rename(columns = {'대여시간_분' : 'count'}, inplace = True)\n",
    "df_rental_hour_group"
   ]
  },
  {
   "cell_type": "code",
   "execution_count": 44,
   "metadata": {},
   "outputs": [
    {
     "data": {
      "text/plain": [
       "77.83333333333333"
      ]
     },
     "execution_count": 44,
     "metadata": {},
     "output_type": "execute_result"
    }
   ],
   "source": [
    "# 10분당 평균 대여율 = 평균서비스율\n",
    "\n",
    "mu16 = df_rental_hour_group['count'].sum() / 6\n",
    "mu16"
   ]
  },
  {
   "cell_type": "markdown",
   "metadata": {},
   "source": [
    "#### 17시"
   ]
  },
  {
   "cell_type": "code",
   "execution_count": 45,
   "metadata": {},
   "outputs": [
    {
     "data": {
      "text/html": [
       "<div>\n",
       "<style scoped>\n",
       "    .dataframe tbody tr th:only-of-type {\n",
       "        vertical-align: middle;\n",
       "    }\n",
       "\n",
       "    .dataframe tbody tr th {\n",
       "        vertical-align: top;\n",
       "    }\n",
       "\n",
       "    .dataframe thead th {\n",
       "        text-align: right;\n",
       "    }\n",
       "</style>\n",
       "<table border=\"1\" class=\"dataframe\">\n",
       "  <thead>\n",
       "    <tr style=\"text-align: right;\">\n",
       "      <th></th>\n",
       "      <th>대여시간_분_그룹</th>\n",
       "      <th>count</th>\n",
       "    </tr>\n",
       "  </thead>\n",
       "  <tbody>\n",
       "    <tr>\n",
       "      <th>0</th>\n",
       "      <td>0</td>\n",
       "      <td>100</td>\n",
       "    </tr>\n",
       "    <tr>\n",
       "      <th>1</th>\n",
       "      <td>10</td>\n",
       "      <td>81</td>\n",
       "    </tr>\n",
       "    <tr>\n",
       "      <th>2</th>\n",
       "      <td>20</td>\n",
       "      <td>94</td>\n",
       "    </tr>\n",
       "    <tr>\n",
       "      <th>3</th>\n",
       "      <td>30</td>\n",
       "      <td>129</td>\n",
       "    </tr>\n",
       "    <tr>\n",
       "      <th>4</th>\n",
       "      <td>40</td>\n",
       "      <td>102</td>\n",
       "    </tr>\n",
       "    <tr>\n",
       "      <th>5</th>\n",
       "      <td>50</td>\n",
       "      <td>120</td>\n",
       "    </tr>\n",
       "  </tbody>\n",
       "</table>\n",
       "</div>"
      ],
      "text/plain": [
       "   대여시간_분_그룹  count\n",
       "0          0    100\n",
       "1         10     81\n",
       "2         20     94\n",
       "3         30    129\n",
       "4         40    102\n",
       "5         50    120"
      ]
     },
     "execution_count": 45,
     "metadata": {},
     "output_type": "execute_result"
    }
   ],
   "source": [
    "df_rental_hour = df_rental[df_rental['대여시간'] == 17]\n",
    "df_rental_hour.reset_index(drop = True, inplace = True)\n",
    "df_rental_hour['대여시간_분_그룹'] = -1\n",
    "for i in range(len(df_rental_hour)):\n",
    "    if df_rental_hour['대여시간_분'][i] >= 50:\n",
    "        df_rental_hour['대여시간_분_그룹'][i] = 50\n",
    "    elif df_rental_hour['대여시간_분'][i] >= 40:\n",
    "        df_rental_hour['대여시간_분_그룹'][i] = 40\n",
    "    elif df_rental_hour['대여시간_분'][i] >= 30:\n",
    "        df_rental_hour['대여시간_분_그룹'][i] = 30\n",
    "    elif df_rental_hour['대여시간_분'][i] >= 20:\n",
    "        df_rental_hour['대여시간_분_그룹'][i] = 20\n",
    "    elif df_rental_hour['대여시간_분'][i] >= 10:\n",
    "        df_rental_hour['대여시간_분_그룹'][i] = 10\n",
    "    else:\n",
    "        df_rental_hour['대여시간_분_그룹'][i] = 0\n",
    "df_rental_hour_group = df_rental_hour.groupby('대여시간_분_그룹')[['대여시간_분']].count().reset_index()\n",
    "df_rental_hour_group.rename(columns = {'대여시간_분' : 'count'}, inplace = True)\n",
    "df_rental_hour_group"
   ]
  },
  {
   "cell_type": "code",
   "execution_count": 46,
   "metadata": {},
   "outputs": [
    {
     "data": {
      "text/plain": [
       "104.33333333333333"
      ]
     },
     "execution_count": 46,
     "metadata": {},
     "output_type": "execute_result"
    }
   ],
   "source": [
    "# 10분당 평균 대여율 = 평균서비스율\n",
    "\n",
    "mu17 = df_rental_hour_group['count'].sum() / 6\n",
    "mu17"
   ]
  },
  {
   "cell_type": "markdown",
   "metadata": {},
   "source": [
    "#### 18시"
   ]
  },
  {
   "cell_type": "code",
   "execution_count": 47,
   "metadata": {},
   "outputs": [
    {
     "data": {
      "text/html": [
       "<div>\n",
       "<style scoped>\n",
       "    .dataframe tbody tr th:only-of-type {\n",
       "        vertical-align: middle;\n",
       "    }\n",
       "\n",
       "    .dataframe tbody tr th {\n",
       "        vertical-align: top;\n",
       "    }\n",
       "\n",
       "    .dataframe thead th {\n",
       "        text-align: right;\n",
       "    }\n",
       "</style>\n",
       "<table border=\"1\" class=\"dataframe\">\n",
       "  <thead>\n",
       "    <tr style=\"text-align: right;\">\n",
       "      <th></th>\n",
       "      <th>대여시간_분_그룹</th>\n",
       "      <th>count</th>\n",
       "    </tr>\n",
       "  </thead>\n",
       "  <tbody>\n",
       "    <tr>\n",
       "      <th>0</th>\n",
       "      <td>0</td>\n",
       "      <td>127</td>\n",
       "    </tr>\n",
       "    <tr>\n",
       "      <th>1</th>\n",
       "      <td>10</td>\n",
       "      <td>148</td>\n",
       "    </tr>\n",
       "    <tr>\n",
       "      <th>2</th>\n",
       "      <td>20</td>\n",
       "      <td>150</td>\n",
       "    </tr>\n",
       "    <tr>\n",
       "      <th>3</th>\n",
       "      <td>30</td>\n",
       "      <td>142</td>\n",
       "    </tr>\n",
       "    <tr>\n",
       "      <th>4</th>\n",
       "      <td>40</td>\n",
       "      <td>176</td>\n",
       "    </tr>\n",
       "    <tr>\n",
       "      <th>5</th>\n",
       "      <td>50</td>\n",
       "      <td>130</td>\n",
       "    </tr>\n",
       "  </tbody>\n",
       "</table>\n",
       "</div>"
      ],
      "text/plain": [
       "   대여시간_분_그룹  count\n",
       "0          0    127\n",
       "1         10    148\n",
       "2         20    150\n",
       "3         30    142\n",
       "4         40    176\n",
       "5         50    130"
      ]
     },
     "execution_count": 47,
     "metadata": {},
     "output_type": "execute_result"
    }
   ],
   "source": [
    "df_rental_hour = df_rental[df_rental['대여시간'] == 18]\n",
    "df_rental_hour.reset_index(drop = True, inplace = True)\n",
    "df_rental_hour['대여시간_분_그룹'] = -1\n",
    "for i in range(len(df_rental_hour)):\n",
    "    if df_rental_hour['대여시간_분'][i] >= 50:\n",
    "        df_rental_hour['대여시간_분_그룹'][i] = 50\n",
    "    elif df_rental_hour['대여시간_분'][i] >= 40:\n",
    "        df_rental_hour['대여시간_분_그룹'][i] = 40\n",
    "    elif df_rental_hour['대여시간_분'][i] >= 30:\n",
    "        df_rental_hour['대여시간_분_그룹'][i] = 30\n",
    "    elif df_rental_hour['대여시간_분'][i] >= 20:\n",
    "        df_rental_hour['대여시간_분_그룹'][i] = 20\n",
    "    elif df_rental_hour['대여시간_분'][i] >= 10:\n",
    "        df_rental_hour['대여시간_분_그룹'][i] = 10\n",
    "    else:\n",
    "        df_rental_hour['대여시간_분_그룹'][i] = 0\n",
    "df_rental_hour_group = df_rental_hour.groupby('대여시간_분_그룹')[['대여시간_분']].count().reset_index()\n",
    "df_rental_hour_group.rename(columns = {'대여시간_분' : 'count'}, inplace = True)\n",
    "df_rental_hour_group"
   ]
  },
  {
   "cell_type": "code",
   "execution_count": 48,
   "metadata": {},
   "outputs": [
    {
     "data": {
      "text/plain": [
       "145.5"
      ]
     },
     "execution_count": 48,
     "metadata": {},
     "output_type": "execute_result"
    }
   ],
   "source": [
    "# 10분당 평균 대여율 = 평균서비스율\n",
    "\n",
    "mu18 = df_rental_hour_group['count'].sum() / 6\n",
    "mu18"
   ]
  },
  {
   "cell_type": "markdown",
   "metadata": {},
   "source": [
    "#### 19시"
   ]
  },
  {
   "cell_type": "code",
   "execution_count": 49,
   "metadata": {},
   "outputs": [
    {
     "data": {
      "text/html": [
       "<div>\n",
       "<style scoped>\n",
       "    .dataframe tbody tr th:only-of-type {\n",
       "        vertical-align: middle;\n",
       "    }\n",
       "\n",
       "    .dataframe tbody tr th {\n",
       "        vertical-align: top;\n",
       "    }\n",
       "\n",
       "    .dataframe thead th {\n",
       "        text-align: right;\n",
       "    }\n",
       "</style>\n",
       "<table border=\"1\" class=\"dataframe\">\n",
       "  <thead>\n",
       "    <tr style=\"text-align: right;\">\n",
       "      <th></th>\n",
       "      <th>대여시간_분_그룹</th>\n",
       "      <th>count</th>\n",
       "    </tr>\n",
       "  </thead>\n",
       "  <tbody>\n",
       "    <tr>\n",
       "      <th>0</th>\n",
       "      <td>0</td>\n",
       "      <td>162</td>\n",
       "    </tr>\n",
       "    <tr>\n",
       "      <th>1</th>\n",
       "      <td>10</td>\n",
       "      <td>170</td>\n",
       "    </tr>\n",
       "    <tr>\n",
       "      <th>2</th>\n",
       "      <td>20</td>\n",
       "      <td>205</td>\n",
       "    </tr>\n",
       "    <tr>\n",
       "      <th>3</th>\n",
       "      <td>30</td>\n",
       "      <td>230</td>\n",
       "    </tr>\n",
       "    <tr>\n",
       "      <th>4</th>\n",
       "      <td>40</td>\n",
       "      <td>213</td>\n",
       "    </tr>\n",
       "    <tr>\n",
       "      <th>5</th>\n",
       "      <td>50</td>\n",
       "      <td>219</td>\n",
       "    </tr>\n",
       "  </tbody>\n",
       "</table>\n",
       "</div>"
      ],
      "text/plain": [
       "   대여시간_분_그룹  count\n",
       "0          0    162\n",
       "1         10    170\n",
       "2         20    205\n",
       "3         30    230\n",
       "4         40    213\n",
       "5         50    219"
      ]
     },
     "execution_count": 49,
     "metadata": {},
     "output_type": "execute_result"
    }
   ],
   "source": [
    "df_rental_hour = df_rental[df_rental['대여시간'] == 19]\n",
    "df_rental_hour.reset_index(drop = True, inplace = True)\n",
    "df_rental_hour['대여시간_분_그룹'] = -1\n",
    "for i in range(len(df_rental_hour)):\n",
    "    if df_rental_hour['대여시간_분'][i] >= 50:\n",
    "        df_rental_hour['대여시간_분_그룹'][i] = 50\n",
    "    elif df_rental_hour['대여시간_분'][i] >= 40:\n",
    "        df_rental_hour['대여시간_분_그룹'][i] = 40\n",
    "    elif df_rental_hour['대여시간_분'][i] >= 30:\n",
    "        df_rental_hour['대여시간_분_그룹'][i] = 30\n",
    "    elif df_rental_hour['대여시간_분'][i] >= 20:\n",
    "        df_rental_hour['대여시간_분_그룹'][i] = 20\n",
    "    elif df_rental_hour['대여시간_분'][i] >= 10:\n",
    "        df_rental_hour['대여시간_분_그룹'][i] = 10\n",
    "    else:\n",
    "        df_rental_hour['대여시간_분_그룹'][i] = 0\n",
    "df_rental_hour_group = df_rental_hour.groupby('대여시간_분_그룹')[['대여시간_분']].count().reset_index()\n",
    "df_rental_hour_group.rename(columns = {'대여시간_분' : 'count'}, inplace = True)\n",
    "df_rental_hour_group"
   ]
  },
  {
   "cell_type": "code",
   "execution_count": 50,
   "metadata": {},
   "outputs": [
    {
     "data": {
      "text/plain": [
       "199.83333333333334"
      ]
     },
     "execution_count": 50,
     "metadata": {},
     "output_type": "execute_result"
    }
   ],
   "source": [
    "# 10분당 평균 대여율 = 평균서비스율\n",
    "\n",
    "mu19 = df_rental_hour_group['count'].sum() / 6\n",
    "mu19"
   ]
  },
  {
   "cell_type": "markdown",
   "metadata": {},
   "source": [
    "#### 20시"
   ]
  },
  {
   "cell_type": "code",
   "execution_count": 51,
   "metadata": {},
   "outputs": [
    {
     "data": {
      "text/html": [
       "<div>\n",
       "<style scoped>\n",
       "    .dataframe tbody tr th:only-of-type {\n",
       "        vertical-align: middle;\n",
       "    }\n",
       "\n",
       "    .dataframe tbody tr th {\n",
       "        vertical-align: top;\n",
       "    }\n",
       "\n",
       "    .dataframe thead th {\n",
       "        text-align: right;\n",
       "    }\n",
       "</style>\n",
       "<table border=\"1\" class=\"dataframe\">\n",
       "  <thead>\n",
       "    <tr style=\"text-align: right;\">\n",
       "      <th></th>\n",
       "      <th>대여시간_분_그룹</th>\n",
       "      <th>count</th>\n",
       "    </tr>\n",
       "  </thead>\n",
       "  <tbody>\n",
       "    <tr>\n",
       "      <th>0</th>\n",
       "      <td>0</td>\n",
       "      <td>216</td>\n",
       "    </tr>\n",
       "    <tr>\n",
       "      <th>1</th>\n",
       "      <td>10</td>\n",
       "      <td>211</td>\n",
       "    </tr>\n",
       "    <tr>\n",
       "      <th>2</th>\n",
       "      <td>20</td>\n",
       "      <td>233</td>\n",
       "    </tr>\n",
       "    <tr>\n",
       "      <th>3</th>\n",
       "      <td>30</td>\n",
       "      <td>238</td>\n",
       "    </tr>\n",
       "    <tr>\n",
       "      <th>4</th>\n",
       "      <td>40</td>\n",
       "      <td>277</td>\n",
       "    </tr>\n",
       "    <tr>\n",
       "      <th>5</th>\n",
       "      <td>50</td>\n",
       "      <td>237</td>\n",
       "    </tr>\n",
       "  </tbody>\n",
       "</table>\n",
       "</div>"
      ],
      "text/plain": [
       "   대여시간_분_그룹  count\n",
       "0          0    216\n",
       "1         10    211\n",
       "2         20    233\n",
       "3         30    238\n",
       "4         40    277\n",
       "5         50    237"
      ]
     },
     "execution_count": 51,
     "metadata": {},
     "output_type": "execute_result"
    }
   ],
   "source": [
    "df_rental_hour = df_rental[df_rental['대여시간'] == 20]\n",
    "df_rental_hour.reset_index(drop = True, inplace = True)\n",
    "df_rental_hour['대여시간_분_그룹'] = -1\n",
    "for i in range(len(df_rental_hour)):\n",
    "    if df_rental_hour['대여시간_분'][i] >= 50:\n",
    "        df_rental_hour['대여시간_분_그룹'][i] = 50\n",
    "    elif df_rental_hour['대여시간_분'][i] >= 40:\n",
    "        df_rental_hour['대여시간_분_그룹'][i] = 40\n",
    "    elif df_rental_hour['대여시간_분'][i] >= 30:\n",
    "        df_rental_hour['대여시간_분_그룹'][i] = 30\n",
    "    elif df_rental_hour['대여시간_분'][i] >= 20:\n",
    "        df_rental_hour['대여시간_분_그룹'][i] = 20\n",
    "    elif df_rental_hour['대여시간_분'][i] >= 10:\n",
    "        df_rental_hour['대여시간_분_그룹'][i] = 10\n",
    "    else:\n",
    "        df_rental_hour['대여시간_분_그룹'][i] = 0\n",
    "df_rental_hour_group = df_rental_hour.groupby('대여시간_분_그룹')[['대여시간_분']].count().reset_index()\n",
    "df_rental_hour_group.rename(columns = {'대여시간_분' : 'count'}, inplace = True)\n",
    "df_rental_hour_group"
   ]
  },
  {
   "cell_type": "code",
   "execution_count": 52,
   "metadata": {},
   "outputs": [
    {
     "data": {
      "text/plain": [
       "235.33333333333334"
      ]
     },
     "execution_count": 52,
     "metadata": {},
     "output_type": "execute_result"
    }
   ],
   "source": [
    "# 10분당 평균 대여율 = 평균서비스율\n",
    "\n",
    "mu20 = df_rental_hour_group['count'].sum() / 6\n",
    "mu20"
   ]
  },
  {
   "cell_type": "markdown",
   "metadata": {},
   "source": [
    "#### 21시"
   ]
  },
  {
   "cell_type": "code",
   "execution_count": 53,
   "metadata": {},
   "outputs": [
    {
     "data": {
      "text/html": [
       "<div>\n",
       "<style scoped>\n",
       "    .dataframe tbody tr th:only-of-type {\n",
       "        vertical-align: middle;\n",
       "    }\n",
       "\n",
       "    .dataframe tbody tr th {\n",
       "        vertical-align: top;\n",
       "    }\n",
       "\n",
       "    .dataframe thead th {\n",
       "        text-align: right;\n",
       "    }\n",
       "</style>\n",
       "<table border=\"1\" class=\"dataframe\">\n",
       "  <thead>\n",
       "    <tr style=\"text-align: right;\">\n",
       "      <th></th>\n",
       "      <th>대여시간_분_그룹</th>\n",
       "      <th>count</th>\n",
       "    </tr>\n",
       "  </thead>\n",
       "  <tbody>\n",
       "    <tr>\n",
       "      <th>0</th>\n",
       "      <td>0</td>\n",
       "      <td>217</td>\n",
       "    </tr>\n",
       "    <tr>\n",
       "      <th>1</th>\n",
       "      <td>10</td>\n",
       "      <td>234</td>\n",
       "    </tr>\n",
       "    <tr>\n",
       "      <th>2</th>\n",
       "      <td>20</td>\n",
       "      <td>261</td>\n",
       "    </tr>\n",
       "    <tr>\n",
       "      <th>3</th>\n",
       "      <td>30</td>\n",
       "      <td>242</td>\n",
       "    </tr>\n",
       "    <tr>\n",
       "      <th>4</th>\n",
       "      <td>40</td>\n",
       "      <td>235</td>\n",
       "    </tr>\n",
       "    <tr>\n",
       "      <th>5</th>\n",
       "      <td>50</td>\n",
       "      <td>258</td>\n",
       "    </tr>\n",
       "  </tbody>\n",
       "</table>\n",
       "</div>"
      ],
      "text/plain": [
       "   대여시간_분_그룹  count\n",
       "0          0    217\n",
       "1         10    234\n",
       "2         20    261\n",
       "3         30    242\n",
       "4         40    235\n",
       "5         50    258"
      ]
     },
     "execution_count": 53,
     "metadata": {},
     "output_type": "execute_result"
    }
   ],
   "source": [
    "df_rental_hour = df_rental[df_rental['대여시간'] == 21]\n",
    "df_rental_hour.reset_index(drop = True, inplace = True)\n",
    "df_rental_hour['대여시간_분_그룹'] = -1\n",
    "for i in range(len(df_rental_hour)):\n",
    "    if df_rental_hour['대여시간_분'][i] >= 50:\n",
    "        df_rental_hour['대여시간_분_그룹'][i] = 50\n",
    "    elif df_rental_hour['대여시간_분'][i] >= 40:\n",
    "        df_rental_hour['대여시간_분_그룹'][i] = 40\n",
    "    elif df_rental_hour['대여시간_분'][i] >= 30:\n",
    "        df_rental_hour['대여시간_분_그룹'][i] = 30\n",
    "    elif df_rental_hour['대여시간_분'][i] >= 20:\n",
    "        df_rental_hour['대여시간_분_그룹'][i] = 20\n",
    "    elif df_rental_hour['대여시간_분'][i] >= 10:\n",
    "        df_rental_hour['대여시간_분_그룹'][i] = 10\n",
    "    else:\n",
    "        df_rental_hour['대여시간_분_그룹'][i] = 0\n",
    "df_rental_hour_group = df_rental_hour.groupby('대여시간_분_그룹')[['대여시간_분']].count().reset_index()\n",
    "df_rental_hour_group.rename(columns = {'대여시간_분' : 'count'}, inplace = True)\n",
    "df_rental_hour_group"
   ]
  },
  {
   "cell_type": "code",
   "execution_count": 54,
   "metadata": {},
   "outputs": [
    {
     "data": {
      "text/plain": [
       "241.16666666666666"
      ]
     },
     "execution_count": 54,
     "metadata": {},
     "output_type": "execute_result"
    }
   ],
   "source": [
    "# 10분당 평균 대여율 = 평균서비스율\n",
    "\n",
    "mu21 = df_rental_hour_group['count'].sum() / 6\n",
    "mu21"
   ]
  },
  {
   "cell_type": "markdown",
   "metadata": {},
   "source": [
    "#### 22시"
   ]
  },
  {
   "cell_type": "code",
   "execution_count": 55,
   "metadata": {},
   "outputs": [
    {
     "data": {
      "text/html": [
       "<div>\n",
       "<style scoped>\n",
       "    .dataframe tbody tr th:only-of-type {\n",
       "        vertical-align: middle;\n",
       "    }\n",
       "\n",
       "    .dataframe tbody tr th {\n",
       "        vertical-align: top;\n",
       "    }\n",
       "\n",
       "    .dataframe thead th {\n",
       "        text-align: right;\n",
       "    }\n",
       "</style>\n",
       "<table border=\"1\" class=\"dataframe\">\n",
       "  <thead>\n",
       "    <tr style=\"text-align: right;\">\n",
       "      <th></th>\n",
       "      <th>대여시간_분_그룹</th>\n",
       "      <th>count</th>\n",
       "    </tr>\n",
       "  </thead>\n",
       "  <tbody>\n",
       "    <tr>\n",
       "      <th>0</th>\n",
       "      <td>0</td>\n",
       "      <td>235</td>\n",
       "    </tr>\n",
       "    <tr>\n",
       "      <th>1</th>\n",
       "      <td>10</td>\n",
       "      <td>227</td>\n",
       "    </tr>\n",
       "    <tr>\n",
       "      <th>2</th>\n",
       "      <td>20</td>\n",
       "      <td>207</td>\n",
       "    </tr>\n",
       "    <tr>\n",
       "      <th>3</th>\n",
       "      <td>30</td>\n",
       "      <td>239</td>\n",
       "    </tr>\n",
       "    <tr>\n",
       "      <th>4</th>\n",
       "      <td>40</td>\n",
       "      <td>208</td>\n",
       "    </tr>\n",
       "    <tr>\n",
       "      <th>5</th>\n",
       "      <td>50</td>\n",
       "      <td>180</td>\n",
       "    </tr>\n",
       "  </tbody>\n",
       "</table>\n",
       "</div>"
      ],
      "text/plain": [
       "   대여시간_분_그룹  count\n",
       "0          0    235\n",
       "1         10    227\n",
       "2         20    207\n",
       "3         30    239\n",
       "4         40    208\n",
       "5         50    180"
      ]
     },
     "execution_count": 55,
     "metadata": {},
     "output_type": "execute_result"
    }
   ],
   "source": [
    "df_rental_hour = df_rental[df_rental['대여시간'] == 22]\n",
    "df_rental_hour.reset_index(drop = True, inplace = True)\n",
    "df_rental_hour['대여시간_분_그룹'] = -1\n",
    "for i in range(len(df_rental_hour)):\n",
    "    if df_rental_hour['대여시간_분'][i] >= 50:\n",
    "        df_rental_hour['대여시간_분_그룹'][i] = 50\n",
    "    elif df_rental_hour['대여시간_분'][i] >= 40:\n",
    "        df_rental_hour['대여시간_분_그룹'][i] = 40\n",
    "    elif df_rental_hour['대여시간_분'][i] >= 30:\n",
    "        df_rental_hour['대여시간_분_그룹'][i] = 30\n",
    "    elif df_rental_hour['대여시간_분'][i] >= 20:\n",
    "        df_rental_hour['대여시간_분_그룹'][i] = 20\n",
    "    elif df_rental_hour['대여시간_분'][i] >= 10:\n",
    "        df_rental_hour['대여시간_분_그룹'][i] = 10\n",
    "    else:\n",
    "        df_rental_hour['대여시간_분_그룹'][i] = 0\n",
    "df_rental_hour_group = df_rental_hour.groupby('대여시간_분_그룹')[['대여시간_분']].count().reset_index()\n",
    "df_rental_hour_group.rename(columns = {'대여시간_분' : 'count'}, inplace = True)\n",
    "df_rental_hour_group"
   ]
  },
  {
   "cell_type": "code",
   "execution_count": 56,
   "metadata": {},
   "outputs": [
    {
     "data": {
      "text/plain": [
       "216.0"
      ]
     },
     "execution_count": 56,
     "metadata": {},
     "output_type": "execute_result"
    }
   ],
   "source": [
    "# 10분당 평균 대여율 = 평균서비스율\n",
    "\n",
    "mu22 = df_rental_hour_group['count'].sum() / 6\n",
    "mu22"
   ]
  },
  {
   "cell_type": "markdown",
   "metadata": {},
   "source": [
    "#### 23시"
   ]
  },
  {
   "cell_type": "code",
   "execution_count": 57,
   "metadata": {},
   "outputs": [
    {
     "data": {
      "text/html": [
       "<div>\n",
       "<style scoped>\n",
       "    .dataframe tbody tr th:only-of-type {\n",
       "        vertical-align: middle;\n",
       "    }\n",
       "\n",
       "    .dataframe tbody tr th {\n",
       "        vertical-align: top;\n",
       "    }\n",
       "\n",
       "    .dataframe thead th {\n",
       "        text-align: right;\n",
       "    }\n",
       "</style>\n",
       "<table border=\"1\" class=\"dataframe\">\n",
       "  <thead>\n",
       "    <tr style=\"text-align: right;\">\n",
       "      <th></th>\n",
       "      <th>대여시간_분_그룹</th>\n",
       "      <th>count</th>\n",
       "    </tr>\n",
       "  </thead>\n",
       "  <tbody>\n",
       "    <tr>\n",
       "      <th>0</th>\n",
       "      <td>0</td>\n",
       "      <td>150</td>\n",
       "    </tr>\n",
       "    <tr>\n",
       "      <th>1</th>\n",
       "      <td>10</td>\n",
       "      <td>134</td>\n",
       "    </tr>\n",
       "    <tr>\n",
       "      <th>2</th>\n",
       "      <td>20</td>\n",
       "      <td>126</td>\n",
       "    </tr>\n",
       "    <tr>\n",
       "      <th>3</th>\n",
       "      <td>30</td>\n",
       "      <td>172</td>\n",
       "    </tr>\n",
       "    <tr>\n",
       "      <th>4</th>\n",
       "      <td>40</td>\n",
       "      <td>125</td>\n",
       "    </tr>\n",
       "    <tr>\n",
       "      <th>5</th>\n",
       "      <td>50</td>\n",
       "      <td>133</td>\n",
       "    </tr>\n",
       "  </tbody>\n",
       "</table>\n",
       "</div>"
      ],
      "text/plain": [
       "   대여시간_분_그룹  count\n",
       "0          0    150\n",
       "1         10    134\n",
       "2         20    126\n",
       "3         30    172\n",
       "4         40    125\n",
       "5         50    133"
      ]
     },
     "execution_count": 57,
     "metadata": {},
     "output_type": "execute_result"
    }
   ],
   "source": [
    "df_rental_hour = df_rental[df_rental['대여시간'] == 23]\n",
    "df_rental_hour.reset_index(drop = True, inplace = True)\n",
    "df_rental_hour['대여시간_분_그룹'] = -1\n",
    "for i in range(len(df_rental_hour)):\n",
    "    if df_rental_hour['대여시간_분'][i] >= 50:\n",
    "        df_rental_hour['대여시간_분_그룹'][i] = 50\n",
    "    elif df_rental_hour['대여시간_분'][i] >= 40:\n",
    "        df_rental_hour['대여시간_분_그룹'][i] = 40\n",
    "    elif df_rental_hour['대여시간_분'][i] >= 30:\n",
    "        df_rental_hour['대여시간_분_그룹'][i] = 30\n",
    "    elif df_rental_hour['대여시간_분'][i] >= 20:\n",
    "        df_rental_hour['대여시간_분_그룹'][i] = 20\n",
    "    elif df_rental_hour['대여시간_분'][i] >= 10:\n",
    "        df_rental_hour['대여시간_분_그룹'][i] = 10\n",
    "    else:\n",
    "        df_rental_hour['대여시간_분_그룹'][i] = 0\n",
    "df_rental_hour_group = df_rental_hour.groupby('대여시간_분_그룹')[['대여시간_분']].count().reset_index()\n",
    "df_rental_hour_group.rename(columns = {'대여시간_분' : 'count'}, inplace = True)\n",
    "df_rental_hour_group"
   ]
  },
  {
   "cell_type": "code",
   "execution_count": 58,
   "metadata": {},
   "outputs": [
    {
     "data": {
      "text/plain": [
       "140.0"
      ]
     },
     "execution_count": 58,
     "metadata": {},
     "output_type": "execute_result"
    }
   ],
   "source": [
    "# 10분당 평균 대여율 = 평균서비스율\n",
    "\n",
    "mu23 = df_rental_hour_group['count'].sum() / 6\n",
    "mu23"
   ]
  },
  {
   "cell_type": "markdown",
   "metadata": {},
   "source": [
    "- 2020년 6월 한달동안의 마포구민체육센터 앞 대여소의 평균서비스율 뮤(10분당 평균 대여수)는"
   ]
  },
  {
   "cell_type": "code",
   "execution_count": 59,
   "metadata": {},
   "outputs": [
    {
     "data": {
      "text/html": [
       "<div>\n",
       "<style scoped>\n",
       "    .dataframe tbody tr th:only-of-type {\n",
       "        vertical-align: middle;\n",
       "    }\n",
       "\n",
       "    .dataframe tbody tr th {\n",
       "        vertical-align: top;\n",
       "    }\n",
       "\n",
       "    .dataframe thead th {\n",
       "        text-align: right;\n",
       "    }\n",
       "</style>\n",
       "<table border=\"1\" class=\"dataframe\">\n",
       "  <thead>\n",
       "    <tr style=\"text-align: right;\">\n",
       "      <th></th>\n",
       "      <th>time</th>\n",
       "      <th>mu</th>\n",
       "    </tr>\n",
       "  </thead>\n",
       "  <tbody>\n",
       "    <tr>\n",
       "      <th>0</th>\n",
       "      <td>0시</td>\n",
       "      <td>78.000000</td>\n",
       "    </tr>\n",
       "    <tr>\n",
       "      <th>1</th>\n",
       "      <td>1시</td>\n",
       "      <td>52.166667</td>\n",
       "    </tr>\n",
       "    <tr>\n",
       "      <th>2</th>\n",
       "      <td>2시</td>\n",
       "      <td>27.166667</td>\n",
       "    </tr>\n",
       "    <tr>\n",
       "      <th>3</th>\n",
       "      <td>3시</td>\n",
       "      <td>13.333333</td>\n",
       "    </tr>\n",
       "    <tr>\n",
       "      <th>4</th>\n",
       "      <td>4시</td>\n",
       "      <td>9.500000</td>\n",
       "    </tr>\n",
       "    <tr>\n",
       "      <th>5</th>\n",
       "      <td>5시</td>\n",
       "      <td>8.500000</td>\n",
       "    </tr>\n",
       "    <tr>\n",
       "      <th>6</th>\n",
       "      <td>6시</td>\n",
       "      <td>17.333333</td>\n",
       "    </tr>\n",
       "    <tr>\n",
       "      <th>7</th>\n",
       "      <td>7시</td>\n",
       "      <td>39.000000</td>\n",
       "    </tr>\n",
       "    <tr>\n",
       "      <th>8</th>\n",
       "      <td>8시</td>\n",
       "      <td>45.000000</td>\n",
       "    </tr>\n",
       "    <tr>\n",
       "      <th>9</th>\n",
       "      <td>9시</td>\n",
       "      <td>32.166667</td>\n",
       "    </tr>\n",
       "    <tr>\n",
       "      <th>10</th>\n",
       "      <td>10시</td>\n",
       "      <td>32.833333</td>\n",
       "    </tr>\n",
       "    <tr>\n",
       "      <th>11</th>\n",
       "      <td>11시</td>\n",
       "      <td>32.833333</td>\n",
       "    </tr>\n",
       "    <tr>\n",
       "      <th>12</th>\n",
       "      <td>12시</td>\n",
       "      <td>34.833333</td>\n",
       "    </tr>\n",
       "    <tr>\n",
       "      <th>13</th>\n",
       "      <td>13시</td>\n",
       "      <td>41.500000</td>\n",
       "    </tr>\n",
       "    <tr>\n",
       "      <th>14</th>\n",
       "      <td>14시</td>\n",
       "      <td>44.000000</td>\n",
       "    </tr>\n",
       "    <tr>\n",
       "      <th>15</th>\n",
       "      <td>15시</td>\n",
       "      <td>53.666667</td>\n",
       "    </tr>\n",
       "    <tr>\n",
       "      <th>16</th>\n",
       "      <td>16시</td>\n",
       "      <td>77.833333</td>\n",
       "    </tr>\n",
       "    <tr>\n",
       "      <th>17</th>\n",
       "      <td>17시</td>\n",
       "      <td>104.333333</td>\n",
       "    </tr>\n",
       "    <tr>\n",
       "      <th>18</th>\n",
       "      <td>18시</td>\n",
       "      <td>145.500000</td>\n",
       "    </tr>\n",
       "    <tr>\n",
       "      <th>19</th>\n",
       "      <td>19시</td>\n",
       "      <td>199.833333</td>\n",
       "    </tr>\n",
       "    <tr>\n",
       "      <th>20</th>\n",
       "      <td>20시</td>\n",
       "      <td>235.333333</td>\n",
       "    </tr>\n",
       "    <tr>\n",
       "      <th>21</th>\n",
       "      <td>21시</td>\n",
       "      <td>241.166667</td>\n",
       "    </tr>\n",
       "    <tr>\n",
       "      <th>22</th>\n",
       "      <td>22시</td>\n",
       "      <td>216.000000</td>\n",
       "    </tr>\n",
       "    <tr>\n",
       "      <th>23</th>\n",
       "      <td>23시</td>\n",
       "      <td>140.000000</td>\n",
       "    </tr>\n",
       "  </tbody>\n",
       "</table>\n",
       "</div>"
      ],
      "text/plain": [
       "   time          mu\n",
       "0    0시   78.000000\n",
       "1    1시   52.166667\n",
       "2    2시   27.166667\n",
       "3    3시   13.333333\n",
       "4    4시    9.500000\n",
       "5    5시    8.500000\n",
       "6    6시   17.333333\n",
       "7    7시   39.000000\n",
       "8    8시   45.000000\n",
       "9    9시   32.166667\n",
       "10  10시   32.833333\n",
       "11  11시   32.833333\n",
       "12  12시   34.833333\n",
       "13  13시   41.500000\n",
       "14  14시   44.000000\n",
       "15  15시   53.666667\n",
       "16  16시   77.833333\n",
       "17  17시  104.333333\n",
       "18  18시  145.500000\n",
       "19  19시  199.833333\n",
       "20  20시  235.333333\n",
       "21  21시  241.166667\n",
       "22  22시  216.000000\n",
       "23  23시  140.000000"
      ]
     },
     "execution_count": 59,
     "metadata": {},
     "output_type": "execute_result"
    }
   ],
   "source": [
    "a = [mu0, mu1, mu2, mu3, mu4, mu5, mu6, mu7, mu8, mu9, mu10, mu11, mu12, mu13, mu14, mu15, mu16, mu17, mu18, mu19, mu20, mu21, mu22, mu23]\n",
    "time = ['0시', '1시', '2시', '3시', '4시', '5시', '6시', '7시', '8시', '9시', '10시', '11시', '12시', '13시', '14시',\n",
    "       '15시', '16시', '17시', '18시', '19시', '20시', '21시', '22시', '23시']\n",
    "\n",
    "result = pd.DataFrame(time)\n",
    "result.columns = ['time']\n",
    "result['mu'] = a\n",
    "result"
   ]
  },
  {
   "cell_type": "markdown",
   "metadata": {},
   "source": [
    "### 평균도착률(10분당 자전거 반납수의 평균) = $\\lambda$\n",
    "- $\\lambda$ = 10이면 10분동안 평균 10대의 자전거를 반납"
   ]
  },
  {
   "cell_type": "code",
   "execution_count": 60,
   "metadata": {},
   "outputs": [
    {
     "data": {
      "text/html": [
       "<div>\n",
       "<style scoped>\n",
       "    .dataframe tbody tr th:only-of-type {\n",
       "        vertical-align: middle;\n",
       "    }\n",
       "\n",
       "    .dataframe tbody tr th {\n",
       "        vertical-align: top;\n",
       "    }\n",
       "\n",
       "    .dataframe thead th {\n",
       "        text-align: right;\n",
       "    }\n",
       "</style>\n",
       "<table border=\"1\" class=\"dataframe\">\n",
       "  <thead>\n",
       "    <tr style=\"text-align: right;\">\n",
       "      <th></th>\n",
       "      <th>반납일시</th>\n",
       "      <th>반납대여소명</th>\n",
       "      <th>반납월</th>\n",
       "      <th>반납일</th>\n",
       "      <th>반납요일</th>\n",
       "      <th>반납시간</th>\n",
       "      <th>반납시간_분</th>\n",
       "    </tr>\n",
       "  </thead>\n",
       "  <tbody>\n",
       "    <tr>\n",
       "      <th>0</th>\n",
       "      <td>2020-06-01 00:41:00</td>\n",
       "      <td>청암자이아파트앞</td>\n",
       "      <td>6</td>\n",
       "      <td>1</td>\n",
       "      <td>0</td>\n",
       "      <td>0</td>\n",
       "      <td>41</td>\n",
       "    </tr>\n",
       "    <tr>\n",
       "      <th>1</th>\n",
       "      <td>2020-06-01 00:08:25</td>\n",
       "      <td>은평구청 교차로</td>\n",
       "      <td>6</td>\n",
       "      <td>1</td>\n",
       "      <td>0</td>\n",
       "      <td>0</td>\n",
       "      <td>8</td>\n",
       "    </tr>\n",
       "    <tr>\n",
       "      <th>2</th>\n",
       "      <td>2020-06-01 00:14:50</td>\n",
       "      <td>바우뫼문화복지회관</td>\n",
       "      <td>6</td>\n",
       "      <td>1</td>\n",
       "      <td>0</td>\n",
       "      <td>0</td>\n",
       "      <td>14</td>\n",
       "    </tr>\n",
       "    <tr>\n",
       "      <th>3</th>\n",
       "      <td>2020-06-01 00:07:13</td>\n",
       "      <td>능골근린공원</td>\n",
       "      <td>6</td>\n",
       "      <td>1</td>\n",
       "      <td>0</td>\n",
       "      <td>0</td>\n",
       "      <td>7</td>\n",
       "    </tr>\n",
       "    <tr>\n",
       "      <th>4</th>\n",
       "      <td>2020-06-01 00:21:38</td>\n",
       "      <td>청계8가 사거리</td>\n",
       "      <td>6</td>\n",
       "      <td>1</td>\n",
       "      <td>0</td>\n",
       "      <td>0</td>\n",
       "      <td>21</td>\n",
       "    </tr>\n",
       "    <tr>\n",
       "      <th>...</th>\n",
       "      <td>...</td>\n",
       "      <td>...</td>\n",
       "      <td>...</td>\n",
       "      <td>...</td>\n",
       "      <td>...</td>\n",
       "      <td>...</td>\n",
       "      <td>...</td>\n",
       "    </tr>\n",
       "    <tr>\n",
       "      <th>2725083</th>\n",
       "      <td>2020-06-30 23:59:41</td>\n",
       "      <td>해공공원(천호동)</td>\n",
       "      <td>6</td>\n",
       "      <td>30</td>\n",
       "      <td>1</td>\n",
       "      <td>23</td>\n",
       "      <td>59</td>\n",
       "    </tr>\n",
       "    <tr>\n",
       "      <th>2725088</th>\n",
       "      <td>2020-06-30 23:59:21</td>\n",
       "      <td>가재울 초등학교</td>\n",
       "      <td>6</td>\n",
       "      <td>30</td>\n",
       "      <td>1</td>\n",
       "      <td>23</td>\n",
       "      <td>59</td>\n",
       "    </tr>\n",
       "    <tr>\n",
       "      <th>2725106</th>\n",
       "      <td>2020-06-30 23:59:48</td>\n",
       "      <td>한신16차아파트 119동 앞</td>\n",
       "      <td>6</td>\n",
       "      <td>30</td>\n",
       "      <td>1</td>\n",
       "      <td>23</td>\n",
       "      <td>59</td>\n",
       "    </tr>\n",
       "    <tr>\n",
       "      <th>2725126</th>\n",
       "      <td>2020-06-30 23:58:15</td>\n",
       "      <td>쌍문현대1차아파트 108동 앞</td>\n",
       "      <td>6</td>\n",
       "      <td>30</td>\n",
       "      <td>1</td>\n",
       "      <td>23</td>\n",
       "      <td>58</td>\n",
       "    </tr>\n",
       "    <tr>\n",
       "      <th>2725136</th>\n",
       "      <td>2020-06-30 23:59:49</td>\n",
       "      <td>방이삼거리</td>\n",
       "      <td>6</td>\n",
       "      <td>30</td>\n",
       "      <td>1</td>\n",
       "      <td>23</td>\n",
       "      <td>59</td>\n",
       "    </tr>\n",
       "  </tbody>\n",
       "</table>\n",
       "<p>2724719 rows × 7 columns</p>\n",
       "</div>"
      ],
      "text/plain": [
       "                       반납일시            반납대여소명  반납월  반납일  반납요일  반납시간  반납시간_분\n",
       "0       2020-06-01 00:41:00          청암자이아파트앞    6    1     0     0      41\n",
       "1       2020-06-01 00:08:25          은평구청 교차로    6    1     0     0       8\n",
       "2       2020-06-01 00:14:50         바우뫼문화복지회관    6    1     0     0      14\n",
       "3       2020-06-01 00:07:13            능골근린공원    6    1     0     0       7\n",
       "4       2020-06-01 00:21:38          청계8가 사거리    6    1     0     0      21\n",
       "...                     ...               ...  ...  ...   ...   ...     ...\n",
       "2725083 2020-06-30 23:59:41         해공공원(천호동)    6   30     1    23      59\n",
       "2725088 2020-06-30 23:59:21          가재울 초등학교    6   30     1    23      59\n",
       "2725106 2020-06-30 23:59:48   한신16차아파트 119동 앞    6   30     1    23      59\n",
       "2725126 2020-06-30 23:58:15  쌍문현대1차아파트 108동 앞    6   30     1    23      58\n",
       "2725136 2020-06-30 23:59:49             방이삼거리    6   30     1    23      59\n",
       "\n",
       "[2724719 rows x 7 columns]"
      ]
     },
     "execution_count": 60,
     "metadata": {},
     "output_type": "execute_result"
    }
   ],
   "source": [
    "df_return = df[['반납일시', '반납대여소명', '반납월', '반납일', '반납요일', '반납시간', '반납시간_분']]\n",
    "df_return"
   ]
  },
  {
   "cell_type": "code",
   "execution_count": 61,
   "metadata": {},
   "outputs": [
    {
     "data": {
      "text/html": [
       "<div>\n",
       "<style scoped>\n",
       "    .dataframe tbody tr th:only-of-type {\n",
       "        vertical-align: middle;\n",
       "    }\n",
       "\n",
       "    .dataframe tbody tr th {\n",
       "        vertical-align: top;\n",
       "    }\n",
       "\n",
       "    .dataframe thead th {\n",
       "        text-align: right;\n",
       "    }\n",
       "</style>\n",
       "<table border=\"1\" class=\"dataframe\">\n",
       "  <thead>\n",
       "    <tr style=\"text-align: right;\">\n",
       "      <th></th>\n",
       "      <th>반납일시</th>\n",
       "      <th>반납대여소명</th>\n",
       "      <th>반납월</th>\n",
       "      <th>반납일</th>\n",
       "      <th>반납요일</th>\n",
       "      <th>반납시간</th>\n",
       "      <th>반납시간_분</th>\n",
       "    </tr>\n",
       "  </thead>\n",
       "  <tbody>\n",
       "    <tr>\n",
       "      <th>1186</th>\n",
       "      <td>2020-06-01 01:45:38</td>\n",
       "      <td>마포구민체육센터 앞</td>\n",
       "      <td>6</td>\n",
       "      <td>1</td>\n",
       "      <td>0</td>\n",
       "      <td>1</td>\n",
       "      <td>45</td>\n",
       "    </tr>\n",
       "    <tr>\n",
       "      <th>1192</th>\n",
       "      <td>2020-06-01 02:01:39</td>\n",
       "      <td>마포구민체육센터 앞</td>\n",
       "      <td>6</td>\n",
       "      <td>1</td>\n",
       "      <td>0</td>\n",
       "      <td>2</td>\n",
       "      <td>1</td>\n",
       "    </tr>\n",
       "    <tr>\n",
       "      <th>1935</th>\n",
       "      <td>2020-06-01 02:43:50</td>\n",
       "      <td>마포구민체육센터 앞</td>\n",
       "      <td>6</td>\n",
       "      <td>1</td>\n",
       "      <td>0</td>\n",
       "      <td>2</td>\n",
       "      <td>43</td>\n",
       "    </tr>\n",
       "    <tr>\n",
       "      <th>1974</th>\n",
       "      <td>2020-06-01 02:53:01</td>\n",
       "      <td>마포구민체육센터 앞</td>\n",
       "      <td>6</td>\n",
       "      <td>1</td>\n",
       "      <td>0</td>\n",
       "      <td>2</td>\n",
       "      <td>53</td>\n",
       "    </tr>\n",
       "    <tr>\n",
       "      <th>2770</th>\n",
       "      <td>2020-06-01 04:10:12</td>\n",
       "      <td>마포구민체육센터 앞</td>\n",
       "      <td>6</td>\n",
       "      <td>1</td>\n",
       "      <td>0</td>\n",
       "      <td>4</td>\n",
       "      <td>10</td>\n",
       "    </tr>\n",
       "    <tr>\n",
       "      <th>...</th>\n",
       "      <td>...</td>\n",
       "      <td>...</td>\n",
       "      <td>...</td>\n",
       "      <td>...</td>\n",
       "      <td>...</td>\n",
       "      <td>...</td>\n",
       "      <td>...</td>\n",
       "    </tr>\n",
       "    <tr>\n",
       "      <th>2721109</th>\n",
       "      <td>2020-06-30 21:35:03</td>\n",
       "      <td>마포구민체육센터 앞</td>\n",
       "      <td>6</td>\n",
       "      <td>30</td>\n",
       "      <td>1</td>\n",
       "      <td>21</td>\n",
       "      <td>35</td>\n",
       "    </tr>\n",
       "    <tr>\n",
       "      <th>2723713</th>\n",
       "      <td>2020-06-30 23:47:43</td>\n",
       "      <td>마포구민체육센터 앞</td>\n",
       "      <td>6</td>\n",
       "      <td>30</td>\n",
       "      <td>1</td>\n",
       "      <td>23</td>\n",
       "      <td>47</td>\n",
       "    </tr>\n",
       "    <tr>\n",
       "      <th>2723854</th>\n",
       "      <td>2020-06-30 23:18:35</td>\n",
       "      <td>마포구민체육센터 앞</td>\n",
       "      <td>6</td>\n",
       "      <td>30</td>\n",
       "      <td>1</td>\n",
       "      <td>23</td>\n",
       "      <td>18</td>\n",
       "    </tr>\n",
       "    <tr>\n",
       "      <th>2724240</th>\n",
       "      <td>2020-06-30 23:44:12</td>\n",
       "      <td>마포구민체육센터 앞</td>\n",
       "      <td>6</td>\n",
       "      <td>30</td>\n",
       "      <td>1</td>\n",
       "      <td>23</td>\n",
       "      <td>44</td>\n",
       "    </tr>\n",
       "    <tr>\n",
       "      <th>2724350</th>\n",
       "      <td>2020-06-30 23:39:54</td>\n",
       "      <td>마포구민체육센터 앞</td>\n",
       "      <td>6</td>\n",
       "      <td>30</td>\n",
       "      <td>1</td>\n",
       "      <td>23</td>\n",
       "      <td>39</td>\n",
       "    </tr>\n",
       "  </tbody>\n",
       "</table>\n",
       "<p>12233 rows × 7 columns</p>\n",
       "</div>"
      ],
      "text/plain": [
       "                       반납일시      반납대여소명  반납월  반납일  반납요일  반납시간  반납시간_분\n",
       "1186    2020-06-01 01:45:38  마포구민체육센터 앞    6    1     0     1      45\n",
       "1192    2020-06-01 02:01:39  마포구민체육센터 앞    6    1     0     2       1\n",
       "1935    2020-06-01 02:43:50  마포구민체육센터 앞    6    1     0     2      43\n",
       "1974    2020-06-01 02:53:01  마포구민체육센터 앞    6    1     0     2      53\n",
       "2770    2020-06-01 04:10:12  마포구민체육센터 앞    6    1     0     4      10\n",
       "...                     ...         ...  ...  ...   ...   ...     ...\n",
       "2721109 2020-06-30 21:35:03  마포구민체육센터 앞    6   30     1    21      35\n",
       "2723713 2020-06-30 23:47:43  마포구민체육센터 앞    6   30     1    23      47\n",
       "2723854 2020-06-30 23:18:35  마포구민체육센터 앞    6   30     1    23      18\n",
       "2724240 2020-06-30 23:44:12  마포구민체육센터 앞    6   30     1    23      44\n",
       "2724350 2020-06-30 23:39:54  마포구민체육센터 앞    6   30     1    23      39\n",
       "\n",
       "[12233 rows x 7 columns]"
      ]
     },
     "execution_count": 61,
     "metadata": {},
     "output_type": "execute_result"
    }
   ],
   "source": [
    "df_return = df_return[df_return['반납대여소명'] == '마포구민체육센터 앞']\n",
    "df_return"
   ]
  },
  {
   "cell_type": "markdown",
   "metadata": {},
   "source": [
    "#### 0시"
   ]
  },
  {
   "cell_type": "code",
   "execution_count": 62,
   "metadata": {},
   "outputs": [
    {
     "data": {
      "text/html": [
       "<div>\n",
       "<style scoped>\n",
       "    .dataframe tbody tr th:only-of-type {\n",
       "        vertical-align: middle;\n",
       "    }\n",
       "\n",
       "    .dataframe tbody tr th {\n",
       "        vertical-align: top;\n",
       "    }\n",
       "\n",
       "    .dataframe thead th {\n",
       "        text-align: right;\n",
       "    }\n",
       "</style>\n",
       "<table border=\"1\" class=\"dataframe\">\n",
       "  <thead>\n",
       "    <tr style=\"text-align: right;\">\n",
       "      <th></th>\n",
       "      <th>반납시간_분_그룹</th>\n",
       "      <th>count</th>\n",
       "    </tr>\n",
       "  </thead>\n",
       "  <tbody>\n",
       "    <tr>\n",
       "      <th>0</th>\n",
       "      <td>0</td>\n",
       "      <td>76</td>\n",
       "    </tr>\n",
       "    <tr>\n",
       "      <th>1</th>\n",
       "      <td>10</td>\n",
       "      <td>106</td>\n",
       "    </tr>\n",
       "    <tr>\n",
       "      <th>2</th>\n",
       "      <td>20</td>\n",
       "      <td>91</td>\n",
       "    </tr>\n",
       "    <tr>\n",
       "      <th>3</th>\n",
       "      <td>30</td>\n",
       "      <td>75</td>\n",
       "    </tr>\n",
       "    <tr>\n",
       "      <th>4</th>\n",
       "      <td>40</td>\n",
       "      <td>66</td>\n",
       "    </tr>\n",
       "    <tr>\n",
       "      <th>5</th>\n",
       "      <td>50</td>\n",
       "      <td>79</td>\n",
       "    </tr>\n",
       "  </tbody>\n",
       "</table>\n",
       "</div>"
      ],
      "text/plain": [
       "   반납시간_분_그룹  count\n",
       "0          0     76\n",
       "1         10    106\n",
       "2         20     91\n",
       "3         30     75\n",
       "4         40     66\n",
       "5         50     79"
      ]
     },
     "execution_count": 62,
     "metadata": {},
     "output_type": "execute_result"
    }
   ],
   "source": [
    "df_return_hour = df_return[df_return['반납시간'] == 0]\n",
    "df_return_hour.reset_index(drop = True, inplace = True)\n",
    "df_return_hour['반납시간_분_그룹'] = -1\n",
    "for i in range(len(df_return_hour)):\n",
    "    if df_return_hour['반납시간_분'][i] >= 50:\n",
    "        df_return_hour['반납시간_분_그룹'][i] = 50\n",
    "    elif df_return_hour['반납시간_분'][i] >= 40:\n",
    "        df_return_hour['반납시간_분_그룹'][i] = 40\n",
    "    elif df_return_hour['반납시간_분'][i] >= 30:\n",
    "        df_return_hour['반납시간_분_그룹'][i] = 30\n",
    "    elif df_return_hour['반납시간_분'][i] >= 20:\n",
    "        df_return_hour['반납시간_분_그룹'][i] = 20\n",
    "    elif df_return_hour['반납시간_분'][i] >= 10:\n",
    "        df_return_hour['반납시간_분_그룹'][i] = 10\n",
    "    else:\n",
    "        df_return_hour['반납시간_분_그룹'][i] = 0\n",
    "df_return_hour_group = df_return_hour.groupby('반납시간_분_그룹')[['반납시간_분']].count().reset_index()\n",
    "df_return_hour_group.rename(columns = {'반납시간_분' : 'count'}, inplace = True)\n",
    "df_return_hour_group"
   ]
  },
  {
   "cell_type": "code",
   "execution_count": 63,
   "metadata": {},
   "outputs": [
    {
     "data": {
      "text/plain": [
       "82.16666666666667"
      ]
     },
     "execution_count": 63,
     "metadata": {},
     "output_type": "execute_result"
    }
   ],
   "source": [
    "# 10분당 평균도착률(10분당 자전거 반납수의 평균) = lambda\n",
    "# lambda = 10이면 10분동안 평균 10대의 자전거를 반납\n",
    "\n",
    "lda0 = df_return_hour_group['count'].sum() / 6\n",
    "lda0"
   ]
  },
  {
   "cell_type": "markdown",
   "metadata": {},
   "source": [
    "#### 1시"
   ]
  },
  {
   "cell_type": "code",
   "execution_count": 64,
   "metadata": {},
   "outputs": [
    {
     "data": {
      "text/html": [
       "<div>\n",
       "<style scoped>\n",
       "    .dataframe tbody tr th:only-of-type {\n",
       "        vertical-align: middle;\n",
       "    }\n",
       "\n",
       "    .dataframe tbody tr th {\n",
       "        vertical-align: top;\n",
       "    }\n",
       "\n",
       "    .dataframe thead th {\n",
       "        text-align: right;\n",
       "    }\n",
       "</style>\n",
       "<table border=\"1\" class=\"dataframe\">\n",
       "  <thead>\n",
       "    <tr style=\"text-align: right;\">\n",
       "      <th></th>\n",
       "      <th>반납시간_분_그룹</th>\n",
       "      <th>count</th>\n",
       "    </tr>\n",
       "  </thead>\n",
       "  <tbody>\n",
       "    <tr>\n",
       "      <th>0</th>\n",
       "      <td>0</td>\n",
       "      <td>50</td>\n",
       "    </tr>\n",
       "    <tr>\n",
       "      <th>1</th>\n",
       "      <td>10</td>\n",
       "      <td>57</td>\n",
       "    </tr>\n",
       "    <tr>\n",
       "      <th>2</th>\n",
       "      <td>20</td>\n",
       "      <td>80</td>\n",
       "    </tr>\n",
       "    <tr>\n",
       "      <th>3</th>\n",
       "      <td>30</td>\n",
       "      <td>49</td>\n",
       "    </tr>\n",
       "    <tr>\n",
       "      <th>4</th>\n",
       "      <td>40</td>\n",
       "      <td>49</td>\n",
       "    </tr>\n",
       "    <tr>\n",
       "      <th>5</th>\n",
       "      <td>50</td>\n",
       "      <td>60</td>\n",
       "    </tr>\n",
       "  </tbody>\n",
       "</table>\n",
       "</div>"
      ],
      "text/plain": [
       "   반납시간_분_그룹  count\n",
       "0          0     50\n",
       "1         10     57\n",
       "2         20     80\n",
       "3         30     49\n",
       "4         40     49\n",
       "5         50     60"
      ]
     },
     "execution_count": 64,
     "metadata": {},
     "output_type": "execute_result"
    }
   ],
   "source": [
    "df_return_hour = df_return[df_return['반납시간'] == 1]\n",
    "df_return_hour.reset_index(drop = True, inplace = True)\n",
    "df_return_hour['반납시간_분_그룹'] = -1\n",
    "for i in range(len(df_return_hour)):\n",
    "    if df_return_hour['반납시간_분'][i] >= 50:\n",
    "        df_return_hour['반납시간_분_그룹'][i] = 50\n",
    "    elif df_return_hour['반납시간_분'][i] >= 40:\n",
    "        df_return_hour['반납시간_분_그룹'][i] = 40\n",
    "    elif df_return_hour['반납시간_분'][i] >= 30:\n",
    "        df_return_hour['반납시간_분_그룹'][i] = 30\n",
    "    elif df_return_hour['반납시간_분'][i] >= 20:\n",
    "        df_return_hour['반납시간_분_그룹'][i] = 20\n",
    "    elif df_return_hour['반납시간_분'][i] >= 10:\n",
    "        df_return_hour['반납시간_분_그룹'][i] = 10\n",
    "    else:\n",
    "        df_return_hour['반납시간_분_그룹'][i] = 0\n",
    "df_return_hour_group = df_return_hour.groupby('반납시간_분_그룹')[['반납시간_분']].count().reset_index()\n",
    "df_return_hour_group.rename(columns = {'반납시간_분' : 'count'}, inplace = True)\n",
    "df_return_hour_group"
   ]
  },
  {
   "cell_type": "code",
   "execution_count": 65,
   "metadata": {},
   "outputs": [
    {
     "data": {
      "text/plain": [
       "57.5"
      ]
     },
     "execution_count": 65,
     "metadata": {},
     "output_type": "execute_result"
    }
   ],
   "source": [
    "# 10분당 평균도착률(10분당 자전거 반납수의 평균) = lambda\n",
    "# lambda = 10이면 10분동안 평균 10대의 자전거를 반납\n",
    "\n",
    "lda1 = df_return_hour_group['count'].sum() / 6\n",
    "lda1"
   ]
  },
  {
   "cell_type": "markdown",
   "metadata": {},
   "source": [
    "#### 2시"
   ]
  },
  {
   "cell_type": "code",
   "execution_count": 66,
   "metadata": {},
   "outputs": [
    {
     "data": {
      "text/html": [
       "<div>\n",
       "<style scoped>\n",
       "    .dataframe tbody tr th:only-of-type {\n",
       "        vertical-align: middle;\n",
       "    }\n",
       "\n",
       "    .dataframe tbody tr th {\n",
       "        vertical-align: top;\n",
       "    }\n",
       "\n",
       "    .dataframe thead th {\n",
       "        text-align: right;\n",
       "    }\n",
       "</style>\n",
       "<table border=\"1\" class=\"dataframe\">\n",
       "  <thead>\n",
       "    <tr style=\"text-align: right;\">\n",
       "      <th></th>\n",
       "      <th>반납시간_분_그룹</th>\n",
       "      <th>count</th>\n",
       "    </tr>\n",
       "  </thead>\n",
       "  <tbody>\n",
       "    <tr>\n",
       "      <th>0</th>\n",
       "      <td>0</td>\n",
       "      <td>41</td>\n",
       "    </tr>\n",
       "    <tr>\n",
       "      <th>1</th>\n",
       "      <td>10</td>\n",
       "      <td>37</td>\n",
       "    </tr>\n",
       "    <tr>\n",
       "      <th>2</th>\n",
       "      <td>20</td>\n",
       "      <td>34</td>\n",
       "    </tr>\n",
       "    <tr>\n",
       "      <th>3</th>\n",
       "      <td>30</td>\n",
       "      <td>23</td>\n",
       "    </tr>\n",
       "    <tr>\n",
       "      <th>4</th>\n",
       "      <td>40</td>\n",
       "      <td>30</td>\n",
       "    </tr>\n",
       "    <tr>\n",
       "      <th>5</th>\n",
       "      <td>50</td>\n",
       "      <td>22</td>\n",
       "    </tr>\n",
       "  </tbody>\n",
       "</table>\n",
       "</div>"
      ],
      "text/plain": [
       "   반납시간_분_그룹  count\n",
       "0          0     41\n",
       "1         10     37\n",
       "2         20     34\n",
       "3         30     23\n",
       "4         40     30\n",
       "5         50     22"
      ]
     },
     "execution_count": 66,
     "metadata": {},
     "output_type": "execute_result"
    }
   ],
   "source": [
    "df_return_hour = df_return[df_return['반납시간'] == 2]\n",
    "df_return_hour.reset_index(drop = True, inplace = True)\n",
    "df_return_hour['반납시간_분_그룹'] = -1\n",
    "for i in range(len(df_return_hour)):\n",
    "    if df_return_hour['반납시간_분'][i] >= 50:\n",
    "        df_return_hour['반납시간_분_그룹'][i] = 50\n",
    "    elif df_return_hour['반납시간_분'][i] >= 40:\n",
    "        df_return_hour['반납시간_분_그룹'][i] = 40\n",
    "    elif df_return_hour['반납시간_분'][i] >= 30:\n",
    "        df_return_hour['반납시간_분_그룹'][i] = 30\n",
    "    elif df_return_hour['반납시간_분'][i] >= 20:\n",
    "        df_return_hour['반납시간_분_그룹'][i] = 20\n",
    "    elif df_return_hour['반납시간_분'][i] >= 10:\n",
    "        df_return_hour['반납시간_분_그룹'][i] = 10\n",
    "    else:\n",
    "        df_return_hour['반납시간_분_그룹'][i] = 0\n",
    "df_return_hour_group = df_return_hour.groupby('반납시간_분_그룹')[['반납시간_분']].count().reset_index()\n",
    "df_return_hour_group.rename(columns = {'반납시간_분' : 'count'}, inplace = True)\n",
    "df_return_hour_group"
   ]
  },
  {
   "cell_type": "code",
   "execution_count": 67,
   "metadata": {},
   "outputs": [
    {
     "data": {
      "text/plain": [
       "31.166666666666668"
      ]
     },
     "execution_count": 67,
     "metadata": {},
     "output_type": "execute_result"
    }
   ],
   "source": [
    "# 10분당 평균도착률(10분당 자전거 반납수의 평균) = lambda\n",
    "# lambda = 10이면 10분동안 평균 10대의 자전거를 반납\n",
    "\n",
    "lda2 = df_return_hour_group['count'].sum() / 6\n",
    "lda2"
   ]
  },
  {
   "cell_type": "markdown",
   "metadata": {},
   "source": [
    "#### 3시"
   ]
  },
  {
   "cell_type": "code",
   "execution_count": 68,
   "metadata": {},
   "outputs": [
    {
     "data": {
      "text/html": [
       "<div>\n",
       "<style scoped>\n",
       "    .dataframe tbody tr th:only-of-type {\n",
       "        vertical-align: middle;\n",
       "    }\n",
       "\n",
       "    .dataframe tbody tr th {\n",
       "        vertical-align: top;\n",
       "    }\n",
       "\n",
       "    .dataframe thead th {\n",
       "        text-align: right;\n",
       "    }\n",
       "</style>\n",
       "<table border=\"1\" class=\"dataframe\">\n",
       "  <thead>\n",
       "    <tr style=\"text-align: right;\">\n",
       "      <th></th>\n",
       "      <th>반납시간_분_그룹</th>\n",
       "      <th>count</th>\n",
       "    </tr>\n",
       "  </thead>\n",
       "  <tbody>\n",
       "    <tr>\n",
       "      <th>0</th>\n",
       "      <td>0</td>\n",
       "      <td>18</td>\n",
       "    </tr>\n",
       "    <tr>\n",
       "      <th>1</th>\n",
       "      <td>10</td>\n",
       "      <td>17</td>\n",
       "    </tr>\n",
       "    <tr>\n",
       "      <th>2</th>\n",
       "      <td>20</td>\n",
       "      <td>14</td>\n",
       "    </tr>\n",
       "    <tr>\n",
       "      <th>3</th>\n",
       "      <td>30</td>\n",
       "      <td>14</td>\n",
       "    </tr>\n",
       "    <tr>\n",
       "      <th>4</th>\n",
       "      <td>40</td>\n",
       "      <td>8</td>\n",
       "    </tr>\n",
       "    <tr>\n",
       "      <th>5</th>\n",
       "      <td>50</td>\n",
       "      <td>14</td>\n",
       "    </tr>\n",
       "  </tbody>\n",
       "</table>\n",
       "</div>"
      ],
      "text/plain": [
       "   반납시간_분_그룹  count\n",
       "0          0     18\n",
       "1         10     17\n",
       "2         20     14\n",
       "3         30     14\n",
       "4         40      8\n",
       "5         50     14"
      ]
     },
     "execution_count": 68,
     "metadata": {},
     "output_type": "execute_result"
    }
   ],
   "source": [
    "df_return_hour = df_return[df_return['반납시간'] == 3]\n",
    "df_return_hour.reset_index(drop = True, inplace = True)\n",
    "df_return_hour['반납시간_분_그룹'] = -1\n",
    "for i in range(len(df_return_hour)):\n",
    "    if df_return_hour['반납시간_분'][i] >= 50:\n",
    "        df_return_hour['반납시간_분_그룹'][i] = 50\n",
    "    elif df_return_hour['반납시간_분'][i] >= 40:\n",
    "        df_return_hour['반납시간_분_그룹'][i] = 40\n",
    "    elif df_return_hour['반납시간_분'][i] >= 30:\n",
    "        df_return_hour['반납시간_분_그룹'][i] = 30\n",
    "    elif df_return_hour['반납시간_분'][i] >= 20:\n",
    "        df_return_hour['반납시간_분_그룹'][i] = 20\n",
    "    elif df_return_hour['반납시간_분'][i] >= 10:\n",
    "        df_return_hour['반납시간_분_그룹'][i] = 10\n",
    "    else:\n",
    "        df_return_hour['반납시간_분_그룹'][i] = 0\n",
    "df_return_hour_group = df_return_hour.groupby('반납시간_분_그룹')[['반납시간_분']].count().reset_index()\n",
    "df_return_hour_group.rename(columns = {'반납시간_분' : 'count'}, inplace = True)\n",
    "df_return_hour_group"
   ]
  },
  {
   "cell_type": "code",
   "execution_count": 69,
   "metadata": {},
   "outputs": [
    {
     "data": {
      "text/plain": [
       "14.166666666666666"
      ]
     },
     "execution_count": 69,
     "metadata": {},
     "output_type": "execute_result"
    }
   ],
   "source": [
    "# 10분당 평균도착률(10분당 자전거 반납수의 평균) = lambda\n",
    "# lambda = 10이면 10분동안 평균 10대의 자전거를 반납\n",
    "\n",
    "lda3 = df_return_hour_group['count'].sum() / 6\n",
    "lda3"
   ]
  },
  {
   "cell_type": "markdown",
   "metadata": {},
   "source": [
    "#### 4시"
   ]
  },
  {
   "cell_type": "code",
   "execution_count": 70,
   "metadata": {},
   "outputs": [
    {
     "data": {
      "text/html": [
       "<div>\n",
       "<style scoped>\n",
       "    .dataframe tbody tr th:only-of-type {\n",
       "        vertical-align: middle;\n",
       "    }\n",
       "\n",
       "    .dataframe tbody tr th {\n",
       "        vertical-align: top;\n",
       "    }\n",
       "\n",
       "    .dataframe thead th {\n",
       "        text-align: right;\n",
       "    }\n",
       "</style>\n",
       "<table border=\"1\" class=\"dataframe\">\n",
       "  <thead>\n",
       "    <tr style=\"text-align: right;\">\n",
       "      <th></th>\n",
       "      <th>반납시간_분_그룹</th>\n",
       "      <th>count</th>\n",
       "    </tr>\n",
       "  </thead>\n",
       "  <tbody>\n",
       "    <tr>\n",
       "      <th>0</th>\n",
       "      <td>0</td>\n",
       "      <td>20</td>\n",
       "    </tr>\n",
       "    <tr>\n",
       "      <th>1</th>\n",
       "      <td>10</td>\n",
       "      <td>18</td>\n",
       "    </tr>\n",
       "    <tr>\n",
       "      <th>2</th>\n",
       "      <td>20</td>\n",
       "      <td>15</td>\n",
       "    </tr>\n",
       "    <tr>\n",
       "      <th>3</th>\n",
       "      <td>30</td>\n",
       "      <td>17</td>\n",
       "    </tr>\n",
       "    <tr>\n",
       "      <th>4</th>\n",
       "      <td>40</td>\n",
       "      <td>4</td>\n",
       "    </tr>\n",
       "    <tr>\n",
       "      <th>5</th>\n",
       "      <td>50</td>\n",
       "      <td>6</td>\n",
       "    </tr>\n",
       "  </tbody>\n",
       "</table>\n",
       "</div>"
      ],
      "text/plain": [
       "   반납시간_분_그룹  count\n",
       "0          0     20\n",
       "1         10     18\n",
       "2         20     15\n",
       "3         30     17\n",
       "4         40      4\n",
       "5         50      6"
      ]
     },
     "execution_count": 70,
     "metadata": {},
     "output_type": "execute_result"
    }
   ],
   "source": [
    "df_return_hour = df_return[df_return['반납시간'] == 4]\n",
    "df_return_hour.reset_index(drop = True, inplace = True)\n",
    "df_return_hour['반납시간_분_그룹'] = -1\n",
    "for i in range(len(df_return_hour)):\n",
    "    if df_return_hour['반납시간_분'][i] >= 50:\n",
    "        df_return_hour['반납시간_분_그룹'][i] = 50\n",
    "    elif df_return_hour['반납시간_분'][i] >= 40:\n",
    "        df_return_hour['반납시간_분_그룹'][i] = 40\n",
    "    elif df_return_hour['반납시간_분'][i] >= 30:\n",
    "        df_return_hour['반납시간_분_그룹'][i] = 30\n",
    "    elif df_return_hour['반납시간_분'][i] >= 20:\n",
    "        df_return_hour['반납시간_분_그룹'][i] = 20\n",
    "    elif df_return_hour['반납시간_분'][i] >= 10:\n",
    "        df_return_hour['반납시간_분_그룹'][i] = 10\n",
    "    else:\n",
    "        df_return_hour['반납시간_분_그룹'][i] = 0\n",
    "df_return_hour_group = df_return_hour.groupby('반납시간_분_그룹')[['반납시간_분']].count().reset_index()\n",
    "df_return_hour_group.rename(columns = {'반납시간_분' : 'count'}, inplace = True)\n",
    "df_return_hour_group"
   ]
  },
  {
   "cell_type": "code",
   "execution_count": 71,
   "metadata": {},
   "outputs": [
    {
     "data": {
      "text/plain": [
       "13.333333333333334"
      ]
     },
     "execution_count": 71,
     "metadata": {},
     "output_type": "execute_result"
    }
   ],
   "source": [
    "# 10분당 평균도착률(10분당 자전거 반납수의 평균) = lambda\n",
    "# lambda = 10이면 10분동안 평균 10대의 자전거를 반납\n",
    "\n",
    "lda4 = df_return_hour_group['count'].sum() / 6\n",
    "lda4"
   ]
  },
  {
   "cell_type": "markdown",
   "metadata": {},
   "source": [
    "#### 5시"
   ]
  },
  {
   "cell_type": "code",
   "execution_count": 72,
   "metadata": {},
   "outputs": [
    {
     "data": {
      "text/html": [
       "<div>\n",
       "<style scoped>\n",
       "    .dataframe tbody tr th:only-of-type {\n",
       "        vertical-align: middle;\n",
       "    }\n",
       "\n",
       "    .dataframe tbody tr th {\n",
       "        vertical-align: top;\n",
       "    }\n",
       "\n",
       "    .dataframe thead th {\n",
       "        text-align: right;\n",
       "    }\n",
       "</style>\n",
       "<table border=\"1\" class=\"dataframe\">\n",
       "  <thead>\n",
       "    <tr style=\"text-align: right;\">\n",
       "      <th></th>\n",
       "      <th>반납시간_분_그룹</th>\n",
       "      <th>count</th>\n",
       "    </tr>\n",
       "  </thead>\n",
       "  <tbody>\n",
       "    <tr>\n",
       "      <th>0</th>\n",
       "      <td>0</td>\n",
       "      <td>11</td>\n",
       "    </tr>\n",
       "    <tr>\n",
       "      <th>1</th>\n",
       "      <td>10</td>\n",
       "      <td>6</td>\n",
       "    </tr>\n",
       "    <tr>\n",
       "      <th>2</th>\n",
       "      <td>20</td>\n",
       "      <td>6</td>\n",
       "    </tr>\n",
       "    <tr>\n",
       "      <th>3</th>\n",
       "      <td>30</td>\n",
       "      <td>8</td>\n",
       "    </tr>\n",
       "    <tr>\n",
       "      <th>4</th>\n",
       "      <td>40</td>\n",
       "      <td>4</td>\n",
       "    </tr>\n",
       "    <tr>\n",
       "      <th>5</th>\n",
       "      <td>50</td>\n",
       "      <td>16</td>\n",
       "    </tr>\n",
       "  </tbody>\n",
       "</table>\n",
       "</div>"
      ],
      "text/plain": [
       "   반납시간_분_그룹  count\n",
       "0          0     11\n",
       "1         10      6\n",
       "2         20      6\n",
       "3         30      8\n",
       "4         40      4\n",
       "5         50     16"
      ]
     },
     "execution_count": 72,
     "metadata": {},
     "output_type": "execute_result"
    }
   ],
   "source": [
    "df_return_hour = df_return[df_return['반납시간'] == 5]\n",
    "df_return_hour.reset_index(drop = True, inplace = True)\n",
    "df_return_hour['반납시간_분_그룹'] = -1\n",
    "for i in range(len(df_return_hour)):\n",
    "    if df_return_hour['반납시간_분'][i] >= 50:\n",
    "        df_return_hour['반납시간_분_그룹'][i] = 50\n",
    "    elif df_return_hour['반납시간_분'][i] >= 40:\n",
    "        df_return_hour['반납시간_분_그룹'][i] = 40\n",
    "    elif df_return_hour['반납시간_분'][i] >= 30:\n",
    "        df_return_hour['반납시간_분_그룹'][i] = 30\n",
    "    elif df_return_hour['반납시간_분'][i] >= 20:\n",
    "        df_return_hour['반납시간_분_그룹'][i] = 20\n",
    "    elif df_return_hour['반납시간_분'][i] >= 10:\n",
    "        df_return_hour['반납시간_분_그룹'][i] = 10\n",
    "    else:\n",
    "        df_return_hour['반납시간_분_그룹'][i] = 0\n",
    "df_return_hour_group = df_return_hour.groupby('반납시간_분_그룹')[['반납시간_분']].count().reset_index()\n",
    "df_return_hour_group.rename(columns = {'반납시간_분' : 'count'}, inplace = True)\n",
    "df_return_hour_group"
   ]
  },
  {
   "cell_type": "code",
   "execution_count": 73,
   "metadata": {},
   "outputs": [
    {
     "data": {
      "text/plain": [
       "8.5"
      ]
     },
     "execution_count": 73,
     "metadata": {},
     "output_type": "execute_result"
    }
   ],
   "source": [
    "# 10분당 평균도착률(10분당 자전거 반납수의 평균) = lambda\n",
    "# lambda = 10이면 10분동안 평균 10대의 자전거를 반납\n",
    "\n",
    "lda5 = df_return_hour_group['count'].sum() / 6\n",
    "lda5"
   ]
  },
  {
   "cell_type": "markdown",
   "metadata": {},
   "source": [
    "#### 6시"
   ]
  },
  {
   "cell_type": "code",
   "execution_count": 74,
   "metadata": {},
   "outputs": [
    {
     "data": {
      "text/html": [
       "<div>\n",
       "<style scoped>\n",
       "    .dataframe tbody tr th:only-of-type {\n",
       "        vertical-align: middle;\n",
       "    }\n",
       "\n",
       "    .dataframe tbody tr th {\n",
       "        vertical-align: top;\n",
       "    }\n",
       "\n",
       "    .dataframe thead th {\n",
       "        text-align: right;\n",
       "    }\n",
       "</style>\n",
       "<table border=\"1\" class=\"dataframe\">\n",
       "  <thead>\n",
       "    <tr style=\"text-align: right;\">\n",
       "      <th></th>\n",
       "      <th>반납시간_분_그룹</th>\n",
       "      <th>count</th>\n",
       "    </tr>\n",
       "  </thead>\n",
       "  <tbody>\n",
       "    <tr>\n",
       "      <th>0</th>\n",
       "      <td>0</td>\n",
       "      <td>5</td>\n",
       "    </tr>\n",
       "    <tr>\n",
       "      <th>1</th>\n",
       "      <td>10</td>\n",
       "      <td>5</td>\n",
       "    </tr>\n",
       "    <tr>\n",
       "      <th>2</th>\n",
       "      <td>20</td>\n",
       "      <td>13</td>\n",
       "    </tr>\n",
       "    <tr>\n",
       "      <th>3</th>\n",
       "      <td>30</td>\n",
       "      <td>15</td>\n",
       "    </tr>\n",
       "    <tr>\n",
       "      <th>4</th>\n",
       "      <td>40</td>\n",
       "      <td>16</td>\n",
       "    </tr>\n",
       "    <tr>\n",
       "      <th>5</th>\n",
       "      <td>50</td>\n",
       "      <td>19</td>\n",
       "    </tr>\n",
       "  </tbody>\n",
       "</table>\n",
       "</div>"
      ],
      "text/plain": [
       "   반납시간_분_그룹  count\n",
       "0          0      5\n",
       "1         10      5\n",
       "2         20     13\n",
       "3         30     15\n",
       "4         40     16\n",
       "5         50     19"
      ]
     },
     "execution_count": 74,
     "metadata": {},
     "output_type": "execute_result"
    }
   ],
   "source": [
    "df_return_hour = df_return[df_return['반납시간'] == 6]\n",
    "df_return_hour.reset_index(drop = True, inplace = True)\n",
    "df_return_hour['반납시간_분_그룹'] = -1\n",
    "for i in range(len(df_return_hour)):\n",
    "    if df_return_hour['반납시간_분'][i] >= 50:\n",
    "        df_return_hour['반납시간_분_그룹'][i] = 50\n",
    "    elif df_return_hour['반납시간_분'][i] >= 40:\n",
    "        df_return_hour['반납시간_분_그룹'][i] = 40\n",
    "    elif df_return_hour['반납시간_분'][i] >= 30:\n",
    "        df_return_hour['반납시간_분_그룹'][i] = 30\n",
    "    elif df_return_hour['반납시간_분'][i] >= 20:\n",
    "        df_return_hour['반납시간_분_그룹'][i] = 20\n",
    "    elif df_return_hour['반납시간_분'][i] >= 10:\n",
    "        df_return_hour['반납시간_분_그룹'][i] = 10\n",
    "    else:\n",
    "        df_return_hour['반납시간_분_그룹'][i] = 0\n",
    "df_return_hour_group = df_return_hour.groupby('반납시간_분_그룹')[['반납시간_분']].count().reset_index()\n",
    "df_return_hour_group.rename(columns = {'반납시간_분' : 'count'}, inplace = True)\n",
    "df_return_hour_group"
   ]
  },
  {
   "cell_type": "code",
   "execution_count": 75,
   "metadata": {},
   "outputs": [
    {
     "data": {
      "text/plain": [
       "12.166666666666666"
      ]
     },
     "execution_count": 75,
     "metadata": {},
     "output_type": "execute_result"
    }
   ],
   "source": [
    "# 10분당 평균도착률(10분당 자전거 반납수의 평균) = lambda\n",
    "# lambda = 10이면 10분동안 평균 10대의 자전거를 반납\n",
    "\n",
    "lda6 = df_return_hour_group['count'].sum() / 6\n",
    "lda6"
   ]
  },
  {
   "cell_type": "markdown",
   "metadata": {},
   "source": [
    "#### 7시"
   ]
  },
  {
   "cell_type": "code",
   "execution_count": 76,
   "metadata": {},
   "outputs": [
    {
     "data": {
      "text/html": [
       "<div>\n",
       "<style scoped>\n",
       "    .dataframe tbody tr th:only-of-type {\n",
       "        vertical-align: middle;\n",
       "    }\n",
       "\n",
       "    .dataframe tbody tr th {\n",
       "        vertical-align: top;\n",
       "    }\n",
       "\n",
       "    .dataframe thead th {\n",
       "        text-align: right;\n",
       "    }\n",
       "</style>\n",
       "<table border=\"1\" class=\"dataframe\">\n",
       "  <thead>\n",
       "    <tr style=\"text-align: right;\">\n",
       "      <th></th>\n",
       "      <th>반납시간_분_그룹</th>\n",
       "      <th>count</th>\n",
       "    </tr>\n",
       "  </thead>\n",
       "  <tbody>\n",
       "    <tr>\n",
       "      <th>0</th>\n",
       "      <td>0</td>\n",
       "      <td>13</td>\n",
       "    </tr>\n",
       "    <tr>\n",
       "      <th>1</th>\n",
       "      <td>10</td>\n",
       "      <td>11</td>\n",
       "    </tr>\n",
       "    <tr>\n",
       "      <th>2</th>\n",
       "      <td>20</td>\n",
       "      <td>16</td>\n",
       "    </tr>\n",
       "    <tr>\n",
       "      <th>3</th>\n",
       "      <td>30</td>\n",
       "      <td>13</td>\n",
       "    </tr>\n",
       "    <tr>\n",
       "      <th>4</th>\n",
       "      <td>40</td>\n",
       "      <td>18</td>\n",
       "    </tr>\n",
       "    <tr>\n",
       "      <th>5</th>\n",
       "      <td>50</td>\n",
       "      <td>18</td>\n",
       "    </tr>\n",
       "  </tbody>\n",
       "</table>\n",
       "</div>"
      ],
      "text/plain": [
       "   반납시간_분_그룹  count\n",
       "0          0     13\n",
       "1         10     11\n",
       "2         20     16\n",
       "3         30     13\n",
       "4         40     18\n",
       "5         50     18"
      ]
     },
     "execution_count": 76,
     "metadata": {},
     "output_type": "execute_result"
    }
   ],
   "source": [
    "df_return_hour = df_return[df_return['반납시간'] == 7]\n",
    "df_return_hour.reset_index(drop = True, inplace = True)\n",
    "df_return_hour['반납시간_분_그룹'] = -1\n",
    "for i in range(len(df_return_hour)):\n",
    "    if df_return_hour['반납시간_분'][i] >= 50:\n",
    "        df_return_hour['반납시간_분_그룹'][i] = 50\n",
    "    elif df_return_hour['반납시간_분'][i] >= 40:\n",
    "        df_return_hour['반납시간_분_그룹'][i] = 40\n",
    "    elif df_return_hour['반납시간_분'][i] >= 30:\n",
    "        df_return_hour['반납시간_분_그룹'][i] = 30\n",
    "    elif df_return_hour['반납시간_분'][i] >= 20:\n",
    "        df_return_hour['반납시간_분_그룹'][i] = 20\n",
    "    elif df_return_hour['반납시간_분'][i] >= 10:\n",
    "        df_return_hour['반납시간_분_그룹'][i] = 10\n",
    "    else:\n",
    "        df_return_hour['반납시간_분_그룹'][i] = 0\n",
    "df_return_hour_group = df_return_hour.groupby('반납시간_분_그룹')[['반납시간_분']].count().reset_index()\n",
    "df_return_hour_group.rename(columns = {'반납시간_분' : 'count'}, inplace = True)\n",
    "df_return_hour_group"
   ]
  },
  {
   "cell_type": "code",
   "execution_count": 77,
   "metadata": {},
   "outputs": [
    {
     "data": {
      "text/plain": [
       "14.833333333333334"
      ]
     },
     "execution_count": 77,
     "metadata": {},
     "output_type": "execute_result"
    }
   ],
   "source": [
    "# 10분당 평균도착률(10분당 자전거 반납수의 평균) = lambda\n",
    "# lambda = 10이면 10분동안 평균 10대의 자전거를 반납\n",
    "\n",
    "lda7 = df_return_hour_group['count'].sum() / 6\n",
    "lda7"
   ]
  },
  {
   "cell_type": "markdown",
   "metadata": {},
   "source": [
    "#### 8시"
   ]
  },
  {
   "cell_type": "code",
   "execution_count": 78,
   "metadata": {},
   "outputs": [
    {
     "data": {
      "text/html": [
       "<div>\n",
       "<style scoped>\n",
       "    .dataframe tbody tr th:only-of-type {\n",
       "        vertical-align: middle;\n",
       "    }\n",
       "\n",
       "    .dataframe tbody tr th {\n",
       "        vertical-align: top;\n",
       "    }\n",
       "\n",
       "    .dataframe thead th {\n",
       "        text-align: right;\n",
       "    }\n",
       "</style>\n",
       "<table border=\"1\" class=\"dataframe\">\n",
       "  <thead>\n",
       "    <tr style=\"text-align: right;\">\n",
       "      <th></th>\n",
       "      <th>반납시간_분_그룹</th>\n",
       "      <th>count</th>\n",
       "    </tr>\n",
       "  </thead>\n",
       "  <tbody>\n",
       "    <tr>\n",
       "      <th>0</th>\n",
       "      <td>0</td>\n",
       "      <td>26</td>\n",
       "    </tr>\n",
       "    <tr>\n",
       "      <th>1</th>\n",
       "      <td>10</td>\n",
       "      <td>23</td>\n",
       "    </tr>\n",
       "    <tr>\n",
       "      <th>2</th>\n",
       "      <td>20</td>\n",
       "      <td>46</td>\n",
       "    </tr>\n",
       "    <tr>\n",
       "      <th>3</th>\n",
       "      <td>30</td>\n",
       "      <td>28</td>\n",
       "    </tr>\n",
       "    <tr>\n",
       "      <th>4</th>\n",
       "      <td>40</td>\n",
       "      <td>36</td>\n",
       "    </tr>\n",
       "    <tr>\n",
       "      <th>5</th>\n",
       "      <td>50</td>\n",
       "      <td>34</td>\n",
       "    </tr>\n",
       "  </tbody>\n",
       "</table>\n",
       "</div>"
      ],
      "text/plain": [
       "   반납시간_분_그룹  count\n",
       "0          0     26\n",
       "1         10     23\n",
       "2         20     46\n",
       "3         30     28\n",
       "4         40     36\n",
       "5         50     34"
      ]
     },
     "execution_count": 78,
     "metadata": {},
     "output_type": "execute_result"
    }
   ],
   "source": [
    "df_return_hour = df_return[df_return['반납시간'] == 8]\n",
    "df_return_hour.reset_index(drop = True, inplace = True)\n",
    "df_return_hour['반납시간_분_그룹'] = -1\n",
    "for i in range(len(df_return_hour)):\n",
    "    if df_return_hour['반납시간_분'][i] >= 50:\n",
    "        df_return_hour['반납시간_분_그룹'][i] = 50\n",
    "    elif df_return_hour['반납시간_분'][i] >= 40:\n",
    "        df_return_hour['반납시간_분_그룹'][i] = 40\n",
    "    elif df_return_hour['반납시간_분'][i] >= 30:\n",
    "        df_return_hour['반납시간_분_그룹'][i] = 30\n",
    "    elif df_return_hour['반납시간_분'][i] >= 20:\n",
    "        df_return_hour['반납시간_분_그룹'][i] = 20\n",
    "    elif df_return_hour['반납시간_분'][i] >= 10:\n",
    "        df_return_hour['반납시간_분_그룹'][i] = 10\n",
    "    else:\n",
    "        df_return_hour['반납시간_분_그룹'][i] = 0\n",
    "df_return_hour_group = df_return_hour.groupby('반납시간_분_그룹')[['반납시간_분']].count().reset_index()\n",
    "df_return_hour_group.rename(columns = {'반납시간_분' : 'count'}, inplace = True)\n",
    "df_return_hour_group"
   ]
  },
  {
   "cell_type": "code",
   "execution_count": 79,
   "metadata": {},
   "outputs": [
    {
     "data": {
      "text/plain": [
       "32.166666666666664"
      ]
     },
     "execution_count": 79,
     "metadata": {},
     "output_type": "execute_result"
    }
   ],
   "source": [
    "# 10분당 평균도착률(10분당 자전거 반납수의 평균) = lambda\n",
    "# lambda = 10이면 10분동안 평균 10대의 자전거를 반납\n",
    "\n",
    "lda8 = df_return_hour_group['count'].sum() / 6\n",
    "lda8"
   ]
  },
  {
   "cell_type": "markdown",
   "metadata": {},
   "source": [
    "#### 9시"
   ]
  },
  {
   "cell_type": "code",
   "execution_count": 80,
   "metadata": {},
   "outputs": [
    {
     "data": {
      "text/html": [
       "<div>\n",
       "<style scoped>\n",
       "    .dataframe tbody tr th:only-of-type {\n",
       "        vertical-align: middle;\n",
       "    }\n",
       "\n",
       "    .dataframe tbody tr th {\n",
       "        vertical-align: top;\n",
       "    }\n",
       "\n",
       "    .dataframe thead th {\n",
       "        text-align: right;\n",
       "    }\n",
       "</style>\n",
       "<table border=\"1\" class=\"dataframe\">\n",
       "  <thead>\n",
       "    <tr style=\"text-align: right;\">\n",
       "      <th></th>\n",
       "      <th>반납시간_분_그룹</th>\n",
       "      <th>count</th>\n",
       "    </tr>\n",
       "  </thead>\n",
       "  <tbody>\n",
       "    <tr>\n",
       "      <th>0</th>\n",
       "      <td>0</td>\n",
       "      <td>24</td>\n",
       "    </tr>\n",
       "    <tr>\n",
       "      <th>1</th>\n",
       "      <td>10</td>\n",
       "      <td>32</td>\n",
       "    </tr>\n",
       "    <tr>\n",
       "      <th>2</th>\n",
       "      <td>20</td>\n",
       "      <td>26</td>\n",
       "    </tr>\n",
       "    <tr>\n",
       "      <th>3</th>\n",
       "      <td>30</td>\n",
       "      <td>14</td>\n",
       "    </tr>\n",
       "    <tr>\n",
       "      <th>4</th>\n",
       "      <td>40</td>\n",
       "      <td>31</td>\n",
       "    </tr>\n",
       "    <tr>\n",
       "      <th>5</th>\n",
       "      <td>50</td>\n",
       "      <td>21</td>\n",
       "    </tr>\n",
       "  </tbody>\n",
       "</table>\n",
       "</div>"
      ],
      "text/plain": [
       "   반납시간_분_그룹  count\n",
       "0          0     24\n",
       "1         10     32\n",
       "2         20     26\n",
       "3         30     14\n",
       "4         40     31\n",
       "5         50     21"
      ]
     },
     "execution_count": 80,
     "metadata": {},
     "output_type": "execute_result"
    }
   ],
   "source": [
    "df_return_hour = df_return[df_return['반납시간'] == 9]\n",
    "df_return_hour.reset_index(drop = True, inplace = True)\n",
    "df_return_hour['반납시간_분_그룹'] = -1\n",
    "for i in range(len(df_return_hour)):\n",
    "    if df_return_hour['반납시간_분'][i] >= 50:\n",
    "        df_return_hour['반납시간_분_그룹'][i] = 50\n",
    "    elif df_return_hour['반납시간_분'][i] >= 40:\n",
    "        df_return_hour['반납시간_분_그룹'][i] = 40\n",
    "    elif df_return_hour['반납시간_분'][i] >= 30:\n",
    "        df_return_hour['반납시간_분_그룹'][i] = 30\n",
    "    elif df_return_hour['반납시간_분'][i] >= 20:\n",
    "        df_return_hour['반납시간_분_그룹'][i] = 20\n",
    "    elif df_return_hour['반납시간_분'][i] >= 10:\n",
    "        df_return_hour['반납시간_분_그룹'][i] = 10\n",
    "    else:\n",
    "        df_return_hour['반납시간_분_그룹'][i] = 0\n",
    "df_return_hour_group = df_return_hour.groupby('반납시간_분_그룹')[['반납시간_분']].count().reset_index()\n",
    "df_return_hour_group.rename(columns = {'반납시간_분' : 'count'}, inplace = True)\n",
    "df_return_hour_group"
   ]
  },
  {
   "cell_type": "code",
   "execution_count": 81,
   "metadata": {},
   "outputs": [
    {
     "data": {
      "text/plain": [
       "24.666666666666668"
      ]
     },
     "execution_count": 81,
     "metadata": {},
     "output_type": "execute_result"
    }
   ],
   "source": [
    "# 10분당 평균도착률(10분당 자전거 반납수의 평균) = lambda\n",
    "# lambda = 10이면 10분동안 평균 10대의 자전거를 반납\n",
    "\n",
    "lda9 = df_return_hour_group['count'].sum() / 6\n",
    "lda9"
   ]
  },
  {
   "cell_type": "markdown",
   "metadata": {},
   "source": [
    "#### 10시"
   ]
  },
  {
   "cell_type": "code",
   "execution_count": 82,
   "metadata": {},
   "outputs": [
    {
     "data": {
      "text/html": [
       "<div>\n",
       "<style scoped>\n",
       "    .dataframe tbody tr th:only-of-type {\n",
       "        vertical-align: middle;\n",
       "    }\n",
       "\n",
       "    .dataframe tbody tr th {\n",
       "        vertical-align: top;\n",
       "    }\n",
       "\n",
       "    .dataframe thead th {\n",
       "        text-align: right;\n",
       "    }\n",
       "</style>\n",
       "<table border=\"1\" class=\"dataframe\">\n",
       "  <thead>\n",
       "    <tr style=\"text-align: right;\">\n",
       "      <th></th>\n",
       "      <th>반납시간_분_그룹</th>\n",
       "      <th>count</th>\n",
       "    </tr>\n",
       "  </thead>\n",
       "  <tbody>\n",
       "    <tr>\n",
       "      <th>0</th>\n",
       "      <td>0</td>\n",
       "      <td>24</td>\n",
       "    </tr>\n",
       "    <tr>\n",
       "      <th>1</th>\n",
       "      <td>10</td>\n",
       "      <td>16</td>\n",
       "    </tr>\n",
       "    <tr>\n",
       "      <th>2</th>\n",
       "      <td>20</td>\n",
       "      <td>28</td>\n",
       "    </tr>\n",
       "    <tr>\n",
       "      <th>3</th>\n",
       "      <td>30</td>\n",
       "      <td>24</td>\n",
       "    </tr>\n",
       "    <tr>\n",
       "      <th>4</th>\n",
       "      <td>40</td>\n",
       "      <td>33</td>\n",
       "    </tr>\n",
       "    <tr>\n",
       "      <th>5</th>\n",
       "      <td>50</td>\n",
       "      <td>36</td>\n",
       "    </tr>\n",
       "  </tbody>\n",
       "</table>\n",
       "</div>"
      ],
      "text/plain": [
       "   반납시간_분_그룹  count\n",
       "0          0     24\n",
       "1         10     16\n",
       "2         20     28\n",
       "3         30     24\n",
       "4         40     33\n",
       "5         50     36"
      ]
     },
     "execution_count": 82,
     "metadata": {},
     "output_type": "execute_result"
    }
   ],
   "source": [
    "df_return_hour = df_return[df_return['반납시간'] == 10]\n",
    "df_return_hour.reset_index(drop = True, inplace = True)\n",
    "df_return_hour['반납시간_분_그룹'] = -1\n",
    "for i in range(len(df_return_hour)):\n",
    "    if df_return_hour['반납시간_분'][i] >= 50:\n",
    "        df_return_hour['반납시간_분_그룹'][i] = 50\n",
    "    elif df_return_hour['반납시간_분'][i] >= 40:\n",
    "        df_return_hour['반납시간_분_그룹'][i] = 40\n",
    "    elif df_return_hour['반납시간_분'][i] >= 30:\n",
    "        df_return_hour['반납시간_분_그룹'][i] = 30\n",
    "    elif df_return_hour['반납시간_분'][i] >= 20:\n",
    "        df_return_hour['반납시간_분_그룹'][i] = 20\n",
    "    elif df_return_hour['반납시간_분'][i] >= 10:\n",
    "        df_return_hour['반납시간_분_그룹'][i] = 10\n",
    "    else:\n",
    "        df_return_hour['반납시간_분_그룹'][i] = 0\n",
    "df_return_hour_group = df_return_hour.groupby('반납시간_분_그룹')[['반납시간_분']].count().reset_index()\n",
    "df_return_hour_group.rename(columns = {'반납시간_분' : 'count'}, inplace = True)\n",
    "df_return_hour_group"
   ]
  },
  {
   "cell_type": "code",
   "execution_count": 83,
   "metadata": {},
   "outputs": [
    {
     "data": {
      "text/plain": [
       "26.833333333333332"
      ]
     },
     "execution_count": 83,
     "metadata": {},
     "output_type": "execute_result"
    }
   ],
   "source": [
    "# 10분당 평균도착률(10분당 자전거 반납수의 평균) = lambda\n",
    "# lambda = 10이면 10분동안 평균 10대의 자전거를 반납\n",
    "\n",
    "lda10 = df_return_hour_group['count'].sum() / 6\n",
    "lda10"
   ]
  },
  {
   "cell_type": "markdown",
   "metadata": {},
   "source": [
    "#### 11시"
   ]
  },
  {
   "cell_type": "code",
   "execution_count": 84,
   "metadata": {},
   "outputs": [
    {
     "data": {
      "text/html": [
       "<div>\n",
       "<style scoped>\n",
       "    .dataframe tbody tr th:only-of-type {\n",
       "        vertical-align: middle;\n",
       "    }\n",
       "\n",
       "    .dataframe tbody tr th {\n",
       "        vertical-align: top;\n",
       "    }\n",
       "\n",
       "    .dataframe thead th {\n",
       "        text-align: right;\n",
       "    }\n",
       "</style>\n",
       "<table border=\"1\" class=\"dataframe\">\n",
       "  <thead>\n",
       "    <tr style=\"text-align: right;\">\n",
       "      <th></th>\n",
       "      <th>반납시간_분_그룹</th>\n",
       "      <th>count</th>\n",
       "    </tr>\n",
       "  </thead>\n",
       "  <tbody>\n",
       "    <tr>\n",
       "      <th>0</th>\n",
       "      <td>0</td>\n",
       "      <td>23</td>\n",
       "    </tr>\n",
       "    <tr>\n",
       "      <th>1</th>\n",
       "      <td>10</td>\n",
       "      <td>41</td>\n",
       "    </tr>\n",
       "    <tr>\n",
       "      <th>2</th>\n",
       "      <td>20</td>\n",
       "      <td>38</td>\n",
       "    </tr>\n",
       "    <tr>\n",
       "      <th>3</th>\n",
       "      <td>30</td>\n",
       "      <td>40</td>\n",
       "    </tr>\n",
       "    <tr>\n",
       "      <th>4</th>\n",
       "      <td>40</td>\n",
       "      <td>44</td>\n",
       "    </tr>\n",
       "    <tr>\n",
       "      <th>5</th>\n",
       "      <td>50</td>\n",
       "      <td>38</td>\n",
       "    </tr>\n",
       "  </tbody>\n",
       "</table>\n",
       "</div>"
      ],
      "text/plain": [
       "   반납시간_분_그룹  count\n",
       "0          0     23\n",
       "1         10     41\n",
       "2         20     38\n",
       "3         30     40\n",
       "4         40     44\n",
       "5         50     38"
      ]
     },
     "execution_count": 84,
     "metadata": {},
     "output_type": "execute_result"
    }
   ],
   "source": [
    "df_return_hour = df_return[df_return['반납시간'] == 11]\n",
    "df_return_hour.reset_index(drop = True, inplace = True)\n",
    "df_return_hour['반납시간_분_그룹'] = -1\n",
    "for i in range(len(df_return_hour)):\n",
    "    if df_return_hour['반납시간_분'][i] >= 50:\n",
    "        df_return_hour['반납시간_분_그룹'][i] = 50\n",
    "    elif df_return_hour['반납시간_분'][i] >= 40:\n",
    "        df_return_hour['반납시간_분_그룹'][i] = 40\n",
    "    elif df_return_hour['반납시간_분'][i] >= 30:\n",
    "        df_return_hour['반납시간_분_그룹'][i] = 30\n",
    "    elif df_return_hour['반납시간_분'][i] >= 20:\n",
    "        df_return_hour['반납시간_분_그룹'][i] = 20\n",
    "    elif df_return_hour['반납시간_분'][i] >= 10:\n",
    "        df_return_hour['반납시간_분_그룹'][i] = 10\n",
    "    else:\n",
    "        df_return_hour['반납시간_분_그룹'][i] = 0\n",
    "df_return_hour_group = df_return_hour.groupby('반납시간_분_그룹')[['반납시간_분']].count().reset_index()\n",
    "df_return_hour_group.rename(columns = {'반납시간_분' : 'count'}, inplace = True)\n",
    "df_return_hour_group"
   ]
  },
  {
   "cell_type": "code",
   "execution_count": 85,
   "metadata": {},
   "outputs": [
    {
     "data": {
      "text/plain": [
       "37.333333333333336"
      ]
     },
     "execution_count": 85,
     "metadata": {},
     "output_type": "execute_result"
    }
   ],
   "source": [
    "# 10분당 평균도착률(10분당 자전거 반납수의 평균) = lambda\n",
    "# lambda = 10이면 10분동안 평균 10대의 자전거를 반납\n",
    "\n",
    "lda11 = df_return_hour_group['count'].sum() / 6\n",
    "lda11"
   ]
  },
  {
   "cell_type": "markdown",
   "metadata": {},
   "source": [
    "#### 12시"
   ]
  },
  {
   "cell_type": "code",
   "execution_count": 86,
   "metadata": {},
   "outputs": [
    {
     "data": {
      "text/html": [
       "<div>\n",
       "<style scoped>\n",
       "    .dataframe tbody tr th:only-of-type {\n",
       "        vertical-align: middle;\n",
       "    }\n",
       "\n",
       "    .dataframe tbody tr th {\n",
       "        vertical-align: top;\n",
       "    }\n",
       "\n",
       "    .dataframe thead th {\n",
       "        text-align: right;\n",
       "    }\n",
       "</style>\n",
       "<table border=\"1\" class=\"dataframe\">\n",
       "  <thead>\n",
       "    <tr style=\"text-align: right;\">\n",
       "      <th></th>\n",
       "      <th>반납시간_분_그룹</th>\n",
       "      <th>count</th>\n",
       "    </tr>\n",
       "  </thead>\n",
       "  <tbody>\n",
       "    <tr>\n",
       "      <th>0</th>\n",
       "      <td>0</td>\n",
       "      <td>45</td>\n",
       "    </tr>\n",
       "    <tr>\n",
       "      <th>1</th>\n",
       "      <td>10</td>\n",
       "      <td>33</td>\n",
       "    </tr>\n",
       "    <tr>\n",
       "      <th>2</th>\n",
       "      <td>20</td>\n",
       "      <td>34</td>\n",
       "    </tr>\n",
       "    <tr>\n",
       "      <th>3</th>\n",
       "      <td>30</td>\n",
       "      <td>40</td>\n",
       "    </tr>\n",
       "    <tr>\n",
       "      <th>4</th>\n",
       "      <td>40</td>\n",
       "      <td>42</td>\n",
       "    </tr>\n",
       "    <tr>\n",
       "      <th>5</th>\n",
       "      <td>50</td>\n",
       "      <td>41</td>\n",
       "    </tr>\n",
       "  </tbody>\n",
       "</table>\n",
       "</div>"
      ],
      "text/plain": [
       "   반납시간_분_그룹  count\n",
       "0          0     45\n",
       "1         10     33\n",
       "2         20     34\n",
       "3         30     40\n",
       "4         40     42\n",
       "5         50     41"
      ]
     },
     "execution_count": 86,
     "metadata": {},
     "output_type": "execute_result"
    }
   ],
   "source": [
    "df_return_hour = df_return[df_return['반납시간'] == 12]\n",
    "df_return_hour.reset_index(drop = True, inplace = True)\n",
    "df_return_hour['반납시간_분_그룹'] = -1\n",
    "for i in range(len(df_return_hour)):\n",
    "    if df_return_hour['반납시간_분'][i] >= 50:\n",
    "        df_return_hour['반납시간_분_그룹'][i] = 50\n",
    "    elif df_return_hour['반납시간_분'][i] >= 40:\n",
    "        df_return_hour['반납시간_분_그룹'][i] = 40\n",
    "    elif df_return_hour['반납시간_분'][i] >= 30:\n",
    "        df_return_hour['반납시간_분_그룹'][i] = 30\n",
    "    elif df_return_hour['반납시간_분'][i] >= 20:\n",
    "        df_return_hour['반납시간_분_그룹'][i] = 20\n",
    "    elif df_return_hour['반납시간_분'][i] >= 10:\n",
    "        df_return_hour['반납시간_분_그룹'][i] = 10\n",
    "    else:\n",
    "        df_return_hour['반납시간_분_그룹'][i] = 0\n",
    "df_return_hour_group = df_return_hour.groupby('반납시간_분_그룹')[['반납시간_분']].count().reset_index()\n",
    "df_return_hour_group.rename(columns = {'반납시간_분' : 'count'}, inplace = True)\n",
    "df_return_hour_group"
   ]
  },
  {
   "cell_type": "code",
   "execution_count": 87,
   "metadata": {},
   "outputs": [
    {
     "data": {
      "text/plain": [
       "39.166666666666664"
      ]
     },
     "execution_count": 87,
     "metadata": {},
     "output_type": "execute_result"
    }
   ],
   "source": [
    "# 10분당 평균도착률(10분당 자전거 반납수의 평균) = lambda\n",
    "# lambda = 10이면 10분동안 평균 10대의 자전거를 반납\n",
    "\n",
    "lda12 = df_return_hour_group['count'].sum() / 6\n",
    "lda12"
   ]
  },
  {
   "cell_type": "markdown",
   "metadata": {},
   "source": [
    "#### 13시"
   ]
  },
  {
   "cell_type": "code",
   "execution_count": 88,
   "metadata": {},
   "outputs": [
    {
     "data": {
      "text/html": [
       "<div>\n",
       "<style scoped>\n",
       "    .dataframe tbody tr th:only-of-type {\n",
       "        vertical-align: middle;\n",
       "    }\n",
       "\n",
       "    .dataframe tbody tr th {\n",
       "        vertical-align: top;\n",
       "    }\n",
       "\n",
       "    .dataframe thead th {\n",
       "        text-align: right;\n",
       "    }\n",
       "</style>\n",
       "<table border=\"1\" class=\"dataframe\">\n",
       "  <thead>\n",
       "    <tr style=\"text-align: right;\">\n",
       "      <th></th>\n",
       "      <th>반납시간_분_그룹</th>\n",
       "      <th>count</th>\n",
       "    </tr>\n",
       "  </thead>\n",
       "  <tbody>\n",
       "    <tr>\n",
       "      <th>0</th>\n",
       "      <td>0</td>\n",
       "      <td>41</td>\n",
       "    </tr>\n",
       "    <tr>\n",
       "      <th>1</th>\n",
       "      <td>10</td>\n",
       "      <td>42</td>\n",
       "    </tr>\n",
       "    <tr>\n",
       "      <th>2</th>\n",
       "      <td>20</td>\n",
       "      <td>34</td>\n",
       "    </tr>\n",
       "    <tr>\n",
       "      <th>3</th>\n",
       "      <td>30</td>\n",
       "      <td>46</td>\n",
       "    </tr>\n",
       "    <tr>\n",
       "      <th>4</th>\n",
       "      <td>40</td>\n",
       "      <td>51</td>\n",
       "    </tr>\n",
       "    <tr>\n",
       "      <th>5</th>\n",
       "      <td>50</td>\n",
       "      <td>52</td>\n",
       "    </tr>\n",
       "  </tbody>\n",
       "</table>\n",
       "</div>"
      ],
      "text/plain": [
       "   반납시간_분_그룹  count\n",
       "0          0     41\n",
       "1         10     42\n",
       "2         20     34\n",
       "3         30     46\n",
       "4         40     51\n",
       "5         50     52"
      ]
     },
     "execution_count": 88,
     "metadata": {},
     "output_type": "execute_result"
    }
   ],
   "source": [
    "df_return_hour = df_return[df_return['반납시간'] == 13]\n",
    "df_return_hour.reset_index(drop = True, inplace = True)\n",
    "df_return_hour['반납시간_분_그룹'] = -1\n",
    "for i in range(len(df_return_hour)):\n",
    "    if df_return_hour['반납시간_분'][i] >= 50:\n",
    "        df_return_hour['반납시간_분_그룹'][i] = 50\n",
    "    elif df_return_hour['반납시간_분'][i] >= 40:\n",
    "        df_return_hour['반납시간_분_그룹'][i] = 40\n",
    "    elif df_return_hour['반납시간_분'][i] >= 30:\n",
    "        df_return_hour['반납시간_분_그룹'][i] = 30\n",
    "    elif df_return_hour['반납시간_분'][i] >= 20:\n",
    "        df_return_hour['반납시간_분_그룹'][i] = 20\n",
    "    elif df_return_hour['반납시간_분'][i] >= 10:\n",
    "        df_return_hour['반납시간_분_그룹'][i] = 10\n",
    "    else:\n",
    "        df_return_hour['반납시간_분_그룹'][i] = 0\n",
    "df_return_hour_group = df_return_hour.groupby('반납시간_분_그룹')[['반납시간_분']].count().reset_index()\n",
    "df_return_hour_group.rename(columns = {'반납시간_분' : 'count'}, inplace = True)\n",
    "df_return_hour_group"
   ]
  },
  {
   "cell_type": "code",
   "execution_count": 89,
   "metadata": {},
   "outputs": [
    {
     "data": {
      "text/plain": [
       "44.333333333333336"
      ]
     },
     "execution_count": 89,
     "metadata": {},
     "output_type": "execute_result"
    }
   ],
   "source": [
    "# 10분당 평균도착률(10분당 자전거 반납수의 평균) = lambda\n",
    "# lambda = 10이면 10분동안 평균 10대의 자전거를 반납\n",
    "\n",
    "lda13 = df_return_hour_group['count'].sum() / 6\n",
    "lda13"
   ]
  },
  {
   "cell_type": "markdown",
   "metadata": {},
   "source": [
    "#### 14시"
   ]
  },
  {
   "cell_type": "code",
   "execution_count": 90,
   "metadata": {},
   "outputs": [
    {
     "data": {
      "text/html": [
       "<div>\n",
       "<style scoped>\n",
       "    .dataframe tbody tr th:only-of-type {\n",
       "        vertical-align: middle;\n",
       "    }\n",
       "\n",
       "    .dataframe tbody tr th {\n",
       "        vertical-align: top;\n",
       "    }\n",
       "\n",
       "    .dataframe thead th {\n",
       "        text-align: right;\n",
       "    }\n",
       "</style>\n",
       "<table border=\"1\" class=\"dataframe\">\n",
       "  <thead>\n",
       "    <tr style=\"text-align: right;\">\n",
       "      <th></th>\n",
       "      <th>반납시간_분_그룹</th>\n",
       "      <th>count</th>\n",
       "    </tr>\n",
       "  </thead>\n",
       "  <tbody>\n",
       "    <tr>\n",
       "      <th>0</th>\n",
       "      <td>0</td>\n",
       "      <td>52</td>\n",
       "    </tr>\n",
       "    <tr>\n",
       "      <th>1</th>\n",
       "      <td>10</td>\n",
       "      <td>54</td>\n",
       "    </tr>\n",
       "    <tr>\n",
       "      <th>2</th>\n",
       "      <td>20</td>\n",
       "      <td>33</td>\n",
       "    </tr>\n",
       "    <tr>\n",
       "      <th>3</th>\n",
       "      <td>30</td>\n",
       "      <td>53</td>\n",
       "    </tr>\n",
       "    <tr>\n",
       "      <th>4</th>\n",
       "      <td>40</td>\n",
       "      <td>41</td>\n",
       "    </tr>\n",
       "    <tr>\n",
       "      <th>5</th>\n",
       "      <td>50</td>\n",
       "      <td>52</td>\n",
       "    </tr>\n",
       "  </tbody>\n",
       "</table>\n",
       "</div>"
      ],
      "text/plain": [
       "   반납시간_분_그룹  count\n",
       "0          0     52\n",
       "1         10     54\n",
       "2         20     33\n",
       "3         30     53\n",
       "4         40     41\n",
       "5         50     52"
      ]
     },
     "execution_count": 90,
     "metadata": {},
     "output_type": "execute_result"
    }
   ],
   "source": [
    "df_return_hour = df_return[df_return['반납시간'] == 14]\n",
    "df_return_hour.reset_index(drop = True, inplace = True)\n",
    "df_return_hour['반납시간_분_그룹'] = -1\n",
    "for i in range(len(df_return_hour)):\n",
    "    if df_return_hour['반납시간_분'][i] >= 50:\n",
    "        df_return_hour['반납시간_분_그룹'][i] = 50\n",
    "    elif df_return_hour['반납시간_분'][i] >= 40:\n",
    "        df_return_hour['반납시간_분_그룹'][i] = 40\n",
    "    elif df_return_hour['반납시간_분'][i] >= 30:\n",
    "        df_return_hour['반납시간_분_그룹'][i] = 30\n",
    "    elif df_return_hour['반납시간_분'][i] >= 20:\n",
    "        df_return_hour['반납시간_분_그룹'][i] = 20\n",
    "    elif df_return_hour['반납시간_분'][i] >= 10:\n",
    "        df_return_hour['반납시간_분_그룹'][i] = 10\n",
    "    else:\n",
    "        df_return_hour['반납시간_분_그룹'][i] = 0\n",
    "df_return_hour_group = df_return_hour.groupby('반납시간_분_그룹')[['반납시간_분']].count().reset_index()\n",
    "df_return_hour_group.rename(columns = {'반납시간_분' : 'count'}, inplace = True)\n",
    "df_return_hour_group"
   ]
  },
  {
   "cell_type": "code",
   "execution_count": 91,
   "metadata": {},
   "outputs": [
    {
     "data": {
      "text/plain": [
       "47.5"
      ]
     },
     "execution_count": 91,
     "metadata": {},
     "output_type": "execute_result"
    }
   ],
   "source": [
    "# 10분당 평균도착률(10분당 자전거 반납수의 평균) = lambda\n",
    "# lambda = 10이면 10분동안 평균 10대의 자전거를 반납\n",
    "\n",
    "lda14 = df_return_hour_group['count'].sum() / 6\n",
    "lda14"
   ]
  },
  {
   "cell_type": "markdown",
   "metadata": {},
   "source": [
    "#### 15시"
   ]
  },
  {
   "cell_type": "code",
   "execution_count": 92,
   "metadata": {},
   "outputs": [
    {
     "data": {
      "text/html": [
       "<div>\n",
       "<style scoped>\n",
       "    .dataframe tbody tr th:only-of-type {\n",
       "        vertical-align: middle;\n",
       "    }\n",
       "\n",
       "    .dataframe tbody tr th {\n",
       "        vertical-align: top;\n",
       "    }\n",
       "\n",
       "    .dataframe thead th {\n",
       "        text-align: right;\n",
       "    }\n",
       "</style>\n",
       "<table border=\"1\" class=\"dataframe\">\n",
       "  <thead>\n",
       "    <tr style=\"text-align: right;\">\n",
       "      <th></th>\n",
       "      <th>반납시간_분_그룹</th>\n",
       "      <th>count</th>\n",
       "    </tr>\n",
       "  </thead>\n",
       "  <tbody>\n",
       "    <tr>\n",
       "      <th>0</th>\n",
       "      <td>0</td>\n",
       "      <td>70</td>\n",
       "    </tr>\n",
       "    <tr>\n",
       "      <th>1</th>\n",
       "      <td>10</td>\n",
       "      <td>49</td>\n",
       "    </tr>\n",
       "    <tr>\n",
       "      <th>2</th>\n",
       "      <td>20</td>\n",
       "      <td>68</td>\n",
       "    </tr>\n",
       "    <tr>\n",
       "      <th>3</th>\n",
       "      <td>30</td>\n",
       "      <td>57</td>\n",
       "    </tr>\n",
       "    <tr>\n",
       "      <th>4</th>\n",
       "      <td>40</td>\n",
       "      <td>53</td>\n",
       "    </tr>\n",
       "    <tr>\n",
       "      <th>5</th>\n",
       "      <td>50</td>\n",
       "      <td>69</td>\n",
       "    </tr>\n",
       "  </tbody>\n",
       "</table>\n",
       "</div>"
      ],
      "text/plain": [
       "   반납시간_분_그룹  count\n",
       "0          0     70\n",
       "1         10     49\n",
       "2         20     68\n",
       "3         30     57\n",
       "4         40     53\n",
       "5         50     69"
      ]
     },
     "execution_count": 92,
     "metadata": {},
     "output_type": "execute_result"
    }
   ],
   "source": [
    "df_return_hour = df_return[df_return['반납시간'] == 15]\n",
    "df_return_hour.reset_index(drop = True, inplace = True)\n",
    "df_return_hour['반납시간_분_그룹'] = -1\n",
    "for i in range(len(df_return_hour)):\n",
    "    if df_return_hour['반납시간_분'][i] >= 50:\n",
    "        df_return_hour['반납시간_분_그룹'][i] = 50\n",
    "    elif df_return_hour['반납시간_분'][i] >= 40:\n",
    "        df_return_hour['반납시간_분_그룹'][i] = 40\n",
    "    elif df_return_hour['반납시간_분'][i] >= 30:\n",
    "        df_return_hour['반납시간_분_그룹'][i] = 30\n",
    "    elif df_return_hour['반납시간_분'][i] >= 20:\n",
    "        df_return_hour['반납시간_분_그룹'][i] = 20\n",
    "    elif df_return_hour['반납시간_분'][i] >= 10:\n",
    "        df_return_hour['반납시간_분_그룹'][i] = 10\n",
    "    else:\n",
    "        df_return_hour['반납시간_분_그룹'][i] = 0\n",
    "df_return_hour_group = df_return_hour.groupby('반납시간_분_그룹')[['반납시간_분']].count().reset_index()\n",
    "df_return_hour_group.rename(columns = {'반납시간_분' : 'count'}, inplace = True)\n",
    "df_return_hour_group"
   ]
  },
  {
   "cell_type": "code",
   "execution_count": 93,
   "metadata": {},
   "outputs": [
    {
     "data": {
      "text/plain": [
       "61.0"
      ]
     },
     "execution_count": 93,
     "metadata": {},
     "output_type": "execute_result"
    }
   ],
   "source": [
    "# 10분당 평균도착률(10분당 자전거 반납수의 평균) = lambda\n",
    "# lambda = 10이면 10분동안 평균 10대의 자전거를 반납\n",
    "\n",
    "lda15 = df_return_hour_group['count'].sum() / 6\n",
    "lda15"
   ]
  },
  {
   "cell_type": "markdown",
   "metadata": {},
   "source": [
    "#### 16시"
   ]
  },
  {
   "cell_type": "code",
   "execution_count": 94,
   "metadata": {},
   "outputs": [
    {
     "data": {
      "text/html": [
       "<div>\n",
       "<style scoped>\n",
       "    .dataframe tbody tr th:only-of-type {\n",
       "        vertical-align: middle;\n",
       "    }\n",
       "\n",
       "    .dataframe tbody tr th {\n",
       "        vertical-align: top;\n",
       "    }\n",
       "\n",
       "    .dataframe thead th {\n",
       "        text-align: right;\n",
       "    }\n",
       "</style>\n",
       "<table border=\"1\" class=\"dataframe\">\n",
       "  <thead>\n",
       "    <tr style=\"text-align: right;\">\n",
       "      <th></th>\n",
       "      <th>반납시간_분_그룹</th>\n",
       "      <th>count</th>\n",
       "    </tr>\n",
       "  </thead>\n",
       "  <tbody>\n",
       "    <tr>\n",
       "      <th>0</th>\n",
       "      <td>0</td>\n",
       "      <td>102</td>\n",
       "    </tr>\n",
       "    <tr>\n",
       "      <th>1</th>\n",
       "      <td>10</td>\n",
       "      <td>103</td>\n",
       "    </tr>\n",
       "    <tr>\n",
       "      <th>2</th>\n",
       "      <td>20</td>\n",
       "      <td>106</td>\n",
       "    </tr>\n",
       "    <tr>\n",
       "      <th>3</th>\n",
       "      <td>30</td>\n",
       "      <td>104</td>\n",
       "    </tr>\n",
       "    <tr>\n",
       "      <th>4</th>\n",
       "      <td>40</td>\n",
       "      <td>82</td>\n",
       "    </tr>\n",
       "    <tr>\n",
       "      <th>5</th>\n",
       "      <td>50</td>\n",
       "      <td>92</td>\n",
       "    </tr>\n",
       "  </tbody>\n",
       "</table>\n",
       "</div>"
      ],
      "text/plain": [
       "   반납시간_분_그룹  count\n",
       "0          0    102\n",
       "1         10    103\n",
       "2         20    106\n",
       "3         30    104\n",
       "4         40     82\n",
       "5         50     92"
      ]
     },
     "execution_count": 94,
     "metadata": {},
     "output_type": "execute_result"
    }
   ],
   "source": [
    "df_return_hour = df_return[df_return['반납시간'] == 16]\n",
    "df_return_hour.reset_index(drop = True, inplace = True)\n",
    "df_return_hour['반납시간_분_그룹'] = -1\n",
    "for i in range(len(df_return_hour)):\n",
    "    if df_return_hour['반납시간_분'][i] >= 50:\n",
    "        df_return_hour['반납시간_분_그룹'][i] = 50\n",
    "    elif df_return_hour['반납시간_분'][i] >= 40:\n",
    "        df_return_hour['반납시간_분_그룹'][i] = 40\n",
    "    elif df_return_hour['반납시간_분'][i] >= 30:\n",
    "        df_return_hour['반납시간_분_그룹'][i] = 30\n",
    "    elif df_return_hour['반납시간_분'][i] >= 20:\n",
    "        df_return_hour['반납시간_분_그룹'][i] = 20\n",
    "    elif df_return_hour['반납시간_분'][i] >= 10:\n",
    "        df_return_hour['반납시간_분_그룹'][i] = 10\n",
    "    else:\n",
    "        df_return_hour['반납시간_분_그룹'][i] = 0\n",
    "df_return_hour_group = df_return_hour.groupby('반납시간_분_그룹')[['반납시간_분']].count().reset_index()\n",
    "df_return_hour_group.rename(columns = {'반납시간_분' : 'count'}, inplace = True)\n",
    "df_return_hour_group"
   ]
  },
  {
   "cell_type": "code",
   "execution_count": 95,
   "metadata": {},
   "outputs": [
    {
     "data": {
      "text/plain": [
       "98.16666666666667"
      ]
     },
     "execution_count": 95,
     "metadata": {},
     "output_type": "execute_result"
    }
   ],
   "source": [
    "# 10분당 평균도착률(10분당 자전거 반납수의 평균) = lambda\n",
    "# lambda = 10이면 10분동안 평균 10대의 자전거를 반납\n",
    "\n",
    "lda16 = df_return_hour_group['count'].sum() / 6\n",
    "lda16"
   ]
  },
  {
   "cell_type": "markdown",
   "metadata": {},
   "source": [
    "#### 17시"
   ]
  },
  {
   "cell_type": "code",
   "execution_count": 96,
   "metadata": {},
   "outputs": [
    {
     "data": {
      "text/html": [
       "<div>\n",
       "<style scoped>\n",
       "    .dataframe tbody tr th:only-of-type {\n",
       "        vertical-align: middle;\n",
       "    }\n",
       "\n",
       "    .dataframe tbody tr th {\n",
       "        vertical-align: top;\n",
       "    }\n",
       "\n",
       "    .dataframe thead th {\n",
       "        text-align: right;\n",
       "    }\n",
       "</style>\n",
       "<table border=\"1\" class=\"dataframe\">\n",
       "  <thead>\n",
       "    <tr style=\"text-align: right;\">\n",
       "      <th></th>\n",
       "      <th>반납시간_분_그룹</th>\n",
       "      <th>count</th>\n",
       "    </tr>\n",
       "  </thead>\n",
       "  <tbody>\n",
       "    <tr>\n",
       "      <th>0</th>\n",
       "      <td>0</td>\n",
       "      <td>76</td>\n",
       "    </tr>\n",
       "    <tr>\n",
       "      <th>1</th>\n",
       "      <td>10</td>\n",
       "      <td>120</td>\n",
       "    </tr>\n",
       "    <tr>\n",
       "      <th>2</th>\n",
       "      <td>20</td>\n",
       "      <td>114</td>\n",
       "    </tr>\n",
       "    <tr>\n",
       "      <th>3</th>\n",
       "      <td>30</td>\n",
       "      <td>126</td>\n",
       "    </tr>\n",
       "    <tr>\n",
       "      <th>4</th>\n",
       "      <td>40</td>\n",
       "      <td>131</td>\n",
       "    </tr>\n",
       "    <tr>\n",
       "      <th>5</th>\n",
       "      <td>50</td>\n",
       "      <td>137</td>\n",
       "    </tr>\n",
       "  </tbody>\n",
       "</table>\n",
       "</div>"
      ],
      "text/plain": [
       "   반납시간_분_그룹  count\n",
       "0          0     76\n",
       "1         10    120\n",
       "2         20    114\n",
       "3         30    126\n",
       "4         40    131\n",
       "5         50    137"
      ]
     },
     "execution_count": 96,
     "metadata": {},
     "output_type": "execute_result"
    }
   ],
   "source": [
    "df_return_hour = df_return[df_return['반납시간'] == 17]\n",
    "df_return_hour.reset_index(drop = True, inplace = True)\n",
    "df_return_hour['반납시간_분_그룹'] = -1\n",
    "for i in range(len(df_return_hour)):\n",
    "    if df_return_hour['반납시간_분'][i] >= 50:\n",
    "        df_return_hour['반납시간_분_그룹'][i] = 50\n",
    "    elif df_return_hour['반납시간_분'][i] >= 40:\n",
    "        df_return_hour['반납시간_분_그룹'][i] = 40\n",
    "    elif df_return_hour['반납시간_분'][i] >= 30:\n",
    "        df_return_hour['반납시간_분_그룹'][i] = 30\n",
    "    elif df_return_hour['반납시간_분'][i] >= 20:\n",
    "        df_return_hour['반납시간_분_그룹'][i] = 20\n",
    "    elif df_return_hour['반납시간_분'][i] >= 10:\n",
    "        df_return_hour['반납시간_분_그룹'][i] = 10\n",
    "    else:\n",
    "        df_return_hour['반납시간_분_그룹'][i] = 0\n",
    "df_return_hour_group = df_return_hour.groupby('반납시간_분_그룹')[['반납시간_분']].count().reset_index()\n",
    "df_return_hour_group.rename(columns = {'반납시간_분' : 'count'}, inplace = True)\n",
    "df_return_hour_group"
   ]
  },
  {
   "cell_type": "code",
   "execution_count": 97,
   "metadata": {},
   "outputs": [
    {
     "data": {
      "text/plain": [
       "117.33333333333333"
      ]
     },
     "execution_count": 97,
     "metadata": {},
     "output_type": "execute_result"
    }
   ],
   "source": [
    "# 10분당 평균도착률(10분당 자전거 반납수의 평균) = lambda\n",
    "# lambda = 10이면 10분동안 평균 10대의 자전거를 반납\n",
    "\n",
    "lda17 = df_return_hour_group['count'].sum() / 6\n",
    "lda17"
   ]
  },
  {
   "cell_type": "markdown",
   "metadata": {},
   "source": [
    "#### 18시"
   ]
  },
  {
   "cell_type": "code",
   "execution_count": 98,
   "metadata": {},
   "outputs": [
    {
     "data": {
      "text/html": [
       "<div>\n",
       "<style scoped>\n",
       "    .dataframe tbody tr th:only-of-type {\n",
       "        vertical-align: middle;\n",
       "    }\n",
       "\n",
       "    .dataframe tbody tr th {\n",
       "        vertical-align: top;\n",
       "    }\n",
       "\n",
       "    .dataframe thead th {\n",
       "        text-align: right;\n",
       "    }\n",
       "</style>\n",
       "<table border=\"1\" class=\"dataframe\">\n",
       "  <thead>\n",
       "    <tr style=\"text-align: right;\">\n",
       "      <th></th>\n",
       "      <th>반납시간_분_그룹</th>\n",
       "      <th>count</th>\n",
       "    </tr>\n",
       "  </thead>\n",
       "  <tbody>\n",
       "    <tr>\n",
       "      <th>0</th>\n",
       "      <td>0</td>\n",
       "      <td>151</td>\n",
       "    </tr>\n",
       "    <tr>\n",
       "      <th>1</th>\n",
       "      <td>10</td>\n",
       "      <td>145</td>\n",
       "    </tr>\n",
       "    <tr>\n",
       "      <th>2</th>\n",
       "      <td>20</td>\n",
       "      <td>196</td>\n",
       "    </tr>\n",
       "    <tr>\n",
       "      <th>3</th>\n",
       "      <td>30</td>\n",
       "      <td>188</td>\n",
       "    </tr>\n",
       "    <tr>\n",
       "      <th>4</th>\n",
       "      <td>40</td>\n",
       "      <td>205</td>\n",
       "    </tr>\n",
       "    <tr>\n",
       "      <th>5</th>\n",
       "      <td>50</td>\n",
       "      <td>178</td>\n",
       "    </tr>\n",
       "  </tbody>\n",
       "</table>\n",
       "</div>"
      ],
      "text/plain": [
       "   반납시간_분_그룹  count\n",
       "0          0    151\n",
       "1         10    145\n",
       "2         20    196\n",
       "3         30    188\n",
       "4         40    205\n",
       "5         50    178"
      ]
     },
     "execution_count": 98,
     "metadata": {},
     "output_type": "execute_result"
    }
   ],
   "source": [
    "df_return_hour = df_return[df_return['반납시간'] == 18]\n",
    "df_return_hour.reset_index(drop = True, inplace = True)\n",
    "df_return_hour['반납시간_분_그룹'] = -1\n",
    "for i in range(len(df_return_hour)):\n",
    "    if df_return_hour['반납시간_분'][i] >= 50:\n",
    "        df_return_hour['반납시간_분_그룹'][i] = 50\n",
    "    elif df_return_hour['반납시간_분'][i] >= 40:\n",
    "        df_return_hour['반납시간_분_그룹'][i] = 40\n",
    "    elif df_return_hour['반납시간_분'][i] >= 30:\n",
    "        df_return_hour['반납시간_분_그룹'][i] = 30\n",
    "    elif df_return_hour['반납시간_분'][i] >= 20:\n",
    "        df_return_hour['반납시간_분_그룹'][i] = 20\n",
    "    elif df_return_hour['반납시간_분'][i] >= 10:\n",
    "        df_return_hour['반납시간_분_그룹'][i] = 10\n",
    "    else:\n",
    "        df_return_hour['반납시간_분_그룹'][i] = 0\n",
    "df_return_hour_group = df_return_hour.groupby('반납시간_분_그룹')[['반납시간_분']].count().reset_index()\n",
    "df_return_hour_group.rename(columns = {'반납시간_분' : 'count'}, inplace = True)\n",
    "df_return_hour_group"
   ]
  },
  {
   "cell_type": "code",
   "execution_count": 99,
   "metadata": {},
   "outputs": [
    {
     "data": {
      "text/plain": [
       "177.16666666666666"
      ]
     },
     "execution_count": 99,
     "metadata": {},
     "output_type": "execute_result"
    }
   ],
   "source": [
    "# 10분당 평균도착률(10분당 자전거 반납수의 평균) = lambda\n",
    "# lambda = 10이면 10분동안 평균 10대의 자전거를 반납\n",
    "\n",
    "lda18 = df_return_hour_group['count'].sum() / 6\n",
    "lda18"
   ]
  },
  {
   "cell_type": "markdown",
   "metadata": {},
   "source": [
    "#### 19시"
   ]
  },
  {
   "cell_type": "code",
   "execution_count": 100,
   "metadata": {},
   "outputs": [
    {
     "data": {
      "text/html": [
       "<div>\n",
       "<style scoped>\n",
       "    .dataframe tbody tr th:only-of-type {\n",
       "        vertical-align: middle;\n",
       "    }\n",
       "\n",
       "    .dataframe tbody tr th {\n",
       "        vertical-align: top;\n",
       "    }\n",
       "\n",
       "    .dataframe thead th {\n",
       "        text-align: right;\n",
       "    }\n",
       "</style>\n",
       "<table border=\"1\" class=\"dataframe\">\n",
       "  <thead>\n",
       "    <tr style=\"text-align: right;\">\n",
       "      <th></th>\n",
       "      <th>반납시간_분_그룹</th>\n",
       "      <th>count</th>\n",
       "    </tr>\n",
       "  </thead>\n",
       "  <tbody>\n",
       "    <tr>\n",
       "      <th>0</th>\n",
       "      <td>0</td>\n",
       "      <td>229</td>\n",
       "    </tr>\n",
       "    <tr>\n",
       "      <th>1</th>\n",
       "      <td>10</td>\n",
       "      <td>204</td>\n",
       "    </tr>\n",
       "    <tr>\n",
       "      <th>2</th>\n",
       "      <td>20</td>\n",
       "      <td>239</td>\n",
       "    </tr>\n",
       "    <tr>\n",
       "      <th>3</th>\n",
       "      <td>30</td>\n",
       "      <td>254</td>\n",
       "    </tr>\n",
       "    <tr>\n",
       "      <th>4</th>\n",
       "      <td>40</td>\n",
       "      <td>245</td>\n",
       "    </tr>\n",
       "    <tr>\n",
       "      <th>5</th>\n",
       "      <td>50</td>\n",
       "      <td>244</td>\n",
       "    </tr>\n",
       "  </tbody>\n",
       "</table>\n",
       "</div>"
      ],
      "text/plain": [
       "   반납시간_분_그룹  count\n",
       "0          0    229\n",
       "1         10    204\n",
       "2         20    239\n",
       "3         30    254\n",
       "4         40    245\n",
       "5         50    244"
      ]
     },
     "execution_count": 100,
     "metadata": {},
     "output_type": "execute_result"
    }
   ],
   "source": [
    "df_return_hour = df_return[df_return['반납시간'] == 19]\n",
    "df_return_hour.reset_index(drop = True, inplace = True)\n",
    "df_return_hour['반납시간_분_그룹'] = -1\n",
    "for i in range(len(df_return_hour)):\n",
    "    if df_return_hour['반납시간_분'][i] >= 50:\n",
    "        df_return_hour['반납시간_분_그룹'][i] = 50\n",
    "    elif df_return_hour['반납시간_분'][i] >= 40:\n",
    "        df_return_hour['반납시간_분_그룹'][i] = 40\n",
    "    elif df_return_hour['반납시간_분'][i] >= 30:\n",
    "        df_return_hour['반납시간_분_그룹'][i] = 30\n",
    "    elif df_return_hour['반납시간_분'][i] >= 20:\n",
    "        df_return_hour['반납시간_분_그룹'][i] = 20\n",
    "    elif df_return_hour['반납시간_분'][i] >= 10:\n",
    "        df_return_hour['반납시간_분_그룹'][i] = 10\n",
    "    else:\n",
    "        df_return_hour['반납시간_분_그룹'][i] = 0\n",
    "df_return_hour_group = df_return_hour.groupby('반납시간_분_그룹')[['반납시간_분']].count().reset_index()\n",
    "df_return_hour_group.rename(columns = {'반납시간_분' : 'count'}, inplace = True)\n",
    "df_return_hour_group"
   ]
  },
  {
   "cell_type": "code",
   "execution_count": 101,
   "metadata": {},
   "outputs": [
    {
     "data": {
      "text/plain": [
       "235.83333333333334"
      ]
     },
     "execution_count": 101,
     "metadata": {},
     "output_type": "execute_result"
    }
   ],
   "source": [
    "# 10분당 평균도착률(10분당 자전거 반납수의 평균) = lambda\n",
    "# lambda = 10이면 10분동안 평균 10대의 자전거를 반납\n",
    "\n",
    "lda19 = df_return_hour_group['count'].sum() / 6\n",
    "lda19"
   ]
  },
  {
   "cell_type": "markdown",
   "metadata": {},
   "source": [
    "#### 20시"
   ]
  },
  {
   "cell_type": "code",
   "execution_count": 102,
   "metadata": {},
   "outputs": [
    {
     "data": {
      "text/html": [
       "<div>\n",
       "<style scoped>\n",
       "    .dataframe tbody tr th:only-of-type {\n",
       "        vertical-align: middle;\n",
       "    }\n",
       "\n",
       "    .dataframe tbody tr th {\n",
       "        vertical-align: top;\n",
       "    }\n",
       "\n",
       "    .dataframe thead th {\n",
       "        text-align: right;\n",
       "    }\n",
       "</style>\n",
       "<table border=\"1\" class=\"dataframe\">\n",
       "  <thead>\n",
       "    <tr style=\"text-align: right;\">\n",
       "      <th></th>\n",
       "      <th>반납시간_분_그룹</th>\n",
       "      <th>count</th>\n",
       "    </tr>\n",
       "  </thead>\n",
       "  <tbody>\n",
       "    <tr>\n",
       "      <th>0</th>\n",
       "      <td>0</td>\n",
       "      <td>237</td>\n",
       "    </tr>\n",
       "    <tr>\n",
       "      <th>1</th>\n",
       "      <td>10</td>\n",
       "      <td>278</td>\n",
       "    </tr>\n",
       "    <tr>\n",
       "      <th>2</th>\n",
       "      <td>20</td>\n",
       "      <td>258</td>\n",
       "    </tr>\n",
       "    <tr>\n",
       "      <th>3</th>\n",
       "      <td>30</td>\n",
       "      <td>262</td>\n",
       "    </tr>\n",
       "    <tr>\n",
       "      <th>4</th>\n",
       "      <td>40</td>\n",
       "      <td>277</td>\n",
       "    </tr>\n",
       "    <tr>\n",
       "      <th>5</th>\n",
       "      <td>50</td>\n",
       "      <td>268</td>\n",
       "    </tr>\n",
       "  </tbody>\n",
       "</table>\n",
       "</div>"
      ],
      "text/plain": [
       "   반납시간_분_그룹  count\n",
       "0          0    237\n",
       "1         10    278\n",
       "2         20    258\n",
       "3         30    262\n",
       "4         40    277\n",
       "5         50    268"
      ]
     },
     "execution_count": 102,
     "metadata": {},
     "output_type": "execute_result"
    }
   ],
   "source": [
    "df_return_hour = df_return[df_return['반납시간'] == 20]\n",
    "df_return_hour.reset_index(drop = True, inplace = True)\n",
    "df_return_hour['반납시간_분_그룹'] = -1\n",
    "for i in range(len(df_return_hour)):\n",
    "    if df_return_hour['반납시간_분'][i] >= 50:\n",
    "        df_return_hour['반납시간_분_그룹'][i] = 50\n",
    "    elif df_return_hour['반납시간_분'][i] >= 40:\n",
    "        df_return_hour['반납시간_분_그룹'][i] = 40\n",
    "    elif df_return_hour['반납시간_분'][i] >= 30:\n",
    "        df_return_hour['반납시간_분_그룹'][i] = 30\n",
    "    elif df_return_hour['반납시간_분'][i] >= 20:\n",
    "        df_return_hour['반납시간_분_그룹'][i] = 20\n",
    "    elif df_return_hour['반납시간_분'][i] >= 10:\n",
    "        df_return_hour['반납시간_분_그룹'][i] = 10\n",
    "    else:\n",
    "        df_return_hour['반납시간_분_그룹'][i] = 0\n",
    "df_return_hour_group = df_return_hour.groupby('반납시간_분_그룹')[['반납시간_분']].count().reset_index()\n",
    "df_return_hour_group.rename(columns = {'반납시간_분' : 'count'}, inplace = True)\n",
    "df_return_hour_group"
   ]
  },
  {
   "cell_type": "code",
   "execution_count": 103,
   "metadata": {},
   "outputs": [
    {
     "data": {
      "text/plain": [
       "263.3333333333333"
      ]
     },
     "execution_count": 103,
     "metadata": {},
     "output_type": "execute_result"
    }
   ],
   "source": [
    "# 10분당 평균도착률(10분당 자전거 반납수의 평균) = lambda\n",
    "# lambda = 10이면 10분동안 평균 10대의 자전거를 반납\n",
    "\n",
    "lda20 = df_return_hour_group['count'].sum() / 6\n",
    "lda20"
   ]
  },
  {
   "cell_type": "markdown",
   "metadata": {},
   "source": [
    "#### 21시"
   ]
  },
  {
   "cell_type": "code",
   "execution_count": 104,
   "metadata": {},
   "outputs": [
    {
     "data": {
      "text/html": [
       "<div>\n",
       "<style scoped>\n",
       "    .dataframe tbody tr th:only-of-type {\n",
       "        vertical-align: middle;\n",
       "    }\n",
       "\n",
       "    .dataframe tbody tr th {\n",
       "        vertical-align: top;\n",
       "    }\n",
       "\n",
       "    .dataframe thead th {\n",
       "        text-align: right;\n",
       "    }\n",
       "</style>\n",
       "<table border=\"1\" class=\"dataframe\">\n",
       "  <thead>\n",
       "    <tr style=\"text-align: right;\">\n",
       "      <th></th>\n",
       "      <th>반납시간_분_그룹</th>\n",
       "      <th>count</th>\n",
       "    </tr>\n",
       "  </thead>\n",
       "  <tbody>\n",
       "    <tr>\n",
       "      <th>0</th>\n",
       "      <td>0</td>\n",
       "      <td>229</td>\n",
       "    </tr>\n",
       "    <tr>\n",
       "      <th>1</th>\n",
       "      <td>10</td>\n",
       "      <td>291</td>\n",
       "    </tr>\n",
       "    <tr>\n",
       "      <th>2</th>\n",
       "      <td>20</td>\n",
       "      <td>254</td>\n",
       "    </tr>\n",
       "    <tr>\n",
       "      <th>3</th>\n",
       "      <td>30</td>\n",
       "      <td>268</td>\n",
       "    </tr>\n",
       "    <tr>\n",
       "      <th>4</th>\n",
       "      <td>40</td>\n",
       "      <td>268</td>\n",
       "    </tr>\n",
       "    <tr>\n",
       "      <th>5</th>\n",
       "      <td>50</td>\n",
       "      <td>230</td>\n",
       "    </tr>\n",
       "  </tbody>\n",
       "</table>\n",
       "</div>"
      ],
      "text/plain": [
       "   반납시간_분_그룹  count\n",
       "0          0    229\n",
       "1         10    291\n",
       "2         20    254\n",
       "3         30    268\n",
       "4         40    268\n",
       "5         50    230"
      ]
     },
     "execution_count": 104,
     "metadata": {},
     "output_type": "execute_result"
    }
   ],
   "source": [
    "df_return_hour = df_return[df_return['반납시간'] == 21]\n",
    "df_return_hour.reset_index(drop = True, inplace = True)\n",
    "df_return_hour['반납시간_분_그룹'] = -1\n",
    "for i in range(len(df_return_hour)):\n",
    "    if df_return_hour['반납시간_분'][i] >= 50:\n",
    "        df_return_hour['반납시간_분_그룹'][i] = 50\n",
    "    elif df_return_hour['반납시간_분'][i] >= 40:\n",
    "        df_return_hour['반납시간_분_그룹'][i] = 40\n",
    "    elif df_return_hour['반납시간_분'][i] >= 30:\n",
    "        df_return_hour['반납시간_분_그룹'][i] = 30\n",
    "    elif df_return_hour['반납시간_분'][i] >= 20:\n",
    "        df_return_hour['반납시간_분_그룹'][i] = 20\n",
    "    elif df_return_hour['반납시간_분'][i] >= 10:\n",
    "        df_return_hour['반납시간_분_그룹'][i] = 10\n",
    "    else:\n",
    "        df_return_hour['반납시간_분_그룹'][i] = 0\n",
    "df_return_hour_group = df_return_hour.groupby('반납시간_분_그룹')[['반납시간_분']].count().reset_index()\n",
    "df_return_hour_group.rename(columns = {'반납시간_분' : 'count'}, inplace = True)\n",
    "df_return_hour_group"
   ]
  },
  {
   "cell_type": "code",
   "execution_count": 105,
   "metadata": {},
   "outputs": [
    {
     "data": {
      "text/plain": [
       "256.6666666666667"
      ]
     },
     "execution_count": 105,
     "metadata": {},
     "output_type": "execute_result"
    }
   ],
   "source": [
    "# 10분당 평균도착률(10분당 자전거 반납수의 평균) = lambda\n",
    "# lambda = 10이면 10분동안 평균 10대의 자전거를 반납\n",
    "\n",
    "lda21 = df_return_hour_group['count'].sum() / 6\n",
    "lda21"
   ]
  },
  {
   "cell_type": "markdown",
   "metadata": {},
   "source": [
    "#### 22시"
   ]
  },
  {
   "cell_type": "code",
   "execution_count": 106,
   "metadata": {},
   "outputs": [
    {
     "data": {
      "text/html": [
       "<div>\n",
       "<style scoped>\n",
       "    .dataframe tbody tr th:only-of-type {\n",
       "        vertical-align: middle;\n",
       "    }\n",
       "\n",
       "    .dataframe tbody tr th {\n",
       "        vertical-align: top;\n",
       "    }\n",
       "\n",
       "    .dataframe thead th {\n",
       "        text-align: right;\n",
       "    }\n",
       "</style>\n",
       "<table border=\"1\" class=\"dataframe\">\n",
       "  <thead>\n",
       "    <tr style=\"text-align: right;\">\n",
       "      <th></th>\n",
       "      <th>반납시간_분_그룹</th>\n",
       "      <th>count</th>\n",
       "    </tr>\n",
       "  </thead>\n",
       "  <tbody>\n",
       "    <tr>\n",
       "      <th>0</th>\n",
       "      <td>0</td>\n",
       "      <td>243</td>\n",
       "    </tr>\n",
       "    <tr>\n",
       "      <th>1</th>\n",
       "      <td>10</td>\n",
       "      <td>202</td>\n",
       "    </tr>\n",
       "    <tr>\n",
       "      <th>2</th>\n",
       "      <td>20</td>\n",
       "      <td>224</td>\n",
       "    </tr>\n",
       "    <tr>\n",
       "      <th>3</th>\n",
       "      <td>30</td>\n",
       "      <td>193</td>\n",
       "    </tr>\n",
       "    <tr>\n",
       "      <th>4</th>\n",
       "      <td>40</td>\n",
       "      <td>176</td>\n",
       "    </tr>\n",
       "    <tr>\n",
       "      <th>5</th>\n",
       "      <td>50</td>\n",
       "      <td>182</td>\n",
       "    </tr>\n",
       "  </tbody>\n",
       "</table>\n",
       "</div>"
      ],
      "text/plain": [
       "   반납시간_분_그룹  count\n",
       "0          0    243\n",
       "1         10    202\n",
       "2         20    224\n",
       "3         30    193\n",
       "4         40    176\n",
       "5         50    182"
      ]
     },
     "execution_count": 106,
     "metadata": {},
     "output_type": "execute_result"
    }
   ],
   "source": [
    "df_return_hour = df_return[df_return['반납시간'] == 22]\n",
    "df_return_hour.reset_index(drop = True, inplace = True)\n",
    "df_return_hour['반납시간_분_그룹'] = -1\n",
    "for i in range(len(df_return_hour)):\n",
    "    if df_return_hour['반납시간_분'][i] >= 50:\n",
    "        df_return_hour['반납시간_분_그룹'][i] = 50\n",
    "    elif df_return_hour['반납시간_분'][i] >= 40:\n",
    "        df_return_hour['반납시간_분_그룹'][i] = 40\n",
    "    elif df_return_hour['반납시간_분'][i] >= 30:\n",
    "        df_return_hour['반납시간_분_그룹'][i] = 30\n",
    "    elif df_return_hour['반납시간_분'][i] >= 20:\n",
    "        df_return_hour['반납시간_분_그룹'][i] = 20\n",
    "    elif df_return_hour['반납시간_분'][i] >= 10:\n",
    "        df_return_hour['반납시간_분_그룹'][i] = 10\n",
    "    else:\n",
    "        df_return_hour['반납시간_분_그룹'][i] = 0\n",
    "df_return_hour_group = df_return_hour.groupby('반납시간_분_그룹')[['반납시간_분']].count().reset_index()\n",
    "df_return_hour_group.rename(columns = {'반납시간_분' : 'count'}, inplace = True)\n",
    "df_return_hour_group"
   ]
  },
  {
   "cell_type": "code",
   "execution_count": 107,
   "metadata": {},
   "outputs": [
    {
     "data": {
      "text/plain": [
       "203.33333333333334"
      ]
     },
     "execution_count": 107,
     "metadata": {},
     "output_type": "execute_result"
    }
   ],
   "source": [
    "# 10분당 평균도착률(10분당 자전거 반납수의 평균) = lambda\n",
    "# lambda = 10이면 10분동안 평균 10대의 자전거를 반납\n",
    "\n",
    "lda22 = df_return_hour_group['count'].sum() / 6\n",
    "lda22"
   ]
  },
  {
   "cell_type": "markdown",
   "metadata": {},
   "source": [
    "#### 23시"
   ]
  },
  {
   "cell_type": "code",
   "execution_count": 108,
   "metadata": {},
   "outputs": [
    {
     "data": {
      "text/html": [
       "<div>\n",
       "<style scoped>\n",
       "    .dataframe tbody tr th:only-of-type {\n",
       "        vertical-align: middle;\n",
       "    }\n",
       "\n",
       "    .dataframe tbody tr th {\n",
       "        vertical-align: top;\n",
       "    }\n",
       "\n",
       "    .dataframe thead th {\n",
       "        text-align: right;\n",
       "    }\n",
       "</style>\n",
       "<table border=\"1\" class=\"dataframe\">\n",
       "  <thead>\n",
       "    <tr style=\"text-align: right;\">\n",
       "      <th></th>\n",
       "      <th>반납시간_분_그룹</th>\n",
       "      <th>count</th>\n",
       "    </tr>\n",
       "  </thead>\n",
       "  <tbody>\n",
       "    <tr>\n",
       "      <th>0</th>\n",
       "      <td>0</td>\n",
       "      <td>172</td>\n",
       "    </tr>\n",
       "    <tr>\n",
       "      <th>1</th>\n",
       "      <td>10</td>\n",
       "      <td>145</td>\n",
       "    </tr>\n",
       "    <tr>\n",
       "      <th>2</th>\n",
       "      <td>20</td>\n",
       "      <td>161</td>\n",
       "    </tr>\n",
       "    <tr>\n",
       "      <th>3</th>\n",
       "      <td>30</td>\n",
       "      <td>111</td>\n",
       "    </tr>\n",
       "    <tr>\n",
       "      <th>4</th>\n",
       "      <td>40</td>\n",
       "      <td>131</td>\n",
       "    </tr>\n",
       "    <tr>\n",
       "      <th>5</th>\n",
       "      <td>50</td>\n",
       "      <td>121</td>\n",
       "    </tr>\n",
       "  </tbody>\n",
       "</table>\n",
       "</div>"
      ],
      "text/plain": [
       "   반납시간_분_그룹  count\n",
       "0          0    172\n",
       "1         10    145\n",
       "2         20    161\n",
       "3         30    111\n",
       "4         40    131\n",
       "5         50    121"
      ]
     },
     "execution_count": 108,
     "metadata": {},
     "output_type": "execute_result"
    }
   ],
   "source": [
    "df_return_hour = df_return[df_return['반납시간'] == 23]\n",
    "df_return_hour.reset_index(drop = True, inplace = True)\n",
    "df_return_hour['반납시간_분_그룹'] = -1\n",
    "for i in range(len(df_return_hour)):\n",
    "    if df_return_hour['반납시간_분'][i] >= 50:\n",
    "        df_return_hour['반납시간_분_그룹'][i] = 50\n",
    "    elif df_return_hour['반납시간_분'][i] >= 40:\n",
    "        df_return_hour['반납시간_분_그룹'][i] = 40\n",
    "    elif df_return_hour['반납시간_분'][i] >= 30:\n",
    "        df_return_hour['반납시간_분_그룹'][i] = 30\n",
    "    elif df_return_hour['반납시간_분'][i] >= 20:\n",
    "        df_return_hour['반납시간_분_그룹'][i] = 20\n",
    "    elif df_return_hour['반납시간_분'][i] >= 10:\n",
    "        df_return_hour['반납시간_분_그룹'][i] = 10\n",
    "    else:\n",
    "        df_return_hour['반납시간_분_그룹'][i] = 0\n",
    "df_return_hour_group = df_return_hour.groupby('반납시간_분_그룹')[['반납시간_분']].count().reset_index()\n",
    "df_return_hour_group.rename(columns = {'반납시간_분' : 'count'}, inplace = True)\n",
    "df_return_hour_group"
   ]
  },
  {
   "cell_type": "code",
   "execution_count": 109,
   "metadata": {},
   "outputs": [
    {
     "data": {
      "text/plain": [
       "140.16666666666666"
      ]
     },
     "execution_count": 109,
     "metadata": {},
     "output_type": "execute_result"
    }
   ],
   "source": [
    "# 10분당 평균도착률(10분당 자전거 반납수의 평균) = lambda\n",
    "# lambda = 10이면 10분동안 평균 10대의 자전거를 반납\n",
    "\n",
    "lda23 = df_return_hour_group['count'].sum() / 6\n",
    "lda23"
   ]
  },
  {
   "cell_type": "markdown",
   "metadata": {},
   "source": [
    "- 2020년 6월 한달동안의 마포구민체육센터 앞 대여소의 평균도착률 람다(10분당 평균 반납수)는"
   ]
  },
  {
   "cell_type": "code",
   "execution_count": 110,
   "metadata": {},
   "outputs": [
    {
     "data": {
      "text/html": [
       "<div>\n",
       "<style scoped>\n",
       "    .dataframe tbody tr th:only-of-type {\n",
       "        vertical-align: middle;\n",
       "    }\n",
       "\n",
       "    .dataframe tbody tr th {\n",
       "        vertical-align: top;\n",
       "    }\n",
       "\n",
       "    .dataframe thead th {\n",
       "        text-align: right;\n",
       "    }\n",
       "</style>\n",
       "<table border=\"1\" class=\"dataframe\">\n",
       "  <thead>\n",
       "    <tr style=\"text-align: right;\">\n",
       "      <th></th>\n",
       "      <th>time</th>\n",
       "      <th>mu</th>\n",
       "      <th>lambda</th>\n",
       "    </tr>\n",
       "  </thead>\n",
       "  <tbody>\n",
       "    <tr>\n",
       "      <th>0</th>\n",
       "      <td>0시</td>\n",
       "      <td>78.000000</td>\n",
       "      <td>82.166667</td>\n",
       "    </tr>\n",
       "    <tr>\n",
       "      <th>1</th>\n",
       "      <td>1시</td>\n",
       "      <td>52.166667</td>\n",
       "      <td>57.500000</td>\n",
       "    </tr>\n",
       "    <tr>\n",
       "      <th>2</th>\n",
       "      <td>2시</td>\n",
       "      <td>27.166667</td>\n",
       "      <td>31.166667</td>\n",
       "    </tr>\n",
       "    <tr>\n",
       "      <th>3</th>\n",
       "      <td>3시</td>\n",
       "      <td>13.333333</td>\n",
       "      <td>14.166667</td>\n",
       "    </tr>\n",
       "    <tr>\n",
       "      <th>4</th>\n",
       "      <td>4시</td>\n",
       "      <td>9.500000</td>\n",
       "      <td>13.333333</td>\n",
       "    </tr>\n",
       "    <tr>\n",
       "      <th>5</th>\n",
       "      <td>5시</td>\n",
       "      <td>8.500000</td>\n",
       "      <td>8.500000</td>\n",
       "    </tr>\n",
       "    <tr>\n",
       "      <th>6</th>\n",
       "      <td>6시</td>\n",
       "      <td>17.333333</td>\n",
       "      <td>12.166667</td>\n",
       "    </tr>\n",
       "    <tr>\n",
       "      <th>7</th>\n",
       "      <td>7시</td>\n",
       "      <td>39.000000</td>\n",
       "      <td>14.833333</td>\n",
       "    </tr>\n",
       "    <tr>\n",
       "      <th>8</th>\n",
       "      <td>8시</td>\n",
       "      <td>45.000000</td>\n",
       "      <td>32.166667</td>\n",
       "    </tr>\n",
       "    <tr>\n",
       "      <th>9</th>\n",
       "      <td>9시</td>\n",
       "      <td>32.166667</td>\n",
       "      <td>24.666667</td>\n",
       "    </tr>\n",
       "    <tr>\n",
       "      <th>10</th>\n",
       "      <td>10시</td>\n",
       "      <td>32.833333</td>\n",
       "      <td>26.833333</td>\n",
       "    </tr>\n",
       "    <tr>\n",
       "      <th>11</th>\n",
       "      <td>11시</td>\n",
       "      <td>32.833333</td>\n",
       "      <td>37.333333</td>\n",
       "    </tr>\n",
       "    <tr>\n",
       "      <th>12</th>\n",
       "      <td>12시</td>\n",
       "      <td>34.833333</td>\n",
       "      <td>39.166667</td>\n",
       "    </tr>\n",
       "    <tr>\n",
       "      <th>13</th>\n",
       "      <td>13시</td>\n",
       "      <td>41.500000</td>\n",
       "      <td>44.333333</td>\n",
       "    </tr>\n",
       "    <tr>\n",
       "      <th>14</th>\n",
       "      <td>14시</td>\n",
       "      <td>44.000000</td>\n",
       "      <td>47.500000</td>\n",
       "    </tr>\n",
       "    <tr>\n",
       "      <th>15</th>\n",
       "      <td>15시</td>\n",
       "      <td>53.666667</td>\n",
       "      <td>61.000000</td>\n",
       "    </tr>\n",
       "    <tr>\n",
       "      <th>16</th>\n",
       "      <td>16시</td>\n",
       "      <td>77.833333</td>\n",
       "      <td>98.166667</td>\n",
       "    </tr>\n",
       "    <tr>\n",
       "      <th>17</th>\n",
       "      <td>17시</td>\n",
       "      <td>104.333333</td>\n",
       "      <td>117.333333</td>\n",
       "    </tr>\n",
       "    <tr>\n",
       "      <th>18</th>\n",
       "      <td>18시</td>\n",
       "      <td>145.500000</td>\n",
       "      <td>177.166667</td>\n",
       "    </tr>\n",
       "    <tr>\n",
       "      <th>19</th>\n",
       "      <td>19시</td>\n",
       "      <td>199.833333</td>\n",
       "      <td>235.833333</td>\n",
       "    </tr>\n",
       "    <tr>\n",
       "      <th>20</th>\n",
       "      <td>20시</td>\n",
       "      <td>235.333333</td>\n",
       "      <td>263.333333</td>\n",
       "    </tr>\n",
       "    <tr>\n",
       "      <th>21</th>\n",
       "      <td>21시</td>\n",
       "      <td>241.166667</td>\n",
       "      <td>256.666667</td>\n",
       "    </tr>\n",
       "    <tr>\n",
       "      <th>22</th>\n",
       "      <td>22시</td>\n",
       "      <td>216.000000</td>\n",
       "      <td>203.333333</td>\n",
       "    </tr>\n",
       "    <tr>\n",
       "      <th>23</th>\n",
       "      <td>23시</td>\n",
       "      <td>140.000000</td>\n",
       "      <td>140.166667</td>\n",
       "    </tr>\n",
       "  </tbody>\n",
       "</table>\n",
       "</div>"
      ],
      "text/plain": [
       "   time          mu      lambda\n",
       "0    0시   78.000000   82.166667\n",
       "1    1시   52.166667   57.500000\n",
       "2    2시   27.166667   31.166667\n",
       "3    3시   13.333333   14.166667\n",
       "4    4시    9.500000   13.333333\n",
       "5    5시    8.500000    8.500000\n",
       "6    6시   17.333333   12.166667\n",
       "7    7시   39.000000   14.833333\n",
       "8    8시   45.000000   32.166667\n",
       "9    9시   32.166667   24.666667\n",
       "10  10시   32.833333   26.833333\n",
       "11  11시   32.833333   37.333333\n",
       "12  12시   34.833333   39.166667\n",
       "13  13시   41.500000   44.333333\n",
       "14  14시   44.000000   47.500000\n",
       "15  15시   53.666667   61.000000\n",
       "16  16시   77.833333   98.166667\n",
       "17  17시  104.333333  117.333333\n",
       "18  18시  145.500000  177.166667\n",
       "19  19시  199.833333  235.833333\n",
       "20  20시  235.333333  263.333333\n",
       "21  21시  241.166667  256.666667\n",
       "22  22시  216.000000  203.333333\n",
       "23  23시  140.000000  140.166667"
      ]
     },
     "execution_count": 110,
     "metadata": {},
     "output_type": "execute_result"
    }
   ],
   "source": [
    "b = [lda0, lda1, lda2, lda3, lda4, lda5, lda6, lda7, lda8, lda9, lda10, lda11, lda12, lda13, lda14, lda15, lda16, lda17, lda18, lda19, lda20, lda21, lda22, lda23]\n",
    "\n",
    "result['lambda'] = b\n",
    "result"
   ]
  },
  {
   "cell_type": "markdown",
   "metadata": {},
   "source": [
    "### 가용도(고객이 station에 도착했을 때 자전거가 station에 있을 확률)\n",
    "$1 - (1 - \\frac{\\lambda}{\\mu})(\\frac{\\lambda}{\\mu})^0$ = $\\frac{\\lambda}{\\mu}$"
   ]
  },
  {
   "cell_type": "code",
   "execution_count": 111,
   "metadata": {},
   "outputs": [
    {
     "data": {
      "text/html": [
       "<div>\n",
       "<style scoped>\n",
       "    .dataframe tbody tr th:only-of-type {\n",
       "        vertical-align: middle;\n",
       "    }\n",
       "\n",
       "    .dataframe tbody tr th {\n",
       "        vertical-align: top;\n",
       "    }\n",
       "\n",
       "    .dataframe thead th {\n",
       "        text-align: right;\n",
       "    }\n",
       "</style>\n",
       "<table border=\"1\" class=\"dataframe\">\n",
       "  <thead>\n",
       "    <tr style=\"text-align: right;\">\n",
       "      <th></th>\n",
       "      <th>time</th>\n",
       "      <th>lambda</th>\n",
       "      <th>mu</th>\n",
       "      <th>가용도</th>\n",
       "    </tr>\n",
       "  </thead>\n",
       "  <tbody>\n",
       "    <tr>\n",
       "      <th>0</th>\n",
       "      <td>0시</td>\n",
       "      <td>82.166667</td>\n",
       "      <td>78.000000</td>\n",
       "      <td>1.053419</td>\n",
       "    </tr>\n",
       "    <tr>\n",
       "      <th>1</th>\n",
       "      <td>1시</td>\n",
       "      <td>57.500000</td>\n",
       "      <td>52.166667</td>\n",
       "      <td>1.102236</td>\n",
       "    </tr>\n",
       "    <tr>\n",
       "      <th>2</th>\n",
       "      <td>2시</td>\n",
       "      <td>31.166667</td>\n",
       "      <td>27.166667</td>\n",
       "      <td>1.147239</td>\n",
       "    </tr>\n",
       "    <tr>\n",
       "      <th>3</th>\n",
       "      <td>3시</td>\n",
       "      <td>14.166667</td>\n",
       "      <td>13.333333</td>\n",
       "      <td>1.062500</td>\n",
       "    </tr>\n",
       "    <tr>\n",
       "      <th>4</th>\n",
       "      <td>4시</td>\n",
       "      <td>13.333333</td>\n",
       "      <td>9.500000</td>\n",
       "      <td>1.403509</td>\n",
       "    </tr>\n",
       "    <tr>\n",
       "      <th>5</th>\n",
       "      <td>5시</td>\n",
       "      <td>8.500000</td>\n",
       "      <td>8.500000</td>\n",
       "      <td>1.000000</td>\n",
       "    </tr>\n",
       "    <tr>\n",
       "      <th>6</th>\n",
       "      <td>6시</td>\n",
       "      <td>12.166667</td>\n",
       "      <td>17.333333</td>\n",
       "      <td>0.701923</td>\n",
       "    </tr>\n",
       "    <tr>\n",
       "      <th>7</th>\n",
       "      <td>7시</td>\n",
       "      <td>14.833333</td>\n",
       "      <td>39.000000</td>\n",
       "      <td>0.380342</td>\n",
       "    </tr>\n",
       "    <tr>\n",
       "      <th>8</th>\n",
       "      <td>8시</td>\n",
       "      <td>32.166667</td>\n",
       "      <td>45.000000</td>\n",
       "      <td>0.714815</td>\n",
       "    </tr>\n",
       "    <tr>\n",
       "      <th>9</th>\n",
       "      <td>9시</td>\n",
       "      <td>24.666667</td>\n",
       "      <td>32.166667</td>\n",
       "      <td>0.766839</td>\n",
       "    </tr>\n",
       "    <tr>\n",
       "      <th>10</th>\n",
       "      <td>10시</td>\n",
       "      <td>26.833333</td>\n",
       "      <td>32.833333</td>\n",
       "      <td>0.817259</td>\n",
       "    </tr>\n",
       "    <tr>\n",
       "      <th>11</th>\n",
       "      <td>11시</td>\n",
       "      <td>37.333333</td>\n",
       "      <td>32.833333</td>\n",
       "      <td>1.137056</td>\n",
       "    </tr>\n",
       "    <tr>\n",
       "      <th>12</th>\n",
       "      <td>12시</td>\n",
       "      <td>39.166667</td>\n",
       "      <td>34.833333</td>\n",
       "      <td>1.124402</td>\n",
       "    </tr>\n",
       "    <tr>\n",
       "      <th>13</th>\n",
       "      <td>13시</td>\n",
       "      <td>44.333333</td>\n",
       "      <td>41.500000</td>\n",
       "      <td>1.068273</td>\n",
       "    </tr>\n",
       "    <tr>\n",
       "      <th>14</th>\n",
       "      <td>14시</td>\n",
       "      <td>47.500000</td>\n",
       "      <td>44.000000</td>\n",
       "      <td>1.079545</td>\n",
       "    </tr>\n",
       "    <tr>\n",
       "      <th>15</th>\n",
       "      <td>15시</td>\n",
       "      <td>61.000000</td>\n",
       "      <td>53.666667</td>\n",
       "      <td>1.136646</td>\n",
       "    </tr>\n",
       "    <tr>\n",
       "      <th>16</th>\n",
       "      <td>16시</td>\n",
       "      <td>98.166667</td>\n",
       "      <td>77.833333</td>\n",
       "      <td>1.261242</td>\n",
       "    </tr>\n",
       "    <tr>\n",
       "      <th>17</th>\n",
       "      <td>17시</td>\n",
       "      <td>117.333333</td>\n",
       "      <td>104.333333</td>\n",
       "      <td>1.124601</td>\n",
       "    </tr>\n",
       "    <tr>\n",
       "      <th>18</th>\n",
       "      <td>18시</td>\n",
       "      <td>177.166667</td>\n",
       "      <td>145.500000</td>\n",
       "      <td>1.217640</td>\n",
       "    </tr>\n",
       "    <tr>\n",
       "      <th>19</th>\n",
       "      <td>19시</td>\n",
       "      <td>235.833333</td>\n",
       "      <td>199.833333</td>\n",
       "      <td>1.180150</td>\n",
       "    </tr>\n",
       "    <tr>\n",
       "      <th>20</th>\n",
       "      <td>20시</td>\n",
       "      <td>263.333333</td>\n",
       "      <td>235.333333</td>\n",
       "      <td>1.118980</td>\n",
       "    </tr>\n",
       "    <tr>\n",
       "      <th>21</th>\n",
       "      <td>21시</td>\n",
       "      <td>256.666667</td>\n",
       "      <td>241.166667</td>\n",
       "      <td>1.064271</td>\n",
       "    </tr>\n",
       "    <tr>\n",
       "      <th>22</th>\n",
       "      <td>22시</td>\n",
       "      <td>203.333333</td>\n",
       "      <td>216.000000</td>\n",
       "      <td>0.941358</td>\n",
       "    </tr>\n",
       "    <tr>\n",
       "      <th>23</th>\n",
       "      <td>23시</td>\n",
       "      <td>140.166667</td>\n",
       "      <td>140.000000</td>\n",
       "      <td>1.001190</td>\n",
       "    </tr>\n",
       "  </tbody>\n",
       "</table>\n",
       "</div>"
      ],
      "text/plain": [
       "   time      lambda          mu       가용도\n",
       "0    0시   82.166667   78.000000  1.053419\n",
       "1    1시   57.500000   52.166667  1.102236\n",
       "2    2시   31.166667   27.166667  1.147239\n",
       "3    3시   14.166667   13.333333  1.062500\n",
       "4    4시   13.333333    9.500000  1.403509\n",
       "5    5시    8.500000    8.500000  1.000000\n",
       "6    6시   12.166667   17.333333  0.701923\n",
       "7    7시   14.833333   39.000000  0.380342\n",
       "8    8시   32.166667   45.000000  0.714815\n",
       "9    9시   24.666667   32.166667  0.766839\n",
       "10  10시   26.833333   32.833333  0.817259\n",
       "11  11시   37.333333   32.833333  1.137056\n",
       "12  12시   39.166667   34.833333  1.124402\n",
       "13  13시   44.333333   41.500000  1.068273\n",
       "14  14시   47.500000   44.000000  1.079545\n",
       "15  15시   61.000000   53.666667  1.136646\n",
       "16  16시   98.166667   77.833333  1.261242\n",
       "17  17시  117.333333  104.333333  1.124601\n",
       "18  18시  177.166667  145.500000  1.217640\n",
       "19  19시  235.833333  199.833333  1.180150\n",
       "20  20시  263.333333  235.333333  1.118980\n",
       "21  21시  256.666667  241.166667  1.064271\n",
       "22  22시  203.333333  216.000000  0.941358\n",
       "23  23시  140.166667  140.000000  1.001190"
      ]
     },
     "execution_count": 111,
     "metadata": {},
     "output_type": "execute_result"
    }
   ],
   "source": [
    "result['가용도'] = result['lambda'] / result['mu']\n",
    "result = result[['time', 'lambda', 'mu', '가용도']]\n",
    "result"
   ]
  },
  {
   "cell_type": "code",
   "execution_count": 112,
   "metadata": {},
   "outputs": [],
   "source": [
    "plt.style.use('bmh')"
   ]
  },
  {
   "cell_type": "code",
   "execution_count": 113,
   "metadata": {},
   "outputs": [
    {
     "data": {
      "image/png": "[encoded data removed]",
      "text/plain": [
       "<Figure size 1728x720 with 1 Axes>"
      ]
     },
     "metadata": {
      "needs_background": "light"
     },
     "output_type": "display_data"
    }
   ],
   "source": [
    "result.plot(kind = 'bar', x = 'time', y = 'lambda', figsize = (24, 10), \n",
    "            title = '2020년 6월 마포구민체육센터 앞 대여소 평균도착률(단위시간: 10분)')\n",
    "plt.show()"
   ]
  },
  {
   "cell_type": "code",
   "execution_count": 114,
   "metadata": {},
   "outputs": [
    {
     "data": {
      "image/png": "[encoded data removed]",
      "text/plain": [
       "<Figure size 1728x720 with 1 Axes>"
      ]
     },
     "metadata": {
      "needs_background": "light"
     },
     "output_type": "display_data"
    }
   ],
   "source": [
    "result.plot(kind = 'bar', x = 'time', y = 'mu', figsize = (24, 10), \n",
    "            title = '2020년 6월 마포구민체육센터 앞 대여소 평균서비스율(단위시간: 10분)')\n",
    "plt.show()"
   ]
  },
  {
   "cell_type": "code",
   "execution_count": 115,
   "metadata": {},
   "outputs": [
    {
     "data": {
      "image/png": "[encoded data removed]",
      "text/plain": [
       "<Figure size 1728x720 with 1 Axes>"
      ]
     },
     "metadata": {
      "needs_background": "light"
     },
     "output_type": "display_data"
    }
   ],
   "source": [
    "result.plot(kind = 'bar', x = 'time', y = '가용도', figsize = (24, 10), \n",
    "            title = '2020년 6월 마포구민체육센터 앞 대여소 가용도')\n",
    "plt.show()"
   ]
  },
  {
   "cell_type": "markdown",
   "metadata": {},
   "source": [
    "- 가용도가 1이하인 시간대는 반납보다 대여가 많아서 자전거 빌리기 어려움\n",
    "- 6시 ~ 10시, 22시에 가용도가 1이하\n",
    "- 출근시간에만 거의 가용도가 1이하인 것으로 보아 출근시간때 대여가 많을 것으로 예상\n",
    "- 21년 6월 동일 대여소를 비교해보면 비슷한 편이지만 20년 6월의 출근시간때 가용도가 조금 더 안 좋음\n",
    "- 출근시간때 이후에는 대부분 가용도가 1 이상이라 이용에 문제 없을 것으로 예상됨"
   ]
  }
 ],
 "metadata": {
  "kernelspec": {
   "display_name": "Python 3",
   "language": "python",
   "name": "python3"
  },
  "language_info": {
   "codemirror_mode": {
    "name": "ipython",
    "version": 3
   },
   "file_extension": ".py",
   "mimetype": "text/x-python",
   "name": "python",
   "nbconvert_exporter": "python",
   "pygments_lexer": "ipython3",
   "version": "3.7.6"
  }
 },
 "nbformat": 4,
 "nbformat_minor": 4
}
