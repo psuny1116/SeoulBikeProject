{
 "cells": [
  {
   "cell_type": "markdown",
   "metadata": {},
   "source": [
    "# Ⅳ. 따릉이 유저 분석\n",
    "- 2020년 7월 ~ 2021년 6월 따릉이 시간대별 이용정보 데이터 사용"
   ]
  },
  {
   "cell_type": "markdown",
   "metadata": {},
   "source": [
    "## 데이터 로드"
   ]
  },
  {
   "cell_type": "code",
   "execution_count": 1,
   "metadata": {},
   "outputs": [],
   "source": [
    "import pandas as pd\n",
    "import matplotlib as mpl\n",
    "import matplotlib.pyplot as plt\n",
    "import seaborn as sns\n",
    "import numpy as np\n",
    "import missingno as msno\n",
    "import warnings\n",
    "warnings.filterwarnings('ignore')\n",
    "\n",
    "mpl.rcParams['axes.unicode_minus'] = False\n",
    "plt.rcParams['font.family'] = 'NanumGothic'"
   ]
  },
  {
   "cell_type": "markdown",
   "metadata": {},
   "source": [
    "- 2020년 7월 ~ 2021년 6월 데이터 월별로 되어 있는 걸 2020.07-2021.06 데이터프레임 만들기(2020.07-2021.06.pkl)\n",
    "- 용량이 매우 크므로 pkl로 만들어서 사용"
   ]
  },
  {
   "cell_type": "code",
   "execution_count": 11,
   "metadata": {},
   "outputs": [
    {
     "data": {
      "text/plain": [
       "['공공자전거 이용정보(시간대별)_20_07.csv',\n",
       " '공공자전거 이용정보(시간대별)_20_08.csv',\n",
       " '공공자전거 이용정보(시간대별)_20_09.csv',\n",
       " '공공자전거 이용정보(시간대별)_20_10.csv',\n",
       " '공공자전거 이용정보(시간대별)_20_11.csv',\n",
       " '공공자전거 이용정보(시간대별)_20_12.csv',\n",
       " '공공자전거 이용정보(시간대별)_21_01.csv',\n",
       " '공공자전거 이용정보(시간대별)_21_2.csv',\n",
       " '공공자전거 이용정보(시간대별)_21_3.csv',\n",
       " '공공자전거 이용정보(시간대별)_21_4.csv',\n",
       " '공공자전거 이용정보(시간대별)_21_5.csv',\n",
       " '공공자전거 이용정보(시간대별)_21_6.csv']"
      ]
     },
     "execution_count": 11,
     "metadata": {},
     "output_type": "execute_result"
    }
   ],
   "source": [
    "import os\n",
    "\n",
    "dirs = os.getcwd() + './대학원/데이터/원본 데이터/' + '공공자전거 시간대별 이용정보/'\n",
    "files = os.listdir(dirs)\n",
    "files"
   ]
  },
  {
   "cell_type": "code",
   "execution_count": 21,
   "metadata": {
    "scrolled": false
   },
   "outputs": [
    {
     "name": "stdout",
     "output_type": "stream",
     "text": [
      "1/12 loaded...\n",
      "2/12 loaded...\n",
      "3/12 loaded...\n",
      "4/12 loaded...\n",
      "5/12 loaded...\n",
      "6/12 loaded...\n",
      "7/12 loaded...\n",
      "8/12 loaded...\n"
     ]
    },
    {
     "name": "stderr",
     "output_type": "stream",
     "text": [
      "Skipping line 37445: ',' expected after '\"'\n",
      "Skipping line 41217: ',' expected after '\"'\n",
      "Skipping line 42478: ',' expected after '\"'\n",
      "Skipping line 52486: ',' expected after '\"'\n",
      "Skipping line 58712: ',' expected after '\"'\n",
      "Skipping line 109901: ',' expected after '\"'\n",
      "Skipping line 236992: ',' expected after '\"'\n",
      "Skipping line 258228: ',' expected after '\"'\n",
      "Skipping line 296907: ',' expected after '\"'\n",
      "Skipping line 474268: ',' expected after '\"'\n",
      "Skipping line 509137: ',' expected after '\"'\n",
      "Skipping line 514117: ',' expected after '\"'\n",
      "Skipping line 516631: ',' expected after '\"'\n",
      "Skipping line 577957: ',' expected after '\"'\n",
      "Skipping line 616658: ',' expected after '\"'\n",
      "Skipping line 671294: ',' expected after '\"'\n",
      "Skipping line 799276: ',' expected after '\"'\n",
      "Skipping line 866632: ',' expected after '\"'\n",
      "Skipping line 968937: ',' expected after '\"'\n",
      "Skipping line 1100397: ',' expected after '\"'\n"
     ]
    },
    {
     "name": "stdout",
     "output_type": "stream",
     "text": [
      "9/12 loaded...\n"
     ]
    },
    {
     "name": "stderr",
     "output_type": "stream",
     "text": [
      "Skipping line 54978: ',' expected after '\"'\n",
      "Skipping line 89902: ',' expected after '\"'\n",
      "Skipping line 113631: ',' expected after '\"'\n",
      "Skipping line 114889: ',' expected after '\"'\n",
      "Skipping line 141164: ',' expected after '\"'\n",
      "Skipping line 151086: ',' expected after '\"'\n",
      "Skipping line 199650: ',' expected after '\"'\n",
      "Skipping line 335141: ',' expected after '\"'\n",
      "Skipping line 393787: ',' expected after '\"'\n",
      "Skipping line 453680: ',' expected after '\"'\n",
      "Skipping line 463616: ',' expected after '\"'\n",
      "Skipping line 526069: ',' expected after '\"'\n",
      "Skipping line 545944: ',' expected after '\"'\n",
      "Skipping line 583313: ',' expected after '\"'\n",
      "Skipping line 588265: ',' expected after '\"'\n",
      "Skipping line 627998: ',' expected after '\"'\n",
      "Skipping line 635459: ',' expected after '\"'\n",
      "Skipping line 640422: ',' expected after '\"'\n",
      "Skipping line 641663: ',' expected after '\"'\n",
      "Skipping line 658970: ',' expected after '\"'\n",
      "Skipping line 683762: ',' expected after '\"'\n",
      "Skipping line 733743: ',' expected after '\"'\n",
      "Skipping line 792429: ',' expected after '\"'\n",
      "Skipping line 843669: ',' expected after '\"'\n",
      "Skipping line 851128: ',' expected after '\"'\n",
      "Skipping line 854859: ',' expected after '\"'\n",
      "Skipping line 938373: ',' expected after '\"'\n",
      "Skipping line 1020601: ',' expected after '\"'\n",
      "Skipping line 1123942: ',' expected after '\"'\n",
      "Skipping line 1125212: ',' expected after '\"'\n",
      "Skipping line 1266182: ',' expected after '\"'\n",
      "Skipping line 1363549: ',' expected after '\"'\n",
      "Skipping line 1380964: ',' expected after '\"'\n",
      "Skipping line 1442082: ',' expected after '\"'\n",
      "Skipping line 1471912: ',' expected after '\"'\n",
      "Skipping line 1539086: ',' expected after '\"'\n",
      "Skipping line 1556574: ',' expected after '\"'\n",
      "Skipping line 1612726: ',' expected after '\"'\n",
      "Skipping line 1617736: ',' expected after '\"'\n",
      "Skipping line 1627832: ',' expected after '\"'\n",
      "Skipping line 1629094: ',' expected after '\"'\n",
      "Skipping line 1660248: ',' expected after '\"'\n",
      "Skipping line 1703771: ',' expected after '\"'\n",
      "Skipping line 1771070: ',' expected after '\"'\n",
      "Skipping line 1778510: ',' expected after '\"'\n",
      "Skipping line 1782211: ',' expected after '\"'\n",
      "Skipping line 1792131: ',' expected after '\"'\n"
     ]
    },
    {
     "name": "stdout",
     "output_type": "stream",
     "text": [
      "10/12 loaded...\n",
      "11/12 loaded...\n",
      "12/12 loaded...\n"
     ]
    }
   ],
   "source": [
    "try:\n",
    "    df = pd.read_pickle('./대학원/데이터/원본 데이터/공공자전거 시간대별 이용정보/2020.07-2021.06.pkl')\n",
    "except:\n",
    "    df = pd.DataFrame()\n",
    "    \n",
    "    column_types = {\n",
    "        '대여시간': 'int32',\n",
    "        '대여소번호': 'category',\n",
    "        '대여소명': 'category',\n",
    "        '대여구분코드': 'category',\n",
    "        '성별': 'category',\n",
    "        '연령대코드': 'category',\n",
    "        '이용건수': 'int32',\n",
    "        #'운동량': 'float32',\n",
    "        #'탄소량': 'float32',   운동량과 탄소량 칼럼이 숫자가 아니라 object로 되어 있음. 따로 처리\n",
    "        '이동거리': 'int32',\n",
    "        '사용시간': 'int32'\n",
    "    }\n",
    "    \n",
    "    total = len(files)\n",
    "    for i, file in enumerate(files, 1):\n",
    "        print('%d/%d loaded...' %(i, total))\n",
    "        \n",
    "        formatter = file.split('.')[1]\n",
    "        if formatter == 'xlsx':\n",
    "            _df = pd.read_excel(dirs + file, dtype = column_types, parse_dates = ['대여일자'])\n",
    "        elif formatter == 'csv':\n",
    "            _df = pd.read_csv(dirs + file, dtype = column_types, parse_dates = ['대여일자'], engine = 'python', error_bad_lines=False)\n",
    "        df = pd.concat([df, _df], ignore_index = True)\n",
    "        \n",
    "    df['대여소번호'] = df['대여소번호'].astype('category')\n",
    "    df['대여소명'] = df['대여소명'].astype('category')\n",
    "    df['대여구분코드'] = df['대여구분코드'].astype('category')\n",
    "    \n",
    "    df.to_pickle('./대학원/데이터/원본 데이터/공공자전거 시간대별 이용정보/2020.07-2021.06.pkl')"
   ]
  },
  {
   "cell_type": "code",
   "execution_count": 22,
   "metadata": {},
   "outputs": [
    {
     "data": {
      "text/html": [
       "<div>\n",
       "<style scoped>\n",
       "    .dataframe tbody tr th:only-of-type {\n",
       "        vertical-align: middle;\n",
       "    }\n",
       "\n",
       "    .dataframe tbody tr th {\n",
       "        vertical-align: top;\n",
       "    }\n",
       "\n",
       "    .dataframe thead th {\n",
       "        text-align: right;\n",
       "    }\n",
       "</style>\n",
       "<table border=\"1\" class=\"dataframe\">\n",
       "  <thead>\n",
       "    <tr style=\"text-align: right;\">\n",
       "      <th></th>\n",
       "      <th>대여일자</th>\n",
       "      <th>대여시간</th>\n",
       "      <th>대여소번호</th>\n",
       "      <th>대여소명</th>\n",
       "      <th>대여구분코드</th>\n",
       "      <th>성별</th>\n",
       "      <th>연령대코드</th>\n",
       "      <th>이용건수</th>\n",
       "      <th>운동량</th>\n",
       "      <th>탄소량</th>\n",
       "      <th>이동거리</th>\n",
       "      <th>사용시간</th>\n",
       "    </tr>\n",
       "  </thead>\n",
       "  <tbody>\n",
       "    <tr>\n",
       "      <th>0</th>\n",
       "      <td>2020-07-01</td>\n",
       "      <td>0</td>\n",
       "      <td>00740</td>\n",
       "      <td>740. 으뜸공원</td>\n",
       "      <td>정기권</td>\n",
       "      <td>NaN</td>\n",
       "      <td>~10대</td>\n",
       "      <td>1</td>\n",
       "      <td>13.97</td>\n",
       "      <td>0.10</td>\n",
       "      <td>440</td>\n",
       "      <td>5</td>\n",
       "    </tr>\n",
       "    <tr>\n",
       "      <th>1</th>\n",
       "      <td>2020-07-01</td>\n",
       "      <td>0</td>\n",
       "      <td>00939</td>\n",
       "      <td>939. 은평구청 교차로</td>\n",
       "      <td>정기권</td>\n",
       "      <td>NaN</td>\n",
       "      <td>~10대</td>\n",
       "      <td>1</td>\n",
       "      <td>0.00</td>\n",
       "      <td>0.00</td>\n",
       "      <td>0</td>\n",
       "      <td>20</td>\n",
       "    </tr>\n",
       "    <tr>\n",
       "      <th>2</th>\n",
       "      <td>2020-07-01</td>\n",
       "      <td>0</td>\n",
       "      <td>01026</td>\n",
       "      <td>1026. 대명초교 입구 교차로</td>\n",
       "      <td>정기권</td>\n",
       "      <td>NaN</td>\n",
       "      <td>~10대</td>\n",
       "      <td>1</td>\n",
       "      <td>0.00</td>\n",
       "      <td>0.00</td>\n",
       "      <td>0</td>\n",
       "      <td>21</td>\n",
       "    </tr>\n",
       "    <tr>\n",
       "      <th>3</th>\n",
       "      <td>2020-07-01</td>\n",
       "      <td>0</td>\n",
       "      <td>01044</td>\n",
       "      <td>1044. 굽은다리역</td>\n",
       "      <td>정기권</td>\n",
       "      <td>NaN</td>\n",
       "      <td>~10대</td>\n",
       "      <td>3</td>\n",
       "      <td>52.53</td>\n",
       "      <td>0.31</td>\n",
       "      <td>1326</td>\n",
       "      <td>24</td>\n",
       "    </tr>\n",
       "    <tr>\n",
       "      <th>4</th>\n",
       "      <td>2020-07-01</td>\n",
       "      <td>0</td>\n",
       "      <td>01721</td>\n",
       "      <td>1721. 창동역 2번출구</td>\n",
       "      <td>정기권</td>\n",
       "      <td>NaN</td>\n",
       "      <td>~10대</td>\n",
       "      <td>2</td>\n",
       "      <td>62.37</td>\n",
       "      <td>0.49</td>\n",
       "      <td>2100</td>\n",
       "      <td>60</td>\n",
       "    </tr>\n",
       "  </tbody>\n",
       "</table>\n",
       "</div>"
      ],
      "text/plain": [
       "        대여일자  대여시간  대여소번호               대여소명 대여구분코드   성별 연령대코드  이용건수    운동량  \\\n",
       "0 2020-07-01     0  00740          740. 으뜸공원    정기권  NaN  ~10대     1  13.97   \n",
       "1 2020-07-01     0  00939      939. 은평구청 교차로    정기권  NaN  ~10대     1   0.00   \n",
       "2 2020-07-01     0  01026  1026. 대명초교 입구 교차로    정기권  NaN  ~10대     1   0.00   \n",
       "3 2020-07-01     0  01044        1044. 굽은다리역    정기권  NaN  ~10대     3  52.53   \n",
       "4 2020-07-01     0  01721    1721. 창동역 2번출구     정기권  NaN  ~10대     2  62.37   \n",
       "\n",
       "    탄소량  이동거리  사용시간  \n",
       "0  0.10   440     5  \n",
       "1  0.00     0    20  \n",
       "2  0.00     0    21  \n",
       "3  0.31  1326    24  \n",
       "4  0.49  2100    60  "
      ]
     },
     "execution_count": 22,
     "metadata": {},
     "output_type": "execute_result"
    }
   ],
   "source": [
    "df = pd.read_pickle('./대학원/데이터/원본 데이터/공공자전거 시간대별 이용정보/2020.07-2021.06.pkl')\n",
    "df.head()"
   ]
  },
  {
   "cell_type": "code",
   "execution_count": 23,
   "metadata": {},
   "outputs": [
    {
     "data": {
      "text/html": [
       "<div>\n",
       "<style scoped>\n",
       "    .dataframe tbody tr th:only-of-type {\n",
       "        vertical-align: middle;\n",
       "    }\n",
       "\n",
       "    .dataframe tbody tr th {\n",
       "        vertical-align: top;\n",
       "    }\n",
       "\n",
       "    .dataframe thead th {\n",
       "        text-align: right;\n",
       "    }\n",
       "</style>\n",
       "<table border=\"1\" class=\"dataframe\">\n",
       "  <thead>\n",
       "    <tr style=\"text-align: right;\">\n",
       "      <th></th>\n",
       "      <th>대여일자</th>\n",
       "      <th>대여시간</th>\n",
       "      <th>대여소번호</th>\n",
       "      <th>대여소명</th>\n",
       "      <th>대여구분코드</th>\n",
       "      <th>성별</th>\n",
       "      <th>연령대코드</th>\n",
       "      <th>이용건수</th>\n",
       "      <th>운동량</th>\n",
       "      <th>탄소량</th>\n",
       "      <th>이동거리</th>\n",
       "      <th>사용시간</th>\n",
       "    </tr>\n",
       "  </thead>\n",
       "  <tbody>\n",
       "    <tr>\n",
       "      <th>21900360</th>\n",
       "      <td>2021-06-30</td>\n",
       "      <td>23</td>\n",
       "      <td>01640</td>\n",
       "      <td>1640. 한내근린공원 북측</td>\n",
       "      <td>정기권</td>\n",
       "      <td>NaN</td>\n",
       "      <td>30대</td>\n",
       "      <td>1</td>\n",
       "      <td>5.79</td>\n",
       "      <td>0.04</td>\n",
       "      <td>176</td>\n",
       "      <td>14</td>\n",
       "    </tr>\n",
       "    <tr>\n",
       "      <th>21900361</th>\n",
       "      <td>2021-06-30</td>\n",
       "      <td>23</td>\n",
       "      <td>00250</td>\n",
       "      <td>250. 대림아파트 사거리</td>\n",
       "      <td>정기권</td>\n",
       "      <td>NaN</td>\n",
       "      <td>40대</td>\n",
       "      <td>1</td>\n",
       "      <td>0.00</td>\n",
       "      <td>0.00</td>\n",
       "      <td>0</td>\n",
       "      <td>8</td>\n",
       "    </tr>\n",
       "    <tr>\n",
       "      <th>21900362</th>\n",
       "      <td>2021-06-30</td>\n",
       "      <td>23</td>\n",
       "      <td>01195</td>\n",
       "      <td>1195. 코오롱One&amp;Only타워</td>\n",
       "      <td>정기권</td>\n",
       "      <td>F</td>\n",
       "      <td>20대</td>\n",
       "      <td>1</td>\n",
       "      <td>46.50</td>\n",
       "      <td>0.52</td>\n",
       "      <td>2258</td>\n",
       "      <td>17</td>\n",
       "    </tr>\n",
       "    <tr>\n",
       "      <th>21900363</th>\n",
       "      <td>2021-06-30</td>\n",
       "      <td>23</td>\n",
       "      <td>00372</td>\n",
       "      <td>372. 약수역 3번출구 뒤</td>\n",
       "      <td>정기권</td>\n",
       "      <td>M</td>\n",
       "      <td>40대</td>\n",
       "      <td>1</td>\n",
       "      <td>28.43</td>\n",
       "      <td>0.19</td>\n",
       "      <td>797</td>\n",
       "      <td>14</td>\n",
       "    </tr>\n",
       "    <tr>\n",
       "      <th>21900364</th>\n",
       "      <td>2021-06-30</td>\n",
       "      <td>23</td>\n",
       "      <td>01044</td>\n",
       "      <td>1044. 굽은다리역</td>\n",
       "      <td>정기권</td>\n",
       "      <td>M</td>\n",
       "      <td>50대</td>\n",
       "      <td>1</td>\n",
       "      <td>12.65</td>\n",
       "      <td>0.10</td>\n",
       "      <td>450</td>\n",
       "      <td>14</td>\n",
       "    </tr>\n",
       "  </tbody>\n",
       "</table>\n",
       "</div>"
      ],
      "text/plain": [
       "               대여일자  대여시간  대여소번호                 대여소명 대여구분코드   성별 연령대코드  이용건수  \\\n",
       "21900360 2021-06-30    23  01640      1640. 한내근린공원 북측    정기권  NaN   30대     1   \n",
       "21900361 2021-06-30    23  00250       250. 대림아파트 사거리    정기권  NaN   40대     1   \n",
       "21900362 2021-06-30    23  01195  1195. 코오롱One&Only타워    정기권    F   20대     1   \n",
       "21900363 2021-06-30    23  00372      372. 약수역 3번출구 뒤    정기권    M   40대     1   \n",
       "21900364 2021-06-30    23  01044          1044. 굽은다리역    정기권    M   50대     1   \n",
       "\n",
       "            운동량   탄소량  이동거리  사용시간  \n",
       "21900360   5.79  0.04   176    14  \n",
       "21900361   0.00  0.00     0     8  \n",
       "21900362  46.50  0.52  2258    17  \n",
       "21900363  28.43  0.19   797    14  \n",
       "21900364  12.65  0.10   450    14  "
      ]
     },
     "execution_count": 23,
     "metadata": {},
     "output_type": "execute_result"
    }
   ],
   "source": [
    "df.tail()"
   ]
  },
  {
   "cell_type": "code",
   "execution_count": 24,
   "metadata": {},
   "outputs": [
    {
     "name": "stdout",
     "output_type": "stream",
     "text": [
      "<class 'pandas.core.frame.DataFrame'>\n",
      "RangeIndex: 21900365 entries, 0 to 21900364\n",
      "Data columns (total 12 columns):\n",
      " #   Column  Dtype         \n",
      "---  ------  -----         \n",
      " 0   대여일자    datetime64[ns]\n",
      " 1   대여시간    int32         \n",
      " 2   대여소번호   category      \n",
      " 3   대여소명    category      \n",
      " 4   대여구분코드  category      \n",
      " 5   성별      category      \n",
      " 6   연령대코드   category      \n",
      " 7   이용건수    int32         \n",
      " 8   운동량     object        \n",
      " 9   탄소량     object        \n",
      " 10  이동거리    int32         \n",
      " 11  사용시간    int32         \n",
      "dtypes: category(5), datetime64[ns](1), int32(4), object(2)\n",
      "memory usage: 981.8+ MB\n"
     ]
    }
   ],
   "source": [
    "df.info()"
   ]
  },
  {
   "cell_type": "markdown",
   "metadata": {},
   "source": [
    "- 운동량과 탄소량 칼럼 object이므로(\\\\N이 포함되어 있음) float32로 바꿔야 함"
   ]
  },
  {
   "cell_type": "code",
   "execution_count": 30,
   "metadata": {},
   "outputs": [],
   "source": [
    "df['운동량'] = df['운동량'].replace({'\\\\N': np.nan}).astype('float64')"
   ]
  },
  {
   "cell_type": "code",
   "execution_count": 31,
   "metadata": {},
   "outputs": [],
   "source": [
    "df['탄소량'] = df['탄소량'].replace({'\\\\N': np.nan}).astype('float64')"
   ]
  },
  {
   "cell_type": "code",
   "execution_count": 32,
   "metadata": {},
   "outputs": [
    {
     "name": "stdout",
     "output_type": "stream",
     "text": [
      "<class 'pandas.core.frame.DataFrame'>\n",
      "RangeIndex: 21900365 entries, 0 to 21900364\n",
      "Data columns (total 12 columns):\n",
      " #   Column  Dtype         \n",
      "---  ------  -----         \n",
      " 0   대여일자    datetime64[ns]\n",
      " 1   대여시간    int32         \n",
      " 2   대여소번호   category      \n",
      " 3   대여소명    category      \n",
      " 4   대여구분코드  category      \n",
      " 5   성별      category      \n",
      " 6   연령대코드   category      \n",
      " 7   이용건수    int32         \n",
      " 8   운동량     float64       \n",
      " 9   탄소량     float64       \n",
      " 10  이동거리    int32         \n",
      " 11  사용시간    int32         \n",
      "dtypes: category(5), datetime64[ns](1), float64(2), int32(4)\n",
      "memory usage: 981.8 MB\n"
     ]
    }
   ],
   "source": [
    "df.info()"
   ]
  },
  {
   "cell_type": "markdown",
   "metadata": {},
   "source": [
    "- 카테고리 칼럼들 전체 집합 확인"
   ]
  },
  {
   "cell_type": "code",
   "execution_count": null,
   "metadata": {},
   "outputs": [],
   "source": [
    "df['대여소명']"
   ]
  }
 ],
 "metadata": {
  "kernelspec": {
   "display_name": "Python 3",
   "language": "python",
   "name": "python3"
  },
  "language_info": {
   "codemirror_mode": {
    "name": "ipython",
    "version": 3
   },
   "file_extension": ".py",
   "mimetype": "text/x-python",
   "name": "python",
   "nbconvert_exporter": "python",
   "pygments_lexer": "ipython3",
   "version": "3.7.6"
  }
 },
 "nbformat": 4,
 "nbformat_minor": 4
}
