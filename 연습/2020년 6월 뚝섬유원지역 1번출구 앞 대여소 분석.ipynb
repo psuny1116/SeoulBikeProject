{
 "cells": [
  {
   "cell_type": "code",
   "execution_count": 1,
   "metadata": {},
   "outputs": [],
   "source": [
    "import pandas as pd\n",
    "import numpy as np\n",
    "\n",
    "import matplotlib as mpl\n",
    "import matplotlib.pyplot as plt\n",
    "import seaborn as sns\n",
    "\n",
    "import warnings\n",
    "warnings.filterwarnings('ignore')\n",
    "\n",
    "mpl.rcParams['axes.unicode_minus'] = False\n",
    "plt.rcParams['font.family'] = 'NanumGothic'"
   ]
  },
  {
   "cell_type": "code",
   "execution_count": 2,
   "metadata": {
    "scrolled": false
   },
   "outputs": [
    {
     "data": {
      "text/html": [
       "<div>\n",
       "<style scoped>\n",
       "    .dataframe tbody tr th:only-of-type {\n",
       "        vertical-align: middle;\n",
       "    }\n",
       "\n",
       "    .dataframe tbody tr th {\n",
       "        vertical-align: top;\n",
       "    }\n",
       "\n",
       "    .dataframe thead th {\n",
       "        text-align: right;\n",
       "    }\n",
       "</style>\n",
       "<table border=\"1\" class=\"dataframe\">\n",
       "  <thead>\n",
       "    <tr style=\"text-align: right;\">\n",
       "      <th></th>\n",
       "      <th>자전거번호</th>\n",
       "      <th>대여일시</th>\n",
       "      <th>대여대여소번호</th>\n",
       "      <th>대여대여소명</th>\n",
       "      <th>대여거치대</th>\n",
       "      <th>반납일시</th>\n",
       "      <th>반납대여소번호</th>\n",
       "      <th>반납대여소명</th>\n",
       "      <th>반납거치대</th>\n",
       "      <th>이용시간</th>\n",
       "      <th>이용거리</th>\n",
       "    </tr>\n",
       "  </thead>\n",
       "  <tbody>\n",
       "    <tr>\n",
       "      <th>0</th>\n",
       "      <td>SPB-36260</td>\n",
       "      <td>2020-06-01 00:00:35</td>\n",
       "      <td>1681</td>\n",
       "      <td>현대6차 아파트</td>\n",
       "      <td>0</td>\n",
       "      <td>2020-06-01 00:05:24</td>\n",
       "      <td>1665</td>\n",
       "      <td>양지근린공원앞</td>\n",
       "      <td>0</td>\n",
       "      <td>5</td>\n",
       "      <td>0.00</td>\n",
       "    </tr>\n",
       "    <tr>\n",
       "      <th>1</th>\n",
       "      <td>SPB-36146</td>\n",
       "      <td>2020-06-01 00:01:47</td>\n",
       "      <td>816</td>\n",
       "      <td>신용산역 6번출구 앞</td>\n",
       "      <td>0</td>\n",
       "      <td>2020-06-01 00:05:54</td>\n",
       "      <td>829</td>\n",
       "      <td>베르가모앞</td>\n",
       "      <td>0</td>\n",
       "      <td>4</td>\n",
       "      <td>0.00</td>\n",
       "    </tr>\n",
       "    <tr>\n",
       "      <th>2</th>\n",
       "      <td>SPB-33273</td>\n",
       "      <td>2020-06-01 00:03:05</td>\n",
       "      <td>1050</td>\n",
       "      <td>둔촌역 3번 출입구</td>\n",
       "      <td>0</td>\n",
       "      <td>2020-06-01 00:05:59</td>\n",
       "      <td>1078</td>\n",
       "      <td>둔촌사거리</td>\n",
       "      <td>0</td>\n",
       "      <td>3</td>\n",
       "      <td>0.00</td>\n",
       "    </tr>\n",
       "    <tr>\n",
       "      <th>3</th>\n",
       "      <td>SPB-35969</td>\n",
       "      <td>2020-06-01 00:04:31</td>\n",
       "      <td>1209</td>\n",
       "      <td>잠실나루역 (2번 출구 쪽)</td>\n",
       "      <td>0</td>\n",
       "      <td>2020-06-01 00:06:10</td>\n",
       "      <td>1209</td>\n",
       "      <td>잠실나루역 (2번 출구 쪽)</td>\n",
       "      <td>0</td>\n",
       "      <td>2</td>\n",
       "      <td>0.00</td>\n",
       "    </tr>\n",
       "    <tr>\n",
       "      <th>4</th>\n",
       "      <td>SPB-30703</td>\n",
       "      <td>2020-06-01 00:00:46</td>\n",
       "      <td>1132</td>\n",
       "      <td>등촌역 7번출구</td>\n",
       "      <td>0</td>\n",
       "      <td>2020-06-01 00:06:53</td>\n",
       "      <td>1169</td>\n",
       "      <td>염창역 1번 출구</td>\n",
       "      <td>0</td>\n",
       "      <td>6</td>\n",
       "      <td>0.00</td>\n",
       "    </tr>\n",
       "    <tr>\n",
       "      <th>...</th>\n",
       "      <td>...</td>\n",
       "      <td>...</td>\n",
       "      <td>...</td>\n",
       "      <td>...</td>\n",
       "      <td>...</td>\n",
       "      <td>...</td>\n",
       "      <td>...</td>\n",
       "      <td>...</td>\n",
       "      <td>...</td>\n",
       "      <td>...</td>\n",
       "      <td>...</td>\n",
       "    </tr>\n",
       "    <tr>\n",
       "      <th>2725232</th>\n",
       "      <td>SPB-12680</td>\n",
       "      <td>2020-06-30 13:01:33</td>\n",
       "      <td>1346</td>\n",
       "      <td>길음8골어린이공원 옆</td>\n",
       "      <td>1</td>\n",
       "      <td>2020-07-01 02:50:27</td>\n",
       "      <td>1347</td>\n",
       "      <td>길음래미안아파트817동 상가 앞</td>\n",
       "      <td>1</td>\n",
       "      <td>15</td>\n",
       "      <td>7230.00</td>\n",
       "    </tr>\n",
       "    <tr>\n",
       "      <th>2725233</th>\n",
       "      <td>SPB-40800</td>\n",
       "      <td>2020-06-30 23:56:30</td>\n",
       "      <td>107</td>\n",
       "      <td>신한은행 서교동금융센터점 앞</td>\n",
       "      <td>0</td>\n",
       "      <td>2020-07-01 07:41:32</td>\n",
       "      <td>438</td>\n",
       "      <td>성산2-1 공영주차장</td>\n",
       "      <td>0</td>\n",
       "      <td>465</td>\n",
       "      <td>0.00</td>\n",
       "    </tr>\n",
       "    <tr>\n",
       "      <th>2725234</th>\n",
       "      <td>SPB-32402</td>\n",
       "      <td>2020-06-30 16:45:32</td>\n",
       "      <td>1956</td>\n",
       "      <td>도야미리숯불갈비 앞</td>\n",
       "      <td>0</td>\n",
       "      <td>2020-07-01 08:04:52</td>\n",
       "      <td>1956</td>\n",
       "      <td>도야미리숯불갈비 앞</td>\n",
       "      <td>0</td>\n",
       "      <td>919</td>\n",
       "      <td>39786.76</td>\n",
       "    </tr>\n",
       "    <tr>\n",
       "      <th>2725235</th>\n",
       "      <td>SPB-38526</td>\n",
       "      <td>2020-06-30 23:23:38</td>\n",
       "      <td>703</td>\n",
       "      <td>오목교역 7번출구 앞</td>\n",
       "      <td>0</td>\n",
       "      <td>2020-07-01 08:37:15</td>\n",
       "      <td>734</td>\n",
       "      <td>신트리공원 입구</td>\n",
       "      <td>0</td>\n",
       "      <td>554</td>\n",
       "      <td>0.00</td>\n",
       "    </tr>\n",
       "    <tr>\n",
       "      <th>2725236</th>\n",
       "      <td>SPB-21598</td>\n",
       "      <td>2020-06-30 23:52:23</td>\n",
       "      <td>1008</td>\n",
       "      <td>암사역 3번출구(국민은행앞)</td>\n",
       "      <td>4</td>\n",
       "      <td>2020-07-01 09:07:47</td>\n",
       "      <td>1008</td>\n",
       "      <td>암사역 3번출구(국민은행앞)</td>\n",
       "      <td>4</td>\n",
       "      <td>42</td>\n",
       "      <td>310.00</td>\n",
       "    </tr>\n",
       "  </tbody>\n",
       "</table>\n",
       "<p>2725237 rows × 11 columns</p>\n",
       "</div>"
      ],
      "text/plain": [
       "             자전거번호                 대여일시  대여대여소번호           대여대여소명  대여거치대  \\\n",
       "0        SPB-36260  2020-06-01 00:00:35     1681         현대6차 아파트      0   \n",
       "1        SPB-36146  2020-06-01 00:01:47      816      신용산역 6번출구 앞      0   \n",
       "2        SPB-33273  2020-06-01 00:03:05     1050       둔촌역 3번 출입구      0   \n",
       "3        SPB-35969  2020-06-01 00:04:31     1209  잠실나루역 (2번 출구 쪽)      0   \n",
       "4        SPB-30703  2020-06-01 00:00:46     1132         등촌역 7번출구      0   \n",
       "...            ...                  ...      ...              ...    ...   \n",
       "2725232  SPB-12680  2020-06-30 13:01:33     1346      길음8골어린이공원 옆      1   \n",
       "2725233  SPB-40800  2020-06-30 23:56:30      107  신한은행 서교동금융센터점 앞      0   \n",
       "2725234  SPB-32402  2020-06-30 16:45:32     1956       도야미리숯불갈비 앞      0   \n",
       "2725235  SPB-38526  2020-06-30 23:23:38      703      오목교역 7번출구 앞      0   \n",
       "2725236  SPB-21598  2020-06-30 23:52:23     1008  암사역 3번출구(국민은행앞)      4   \n",
       "\n",
       "                        반납일시  반납대여소번호             반납대여소명  반납거치대  이용시간  \\\n",
       "0        2020-06-01 00:05:24     1665            양지근린공원앞      0     5   \n",
       "1        2020-06-01 00:05:54      829              베르가모앞      0     4   \n",
       "2        2020-06-01 00:05:59     1078              둔촌사거리      0     3   \n",
       "3        2020-06-01 00:06:10     1209    잠실나루역 (2번 출구 쪽)      0     2   \n",
       "4        2020-06-01 00:06:53     1169          염창역 1번 출구      0     6   \n",
       "...                      ...      ...                ...    ...   ...   \n",
       "2725232  2020-07-01 02:50:27     1347  길음래미안아파트817동 상가 앞      1    15   \n",
       "2725233  2020-07-01 07:41:32      438        성산2-1 공영주차장      0   465   \n",
       "2725234  2020-07-01 08:04:52     1956         도야미리숯불갈비 앞      0   919   \n",
       "2725235  2020-07-01 08:37:15      734           신트리공원 입구      0   554   \n",
       "2725236  2020-07-01 09:07:47     1008    암사역 3번출구(국민은행앞)      4    42   \n",
       "\n",
       "             이용거리  \n",
       "0            0.00  \n",
       "1            0.00  \n",
       "2            0.00  \n",
       "3            0.00  \n",
       "4            0.00  \n",
       "...           ...  \n",
       "2725232   7230.00  \n",
       "2725233      0.00  \n",
       "2725234  39786.76  \n",
       "2725235      0.00  \n",
       "2725236    310.00  \n",
       "\n",
       "[2725237 rows x 11 columns]"
      ]
     },
     "execution_count": 2,
     "metadata": {},
     "output_type": "execute_result"
    }
   ],
   "source": [
    "df = pd.read_csv('./data/공공자전거 대여이력 정보_2020.06.csv', engine = 'python')\n",
    "df"
   ]
  },
  {
   "cell_type": "code",
   "execution_count": 3,
   "metadata": {},
   "outputs": [
    {
     "data": {
      "text/html": [
       "<div>\n",
       "<style scoped>\n",
       "    .dataframe tbody tr th:only-of-type {\n",
       "        vertical-align: middle;\n",
       "    }\n",
       "\n",
       "    .dataframe tbody tr th {\n",
       "        vertical-align: top;\n",
       "    }\n",
       "\n",
       "    .dataframe thead th {\n",
       "        text-align: right;\n",
       "    }\n",
       "</style>\n",
       "<table border=\"1\" class=\"dataframe\">\n",
       "  <thead>\n",
       "    <tr style=\"text-align: right;\">\n",
       "      <th></th>\n",
       "      <th>대여일시</th>\n",
       "      <th>대여대여소명</th>\n",
       "      <th>반납일시</th>\n",
       "      <th>반납대여소명</th>\n",
       "    </tr>\n",
       "  </thead>\n",
       "  <tbody>\n",
       "    <tr>\n",
       "      <th>0</th>\n",
       "      <td>2020-06-01 00:00:35</td>\n",
       "      <td>현대6차 아파트</td>\n",
       "      <td>2020-06-01 00:05:24</td>\n",
       "      <td>양지근린공원앞</td>\n",
       "    </tr>\n",
       "    <tr>\n",
       "      <th>1</th>\n",
       "      <td>2020-06-01 00:01:47</td>\n",
       "      <td>신용산역 6번출구 앞</td>\n",
       "      <td>2020-06-01 00:05:54</td>\n",
       "      <td>베르가모앞</td>\n",
       "    </tr>\n",
       "    <tr>\n",
       "      <th>2</th>\n",
       "      <td>2020-06-01 00:03:05</td>\n",
       "      <td>둔촌역 3번 출입구</td>\n",
       "      <td>2020-06-01 00:05:59</td>\n",
       "      <td>둔촌사거리</td>\n",
       "    </tr>\n",
       "    <tr>\n",
       "      <th>3</th>\n",
       "      <td>2020-06-01 00:04:31</td>\n",
       "      <td>잠실나루역 (2번 출구 쪽)</td>\n",
       "      <td>2020-06-01 00:06:10</td>\n",
       "      <td>잠실나루역 (2번 출구 쪽)</td>\n",
       "    </tr>\n",
       "    <tr>\n",
       "      <th>4</th>\n",
       "      <td>2020-06-01 00:00:46</td>\n",
       "      <td>등촌역 7번출구</td>\n",
       "      <td>2020-06-01 00:06:53</td>\n",
       "      <td>염창역 1번 출구</td>\n",
       "    </tr>\n",
       "    <tr>\n",
       "      <th>...</th>\n",
       "      <td>...</td>\n",
       "      <td>...</td>\n",
       "      <td>...</td>\n",
       "      <td>...</td>\n",
       "    </tr>\n",
       "    <tr>\n",
       "      <th>2725232</th>\n",
       "      <td>2020-06-30 13:01:33</td>\n",
       "      <td>길음8골어린이공원 옆</td>\n",
       "      <td>2020-07-01 02:50:27</td>\n",
       "      <td>길음래미안아파트817동 상가 앞</td>\n",
       "    </tr>\n",
       "    <tr>\n",
       "      <th>2725233</th>\n",
       "      <td>2020-06-30 23:56:30</td>\n",
       "      <td>신한은행 서교동금융센터점 앞</td>\n",
       "      <td>2020-07-01 07:41:32</td>\n",
       "      <td>성산2-1 공영주차장</td>\n",
       "    </tr>\n",
       "    <tr>\n",
       "      <th>2725234</th>\n",
       "      <td>2020-06-30 16:45:32</td>\n",
       "      <td>도야미리숯불갈비 앞</td>\n",
       "      <td>2020-07-01 08:04:52</td>\n",
       "      <td>도야미리숯불갈비 앞</td>\n",
       "    </tr>\n",
       "    <tr>\n",
       "      <th>2725235</th>\n",
       "      <td>2020-06-30 23:23:38</td>\n",
       "      <td>오목교역 7번출구 앞</td>\n",
       "      <td>2020-07-01 08:37:15</td>\n",
       "      <td>신트리공원 입구</td>\n",
       "    </tr>\n",
       "    <tr>\n",
       "      <th>2725236</th>\n",
       "      <td>2020-06-30 23:52:23</td>\n",
       "      <td>암사역 3번출구(국민은행앞)</td>\n",
       "      <td>2020-07-01 09:07:47</td>\n",
       "      <td>암사역 3번출구(국민은행앞)</td>\n",
       "    </tr>\n",
       "  </tbody>\n",
       "</table>\n",
       "<p>2725237 rows × 4 columns</p>\n",
       "</div>"
      ],
      "text/plain": [
       "                        대여일시           대여대여소명                 반납일시  \\\n",
       "0        2020-06-01 00:00:35         현대6차 아파트  2020-06-01 00:05:24   \n",
       "1        2020-06-01 00:01:47      신용산역 6번출구 앞  2020-06-01 00:05:54   \n",
       "2        2020-06-01 00:03:05       둔촌역 3번 출입구  2020-06-01 00:05:59   \n",
       "3        2020-06-01 00:04:31  잠실나루역 (2번 출구 쪽)  2020-06-01 00:06:10   \n",
       "4        2020-06-01 00:00:46         등촌역 7번출구  2020-06-01 00:06:53   \n",
       "...                      ...              ...                  ...   \n",
       "2725232  2020-06-30 13:01:33      길음8골어린이공원 옆  2020-07-01 02:50:27   \n",
       "2725233  2020-06-30 23:56:30  신한은행 서교동금융센터점 앞  2020-07-01 07:41:32   \n",
       "2725234  2020-06-30 16:45:32       도야미리숯불갈비 앞  2020-07-01 08:04:52   \n",
       "2725235  2020-06-30 23:23:38      오목교역 7번출구 앞  2020-07-01 08:37:15   \n",
       "2725236  2020-06-30 23:52:23  암사역 3번출구(국민은행앞)  2020-07-01 09:07:47   \n",
       "\n",
       "                    반납대여소명  \n",
       "0                  양지근린공원앞  \n",
       "1                    베르가모앞  \n",
       "2                    둔촌사거리  \n",
       "3          잠실나루역 (2번 출구 쪽)  \n",
       "4                염창역 1번 출구  \n",
       "...                    ...  \n",
       "2725232  길음래미안아파트817동 상가 앞  \n",
       "2725233        성산2-1 공영주차장  \n",
       "2725234         도야미리숯불갈비 앞  \n",
       "2725235           신트리공원 입구  \n",
       "2725236    암사역 3번출구(국민은행앞)  \n",
       "\n",
       "[2725237 rows x 4 columns]"
      ]
     },
     "execution_count": 3,
     "metadata": {},
     "output_type": "execute_result"
    }
   ],
   "source": [
    "df = df.drop(['자전거번호', '대여대여소번호', '대여거치대', '반납대여소번호', '반납거치대', '이용시간', '이용거리'], axis = 1)\n",
    "df"
   ]
  },
  {
   "cell_type": "code",
   "execution_count": 4,
   "metadata": {},
   "outputs": [],
   "source": [
    "df['대여일시'] = pd.to_datetime(df['대여일시'])\n",
    "df['반납일시'] = pd.to_datetime(df['반납일시'])"
   ]
  },
  {
   "cell_type": "code",
   "execution_count": 5,
   "metadata": {},
   "outputs": [],
   "source": [
    "df['대여월'] = df['대여일시'].dt.month\n",
    "df['대여일'] = df['대여일시'].dt.day\n",
    "df['대여요일'] = df['대여일시'].dt.dayofweek\n",
    "df['대여시간'] = df['대여일시'].dt.hour\n",
    "df['대여시간_분'] = df['대여일시'].dt.minute\n",
    "\n",
    "df['반납월'] = df['반납일시'].dt.month\n",
    "df['반납일'] = df['반납일시'].dt.day\n",
    "df['반납요일'] = df['반납일시'].dt.dayofweek\n",
    "df['반납시간'] = df['반납일시'].dt.hour\n",
    "df['반납시간_분'] = df['반납일시'].dt.minute"
   ]
  },
  {
   "cell_type": "code",
   "execution_count": 6,
   "metadata": {},
   "outputs": [],
   "source": [
    "df = df.sort_values('대여일시', ignore_index = True)"
   ]
  },
  {
   "cell_type": "code",
   "execution_count": 7,
   "metadata": {},
   "outputs": [],
   "source": [
    "df = df[df['대여월'] != 5]\n",
    "df = df[df['반납월'] != 7]"
   ]
  },
  {
   "cell_type": "code",
   "execution_count": 8,
   "metadata": {},
   "outputs": [],
   "source": [
    "df['대여대여소명'] = df['대여대여소명'].astype('category')\n",
    "df['반납대여소명'] = df['반납대여소명'].astype('category')"
   ]
  },
  {
   "cell_type": "markdown",
   "metadata": {},
   "source": [
    "### 평균서비스율(10분당 자전거 대여수의 평균) = $\\mu$\n",
    "- $\\mu$ = 10이면 10분동안 평균 10대의 자전거 대여"
   ]
  },
  {
   "cell_type": "code",
   "execution_count": 9,
   "metadata": {},
   "outputs": [
    {
     "data": {
      "text/html": [
       "<div>\n",
       "<style scoped>\n",
       "    .dataframe tbody tr th:only-of-type {\n",
       "        vertical-align: middle;\n",
       "    }\n",
       "\n",
       "    .dataframe tbody tr th {\n",
       "        vertical-align: top;\n",
       "    }\n",
       "\n",
       "    .dataframe thead th {\n",
       "        text-align: right;\n",
       "    }\n",
       "</style>\n",
       "<table border=\"1\" class=\"dataframe\">\n",
       "  <thead>\n",
       "    <tr style=\"text-align: right;\">\n",
       "      <th></th>\n",
       "      <th>대여일시</th>\n",
       "      <th>대여대여소명</th>\n",
       "      <th>대여월</th>\n",
       "      <th>대여일</th>\n",
       "      <th>대여요일</th>\n",
       "      <th>대여시간</th>\n",
       "      <th>대여시간_분</th>\n",
       "    </tr>\n",
       "  </thead>\n",
       "  <tbody>\n",
       "    <tr>\n",
       "      <th>0</th>\n",
       "      <td>2020-06-01 00:00:00</td>\n",
       "      <td>합정역 7번출구 앞</td>\n",
       "      <td>6</td>\n",
       "      <td>1</td>\n",
       "      <td>0</td>\n",
       "      <td>0</td>\n",
       "      <td>0</td>\n",
       "    </tr>\n",
       "    <tr>\n",
       "      <th>1</th>\n",
       "      <td>2020-06-01 00:00:16</td>\n",
       "      <td>응암시장교차로</td>\n",
       "      <td>6</td>\n",
       "      <td>1</td>\n",
       "      <td>0</td>\n",
       "      <td>0</td>\n",
       "      <td>0</td>\n",
       "    </tr>\n",
       "    <tr>\n",
       "      <th>2</th>\n",
       "      <td>2020-06-01 00:00:24</td>\n",
       "      <td>삼호물산버스정류장(23370) 옆</td>\n",
       "      <td>6</td>\n",
       "      <td>1</td>\n",
       "      <td>0</td>\n",
       "      <td>0</td>\n",
       "      <td>0</td>\n",
       "    </tr>\n",
       "    <tr>\n",
       "      <th>3</th>\n",
       "      <td>2020-06-01 00:00:26</td>\n",
       "      <td>능골근린공원</td>\n",
       "      <td>6</td>\n",
       "      <td>1</td>\n",
       "      <td>0</td>\n",
       "      <td>0</td>\n",
       "      <td>0</td>\n",
       "    </tr>\n",
       "    <tr>\n",
       "      <th>4</th>\n",
       "      <td>2020-06-01 00:00:32</td>\n",
       "      <td>응봉역 1번출구</td>\n",
       "      <td>6</td>\n",
       "      <td>1</td>\n",
       "      <td>0</td>\n",
       "      <td>0</td>\n",
       "      <td>0</td>\n",
       "    </tr>\n",
       "    <tr>\n",
       "      <th>...</th>\n",
       "      <td>...</td>\n",
       "      <td>...</td>\n",
       "      <td>...</td>\n",
       "      <td>...</td>\n",
       "      <td>...</td>\n",
       "      <td>...</td>\n",
       "      <td>...</td>\n",
       "    </tr>\n",
       "    <tr>\n",
       "      <th>2724714</th>\n",
       "      <td>2020-06-30 23:55:01</td>\n",
       "      <td>천호초교 입구 사거리(일주빌딩)</td>\n",
       "      <td>6</td>\n",
       "      <td>30</td>\n",
       "      <td>1</td>\n",
       "      <td>23</td>\n",
       "      <td>55</td>\n",
       "    </tr>\n",
       "    <tr>\n",
       "      <th>2724715</th>\n",
       "      <td>2020-06-30 23:55:17</td>\n",
       "      <td>가좌삼거리</td>\n",
       "      <td>6</td>\n",
       "      <td>30</td>\n",
       "      <td>1</td>\n",
       "      <td>23</td>\n",
       "      <td>55</td>\n",
       "    </tr>\n",
       "    <tr>\n",
       "      <th>2724716</th>\n",
       "      <td>2020-06-30 23:56:01</td>\n",
       "      <td>신사역 4번출구 뒤</td>\n",
       "      <td>6</td>\n",
       "      <td>30</td>\n",
       "      <td>1</td>\n",
       "      <td>23</td>\n",
       "      <td>56</td>\n",
       "    </tr>\n",
       "    <tr>\n",
       "      <th>2724717</th>\n",
       "      <td>2020-06-30 23:56:41</td>\n",
       "      <td>쌍문현대1차아파트 108동 앞</td>\n",
       "      <td>6</td>\n",
       "      <td>30</td>\n",
       "      <td>1</td>\n",
       "      <td>23</td>\n",
       "      <td>56</td>\n",
       "    </tr>\n",
       "    <tr>\n",
       "      <th>2724718</th>\n",
       "      <td>2020-06-30 23:57:07</td>\n",
       "      <td>석촌호수교차로(동호 팔각정 앞)</td>\n",
       "      <td>6</td>\n",
       "      <td>30</td>\n",
       "      <td>1</td>\n",
       "      <td>23</td>\n",
       "      <td>57</td>\n",
       "    </tr>\n",
       "  </tbody>\n",
       "</table>\n",
       "<p>2724719 rows × 7 columns</p>\n",
       "</div>"
      ],
      "text/plain": [
       "                       대여일시              대여대여소명  대여월  대여일  대여요일  대여시간  대여시간_분\n",
       "0       2020-06-01 00:00:00          합정역 7번출구 앞    6    1     0     0       0\n",
       "1       2020-06-01 00:00:16             응암시장교차로    6    1     0     0       0\n",
       "2       2020-06-01 00:00:24  삼호물산버스정류장(23370) 옆    6    1     0     0       0\n",
       "3       2020-06-01 00:00:26              능골근린공원    6    1     0     0       0\n",
       "4       2020-06-01 00:00:32            응봉역 1번출구    6    1     0     0       0\n",
       "...                     ...                 ...  ...  ...   ...   ...     ...\n",
       "2724714 2020-06-30 23:55:01   천호초교 입구 사거리(일주빌딩)    6   30     1    23      55\n",
       "2724715 2020-06-30 23:55:17               가좌삼거리    6   30     1    23      55\n",
       "2724716 2020-06-30 23:56:01          신사역 4번출구 뒤    6   30     1    23      56\n",
       "2724717 2020-06-30 23:56:41    쌍문현대1차아파트 108동 앞    6   30     1    23      56\n",
       "2724718 2020-06-30 23:57:07   석촌호수교차로(동호 팔각정 앞)    6   30     1    23      57\n",
       "\n",
       "[2724719 rows x 7 columns]"
      ]
     },
     "execution_count": 9,
     "metadata": {},
     "output_type": "execute_result"
    }
   ],
   "source": [
    "df_rental = df[['대여일시', '대여대여소명', '대여월', '대여일', '대여요일', '대여시간', '대여시간_분']]\n",
    "df_rental.reset_index(drop = True, inplace = True)\n",
    "df_rental"
   ]
  },
  {
   "cell_type": "code",
   "execution_count": 10,
   "metadata": {},
   "outputs": [
    {
     "data": {
      "text/html": [
       "<div>\n",
       "<style scoped>\n",
       "    .dataframe tbody tr th:only-of-type {\n",
       "        vertical-align: middle;\n",
       "    }\n",
       "\n",
       "    .dataframe tbody tr th {\n",
       "        vertical-align: top;\n",
       "    }\n",
       "\n",
       "    .dataframe thead th {\n",
       "        text-align: right;\n",
       "    }\n",
       "</style>\n",
       "<table border=\"1\" class=\"dataframe\">\n",
       "  <thead>\n",
       "    <tr style=\"text-align: right;\">\n",
       "      <th></th>\n",
       "      <th>대여일시</th>\n",
       "      <th>대여대여소명</th>\n",
       "      <th>대여월</th>\n",
       "      <th>대여일</th>\n",
       "      <th>대여요일</th>\n",
       "      <th>대여시간</th>\n",
       "      <th>대여시간_분</th>\n",
       "    </tr>\n",
       "  </thead>\n",
       "  <tbody>\n",
       "    <tr>\n",
       "      <th>0</th>\n",
       "      <td>2020-06-01 00:04:32</td>\n",
       "      <td>뚝섬유원지역 1번출구 앞</td>\n",
       "      <td>6</td>\n",
       "      <td>1</td>\n",
       "      <td>0</td>\n",
       "      <td>0</td>\n",
       "      <td>4</td>\n",
       "    </tr>\n",
       "    <tr>\n",
       "      <th>1</th>\n",
       "      <td>2020-06-01 01:39:21</td>\n",
       "      <td>뚝섬유원지역 1번출구 앞</td>\n",
       "      <td>6</td>\n",
       "      <td>1</td>\n",
       "      <td>0</td>\n",
       "      <td>1</td>\n",
       "      <td>39</td>\n",
       "    </tr>\n",
       "    <tr>\n",
       "      <th>2</th>\n",
       "      <td>2020-06-01 01:41:13</td>\n",
       "      <td>뚝섬유원지역 1번출구 앞</td>\n",
       "      <td>6</td>\n",
       "      <td>1</td>\n",
       "      <td>0</td>\n",
       "      <td>1</td>\n",
       "      <td>41</td>\n",
       "    </tr>\n",
       "    <tr>\n",
       "      <th>3</th>\n",
       "      <td>2020-06-01 02:15:11</td>\n",
       "      <td>뚝섬유원지역 1번출구 앞</td>\n",
       "      <td>6</td>\n",
       "      <td>1</td>\n",
       "      <td>0</td>\n",
       "      <td>2</td>\n",
       "      <td>15</td>\n",
       "    </tr>\n",
       "    <tr>\n",
       "      <th>4</th>\n",
       "      <td>2020-06-01 03:21:34</td>\n",
       "      <td>뚝섬유원지역 1번출구 앞</td>\n",
       "      <td>6</td>\n",
       "      <td>1</td>\n",
       "      <td>0</td>\n",
       "      <td>3</td>\n",
       "      <td>21</td>\n",
       "    </tr>\n",
       "    <tr>\n",
       "      <th>...</th>\n",
       "      <td>...</td>\n",
       "      <td>...</td>\n",
       "      <td>...</td>\n",
       "      <td>...</td>\n",
       "      <td>...</td>\n",
       "      <td>...</td>\n",
       "      <td>...</td>\n",
       "    </tr>\n",
       "    <tr>\n",
       "      <th>16350</th>\n",
       "      <td>2020-06-30 22:13:24</td>\n",
       "      <td>뚝섬유원지역 1번출구 앞</td>\n",
       "      <td>6</td>\n",
       "      <td>30</td>\n",
       "      <td>1</td>\n",
       "      <td>22</td>\n",
       "      <td>13</td>\n",
       "    </tr>\n",
       "    <tr>\n",
       "      <th>16351</th>\n",
       "      <td>2020-06-30 22:16:27</td>\n",
       "      <td>뚝섬유원지역 1번출구 앞</td>\n",
       "      <td>6</td>\n",
       "      <td>30</td>\n",
       "      <td>1</td>\n",
       "      <td>22</td>\n",
       "      <td>16</td>\n",
       "    </tr>\n",
       "    <tr>\n",
       "      <th>16352</th>\n",
       "      <td>2020-06-30 22:33:16</td>\n",
       "      <td>뚝섬유원지역 1번출구 앞</td>\n",
       "      <td>6</td>\n",
       "      <td>30</td>\n",
       "      <td>1</td>\n",
       "      <td>22</td>\n",
       "      <td>33</td>\n",
       "    </tr>\n",
       "    <tr>\n",
       "      <th>16353</th>\n",
       "      <td>2020-06-30 23:03:20</td>\n",
       "      <td>뚝섬유원지역 1번출구 앞</td>\n",
       "      <td>6</td>\n",
       "      <td>30</td>\n",
       "      <td>1</td>\n",
       "      <td>23</td>\n",
       "      <td>3</td>\n",
       "    </tr>\n",
       "    <tr>\n",
       "      <th>16354</th>\n",
       "      <td>2020-06-30 23:35:57</td>\n",
       "      <td>뚝섬유원지역 1번출구 앞</td>\n",
       "      <td>6</td>\n",
       "      <td>30</td>\n",
       "      <td>1</td>\n",
       "      <td>23</td>\n",
       "      <td>35</td>\n",
       "    </tr>\n",
       "  </tbody>\n",
       "</table>\n",
       "<p>16355 rows × 7 columns</p>\n",
       "</div>"
      ],
      "text/plain": [
       "                     대여일시         대여대여소명  대여월  대여일  대여요일  대여시간  대여시간_분\n",
       "0     2020-06-01 00:04:32  뚝섬유원지역 1번출구 앞    6    1     0     0       4\n",
       "1     2020-06-01 01:39:21  뚝섬유원지역 1번출구 앞    6    1     0     1      39\n",
       "2     2020-06-01 01:41:13  뚝섬유원지역 1번출구 앞    6    1     0     1      41\n",
       "3     2020-06-01 02:15:11  뚝섬유원지역 1번출구 앞    6    1     0     2      15\n",
       "4     2020-06-01 03:21:34  뚝섬유원지역 1번출구 앞    6    1     0     3      21\n",
       "...                   ...            ...  ...  ...   ...   ...     ...\n",
       "16350 2020-06-30 22:13:24  뚝섬유원지역 1번출구 앞    6   30     1    22      13\n",
       "16351 2020-06-30 22:16:27  뚝섬유원지역 1번출구 앞    6   30     1    22      16\n",
       "16352 2020-06-30 22:33:16  뚝섬유원지역 1번출구 앞    6   30     1    22      33\n",
       "16353 2020-06-30 23:03:20  뚝섬유원지역 1번출구 앞    6   30     1    23       3\n",
       "16354 2020-06-30 23:35:57  뚝섬유원지역 1번출구 앞    6   30     1    23      35\n",
       "\n",
       "[16355 rows x 7 columns]"
      ]
     },
     "execution_count": 10,
     "metadata": {},
     "output_type": "execute_result"
    }
   ],
   "source": [
    "df_rental = df_rental[df_rental['대여대여소명'] == '뚝섬유원지역 1번출구 앞']\n",
    "df_rental.reset_index(drop = True, inplace = True)\n",
    "df_rental"
   ]
  },
  {
   "cell_type": "markdown",
   "metadata": {},
   "source": [
    "#### 0시"
   ]
  },
  {
   "cell_type": "code",
   "execution_count": 11,
   "metadata": {},
   "outputs": [
    {
     "data": {
      "text/html": [
       "<div>\n",
       "<style scoped>\n",
       "    .dataframe tbody tr th:only-of-type {\n",
       "        vertical-align: middle;\n",
       "    }\n",
       "\n",
       "    .dataframe tbody tr th {\n",
       "        vertical-align: top;\n",
       "    }\n",
       "\n",
       "    .dataframe thead th {\n",
       "        text-align: right;\n",
       "    }\n",
       "</style>\n",
       "<table border=\"1\" class=\"dataframe\">\n",
       "  <thead>\n",
       "    <tr style=\"text-align: right;\">\n",
       "      <th></th>\n",
       "      <th>대여시간_분_그룹</th>\n",
       "      <th>count</th>\n",
       "    </tr>\n",
       "  </thead>\n",
       "  <tbody>\n",
       "    <tr>\n",
       "      <th>0</th>\n",
       "      <td>0</td>\n",
       "      <td>154</td>\n",
       "    </tr>\n",
       "    <tr>\n",
       "      <th>1</th>\n",
       "      <td>10</td>\n",
       "      <td>108</td>\n",
       "    </tr>\n",
       "    <tr>\n",
       "      <th>2</th>\n",
       "      <td>20</td>\n",
       "      <td>88</td>\n",
       "    </tr>\n",
       "    <tr>\n",
       "      <th>3</th>\n",
       "      <td>30</td>\n",
       "      <td>112</td>\n",
       "    </tr>\n",
       "    <tr>\n",
       "      <th>4</th>\n",
       "      <td>40</td>\n",
       "      <td>94</td>\n",
       "    </tr>\n",
       "    <tr>\n",
       "      <th>5</th>\n",
       "      <td>50</td>\n",
       "      <td>88</td>\n",
       "    </tr>\n",
       "  </tbody>\n",
       "</table>\n",
       "</div>"
      ],
      "text/plain": [
       "   대여시간_분_그룹  count\n",
       "0          0    154\n",
       "1         10    108\n",
       "2         20     88\n",
       "3         30    112\n",
       "4         40     94\n",
       "5         50     88"
      ]
     },
     "execution_count": 11,
     "metadata": {},
     "output_type": "execute_result"
    }
   ],
   "source": [
    "df_rental_hour = df_rental[df_rental['대여시간'] == 0]\n",
    "df_rental_hour.reset_index(drop = True, inplace = True)\n",
    "df_rental_hour['대여시간_분_그룹'] = -1\n",
    "for i in range(len(df_rental_hour)):\n",
    "    if df_rental_hour['대여시간_분'][i] >= 50:\n",
    "        df_rental_hour['대여시간_분_그룹'][i] = 50\n",
    "    elif df_rental_hour['대여시간_분'][i] >= 40:\n",
    "        df_rental_hour['대여시간_분_그룹'][i] = 40\n",
    "    elif df_rental_hour['대여시간_분'][i] >= 30:\n",
    "        df_rental_hour['대여시간_분_그룹'][i] = 30\n",
    "    elif df_rental_hour['대여시간_분'][i] >= 20:\n",
    "        df_rental_hour['대여시간_분_그룹'][i] = 20\n",
    "    elif df_rental_hour['대여시간_분'][i] >= 10:\n",
    "        df_rental_hour['대여시간_분_그룹'][i] = 10\n",
    "    else:\n",
    "        df_rental_hour['대여시간_분_그룹'][i] = 0\n",
    "df_rental_hour_group = df_rental_hour.groupby('대여시간_분_그룹')[['대여시간_분']].count().reset_index()\n",
    "df_rental_hour_group.rename(columns = {'대여시간_분' : 'count'}, inplace = True)\n",
    "df_rental_hour_group"
   ]
  },
  {
   "cell_type": "code",
   "execution_count": 12,
   "metadata": {},
   "outputs": [
    {
     "data": {
      "text/plain": [
       "107.33333333333333"
      ]
     },
     "execution_count": 12,
     "metadata": {},
     "output_type": "execute_result"
    }
   ],
   "source": [
    "# 10분당 평균 대여율 = 평균서비스율\n",
    "\n",
    "mu0 = df_rental_hour_group['count'].sum() / 6\n",
    "mu0"
   ]
  },
  {
   "cell_type": "markdown",
   "metadata": {},
   "source": [
    "#### 1시"
   ]
  },
  {
   "cell_type": "code",
   "execution_count": 13,
   "metadata": {},
   "outputs": [
    {
     "data": {
      "text/html": [
       "<div>\n",
       "<style scoped>\n",
       "    .dataframe tbody tr th:only-of-type {\n",
       "        vertical-align: middle;\n",
       "    }\n",
       "\n",
       "    .dataframe tbody tr th {\n",
       "        vertical-align: top;\n",
       "    }\n",
       "\n",
       "    .dataframe thead th {\n",
       "        text-align: right;\n",
       "    }\n",
       "</style>\n",
       "<table border=\"1\" class=\"dataframe\">\n",
       "  <thead>\n",
       "    <tr style=\"text-align: right;\">\n",
       "      <th></th>\n",
       "      <th>대여시간_분_그룹</th>\n",
       "      <th>count</th>\n",
       "    </tr>\n",
       "  </thead>\n",
       "  <tbody>\n",
       "    <tr>\n",
       "      <th>0</th>\n",
       "      <td>0</td>\n",
       "      <td>62</td>\n",
       "    </tr>\n",
       "    <tr>\n",
       "      <th>1</th>\n",
       "      <td>10</td>\n",
       "      <td>75</td>\n",
       "    </tr>\n",
       "    <tr>\n",
       "      <th>2</th>\n",
       "      <td>20</td>\n",
       "      <td>60</td>\n",
       "    </tr>\n",
       "    <tr>\n",
       "      <th>3</th>\n",
       "      <td>30</td>\n",
       "      <td>64</td>\n",
       "    </tr>\n",
       "    <tr>\n",
       "      <th>4</th>\n",
       "      <td>40</td>\n",
       "      <td>44</td>\n",
       "    </tr>\n",
       "    <tr>\n",
       "      <th>5</th>\n",
       "      <td>50</td>\n",
       "      <td>54</td>\n",
       "    </tr>\n",
       "  </tbody>\n",
       "</table>\n",
       "</div>"
      ],
      "text/plain": [
       "   대여시간_분_그룹  count\n",
       "0          0     62\n",
       "1         10     75\n",
       "2         20     60\n",
       "3         30     64\n",
       "4         40     44\n",
       "5         50     54"
      ]
     },
     "execution_count": 13,
     "metadata": {},
     "output_type": "execute_result"
    }
   ],
   "source": [
    "df_rental_hour = df_rental[df_rental['대여시간'] == 1]\n",
    "df_rental_hour.reset_index(drop = True, inplace = True)\n",
    "df_rental_hour['대여시간_분_그룹'] = -1\n",
    "for i in range(len(df_rental_hour)):\n",
    "    if df_rental_hour['대여시간_분'][i] >= 50:\n",
    "        df_rental_hour['대여시간_분_그룹'][i] = 50\n",
    "    elif df_rental_hour['대여시간_분'][i] >= 40:\n",
    "        df_rental_hour['대여시간_분_그룹'][i] = 40\n",
    "    elif df_rental_hour['대여시간_분'][i] >= 30:\n",
    "        df_rental_hour['대여시간_분_그룹'][i] = 30\n",
    "    elif df_rental_hour['대여시간_분'][i] >= 20:\n",
    "        df_rental_hour['대여시간_분_그룹'][i] = 20\n",
    "    elif df_rental_hour['대여시간_분'][i] >= 10:\n",
    "        df_rental_hour['대여시간_분_그룹'][i] = 10\n",
    "    else:\n",
    "        df_rental_hour['대여시간_분_그룹'][i] = 0\n",
    "df_rental_hour_group = df_rental_hour.groupby('대여시간_분_그룹')[['대여시간_분']].count().reset_index()\n",
    "df_rental_hour_group.rename(columns = {'대여시간_분' : 'count'}, inplace = True)\n",
    "df_rental_hour_group"
   ]
  },
  {
   "cell_type": "code",
   "execution_count": 14,
   "metadata": {},
   "outputs": [
    {
     "data": {
      "text/plain": [
       "59.833333333333336"
      ]
     },
     "execution_count": 14,
     "metadata": {},
     "output_type": "execute_result"
    }
   ],
   "source": [
    "# 1시 10분당 평균 대여율 = 평균서비스율\n",
    "\n",
    "mu1 = df_rental_hour_group['count'].sum() / 6\n",
    "mu1"
   ]
  },
  {
   "cell_type": "markdown",
   "metadata": {},
   "source": [
    "#### 2시"
   ]
  },
  {
   "cell_type": "code",
   "execution_count": 15,
   "metadata": {},
   "outputs": [
    {
     "data": {
      "text/html": [
       "<div>\n",
       "<style scoped>\n",
       "    .dataframe tbody tr th:only-of-type {\n",
       "        vertical-align: middle;\n",
       "    }\n",
       "\n",
       "    .dataframe tbody tr th {\n",
       "        vertical-align: top;\n",
       "    }\n",
       "\n",
       "    .dataframe thead th {\n",
       "        text-align: right;\n",
       "    }\n",
       "</style>\n",
       "<table border=\"1\" class=\"dataframe\">\n",
       "  <thead>\n",
       "    <tr style=\"text-align: right;\">\n",
       "      <th></th>\n",
       "      <th>대여시간_분_그룹</th>\n",
       "      <th>count</th>\n",
       "    </tr>\n",
       "  </thead>\n",
       "  <tbody>\n",
       "    <tr>\n",
       "      <th>0</th>\n",
       "      <td>0</td>\n",
       "      <td>37</td>\n",
       "    </tr>\n",
       "    <tr>\n",
       "      <th>1</th>\n",
       "      <td>10</td>\n",
       "      <td>53</td>\n",
       "    </tr>\n",
       "    <tr>\n",
       "      <th>2</th>\n",
       "      <td>20</td>\n",
       "      <td>41</td>\n",
       "    </tr>\n",
       "    <tr>\n",
       "      <th>3</th>\n",
       "      <td>30</td>\n",
       "      <td>34</td>\n",
       "    </tr>\n",
       "    <tr>\n",
       "      <th>4</th>\n",
       "      <td>40</td>\n",
       "      <td>24</td>\n",
       "    </tr>\n",
       "    <tr>\n",
       "      <th>5</th>\n",
       "      <td>50</td>\n",
       "      <td>43</td>\n",
       "    </tr>\n",
       "  </tbody>\n",
       "</table>\n",
       "</div>"
      ],
      "text/plain": [
       "   대여시간_분_그룹  count\n",
       "0          0     37\n",
       "1         10     53\n",
       "2         20     41\n",
       "3         30     34\n",
       "4         40     24\n",
       "5         50     43"
      ]
     },
     "execution_count": 15,
     "metadata": {},
     "output_type": "execute_result"
    }
   ],
   "source": [
    "df_rental_hour = df_rental[df_rental['대여시간'] == 2]\n",
    "df_rental_hour.reset_index(drop = True, inplace = True)\n",
    "df_rental_hour['대여시간_분_그룹'] = -1\n",
    "for i in range(len(df_rental_hour)):\n",
    "    if df_rental_hour['대여시간_분'][i] >= 50:\n",
    "        df_rental_hour['대여시간_분_그룹'][i] = 50\n",
    "    elif df_rental_hour['대여시간_분'][i] >= 40:\n",
    "        df_rental_hour['대여시간_분_그룹'][i] = 40\n",
    "    elif df_rental_hour['대여시간_분'][i] >= 30:\n",
    "        df_rental_hour['대여시간_분_그룹'][i] = 30\n",
    "    elif df_rental_hour['대여시간_분'][i] >= 20:\n",
    "        df_rental_hour['대여시간_분_그룹'][i] = 20\n",
    "    elif df_rental_hour['대여시간_분'][i] >= 10:\n",
    "        df_rental_hour['대여시간_분_그룹'][i] = 10\n",
    "    else:\n",
    "        df_rental_hour['대여시간_분_그룹'][i] = 0\n",
    "df_rental_hour_group = df_rental_hour.groupby('대여시간_분_그룹')[['대여시간_분']].count().reset_index()\n",
    "df_rental_hour_group.rename(columns = {'대여시간_분' : 'count'}, inplace = True)\n",
    "df_rental_hour_group"
   ]
  },
  {
   "cell_type": "code",
   "execution_count": 16,
   "metadata": {},
   "outputs": [
    {
     "data": {
      "text/plain": [
       "38.666666666666664"
      ]
     },
     "execution_count": 16,
     "metadata": {},
     "output_type": "execute_result"
    }
   ],
   "source": [
    "# 2시 10분당 평균 대여율 = 평균서비스율\n",
    "\n",
    "mu2 = df_rental_hour_group['count'].sum() / 6\n",
    "mu2"
   ]
  },
  {
   "cell_type": "markdown",
   "metadata": {},
   "source": [
    "#### 3시"
   ]
  },
  {
   "cell_type": "code",
   "execution_count": 17,
   "metadata": {},
   "outputs": [
    {
     "data": {
      "text/html": [
       "<div>\n",
       "<style scoped>\n",
       "    .dataframe tbody tr th:only-of-type {\n",
       "        vertical-align: middle;\n",
       "    }\n",
       "\n",
       "    .dataframe tbody tr th {\n",
       "        vertical-align: top;\n",
       "    }\n",
       "\n",
       "    .dataframe thead th {\n",
       "        text-align: right;\n",
       "    }\n",
       "</style>\n",
       "<table border=\"1\" class=\"dataframe\">\n",
       "  <thead>\n",
       "    <tr style=\"text-align: right;\">\n",
       "      <th></th>\n",
       "      <th>대여시간_분_그룹</th>\n",
       "      <th>count</th>\n",
       "    </tr>\n",
       "  </thead>\n",
       "  <tbody>\n",
       "    <tr>\n",
       "      <th>0</th>\n",
       "      <td>0</td>\n",
       "      <td>14</td>\n",
       "    </tr>\n",
       "    <tr>\n",
       "      <th>1</th>\n",
       "      <td>10</td>\n",
       "      <td>31</td>\n",
       "    </tr>\n",
       "    <tr>\n",
       "      <th>2</th>\n",
       "      <td>20</td>\n",
       "      <td>24</td>\n",
       "    </tr>\n",
       "    <tr>\n",
       "      <th>3</th>\n",
       "      <td>30</td>\n",
       "      <td>20</td>\n",
       "    </tr>\n",
       "    <tr>\n",
       "      <th>4</th>\n",
       "      <td>40</td>\n",
       "      <td>15</td>\n",
       "    </tr>\n",
       "    <tr>\n",
       "      <th>5</th>\n",
       "      <td>50</td>\n",
       "      <td>13</td>\n",
       "    </tr>\n",
       "  </tbody>\n",
       "</table>\n",
       "</div>"
      ],
      "text/plain": [
       "   대여시간_분_그룹  count\n",
       "0          0     14\n",
       "1         10     31\n",
       "2         20     24\n",
       "3         30     20\n",
       "4         40     15\n",
       "5         50     13"
      ]
     },
     "execution_count": 17,
     "metadata": {},
     "output_type": "execute_result"
    }
   ],
   "source": [
    "df_rental_hour = df_rental[df_rental['대여시간'] == 3]\n",
    "df_rental_hour.reset_index(drop = True, inplace = True)\n",
    "df_rental_hour['대여시간_분_그룹'] = -1\n",
    "for i in range(len(df_rental_hour)):\n",
    "    if df_rental_hour['대여시간_분'][i] >= 50:\n",
    "        df_rental_hour['대여시간_분_그룹'][i] = 50\n",
    "    elif df_rental_hour['대여시간_분'][i] >= 40:\n",
    "        df_rental_hour['대여시간_분_그룹'][i] = 40\n",
    "    elif df_rental_hour['대여시간_분'][i] >= 30:\n",
    "        df_rental_hour['대여시간_분_그룹'][i] = 30\n",
    "    elif df_rental_hour['대여시간_분'][i] >= 20:\n",
    "        df_rental_hour['대여시간_분_그룹'][i] = 20\n",
    "    elif df_rental_hour['대여시간_분'][i] >= 10:\n",
    "        df_rental_hour['대여시간_분_그룹'][i] = 10\n",
    "    else:\n",
    "        df_rental_hour['대여시간_분_그룹'][i] = 0\n",
    "df_rental_hour_group = df_rental_hour.groupby('대여시간_분_그룹')[['대여시간_분']].count().reset_index()\n",
    "df_rental_hour_group.rename(columns = {'대여시간_분' : 'count'}, inplace = True)\n",
    "df_rental_hour_group"
   ]
  },
  {
   "cell_type": "code",
   "execution_count": 18,
   "metadata": {},
   "outputs": [
    {
     "data": {
      "text/plain": [
       "19.5"
      ]
     },
     "execution_count": 18,
     "metadata": {},
     "output_type": "execute_result"
    }
   ],
   "source": [
    "# 10분당 평균 대여율 = 평균서비스율\n",
    "\n",
    "mu3 = df_rental_hour_group['count'].sum() / 6\n",
    "mu3"
   ]
  },
  {
   "cell_type": "markdown",
   "metadata": {},
   "source": [
    "#### 4시"
   ]
  },
  {
   "cell_type": "code",
   "execution_count": 19,
   "metadata": {},
   "outputs": [
    {
     "data": {
      "text/html": [
       "<div>\n",
       "<style scoped>\n",
       "    .dataframe tbody tr th:only-of-type {\n",
       "        vertical-align: middle;\n",
       "    }\n",
       "\n",
       "    .dataframe tbody tr th {\n",
       "        vertical-align: top;\n",
       "    }\n",
       "\n",
       "    .dataframe thead th {\n",
       "        text-align: right;\n",
       "    }\n",
       "</style>\n",
       "<table border=\"1\" class=\"dataframe\">\n",
       "  <thead>\n",
       "    <tr style=\"text-align: right;\">\n",
       "      <th></th>\n",
       "      <th>대여시간_분_그룹</th>\n",
       "      <th>count</th>\n",
       "    </tr>\n",
       "  </thead>\n",
       "  <tbody>\n",
       "    <tr>\n",
       "      <th>0</th>\n",
       "      <td>0</td>\n",
       "      <td>6</td>\n",
       "    </tr>\n",
       "    <tr>\n",
       "      <th>1</th>\n",
       "      <td>10</td>\n",
       "      <td>21</td>\n",
       "    </tr>\n",
       "    <tr>\n",
       "      <th>2</th>\n",
       "      <td>20</td>\n",
       "      <td>30</td>\n",
       "    </tr>\n",
       "    <tr>\n",
       "      <th>3</th>\n",
       "      <td>30</td>\n",
       "      <td>15</td>\n",
       "    </tr>\n",
       "    <tr>\n",
       "      <th>4</th>\n",
       "      <td>40</td>\n",
       "      <td>26</td>\n",
       "    </tr>\n",
       "    <tr>\n",
       "      <th>5</th>\n",
       "      <td>50</td>\n",
       "      <td>20</td>\n",
       "    </tr>\n",
       "  </tbody>\n",
       "</table>\n",
       "</div>"
      ],
      "text/plain": [
       "   대여시간_분_그룹  count\n",
       "0          0      6\n",
       "1         10     21\n",
       "2         20     30\n",
       "3         30     15\n",
       "4         40     26\n",
       "5         50     20"
      ]
     },
     "execution_count": 19,
     "metadata": {},
     "output_type": "execute_result"
    }
   ],
   "source": [
    "df_rental_hour = df_rental[df_rental['대여시간'] == 4]\n",
    "df_rental_hour.reset_index(drop = True, inplace = True)\n",
    "df_rental_hour['대여시간_분_그룹'] = -1\n",
    "for i in range(len(df_rental_hour)):\n",
    "    if df_rental_hour['대여시간_분'][i] >= 50:\n",
    "        df_rental_hour['대여시간_분_그룹'][i] = 50\n",
    "    elif df_rental_hour['대여시간_분'][i] >= 40:\n",
    "        df_rental_hour['대여시간_분_그룹'][i] = 40\n",
    "    elif df_rental_hour['대여시간_분'][i] >= 30:\n",
    "        df_rental_hour['대여시간_분_그룹'][i] = 30\n",
    "    elif df_rental_hour['대여시간_분'][i] >= 20:\n",
    "        df_rental_hour['대여시간_분_그룹'][i] = 20\n",
    "    elif df_rental_hour['대여시간_분'][i] >= 10:\n",
    "        df_rental_hour['대여시간_분_그룹'][i] = 10\n",
    "    else:\n",
    "        df_rental_hour['대여시간_분_그룹'][i] = 0\n",
    "df_rental_hour_group = df_rental_hour.groupby('대여시간_분_그룹')[['대여시간_분']].count().reset_index()\n",
    "df_rental_hour_group.rename(columns = {'대여시간_분' : 'count'}, inplace = True)\n",
    "df_rental_hour_group"
   ]
  },
  {
   "cell_type": "code",
   "execution_count": 20,
   "metadata": {},
   "outputs": [
    {
     "data": {
      "text/plain": [
       "19.666666666666668"
      ]
     },
     "execution_count": 20,
     "metadata": {},
     "output_type": "execute_result"
    }
   ],
   "source": [
    "# 10분당 평균 대여율 = 평균서비스율\n",
    "\n",
    "mu4 = df_rental_hour_group['count'].sum() / 6\n",
    "mu4"
   ]
  },
  {
   "cell_type": "markdown",
   "metadata": {},
   "source": [
    "#### 5시"
   ]
  },
  {
   "cell_type": "code",
   "execution_count": 21,
   "metadata": {},
   "outputs": [
    {
     "data": {
      "text/html": [
       "<div>\n",
       "<style scoped>\n",
       "    .dataframe tbody tr th:only-of-type {\n",
       "        vertical-align: middle;\n",
       "    }\n",
       "\n",
       "    .dataframe tbody tr th {\n",
       "        vertical-align: top;\n",
       "    }\n",
       "\n",
       "    .dataframe thead th {\n",
       "        text-align: right;\n",
       "    }\n",
       "</style>\n",
       "<table border=\"1\" class=\"dataframe\">\n",
       "  <thead>\n",
       "    <tr style=\"text-align: right;\">\n",
       "      <th></th>\n",
       "      <th>대여시간_분_그룹</th>\n",
       "      <th>count</th>\n",
       "    </tr>\n",
       "  </thead>\n",
       "  <tbody>\n",
       "    <tr>\n",
       "      <th>0</th>\n",
       "      <td>0</td>\n",
       "      <td>18</td>\n",
       "    </tr>\n",
       "    <tr>\n",
       "      <th>1</th>\n",
       "      <td>10</td>\n",
       "      <td>10</td>\n",
       "    </tr>\n",
       "    <tr>\n",
       "      <th>2</th>\n",
       "      <td>20</td>\n",
       "      <td>8</td>\n",
       "    </tr>\n",
       "    <tr>\n",
       "      <th>3</th>\n",
       "      <td>30</td>\n",
       "      <td>5</td>\n",
       "    </tr>\n",
       "    <tr>\n",
       "      <th>4</th>\n",
       "      <td>40</td>\n",
       "      <td>10</td>\n",
       "    </tr>\n",
       "    <tr>\n",
       "      <th>5</th>\n",
       "      <td>50</td>\n",
       "      <td>10</td>\n",
       "    </tr>\n",
       "  </tbody>\n",
       "</table>\n",
       "</div>"
      ],
      "text/plain": [
       "   대여시간_분_그룹  count\n",
       "0          0     18\n",
       "1         10     10\n",
       "2         20      8\n",
       "3         30      5\n",
       "4         40     10\n",
       "5         50     10"
      ]
     },
     "execution_count": 21,
     "metadata": {},
     "output_type": "execute_result"
    }
   ],
   "source": [
    "df_rental_hour = df_rental[df_rental['대여시간'] == 5]\n",
    "df_rental_hour.reset_index(drop = True, inplace = True)\n",
    "df_rental_hour['대여시간_분_그룹'] = -1\n",
    "for i in range(len(df_rental_hour)):\n",
    "    if df_rental_hour['대여시간_분'][i] >= 50:\n",
    "        df_rental_hour['대여시간_분_그룹'][i] = 50\n",
    "    elif df_rental_hour['대여시간_분'][i] >= 40:\n",
    "        df_rental_hour['대여시간_분_그룹'][i] = 40\n",
    "    elif df_rental_hour['대여시간_분'][i] >= 30:\n",
    "        df_rental_hour['대여시간_분_그룹'][i] = 30\n",
    "    elif df_rental_hour['대여시간_분'][i] >= 20:\n",
    "        df_rental_hour['대여시간_분_그룹'][i] = 20\n",
    "    elif df_rental_hour['대여시간_분'][i] >= 10:\n",
    "        df_rental_hour['대여시간_분_그룹'][i] = 10\n",
    "    else:\n",
    "        df_rental_hour['대여시간_분_그룹'][i] = 0\n",
    "df_rental_hour_group = df_rental_hour.groupby('대여시간_분_그룹')[['대여시간_분']].count().reset_index()\n",
    "df_rental_hour_group.rename(columns = {'대여시간_분' : 'count'}, inplace = True)\n",
    "df_rental_hour_group"
   ]
  },
  {
   "cell_type": "code",
   "execution_count": 22,
   "metadata": {},
   "outputs": [
    {
     "data": {
      "text/plain": [
       "10.166666666666666"
      ]
     },
     "execution_count": 22,
     "metadata": {},
     "output_type": "execute_result"
    }
   ],
   "source": [
    "# 10분당 평균 대여율 = 평균서비스율\n",
    "\n",
    "mu5 = df_rental_hour_group['count'].sum() / 6\n",
    "mu5"
   ]
  },
  {
   "cell_type": "markdown",
   "metadata": {},
   "source": [
    "#### 6시"
   ]
  },
  {
   "cell_type": "code",
   "execution_count": 23,
   "metadata": {},
   "outputs": [
    {
     "data": {
      "text/html": [
       "<div>\n",
       "<style scoped>\n",
       "    .dataframe tbody tr th:only-of-type {\n",
       "        vertical-align: middle;\n",
       "    }\n",
       "\n",
       "    .dataframe tbody tr th {\n",
       "        vertical-align: top;\n",
       "    }\n",
       "\n",
       "    .dataframe thead th {\n",
       "        text-align: right;\n",
       "    }\n",
       "</style>\n",
       "<table border=\"1\" class=\"dataframe\">\n",
       "  <thead>\n",
       "    <tr style=\"text-align: right;\">\n",
       "      <th></th>\n",
       "      <th>대여시간_분_그룹</th>\n",
       "      <th>count</th>\n",
       "    </tr>\n",
       "  </thead>\n",
       "  <tbody>\n",
       "    <tr>\n",
       "      <th>0</th>\n",
       "      <td>0</td>\n",
       "      <td>8</td>\n",
       "    </tr>\n",
       "    <tr>\n",
       "      <th>1</th>\n",
       "      <td>10</td>\n",
       "      <td>13</td>\n",
       "    </tr>\n",
       "    <tr>\n",
       "      <th>2</th>\n",
       "      <td>20</td>\n",
       "      <td>9</td>\n",
       "    </tr>\n",
       "    <tr>\n",
       "      <th>3</th>\n",
       "      <td>30</td>\n",
       "      <td>22</td>\n",
       "    </tr>\n",
       "    <tr>\n",
       "      <th>4</th>\n",
       "      <td>40</td>\n",
       "      <td>26</td>\n",
       "    </tr>\n",
       "    <tr>\n",
       "      <th>5</th>\n",
       "      <td>50</td>\n",
       "      <td>32</td>\n",
       "    </tr>\n",
       "  </tbody>\n",
       "</table>\n",
       "</div>"
      ],
      "text/plain": [
       "   대여시간_분_그룹  count\n",
       "0          0      8\n",
       "1         10     13\n",
       "2         20      9\n",
       "3         30     22\n",
       "4         40     26\n",
       "5         50     32"
      ]
     },
     "execution_count": 23,
     "metadata": {},
     "output_type": "execute_result"
    }
   ],
   "source": [
    "df_rental_hour = df_rental[df_rental['대여시간'] == 6]\n",
    "df_rental_hour.reset_index(drop = True, inplace = True)\n",
    "df_rental_hour['대여시간_분_그룹'] = -1\n",
    "for i in range(len(df_rental_hour)):\n",
    "    if df_rental_hour['대여시간_분'][i] >= 50:\n",
    "        df_rental_hour['대여시간_분_그룹'][i] = 50\n",
    "    elif df_rental_hour['대여시간_분'][i] >= 40:\n",
    "        df_rental_hour['대여시간_분_그룹'][i] = 40\n",
    "    elif df_rental_hour['대여시간_분'][i] >= 30:\n",
    "        df_rental_hour['대여시간_분_그룹'][i] = 30\n",
    "    elif df_rental_hour['대여시간_분'][i] >= 20:\n",
    "        df_rental_hour['대여시간_분_그룹'][i] = 20\n",
    "    elif df_rental_hour['대여시간_분'][i] >= 10:\n",
    "        df_rental_hour['대여시간_분_그룹'][i] = 10\n",
    "    else:\n",
    "        df_rental_hour['대여시간_분_그룹'][i] = 0\n",
    "df_rental_hour_group = df_rental_hour.groupby('대여시간_분_그룹')[['대여시간_분']].count().reset_index()\n",
    "df_rental_hour_group.rename(columns = {'대여시간_분' : 'count'}, inplace = True)\n",
    "df_rental_hour_group"
   ]
  },
  {
   "cell_type": "code",
   "execution_count": 24,
   "metadata": {},
   "outputs": [
    {
     "data": {
      "text/plain": [
       "18.333333333333332"
      ]
     },
     "execution_count": 24,
     "metadata": {},
     "output_type": "execute_result"
    }
   ],
   "source": [
    "# 10분당 평균 대여율 = 평균서비스율\n",
    "\n",
    "mu6 = df_rental_hour_group['count'].sum() / 6\n",
    "mu6"
   ]
  },
  {
   "cell_type": "markdown",
   "metadata": {},
   "source": [
    "#### 7시"
   ]
  },
  {
   "cell_type": "code",
   "execution_count": 25,
   "metadata": {},
   "outputs": [
    {
     "data": {
      "text/html": [
       "<div>\n",
       "<style scoped>\n",
       "    .dataframe tbody tr th:only-of-type {\n",
       "        vertical-align: middle;\n",
       "    }\n",
       "\n",
       "    .dataframe tbody tr th {\n",
       "        vertical-align: top;\n",
       "    }\n",
       "\n",
       "    .dataframe thead th {\n",
       "        text-align: right;\n",
       "    }\n",
       "</style>\n",
       "<table border=\"1\" class=\"dataframe\">\n",
       "  <thead>\n",
       "    <tr style=\"text-align: right;\">\n",
       "      <th></th>\n",
       "      <th>대여시간_분_그룹</th>\n",
       "      <th>count</th>\n",
       "    </tr>\n",
       "  </thead>\n",
       "  <tbody>\n",
       "    <tr>\n",
       "      <th>0</th>\n",
       "      <td>0</td>\n",
       "      <td>26</td>\n",
       "    </tr>\n",
       "    <tr>\n",
       "      <th>1</th>\n",
       "      <td>10</td>\n",
       "      <td>19</td>\n",
       "    </tr>\n",
       "    <tr>\n",
       "      <th>2</th>\n",
       "      <td>20</td>\n",
       "      <td>22</td>\n",
       "    </tr>\n",
       "    <tr>\n",
       "      <th>3</th>\n",
       "      <td>30</td>\n",
       "      <td>28</td>\n",
       "    </tr>\n",
       "    <tr>\n",
       "      <th>4</th>\n",
       "      <td>40</td>\n",
       "      <td>30</td>\n",
       "    </tr>\n",
       "    <tr>\n",
       "      <th>5</th>\n",
       "      <td>50</td>\n",
       "      <td>52</td>\n",
       "    </tr>\n",
       "  </tbody>\n",
       "</table>\n",
       "</div>"
      ],
      "text/plain": [
       "   대여시간_분_그룹  count\n",
       "0          0     26\n",
       "1         10     19\n",
       "2         20     22\n",
       "3         30     28\n",
       "4         40     30\n",
       "5         50     52"
      ]
     },
     "execution_count": 25,
     "metadata": {},
     "output_type": "execute_result"
    }
   ],
   "source": [
    "df_rental_hour = df_rental[df_rental['대여시간'] == 7]\n",
    "df_rental_hour.reset_index(drop = True, inplace = True)\n",
    "df_rental_hour['대여시간_분_그룹'] = -1\n",
    "for i in range(len(df_rental_hour)):\n",
    "    if df_rental_hour['대여시간_분'][i] >= 50:\n",
    "        df_rental_hour['대여시간_분_그룹'][i] = 50\n",
    "    elif df_rental_hour['대여시간_분'][i] >= 40:\n",
    "        df_rental_hour['대여시간_분_그룹'][i] = 40\n",
    "    elif df_rental_hour['대여시간_분'][i] >= 30:\n",
    "        df_rental_hour['대여시간_분_그룹'][i] = 30\n",
    "    elif df_rental_hour['대여시간_분'][i] >= 20:\n",
    "        df_rental_hour['대여시간_분_그룹'][i] = 20\n",
    "    elif df_rental_hour['대여시간_분'][i] >= 10:\n",
    "        df_rental_hour['대여시간_분_그룹'][i] = 10\n",
    "    else:\n",
    "        df_rental_hour['대여시간_분_그룹'][i] = 0\n",
    "df_rental_hour_group = df_rental_hour.groupby('대여시간_분_그룹')[['대여시간_분']].count().reset_index()\n",
    "df_rental_hour_group.rename(columns = {'대여시간_분' : 'count'}, inplace = True)\n",
    "df_rental_hour_group"
   ]
  },
  {
   "cell_type": "code",
   "execution_count": 26,
   "metadata": {},
   "outputs": [
    {
     "data": {
      "text/plain": [
       "29.5"
      ]
     },
     "execution_count": 26,
     "metadata": {},
     "output_type": "execute_result"
    }
   ],
   "source": [
    "# 10분당 평균 대여율 = 평균서비스율\n",
    "\n",
    "mu7 = df_rental_hour_group['count'].sum() / 6\n",
    "mu7"
   ]
  },
  {
   "cell_type": "markdown",
   "metadata": {},
   "source": [
    "#### 8시"
   ]
  },
  {
   "cell_type": "code",
   "execution_count": 27,
   "metadata": {},
   "outputs": [
    {
     "data": {
      "text/html": [
       "<div>\n",
       "<style scoped>\n",
       "    .dataframe tbody tr th:only-of-type {\n",
       "        vertical-align: middle;\n",
       "    }\n",
       "\n",
       "    .dataframe tbody tr th {\n",
       "        vertical-align: top;\n",
       "    }\n",
       "\n",
       "    .dataframe thead th {\n",
       "        text-align: right;\n",
       "    }\n",
       "</style>\n",
       "<table border=\"1\" class=\"dataframe\">\n",
       "  <thead>\n",
       "    <tr style=\"text-align: right;\">\n",
       "      <th></th>\n",
       "      <th>대여시간_분_그룹</th>\n",
       "      <th>count</th>\n",
       "    </tr>\n",
       "  </thead>\n",
       "  <tbody>\n",
       "    <tr>\n",
       "      <th>0</th>\n",
       "      <td>0</td>\n",
       "      <td>48</td>\n",
       "    </tr>\n",
       "    <tr>\n",
       "      <th>1</th>\n",
       "      <td>10</td>\n",
       "      <td>83</td>\n",
       "    </tr>\n",
       "    <tr>\n",
       "      <th>2</th>\n",
       "      <td>20</td>\n",
       "      <td>98</td>\n",
       "    </tr>\n",
       "    <tr>\n",
       "      <th>3</th>\n",
       "      <td>30</td>\n",
       "      <td>126</td>\n",
       "    </tr>\n",
       "    <tr>\n",
       "      <th>4</th>\n",
       "      <td>40</td>\n",
       "      <td>69</td>\n",
       "    </tr>\n",
       "    <tr>\n",
       "      <th>5</th>\n",
       "      <td>50</td>\n",
       "      <td>35</td>\n",
       "    </tr>\n",
       "  </tbody>\n",
       "</table>\n",
       "</div>"
      ],
      "text/plain": [
       "   대여시간_분_그룹  count\n",
       "0          0     48\n",
       "1         10     83\n",
       "2         20     98\n",
       "3         30    126\n",
       "4         40     69\n",
       "5         50     35"
      ]
     },
     "execution_count": 27,
     "metadata": {},
     "output_type": "execute_result"
    }
   ],
   "source": [
    "df_rental_hour = df_rental[df_rental['대여시간'] == 8]\n",
    "df_rental_hour.reset_index(drop = True, inplace = True)\n",
    "df_rental_hour['대여시간_분_그룹'] = -1\n",
    "for i in range(len(df_rental_hour)):\n",
    "    if df_rental_hour['대여시간_분'][i] >= 50:\n",
    "        df_rental_hour['대여시간_분_그룹'][i] = 50\n",
    "    elif df_rental_hour['대여시간_분'][i] >= 40:\n",
    "        df_rental_hour['대여시간_분_그룹'][i] = 40\n",
    "    elif df_rental_hour['대여시간_분'][i] >= 30:\n",
    "        df_rental_hour['대여시간_분_그룹'][i] = 30\n",
    "    elif df_rental_hour['대여시간_분'][i] >= 20:\n",
    "        df_rental_hour['대여시간_분_그룹'][i] = 20\n",
    "    elif df_rental_hour['대여시간_분'][i] >= 10:\n",
    "        df_rental_hour['대여시간_분_그룹'][i] = 10\n",
    "    else:\n",
    "        df_rental_hour['대여시간_분_그룹'][i] = 0\n",
    "df_rental_hour_group = df_rental_hour.groupby('대여시간_분_그룹')[['대여시간_분']].count().reset_index()\n",
    "df_rental_hour_group.rename(columns = {'대여시간_분' : 'count'}, inplace = True)\n",
    "df_rental_hour_group"
   ]
  },
  {
   "cell_type": "code",
   "execution_count": 28,
   "metadata": {},
   "outputs": [
    {
     "data": {
      "text/plain": [
       "76.5"
      ]
     },
     "execution_count": 28,
     "metadata": {},
     "output_type": "execute_result"
    }
   ],
   "source": [
    "# 10분당 평균 대여율 = 평균서비스율\n",
    "\n",
    "mu8 = df_rental_hour_group['count'].sum() / 6\n",
    "mu8"
   ]
  },
  {
   "cell_type": "markdown",
   "metadata": {},
   "source": [
    "#### 9시"
   ]
  },
  {
   "cell_type": "code",
   "execution_count": 29,
   "metadata": {},
   "outputs": [
    {
     "data": {
      "text/html": [
       "<div>\n",
       "<style scoped>\n",
       "    .dataframe tbody tr th:only-of-type {\n",
       "        vertical-align: middle;\n",
       "    }\n",
       "\n",
       "    .dataframe tbody tr th {\n",
       "        vertical-align: top;\n",
       "    }\n",
       "\n",
       "    .dataframe thead th {\n",
       "        text-align: right;\n",
       "    }\n",
       "</style>\n",
       "<table border=\"1\" class=\"dataframe\">\n",
       "  <thead>\n",
       "    <tr style=\"text-align: right;\">\n",
       "      <th></th>\n",
       "      <th>대여시간_분_그룹</th>\n",
       "      <th>count</th>\n",
       "    </tr>\n",
       "  </thead>\n",
       "  <tbody>\n",
       "    <tr>\n",
       "      <th>0</th>\n",
       "      <td>0</td>\n",
       "      <td>42</td>\n",
       "    </tr>\n",
       "    <tr>\n",
       "      <th>1</th>\n",
       "      <td>10</td>\n",
       "      <td>18</td>\n",
       "    </tr>\n",
       "    <tr>\n",
       "      <th>2</th>\n",
       "      <td>20</td>\n",
       "      <td>36</td>\n",
       "    </tr>\n",
       "    <tr>\n",
       "      <th>3</th>\n",
       "      <td>30</td>\n",
       "      <td>24</td>\n",
       "    </tr>\n",
       "    <tr>\n",
       "      <th>4</th>\n",
       "      <td>40</td>\n",
       "      <td>31</td>\n",
       "    </tr>\n",
       "    <tr>\n",
       "      <th>5</th>\n",
       "      <td>50</td>\n",
       "      <td>30</td>\n",
       "    </tr>\n",
       "  </tbody>\n",
       "</table>\n",
       "</div>"
      ],
      "text/plain": [
       "   대여시간_분_그룹  count\n",
       "0          0     42\n",
       "1         10     18\n",
       "2         20     36\n",
       "3         30     24\n",
       "4         40     31\n",
       "5         50     30"
      ]
     },
     "execution_count": 29,
     "metadata": {},
     "output_type": "execute_result"
    }
   ],
   "source": [
    "df_rental_hour = df_rental[df_rental['대여시간'] == 9]\n",
    "df_rental_hour.reset_index(drop = True, inplace = True)\n",
    "df_rental_hour['대여시간_분_그룹'] = -1\n",
    "for i in range(len(df_rental_hour)):\n",
    "    if df_rental_hour['대여시간_분'][i] >= 50:\n",
    "        df_rental_hour['대여시간_분_그룹'][i] = 50\n",
    "    elif df_rental_hour['대여시간_분'][i] >= 40:\n",
    "        df_rental_hour['대여시간_분_그룹'][i] = 40\n",
    "    elif df_rental_hour['대여시간_분'][i] >= 30:\n",
    "        df_rental_hour['대여시간_분_그룹'][i] = 30\n",
    "    elif df_rental_hour['대여시간_분'][i] >= 20:\n",
    "        df_rental_hour['대여시간_분_그룹'][i] = 20\n",
    "    elif df_rental_hour['대여시간_분'][i] >= 10:\n",
    "        df_rental_hour['대여시간_분_그룹'][i] = 10\n",
    "    else:\n",
    "        df_rental_hour['대여시간_분_그룹'][i] = 0\n",
    "df_rental_hour_group = df_rental_hour.groupby('대여시간_분_그룹')[['대여시간_분']].count().reset_index()\n",
    "df_rental_hour_group.rename(columns = {'대여시간_분' : 'count'}, inplace = True)\n",
    "df_rental_hour_group"
   ]
  },
  {
   "cell_type": "code",
   "execution_count": 30,
   "metadata": {},
   "outputs": [
    {
     "data": {
      "text/plain": [
       "30.166666666666668"
      ]
     },
     "execution_count": 30,
     "metadata": {},
     "output_type": "execute_result"
    }
   ],
   "source": [
    "# 10분당 평균 대여율 = 평균서비스율\n",
    "\n",
    "mu9 = df_rental_hour_group['count'].sum() / 6\n",
    "mu9"
   ]
  },
  {
   "cell_type": "markdown",
   "metadata": {},
   "source": [
    "#### 10시"
   ]
  },
  {
   "cell_type": "code",
   "execution_count": 31,
   "metadata": {},
   "outputs": [
    {
     "data": {
      "text/html": [
       "<div>\n",
       "<style scoped>\n",
       "    .dataframe tbody tr th:only-of-type {\n",
       "        vertical-align: middle;\n",
       "    }\n",
       "\n",
       "    .dataframe tbody tr th {\n",
       "        vertical-align: top;\n",
       "    }\n",
       "\n",
       "    .dataframe thead th {\n",
       "        text-align: right;\n",
       "    }\n",
       "</style>\n",
       "<table border=\"1\" class=\"dataframe\">\n",
       "  <thead>\n",
       "    <tr style=\"text-align: right;\">\n",
       "      <th></th>\n",
       "      <th>대여시간_분_그룹</th>\n",
       "      <th>count</th>\n",
       "    </tr>\n",
       "  </thead>\n",
       "  <tbody>\n",
       "    <tr>\n",
       "      <th>0</th>\n",
       "      <td>0</td>\n",
       "      <td>42</td>\n",
       "    </tr>\n",
       "    <tr>\n",
       "      <th>1</th>\n",
       "      <td>10</td>\n",
       "      <td>39</td>\n",
       "    </tr>\n",
       "    <tr>\n",
       "      <th>2</th>\n",
       "      <td>20</td>\n",
       "      <td>42</td>\n",
       "    </tr>\n",
       "    <tr>\n",
       "      <th>3</th>\n",
       "      <td>30</td>\n",
       "      <td>27</td>\n",
       "    </tr>\n",
       "    <tr>\n",
       "      <th>4</th>\n",
       "      <td>40</td>\n",
       "      <td>45</td>\n",
       "    </tr>\n",
       "    <tr>\n",
       "      <th>5</th>\n",
       "      <td>50</td>\n",
       "      <td>46</td>\n",
       "    </tr>\n",
       "  </tbody>\n",
       "</table>\n",
       "</div>"
      ],
      "text/plain": [
       "   대여시간_분_그룹  count\n",
       "0          0     42\n",
       "1         10     39\n",
       "2         20     42\n",
       "3         30     27\n",
       "4         40     45\n",
       "5         50     46"
      ]
     },
     "execution_count": 31,
     "metadata": {},
     "output_type": "execute_result"
    }
   ],
   "source": [
    "df_rental_hour = df_rental[df_rental['대여시간'] == 10]\n",
    "df_rental_hour.reset_index(drop = True, inplace = True)\n",
    "df_rental_hour['대여시간_분_그룹'] = -1\n",
    "for i in range(len(df_rental_hour)):\n",
    "    if df_rental_hour['대여시간_분'][i] >= 50:\n",
    "        df_rental_hour['대여시간_분_그룹'][i] = 50\n",
    "    elif df_rental_hour['대여시간_분'][i] >= 40:\n",
    "        df_rental_hour['대여시간_분_그룹'][i] = 40\n",
    "    elif df_rental_hour['대여시간_분'][i] >= 30:\n",
    "        df_rental_hour['대여시간_분_그룹'][i] = 30\n",
    "    elif df_rental_hour['대여시간_분'][i] >= 20:\n",
    "        df_rental_hour['대여시간_분_그룹'][i] = 20\n",
    "    elif df_rental_hour['대여시간_분'][i] >= 10:\n",
    "        df_rental_hour['대여시간_분_그룹'][i] = 10\n",
    "    else:\n",
    "        df_rental_hour['대여시간_분_그룹'][i] = 0\n",
    "df_rental_hour_group = df_rental_hour.groupby('대여시간_분_그룹')[['대여시간_분']].count().reset_index()\n",
    "df_rental_hour_group.rename(columns = {'대여시간_분' : 'count'}, inplace = True)\n",
    "df_rental_hour_group"
   ]
  },
  {
   "cell_type": "code",
   "execution_count": 32,
   "metadata": {},
   "outputs": [
    {
     "data": {
      "text/plain": [
       "40.166666666666664"
      ]
     },
     "execution_count": 32,
     "metadata": {},
     "output_type": "execute_result"
    }
   ],
   "source": [
    "# 10분당 평균 대여율 = 평균서비스율\n",
    "\n",
    "mu10 = df_rental_hour_group['count'].sum() / 6\n",
    "mu10"
   ]
  },
  {
   "cell_type": "markdown",
   "metadata": {},
   "source": [
    "#### 11시"
   ]
  },
  {
   "cell_type": "code",
   "execution_count": 33,
   "metadata": {},
   "outputs": [
    {
     "data": {
      "text/html": [
       "<div>\n",
       "<style scoped>\n",
       "    .dataframe tbody tr th:only-of-type {\n",
       "        vertical-align: middle;\n",
       "    }\n",
       "\n",
       "    .dataframe tbody tr th {\n",
       "        vertical-align: top;\n",
       "    }\n",
       "\n",
       "    .dataframe thead th {\n",
       "        text-align: right;\n",
       "    }\n",
       "</style>\n",
       "<table border=\"1\" class=\"dataframe\">\n",
       "  <thead>\n",
       "    <tr style=\"text-align: right;\">\n",
       "      <th></th>\n",
       "      <th>대여시간_분_그룹</th>\n",
       "      <th>count</th>\n",
       "    </tr>\n",
       "  </thead>\n",
       "  <tbody>\n",
       "    <tr>\n",
       "      <th>0</th>\n",
       "      <td>0</td>\n",
       "      <td>38</td>\n",
       "    </tr>\n",
       "    <tr>\n",
       "      <th>1</th>\n",
       "      <td>10</td>\n",
       "      <td>38</td>\n",
       "    </tr>\n",
       "    <tr>\n",
       "      <th>2</th>\n",
       "      <td>20</td>\n",
       "      <td>38</td>\n",
       "    </tr>\n",
       "    <tr>\n",
       "      <th>3</th>\n",
       "      <td>30</td>\n",
       "      <td>34</td>\n",
       "    </tr>\n",
       "    <tr>\n",
       "      <th>4</th>\n",
       "      <td>40</td>\n",
       "      <td>50</td>\n",
       "    </tr>\n",
       "    <tr>\n",
       "      <th>5</th>\n",
       "      <td>50</td>\n",
       "      <td>46</td>\n",
       "    </tr>\n",
       "  </tbody>\n",
       "</table>\n",
       "</div>"
      ],
      "text/plain": [
       "   대여시간_분_그룹  count\n",
       "0          0     38\n",
       "1         10     38\n",
       "2         20     38\n",
       "3         30     34\n",
       "4         40     50\n",
       "5         50     46"
      ]
     },
     "execution_count": 33,
     "metadata": {},
     "output_type": "execute_result"
    }
   ],
   "source": [
    "df_rental_hour = df_rental[df_rental['대여시간'] == 11]\n",
    "df_rental_hour.reset_index(drop = True, inplace = True)\n",
    "df_rental_hour['대여시간_분_그룹'] = -1\n",
    "for i in range(len(df_rental_hour)):\n",
    "    if df_rental_hour['대여시간_분'][i] >= 50:\n",
    "        df_rental_hour['대여시간_분_그룹'][i] = 50\n",
    "    elif df_rental_hour['대여시간_분'][i] >= 40:\n",
    "        df_rental_hour['대여시간_분_그룹'][i] = 40\n",
    "    elif df_rental_hour['대여시간_분'][i] >= 30:\n",
    "        df_rental_hour['대여시간_분_그룹'][i] = 30\n",
    "    elif df_rental_hour['대여시간_분'][i] >= 20:\n",
    "        df_rental_hour['대여시간_분_그룹'][i] = 20\n",
    "    elif df_rental_hour['대여시간_분'][i] >= 10:\n",
    "        df_rental_hour['대여시간_분_그룹'][i] = 10\n",
    "    else:\n",
    "        df_rental_hour['대여시간_분_그룹'][i] = 0\n",
    "df_rental_hour_group = df_rental_hour.groupby('대여시간_분_그룹')[['대여시간_분']].count().reset_index()\n",
    "df_rental_hour_group.rename(columns = {'대여시간_분' : 'count'}, inplace = True)\n",
    "df_rental_hour_group"
   ]
  },
  {
   "cell_type": "code",
   "execution_count": 34,
   "metadata": {},
   "outputs": [
    {
     "data": {
      "text/plain": [
       "40.666666666666664"
      ]
     },
     "execution_count": 34,
     "metadata": {},
     "output_type": "execute_result"
    }
   ],
   "source": [
    "# 10분당 평균 대여율 = 평균서비스율\n",
    "\n",
    "mu11 = df_rental_hour_group['count'].sum() / 6\n",
    "mu11"
   ]
  },
  {
   "cell_type": "markdown",
   "metadata": {},
   "source": [
    "#### 12시"
   ]
  },
  {
   "cell_type": "code",
   "execution_count": 35,
   "metadata": {},
   "outputs": [
    {
     "data": {
      "text/html": [
       "<div>\n",
       "<style scoped>\n",
       "    .dataframe tbody tr th:only-of-type {\n",
       "        vertical-align: middle;\n",
       "    }\n",
       "\n",
       "    .dataframe tbody tr th {\n",
       "        vertical-align: top;\n",
       "    }\n",
       "\n",
       "    .dataframe thead th {\n",
       "        text-align: right;\n",
       "    }\n",
       "</style>\n",
       "<table border=\"1\" class=\"dataframe\">\n",
       "  <thead>\n",
       "    <tr style=\"text-align: right;\">\n",
       "      <th></th>\n",
       "      <th>대여시간_분_그룹</th>\n",
       "      <th>count</th>\n",
       "    </tr>\n",
       "  </thead>\n",
       "  <tbody>\n",
       "    <tr>\n",
       "      <th>0</th>\n",
       "      <td>0</td>\n",
       "      <td>42</td>\n",
       "    </tr>\n",
       "    <tr>\n",
       "      <th>1</th>\n",
       "      <td>10</td>\n",
       "      <td>48</td>\n",
       "    </tr>\n",
       "    <tr>\n",
       "      <th>2</th>\n",
       "      <td>20</td>\n",
       "      <td>47</td>\n",
       "    </tr>\n",
       "    <tr>\n",
       "      <th>3</th>\n",
       "      <td>30</td>\n",
       "      <td>44</td>\n",
       "    </tr>\n",
       "    <tr>\n",
       "      <th>4</th>\n",
       "      <td>40</td>\n",
       "      <td>32</td>\n",
       "    </tr>\n",
       "    <tr>\n",
       "      <th>5</th>\n",
       "      <td>50</td>\n",
       "      <td>37</td>\n",
       "    </tr>\n",
       "  </tbody>\n",
       "</table>\n",
       "</div>"
      ],
      "text/plain": [
       "   대여시간_분_그룹  count\n",
       "0          0     42\n",
       "1         10     48\n",
       "2         20     47\n",
       "3         30     44\n",
       "4         40     32\n",
       "5         50     37"
      ]
     },
     "execution_count": 35,
     "metadata": {},
     "output_type": "execute_result"
    }
   ],
   "source": [
    "df_rental_hour = df_rental[df_rental['대여시간'] == 12]\n",
    "df_rental_hour.reset_index(drop = True, inplace = True)\n",
    "df_rental_hour['대여시간_분_그룹'] = -1\n",
    "for i in range(len(df_rental_hour)):\n",
    "    if df_rental_hour['대여시간_분'][i] >= 50:\n",
    "        df_rental_hour['대여시간_분_그룹'][i] = 50\n",
    "    elif df_rental_hour['대여시간_분'][i] >= 40:\n",
    "        df_rental_hour['대여시간_분_그룹'][i] = 40\n",
    "    elif df_rental_hour['대여시간_분'][i] >= 30:\n",
    "        df_rental_hour['대여시간_분_그룹'][i] = 30\n",
    "    elif df_rental_hour['대여시간_분'][i] >= 20:\n",
    "        df_rental_hour['대여시간_분_그룹'][i] = 20\n",
    "    elif df_rental_hour['대여시간_분'][i] >= 10:\n",
    "        df_rental_hour['대여시간_분_그룹'][i] = 10\n",
    "    else:\n",
    "        df_rental_hour['대여시간_분_그룹'][i] = 0\n",
    "df_rental_hour_group = df_rental_hour.groupby('대여시간_분_그룹')[['대여시간_분']].count().reset_index()\n",
    "df_rental_hour_group.rename(columns = {'대여시간_분' : 'count'}, inplace = True)\n",
    "df_rental_hour_group"
   ]
  },
  {
   "cell_type": "code",
   "execution_count": 36,
   "metadata": {},
   "outputs": [
    {
     "data": {
      "text/plain": [
       "41.666666666666664"
      ]
     },
     "execution_count": 36,
     "metadata": {},
     "output_type": "execute_result"
    }
   ],
   "source": [
    "# 10분당 평균 대여율 = 평균서비스율\n",
    "\n",
    "mu12 = df_rental_hour_group['count'].sum() / 6\n",
    "mu12"
   ]
  },
  {
   "cell_type": "markdown",
   "metadata": {},
   "source": [
    "#### 13시"
   ]
  },
  {
   "cell_type": "code",
   "execution_count": 37,
   "metadata": {},
   "outputs": [
    {
     "data": {
      "text/html": [
       "<div>\n",
       "<style scoped>\n",
       "    .dataframe tbody tr th:only-of-type {\n",
       "        vertical-align: middle;\n",
       "    }\n",
       "\n",
       "    .dataframe tbody tr th {\n",
       "        vertical-align: top;\n",
       "    }\n",
       "\n",
       "    .dataframe thead th {\n",
       "        text-align: right;\n",
       "    }\n",
       "</style>\n",
       "<table border=\"1\" class=\"dataframe\">\n",
       "  <thead>\n",
       "    <tr style=\"text-align: right;\">\n",
       "      <th></th>\n",
       "      <th>대여시간_분_그룹</th>\n",
       "      <th>count</th>\n",
       "    </tr>\n",
       "  </thead>\n",
       "  <tbody>\n",
       "    <tr>\n",
       "      <th>0</th>\n",
       "      <td>0</td>\n",
       "      <td>38</td>\n",
       "    </tr>\n",
       "    <tr>\n",
       "      <th>1</th>\n",
       "      <td>10</td>\n",
       "      <td>46</td>\n",
       "    </tr>\n",
       "    <tr>\n",
       "      <th>2</th>\n",
       "      <td>20</td>\n",
       "      <td>45</td>\n",
       "    </tr>\n",
       "    <tr>\n",
       "      <th>3</th>\n",
       "      <td>30</td>\n",
       "      <td>46</td>\n",
       "    </tr>\n",
       "    <tr>\n",
       "      <th>4</th>\n",
       "      <td>40</td>\n",
       "      <td>51</td>\n",
       "    </tr>\n",
       "    <tr>\n",
       "      <th>5</th>\n",
       "      <td>50</td>\n",
       "      <td>48</td>\n",
       "    </tr>\n",
       "  </tbody>\n",
       "</table>\n",
       "</div>"
      ],
      "text/plain": [
       "   대여시간_분_그룹  count\n",
       "0          0     38\n",
       "1         10     46\n",
       "2         20     45\n",
       "3         30     46\n",
       "4         40     51\n",
       "5         50     48"
      ]
     },
     "execution_count": 37,
     "metadata": {},
     "output_type": "execute_result"
    }
   ],
   "source": [
    "df_rental_hour = df_rental[df_rental['대여시간'] == 13]\n",
    "df_rental_hour.reset_index(drop = True, inplace = True)\n",
    "df_rental_hour['대여시간_분_그룹'] = -1\n",
    "for i in range(len(df_rental_hour)):\n",
    "    if df_rental_hour['대여시간_분'][i] >= 50:\n",
    "        df_rental_hour['대여시간_분_그룹'][i] = 50\n",
    "    elif df_rental_hour['대여시간_분'][i] >= 40:\n",
    "        df_rental_hour['대여시간_분_그룹'][i] = 40\n",
    "    elif df_rental_hour['대여시간_분'][i] >= 30:\n",
    "        df_rental_hour['대여시간_분_그룹'][i] = 30\n",
    "    elif df_rental_hour['대여시간_분'][i] >= 20:\n",
    "        df_rental_hour['대여시간_분_그룹'][i] = 20\n",
    "    elif df_rental_hour['대여시간_분'][i] >= 10:\n",
    "        df_rental_hour['대여시간_분_그룹'][i] = 10\n",
    "    else:\n",
    "        df_rental_hour['대여시간_분_그룹'][i] = 0\n",
    "df_rental_hour_group = df_rental_hour.groupby('대여시간_분_그룹')[['대여시간_분']].count().reset_index()\n",
    "df_rental_hour_group.rename(columns = {'대여시간_분' : 'count'}, inplace = True)\n",
    "df_rental_hour_group"
   ]
  },
  {
   "cell_type": "code",
   "execution_count": 38,
   "metadata": {},
   "outputs": [
    {
     "data": {
      "text/plain": [
       "45.666666666666664"
      ]
     },
     "execution_count": 38,
     "metadata": {},
     "output_type": "execute_result"
    }
   ],
   "source": [
    "# 10분당 평균 대여율 = 평균서비스율\n",
    "\n",
    "mu13 = df_rental_hour_group['count'].sum() / 6\n",
    "mu13"
   ]
  },
  {
   "cell_type": "markdown",
   "metadata": {},
   "source": [
    "#### 14시"
   ]
  },
  {
   "cell_type": "code",
   "execution_count": 39,
   "metadata": {},
   "outputs": [
    {
     "data": {
      "text/html": [
       "<div>\n",
       "<style scoped>\n",
       "    .dataframe tbody tr th:only-of-type {\n",
       "        vertical-align: middle;\n",
       "    }\n",
       "\n",
       "    .dataframe tbody tr th {\n",
       "        vertical-align: top;\n",
       "    }\n",
       "\n",
       "    .dataframe thead th {\n",
       "        text-align: right;\n",
       "    }\n",
       "</style>\n",
       "<table border=\"1\" class=\"dataframe\">\n",
       "  <thead>\n",
       "    <tr style=\"text-align: right;\">\n",
       "      <th></th>\n",
       "      <th>대여시간_분_그룹</th>\n",
       "      <th>count</th>\n",
       "    </tr>\n",
       "  </thead>\n",
       "  <tbody>\n",
       "    <tr>\n",
       "      <th>0</th>\n",
       "      <td>0</td>\n",
       "      <td>67</td>\n",
       "    </tr>\n",
       "    <tr>\n",
       "      <th>1</th>\n",
       "      <td>10</td>\n",
       "      <td>50</td>\n",
       "    </tr>\n",
       "    <tr>\n",
       "      <th>2</th>\n",
       "      <td>20</td>\n",
       "      <td>57</td>\n",
       "    </tr>\n",
       "    <tr>\n",
       "      <th>3</th>\n",
       "      <td>30</td>\n",
       "      <td>43</td>\n",
       "    </tr>\n",
       "    <tr>\n",
       "      <th>4</th>\n",
       "      <td>40</td>\n",
       "      <td>53</td>\n",
       "    </tr>\n",
       "    <tr>\n",
       "      <th>5</th>\n",
       "      <td>50</td>\n",
       "      <td>67</td>\n",
       "    </tr>\n",
       "  </tbody>\n",
       "</table>\n",
       "</div>"
      ],
      "text/plain": [
       "   대여시간_분_그룹  count\n",
       "0          0     67\n",
       "1         10     50\n",
       "2         20     57\n",
       "3         30     43\n",
       "4         40     53\n",
       "5         50     67"
      ]
     },
     "execution_count": 39,
     "metadata": {},
     "output_type": "execute_result"
    }
   ],
   "source": [
    "df_rental_hour = df_rental[df_rental['대여시간'] == 14]\n",
    "df_rental_hour.reset_index(drop = True, inplace = True)\n",
    "df_rental_hour['대여시간_분_그룹'] = -1\n",
    "for i in range(len(df_rental_hour)):\n",
    "    if df_rental_hour['대여시간_분'][i] >= 50:\n",
    "        df_rental_hour['대여시간_분_그룹'][i] = 50\n",
    "    elif df_rental_hour['대여시간_분'][i] >= 40:\n",
    "        df_rental_hour['대여시간_분_그룹'][i] = 40\n",
    "    elif df_rental_hour['대여시간_분'][i] >= 30:\n",
    "        df_rental_hour['대여시간_분_그룹'][i] = 30\n",
    "    elif df_rental_hour['대여시간_분'][i] >= 20:\n",
    "        df_rental_hour['대여시간_분_그룹'][i] = 20\n",
    "    elif df_rental_hour['대여시간_분'][i] >= 10:\n",
    "        df_rental_hour['대여시간_분_그룹'][i] = 10\n",
    "    else:\n",
    "        df_rental_hour['대여시간_분_그룹'][i] = 0\n",
    "df_rental_hour_group = df_rental_hour.groupby('대여시간_분_그룹')[['대여시간_분']].count().reset_index()\n",
    "df_rental_hour_group.rename(columns = {'대여시간_분' : 'count'}, inplace = True)\n",
    "df_rental_hour_group"
   ]
  },
  {
   "cell_type": "code",
   "execution_count": 40,
   "metadata": {},
   "outputs": [
    {
     "data": {
      "text/plain": [
       "56.166666666666664"
      ]
     },
     "execution_count": 40,
     "metadata": {},
     "output_type": "execute_result"
    }
   ],
   "source": [
    "# 10분당 평균 대여율 = 평균서비스율\n",
    "\n",
    "mu14 = df_rental_hour_group['count'].sum() / 6\n",
    "mu14"
   ]
  },
  {
   "cell_type": "markdown",
   "metadata": {},
   "source": [
    "#### 15시"
   ]
  },
  {
   "cell_type": "code",
   "execution_count": 41,
   "metadata": {},
   "outputs": [
    {
     "data": {
      "text/html": [
       "<div>\n",
       "<style scoped>\n",
       "    .dataframe tbody tr th:only-of-type {\n",
       "        vertical-align: middle;\n",
       "    }\n",
       "\n",
       "    .dataframe tbody tr th {\n",
       "        vertical-align: top;\n",
       "    }\n",
       "\n",
       "    .dataframe thead th {\n",
       "        text-align: right;\n",
       "    }\n",
       "</style>\n",
       "<table border=\"1\" class=\"dataframe\">\n",
       "  <thead>\n",
       "    <tr style=\"text-align: right;\">\n",
       "      <th></th>\n",
       "      <th>대여시간_분_그룹</th>\n",
       "      <th>count</th>\n",
       "    </tr>\n",
       "  </thead>\n",
       "  <tbody>\n",
       "    <tr>\n",
       "      <th>0</th>\n",
       "      <td>0</td>\n",
       "      <td>86</td>\n",
       "    </tr>\n",
       "    <tr>\n",
       "      <th>1</th>\n",
       "      <td>10</td>\n",
       "      <td>101</td>\n",
       "    </tr>\n",
       "    <tr>\n",
       "      <th>2</th>\n",
       "      <td>20</td>\n",
       "      <td>91</td>\n",
       "    </tr>\n",
       "    <tr>\n",
       "      <th>3</th>\n",
       "      <td>30</td>\n",
       "      <td>77</td>\n",
       "    </tr>\n",
       "    <tr>\n",
       "      <th>4</th>\n",
       "      <td>40</td>\n",
       "      <td>79</td>\n",
       "    </tr>\n",
       "    <tr>\n",
       "      <th>5</th>\n",
       "      <td>50</td>\n",
       "      <td>88</td>\n",
       "    </tr>\n",
       "  </tbody>\n",
       "</table>\n",
       "</div>"
      ],
      "text/plain": [
       "   대여시간_분_그룹  count\n",
       "0          0     86\n",
       "1         10    101\n",
       "2         20     91\n",
       "3         30     77\n",
       "4         40     79\n",
       "5         50     88"
      ]
     },
     "execution_count": 41,
     "metadata": {},
     "output_type": "execute_result"
    }
   ],
   "source": [
    "df_rental_hour = df_rental[df_rental['대여시간'] == 15]\n",
    "df_rental_hour.reset_index(drop = True, inplace = True)\n",
    "df_rental_hour['대여시간_분_그룹'] = -1\n",
    "for i in range(len(df_rental_hour)):\n",
    "    if df_rental_hour['대여시간_분'][i] >= 50:\n",
    "        df_rental_hour['대여시간_분_그룹'][i] = 50\n",
    "    elif df_rental_hour['대여시간_분'][i] >= 40:\n",
    "        df_rental_hour['대여시간_분_그룹'][i] = 40\n",
    "    elif df_rental_hour['대여시간_분'][i] >= 30:\n",
    "        df_rental_hour['대여시간_분_그룹'][i] = 30\n",
    "    elif df_rental_hour['대여시간_분'][i] >= 20:\n",
    "        df_rental_hour['대여시간_분_그룹'][i] = 20\n",
    "    elif df_rental_hour['대여시간_분'][i] >= 10:\n",
    "        df_rental_hour['대여시간_분_그룹'][i] = 10\n",
    "    else:\n",
    "        df_rental_hour['대여시간_분_그룹'][i] = 0\n",
    "df_rental_hour_group = df_rental_hour.groupby('대여시간_분_그룹')[['대여시간_분']].count().reset_index()\n",
    "df_rental_hour_group.rename(columns = {'대여시간_분' : 'count'}, inplace = True)\n",
    "df_rental_hour_group"
   ]
  },
  {
   "cell_type": "code",
   "execution_count": 42,
   "metadata": {},
   "outputs": [
    {
     "data": {
      "text/plain": [
       "87.0"
      ]
     },
     "execution_count": 42,
     "metadata": {},
     "output_type": "execute_result"
    }
   ],
   "source": [
    "# 10분당 평균 대여율 = 평균서비스율\n",
    "\n",
    "mu15 = df_rental_hour_group['count'].sum() / 6\n",
    "mu15"
   ]
  },
  {
   "cell_type": "markdown",
   "metadata": {},
   "source": [
    "#### 16시"
   ]
  },
  {
   "cell_type": "code",
   "execution_count": 43,
   "metadata": {},
   "outputs": [
    {
     "data": {
      "text/html": [
       "<div>\n",
       "<style scoped>\n",
       "    .dataframe tbody tr th:only-of-type {\n",
       "        vertical-align: middle;\n",
       "    }\n",
       "\n",
       "    .dataframe tbody tr th {\n",
       "        vertical-align: top;\n",
       "    }\n",
       "\n",
       "    .dataframe thead th {\n",
       "        text-align: right;\n",
       "    }\n",
       "</style>\n",
       "<table border=\"1\" class=\"dataframe\">\n",
       "  <thead>\n",
       "    <tr style=\"text-align: right;\">\n",
       "      <th></th>\n",
       "      <th>대여시간_분_그룹</th>\n",
       "      <th>count</th>\n",
       "    </tr>\n",
       "  </thead>\n",
       "  <tbody>\n",
       "    <tr>\n",
       "      <th>0</th>\n",
       "      <td>0</td>\n",
       "      <td>114</td>\n",
       "    </tr>\n",
       "    <tr>\n",
       "      <th>1</th>\n",
       "      <td>10</td>\n",
       "      <td>102</td>\n",
       "    </tr>\n",
       "    <tr>\n",
       "      <th>2</th>\n",
       "      <td>20</td>\n",
       "      <td>104</td>\n",
       "    </tr>\n",
       "    <tr>\n",
       "      <th>3</th>\n",
       "      <td>30</td>\n",
       "      <td>99</td>\n",
       "    </tr>\n",
       "    <tr>\n",
       "      <th>4</th>\n",
       "      <td>40</td>\n",
       "      <td>135</td>\n",
       "    </tr>\n",
       "    <tr>\n",
       "      <th>5</th>\n",
       "      <td>50</td>\n",
       "      <td>121</td>\n",
       "    </tr>\n",
       "  </tbody>\n",
       "</table>\n",
       "</div>"
      ],
      "text/plain": [
       "   대여시간_분_그룹  count\n",
       "0          0    114\n",
       "1         10    102\n",
       "2         20    104\n",
       "3         30     99\n",
       "4         40    135\n",
       "5         50    121"
      ]
     },
     "execution_count": 43,
     "metadata": {},
     "output_type": "execute_result"
    }
   ],
   "source": [
    "df_rental_hour = df_rental[df_rental['대여시간'] == 16]\n",
    "df_rental_hour.reset_index(drop = True, inplace = True)\n",
    "df_rental_hour['대여시간_분_그룹'] = -1\n",
    "for i in range(len(df_rental_hour)):\n",
    "    if df_rental_hour['대여시간_분'][i] >= 50:\n",
    "        df_rental_hour['대여시간_분_그룹'][i] = 50\n",
    "    elif df_rental_hour['대여시간_분'][i] >= 40:\n",
    "        df_rental_hour['대여시간_분_그룹'][i] = 40\n",
    "    elif df_rental_hour['대여시간_분'][i] >= 30:\n",
    "        df_rental_hour['대여시간_분_그룹'][i] = 30\n",
    "    elif df_rental_hour['대여시간_분'][i] >= 20:\n",
    "        df_rental_hour['대여시간_분_그룹'][i] = 20\n",
    "    elif df_rental_hour['대여시간_분'][i] >= 10:\n",
    "        df_rental_hour['대여시간_분_그룹'][i] = 10\n",
    "    else:\n",
    "        df_rental_hour['대여시간_분_그룹'][i] = 0\n",
    "df_rental_hour_group = df_rental_hour.groupby('대여시간_분_그룹')[['대여시간_분']].count().reset_index()\n",
    "df_rental_hour_group.rename(columns = {'대여시간_분' : 'count'}, inplace = True)\n",
    "df_rental_hour_group"
   ]
  },
  {
   "cell_type": "code",
   "execution_count": 44,
   "metadata": {},
   "outputs": [
    {
     "data": {
      "text/plain": [
       "112.5"
      ]
     },
     "execution_count": 44,
     "metadata": {},
     "output_type": "execute_result"
    }
   ],
   "source": [
    "# 10분당 평균 대여율 = 평균서비스율\n",
    "\n",
    "mu16 = df_rental_hour_group['count'].sum() / 6\n",
    "mu16"
   ]
  },
  {
   "cell_type": "markdown",
   "metadata": {},
   "source": [
    "#### 17시"
   ]
  },
  {
   "cell_type": "code",
   "execution_count": 45,
   "metadata": {},
   "outputs": [
    {
     "data": {
      "text/html": [
       "<div>\n",
       "<style scoped>\n",
       "    .dataframe tbody tr th:only-of-type {\n",
       "        vertical-align: middle;\n",
       "    }\n",
       "\n",
       "    .dataframe tbody tr th {\n",
       "        vertical-align: top;\n",
       "    }\n",
       "\n",
       "    .dataframe thead th {\n",
       "        text-align: right;\n",
       "    }\n",
       "</style>\n",
       "<table border=\"1\" class=\"dataframe\">\n",
       "  <thead>\n",
       "    <tr style=\"text-align: right;\">\n",
       "      <th></th>\n",
       "      <th>대여시간_분_그룹</th>\n",
       "      <th>count</th>\n",
       "    </tr>\n",
       "  </thead>\n",
       "  <tbody>\n",
       "    <tr>\n",
       "      <th>0</th>\n",
       "      <td>0</td>\n",
       "      <td>138</td>\n",
       "    </tr>\n",
       "    <tr>\n",
       "      <th>1</th>\n",
       "      <td>10</td>\n",
       "      <td>137</td>\n",
       "    </tr>\n",
       "    <tr>\n",
       "      <th>2</th>\n",
       "      <td>20</td>\n",
       "      <td>156</td>\n",
       "    </tr>\n",
       "    <tr>\n",
       "      <th>3</th>\n",
       "      <td>30</td>\n",
       "      <td>174</td>\n",
       "    </tr>\n",
       "    <tr>\n",
       "      <th>4</th>\n",
       "      <td>40</td>\n",
       "      <td>195</td>\n",
       "    </tr>\n",
       "    <tr>\n",
       "      <th>5</th>\n",
       "      <td>50</td>\n",
       "      <td>172</td>\n",
       "    </tr>\n",
       "  </tbody>\n",
       "</table>\n",
       "</div>"
      ],
      "text/plain": [
       "   대여시간_분_그룹  count\n",
       "0          0    138\n",
       "1         10    137\n",
       "2         20    156\n",
       "3         30    174\n",
       "4         40    195\n",
       "5         50    172"
      ]
     },
     "execution_count": 45,
     "metadata": {},
     "output_type": "execute_result"
    }
   ],
   "source": [
    "df_rental_hour = df_rental[df_rental['대여시간'] == 17]\n",
    "df_rental_hour.reset_index(drop = True, inplace = True)\n",
    "df_rental_hour['대여시간_분_그룹'] = -1\n",
    "for i in range(len(df_rental_hour)):\n",
    "    if df_rental_hour['대여시간_분'][i] >= 50:\n",
    "        df_rental_hour['대여시간_분_그룹'][i] = 50\n",
    "    elif df_rental_hour['대여시간_분'][i] >= 40:\n",
    "        df_rental_hour['대여시간_분_그룹'][i] = 40\n",
    "    elif df_rental_hour['대여시간_분'][i] >= 30:\n",
    "        df_rental_hour['대여시간_분_그룹'][i] = 30\n",
    "    elif df_rental_hour['대여시간_분'][i] >= 20:\n",
    "        df_rental_hour['대여시간_분_그룹'][i] = 20\n",
    "    elif df_rental_hour['대여시간_분'][i] >= 10:\n",
    "        df_rental_hour['대여시간_분_그룹'][i] = 10\n",
    "    else:\n",
    "        df_rental_hour['대여시간_분_그룹'][i] = 0\n",
    "df_rental_hour_group = df_rental_hour.groupby('대여시간_분_그룹')[['대여시간_분']].count().reset_index()\n",
    "df_rental_hour_group.rename(columns = {'대여시간_분' : 'count'}, inplace = True)\n",
    "df_rental_hour_group"
   ]
  },
  {
   "cell_type": "code",
   "execution_count": 46,
   "metadata": {},
   "outputs": [
    {
     "data": {
      "text/plain": [
       "162.0"
      ]
     },
     "execution_count": 46,
     "metadata": {},
     "output_type": "execute_result"
    }
   ],
   "source": [
    "# 10분당 평균 대여율 = 평균서비스율\n",
    "\n",
    "mu17 = df_rental_hour_group['count'].sum() / 6\n",
    "mu17"
   ]
  },
  {
   "cell_type": "markdown",
   "metadata": {},
   "source": [
    "#### 18시"
   ]
  },
  {
   "cell_type": "code",
   "execution_count": 47,
   "metadata": {},
   "outputs": [
    {
     "data": {
      "text/html": [
       "<div>\n",
       "<style scoped>\n",
       "    .dataframe tbody tr th:only-of-type {\n",
       "        vertical-align: middle;\n",
       "    }\n",
       "\n",
       "    .dataframe tbody tr th {\n",
       "        vertical-align: top;\n",
       "    }\n",
       "\n",
       "    .dataframe thead th {\n",
       "        text-align: right;\n",
       "    }\n",
       "</style>\n",
       "<table border=\"1\" class=\"dataframe\">\n",
       "  <thead>\n",
       "    <tr style=\"text-align: right;\">\n",
       "      <th></th>\n",
       "      <th>대여시간_분_그룹</th>\n",
       "      <th>count</th>\n",
       "    </tr>\n",
       "  </thead>\n",
       "  <tbody>\n",
       "    <tr>\n",
       "      <th>0</th>\n",
       "      <td>0</td>\n",
       "      <td>218</td>\n",
       "    </tr>\n",
       "    <tr>\n",
       "      <th>1</th>\n",
       "      <td>10</td>\n",
       "      <td>233</td>\n",
       "    </tr>\n",
       "    <tr>\n",
       "      <th>2</th>\n",
       "      <td>20</td>\n",
       "      <td>214</td>\n",
       "    </tr>\n",
       "    <tr>\n",
       "      <th>3</th>\n",
       "      <td>30</td>\n",
       "      <td>217</td>\n",
       "    </tr>\n",
       "    <tr>\n",
       "      <th>4</th>\n",
       "      <td>40</td>\n",
       "      <td>256</td>\n",
       "    </tr>\n",
       "    <tr>\n",
       "      <th>5</th>\n",
       "      <td>50</td>\n",
       "      <td>284</td>\n",
       "    </tr>\n",
       "  </tbody>\n",
       "</table>\n",
       "</div>"
      ],
      "text/plain": [
       "   대여시간_분_그룹  count\n",
       "0          0    218\n",
       "1         10    233\n",
       "2         20    214\n",
       "3         30    217\n",
       "4         40    256\n",
       "5         50    284"
      ]
     },
     "execution_count": 47,
     "metadata": {},
     "output_type": "execute_result"
    }
   ],
   "source": [
    "df_rental_hour = df_rental[df_rental['대여시간'] == 18]\n",
    "df_rental_hour.reset_index(drop = True, inplace = True)\n",
    "df_rental_hour['대여시간_분_그룹'] = -1\n",
    "for i in range(len(df_rental_hour)):\n",
    "    if df_rental_hour['대여시간_분'][i] >= 50:\n",
    "        df_rental_hour['대여시간_분_그룹'][i] = 50\n",
    "    elif df_rental_hour['대여시간_분'][i] >= 40:\n",
    "        df_rental_hour['대여시간_분_그룹'][i] = 40\n",
    "    elif df_rental_hour['대여시간_분'][i] >= 30:\n",
    "        df_rental_hour['대여시간_분_그룹'][i] = 30\n",
    "    elif df_rental_hour['대여시간_분'][i] >= 20:\n",
    "        df_rental_hour['대여시간_분_그룹'][i] = 20\n",
    "    elif df_rental_hour['대여시간_분'][i] >= 10:\n",
    "        df_rental_hour['대여시간_분_그룹'][i] = 10\n",
    "    else:\n",
    "        df_rental_hour['대여시간_분_그룹'][i] = 0\n",
    "df_rental_hour_group = df_rental_hour.groupby('대여시간_분_그룹')[['대여시간_분']].count().reset_index()\n",
    "df_rental_hour_group.rename(columns = {'대여시간_분' : 'count'}, inplace = True)\n",
    "df_rental_hour_group"
   ]
  },
  {
   "cell_type": "code",
   "execution_count": 48,
   "metadata": {},
   "outputs": [
    {
     "data": {
      "text/plain": [
       "237.0"
      ]
     },
     "execution_count": 48,
     "metadata": {},
     "output_type": "execute_result"
    }
   ],
   "source": [
    "# 10분당 평균 대여율 = 평균서비스율\n",
    "\n",
    "mu18 = df_rental_hour_group['count'].sum() / 6\n",
    "mu18"
   ]
  },
  {
   "cell_type": "markdown",
   "metadata": {},
   "source": [
    "#### 19시"
   ]
  },
  {
   "cell_type": "code",
   "execution_count": 49,
   "metadata": {},
   "outputs": [
    {
     "data": {
      "text/html": [
       "<div>\n",
       "<style scoped>\n",
       "    .dataframe tbody tr th:only-of-type {\n",
       "        vertical-align: middle;\n",
       "    }\n",
       "\n",
       "    .dataframe tbody tr th {\n",
       "        vertical-align: top;\n",
       "    }\n",
       "\n",
       "    .dataframe thead th {\n",
       "        text-align: right;\n",
       "    }\n",
       "</style>\n",
       "<table border=\"1\" class=\"dataframe\">\n",
       "  <thead>\n",
       "    <tr style=\"text-align: right;\">\n",
       "      <th></th>\n",
       "      <th>대여시간_분_그룹</th>\n",
       "      <th>count</th>\n",
       "    </tr>\n",
       "  </thead>\n",
       "  <tbody>\n",
       "    <tr>\n",
       "      <th>0</th>\n",
       "      <td>0</td>\n",
       "      <td>285</td>\n",
       "    </tr>\n",
       "    <tr>\n",
       "      <th>1</th>\n",
       "      <td>10</td>\n",
       "      <td>277</td>\n",
       "    </tr>\n",
       "    <tr>\n",
       "      <th>2</th>\n",
       "      <td>20</td>\n",
       "      <td>295</td>\n",
       "    </tr>\n",
       "    <tr>\n",
       "      <th>3</th>\n",
       "      <td>30</td>\n",
       "      <td>303</td>\n",
       "    </tr>\n",
       "    <tr>\n",
       "      <th>4</th>\n",
       "      <td>40</td>\n",
       "      <td>279</td>\n",
       "    </tr>\n",
       "    <tr>\n",
       "      <th>5</th>\n",
       "      <td>50</td>\n",
       "      <td>318</td>\n",
       "    </tr>\n",
       "  </tbody>\n",
       "</table>\n",
       "</div>"
      ],
      "text/plain": [
       "   대여시간_분_그룹  count\n",
       "0          0    285\n",
       "1         10    277\n",
       "2         20    295\n",
       "3         30    303\n",
       "4         40    279\n",
       "5         50    318"
      ]
     },
     "execution_count": 49,
     "metadata": {},
     "output_type": "execute_result"
    }
   ],
   "source": [
    "df_rental_hour = df_rental[df_rental['대여시간'] == 19]\n",
    "df_rental_hour.reset_index(drop = True, inplace = True)\n",
    "df_rental_hour['대여시간_분_그룹'] = -1\n",
    "for i in range(len(df_rental_hour)):\n",
    "    if df_rental_hour['대여시간_분'][i] >= 50:\n",
    "        df_rental_hour['대여시간_분_그룹'][i] = 50\n",
    "    elif df_rental_hour['대여시간_분'][i] >= 40:\n",
    "        df_rental_hour['대여시간_분_그룹'][i] = 40\n",
    "    elif df_rental_hour['대여시간_분'][i] >= 30:\n",
    "        df_rental_hour['대여시간_분_그룹'][i] = 30\n",
    "    elif df_rental_hour['대여시간_분'][i] >= 20:\n",
    "        df_rental_hour['대여시간_분_그룹'][i] = 20\n",
    "    elif df_rental_hour['대여시간_분'][i] >= 10:\n",
    "        df_rental_hour['대여시간_분_그룹'][i] = 10\n",
    "    else:\n",
    "        df_rental_hour['대여시간_분_그룹'][i] = 0\n",
    "df_rental_hour_group = df_rental_hour.groupby('대여시간_분_그룹')[['대여시간_분']].count().reset_index()\n",
    "df_rental_hour_group.rename(columns = {'대여시간_분' : 'count'}, inplace = True)\n",
    "df_rental_hour_group"
   ]
  },
  {
   "cell_type": "code",
   "execution_count": 50,
   "metadata": {},
   "outputs": [
    {
     "data": {
      "text/plain": [
       "292.8333333333333"
      ]
     },
     "execution_count": 50,
     "metadata": {},
     "output_type": "execute_result"
    }
   ],
   "source": [
    "# 10분당 평균 대여율 = 평균서비스율\n",
    "\n",
    "mu19 = df_rental_hour_group['count'].sum() / 6\n",
    "mu19"
   ]
  },
  {
   "cell_type": "markdown",
   "metadata": {},
   "source": [
    "#### 20시"
   ]
  },
  {
   "cell_type": "code",
   "execution_count": 51,
   "metadata": {},
   "outputs": [
    {
     "data": {
      "text/html": [
       "<div>\n",
       "<style scoped>\n",
       "    .dataframe tbody tr th:only-of-type {\n",
       "        vertical-align: middle;\n",
       "    }\n",
       "\n",
       "    .dataframe tbody tr th {\n",
       "        vertical-align: top;\n",
       "    }\n",
       "\n",
       "    .dataframe thead th {\n",
       "        text-align: right;\n",
       "    }\n",
       "</style>\n",
       "<table border=\"1\" class=\"dataframe\">\n",
       "  <thead>\n",
       "    <tr style=\"text-align: right;\">\n",
       "      <th></th>\n",
       "      <th>대여시간_분_그룹</th>\n",
       "      <th>count</th>\n",
       "    </tr>\n",
       "  </thead>\n",
       "  <tbody>\n",
       "    <tr>\n",
       "      <th>0</th>\n",
       "      <td>0</td>\n",
       "      <td>266</td>\n",
       "    </tr>\n",
       "    <tr>\n",
       "      <th>1</th>\n",
       "      <td>10</td>\n",
       "      <td>295</td>\n",
       "    </tr>\n",
       "    <tr>\n",
       "      <th>2</th>\n",
       "      <td>20</td>\n",
       "      <td>351</td>\n",
       "    </tr>\n",
       "    <tr>\n",
       "      <th>3</th>\n",
       "      <td>30</td>\n",
       "      <td>371</td>\n",
       "    </tr>\n",
       "    <tr>\n",
       "      <th>4</th>\n",
       "      <td>40</td>\n",
       "      <td>333</td>\n",
       "    </tr>\n",
       "    <tr>\n",
       "      <th>5</th>\n",
       "      <td>50</td>\n",
       "      <td>341</td>\n",
       "    </tr>\n",
       "  </tbody>\n",
       "</table>\n",
       "</div>"
      ],
      "text/plain": [
       "   대여시간_분_그룹  count\n",
       "0          0    266\n",
       "1         10    295\n",
       "2         20    351\n",
       "3         30    371\n",
       "4         40    333\n",
       "5         50    341"
      ]
     },
     "execution_count": 51,
     "metadata": {},
     "output_type": "execute_result"
    }
   ],
   "source": [
    "df_rental_hour = df_rental[df_rental['대여시간'] == 20]\n",
    "df_rental_hour.reset_index(drop = True, inplace = True)\n",
    "df_rental_hour['대여시간_분_그룹'] = -1\n",
    "for i in range(len(df_rental_hour)):\n",
    "    if df_rental_hour['대여시간_분'][i] >= 50:\n",
    "        df_rental_hour['대여시간_분_그룹'][i] = 50\n",
    "    elif df_rental_hour['대여시간_분'][i] >= 40:\n",
    "        df_rental_hour['대여시간_분_그룹'][i] = 40\n",
    "    elif df_rental_hour['대여시간_분'][i] >= 30:\n",
    "        df_rental_hour['대여시간_분_그룹'][i] = 30\n",
    "    elif df_rental_hour['대여시간_분'][i] >= 20:\n",
    "        df_rental_hour['대여시간_분_그룹'][i] = 20\n",
    "    elif df_rental_hour['대여시간_분'][i] >= 10:\n",
    "        df_rental_hour['대여시간_분_그룹'][i] = 10\n",
    "    else:\n",
    "        df_rental_hour['대여시간_분_그룹'][i] = 0\n",
    "df_rental_hour_group = df_rental_hour.groupby('대여시간_분_그룹')[['대여시간_분']].count().reset_index()\n",
    "df_rental_hour_group.rename(columns = {'대여시간_분' : 'count'}, inplace = True)\n",
    "df_rental_hour_group"
   ]
  },
  {
   "cell_type": "code",
   "execution_count": 52,
   "metadata": {},
   "outputs": [
    {
     "data": {
      "text/plain": [
       "326.1666666666667"
      ]
     },
     "execution_count": 52,
     "metadata": {},
     "output_type": "execute_result"
    }
   ],
   "source": [
    "# 10분당 평균 대여율 = 평균서비스율\n",
    "\n",
    "mu20 = df_rental_hour_group['count'].sum() / 6\n",
    "mu20"
   ]
  },
  {
   "cell_type": "markdown",
   "metadata": {},
   "source": [
    "#### 21시"
   ]
  },
  {
   "cell_type": "code",
   "execution_count": 53,
   "metadata": {},
   "outputs": [
    {
     "data": {
      "text/html": [
       "<div>\n",
       "<style scoped>\n",
       "    .dataframe tbody tr th:only-of-type {\n",
       "        vertical-align: middle;\n",
       "    }\n",
       "\n",
       "    .dataframe tbody tr th {\n",
       "        vertical-align: top;\n",
       "    }\n",
       "\n",
       "    .dataframe thead th {\n",
       "        text-align: right;\n",
       "    }\n",
       "</style>\n",
       "<table border=\"1\" class=\"dataframe\">\n",
       "  <thead>\n",
       "    <tr style=\"text-align: right;\">\n",
       "      <th></th>\n",
       "      <th>대여시간_분_그룹</th>\n",
       "      <th>count</th>\n",
       "    </tr>\n",
       "  </thead>\n",
       "  <tbody>\n",
       "    <tr>\n",
       "      <th>0</th>\n",
       "      <td>0</td>\n",
       "      <td>387</td>\n",
       "    </tr>\n",
       "    <tr>\n",
       "      <th>1</th>\n",
       "      <td>10</td>\n",
       "      <td>369</td>\n",
       "    </tr>\n",
       "    <tr>\n",
       "      <th>2</th>\n",
       "      <td>20</td>\n",
       "      <td>383</td>\n",
       "    </tr>\n",
       "    <tr>\n",
       "      <th>3</th>\n",
       "      <td>30</td>\n",
       "      <td>360</td>\n",
       "    </tr>\n",
       "    <tr>\n",
       "      <th>4</th>\n",
       "      <td>40</td>\n",
       "      <td>394</td>\n",
       "    </tr>\n",
       "    <tr>\n",
       "      <th>5</th>\n",
       "      <td>50</td>\n",
       "      <td>350</td>\n",
       "    </tr>\n",
       "  </tbody>\n",
       "</table>\n",
       "</div>"
      ],
      "text/plain": [
       "   대여시간_분_그룹  count\n",
       "0          0    387\n",
       "1         10    369\n",
       "2         20    383\n",
       "3         30    360\n",
       "4         40    394\n",
       "5         50    350"
      ]
     },
     "execution_count": 53,
     "metadata": {},
     "output_type": "execute_result"
    }
   ],
   "source": [
    "df_rental_hour = df_rental[df_rental['대여시간'] == 21]\n",
    "df_rental_hour.reset_index(drop = True, inplace = True)\n",
    "df_rental_hour['대여시간_분_그룹'] = -1\n",
    "for i in range(len(df_rental_hour)):\n",
    "    if df_rental_hour['대여시간_분'][i] >= 50:\n",
    "        df_rental_hour['대여시간_분_그룹'][i] = 50\n",
    "    elif df_rental_hour['대여시간_분'][i] >= 40:\n",
    "        df_rental_hour['대여시간_분_그룹'][i] = 40\n",
    "    elif df_rental_hour['대여시간_분'][i] >= 30:\n",
    "        df_rental_hour['대여시간_분_그룹'][i] = 30\n",
    "    elif df_rental_hour['대여시간_분'][i] >= 20:\n",
    "        df_rental_hour['대여시간_분_그룹'][i] = 20\n",
    "    elif df_rental_hour['대여시간_분'][i] >= 10:\n",
    "        df_rental_hour['대여시간_분_그룹'][i] = 10\n",
    "    else:\n",
    "        df_rental_hour['대여시간_분_그룹'][i] = 0\n",
    "df_rental_hour_group = df_rental_hour.groupby('대여시간_분_그룹')[['대여시간_분']].count().reset_index()\n",
    "df_rental_hour_group.rename(columns = {'대여시간_분' : 'count'}, inplace = True)\n",
    "df_rental_hour_group"
   ]
  },
  {
   "cell_type": "code",
   "execution_count": 54,
   "metadata": {},
   "outputs": [
    {
     "data": {
      "text/plain": [
       "373.8333333333333"
      ]
     },
     "execution_count": 54,
     "metadata": {},
     "output_type": "execute_result"
    }
   ],
   "source": [
    "# 10분당 평균 대여율 = 평균서비스율\n",
    "\n",
    "mu21 = df_rental_hour_group['count'].sum() / 6\n",
    "mu21"
   ]
  },
  {
   "cell_type": "markdown",
   "metadata": {},
   "source": [
    "#### 22시"
   ]
  },
  {
   "cell_type": "code",
   "execution_count": 55,
   "metadata": {},
   "outputs": [
    {
     "data": {
      "text/html": [
       "<div>\n",
       "<style scoped>\n",
       "    .dataframe tbody tr th:only-of-type {\n",
       "        vertical-align: middle;\n",
       "    }\n",
       "\n",
       "    .dataframe tbody tr th {\n",
       "        vertical-align: top;\n",
       "    }\n",
       "\n",
       "    .dataframe thead th {\n",
       "        text-align: right;\n",
       "    }\n",
       "</style>\n",
       "<table border=\"1\" class=\"dataframe\">\n",
       "  <thead>\n",
       "    <tr style=\"text-align: right;\">\n",
       "      <th></th>\n",
       "      <th>대여시간_분_그룹</th>\n",
       "      <th>count</th>\n",
       "    </tr>\n",
       "  </thead>\n",
       "  <tbody>\n",
       "    <tr>\n",
       "      <th>0</th>\n",
       "      <td>0</td>\n",
       "      <td>354</td>\n",
       "    </tr>\n",
       "    <tr>\n",
       "      <th>1</th>\n",
       "      <td>10</td>\n",
       "      <td>318</td>\n",
       "    </tr>\n",
       "    <tr>\n",
       "      <th>2</th>\n",
       "      <td>20</td>\n",
       "      <td>344</td>\n",
       "    </tr>\n",
       "    <tr>\n",
       "      <th>3</th>\n",
       "      <td>30</td>\n",
       "      <td>289</td>\n",
       "    </tr>\n",
       "    <tr>\n",
       "      <th>4</th>\n",
       "      <td>40</td>\n",
       "      <td>252</td>\n",
       "    </tr>\n",
       "    <tr>\n",
       "      <th>5</th>\n",
       "      <td>50</td>\n",
       "      <td>259</td>\n",
       "    </tr>\n",
       "  </tbody>\n",
       "</table>\n",
       "</div>"
      ],
      "text/plain": [
       "   대여시간_분_그룹  count\n",
       "0          0    354\n",
       "1         10    318\n",
       "2         20    344\n",
       "3         30    289\n",
       "4         40    252\n",
       "5         50    259"
      ]
     },
     "execution_count": 55,
     "metadata": {},
     "output_type": "execute_result"
    }
   ],
   "source": [
    "df_rental_hour = df_rental[df_rental['대여시간'] == 22]\n",
    "df_rental_hour.reset_index(drop = True, inplace = True)\n",
    "df_rental_hour['대여시간_분_그룹'] = -1\n",
    "for i in range(len(df_rental_hour)):\n",
    "    if df_rental_hour['대여시간_분'][i] >= 50:\n",
    "        df_rental_hour['대여시간_분_그룹'][i] = 50\n",
    "    elif df_rental_hour['대여시간_분'][i] >= 40:\n",
    "        df_rental_hour['대여시간_분_그룹'][i] = 40\n",
    "    elif df_rental_hour['대여시간_분'][i] >= 30:\n",
    "        df_rental_hour['대여시간_분_그룹'][i] = 30\n",
    "    elif df_rental_hour['대여시간_분'][i] >= 20:\n",
    "        df_rental_hour['대여시간_분_그룹'][i] = 20\n",
    "    elif df_rental_hour['대여시간_분'][i] >= 10:\n",
    "        df_rental_hour['대여시간_분_그룹'][i] = 10\n",
    "    else:\n",
    "        df_rental_hour['대여시간_분_그룹'][i] = 0\n",
    "df_rental_hour_group = df_rental_hour.groupby('대여시간_분_그룹')[['대여시간_분']].count().reset_index()\n",
    "df_rental_hour_group.rename(columns = {'대여시간_분' : 'count'}, inplace = True)\n",
    "df_rental_hour_group"
   ]
  },
  {
   "cell_type": "code",
   "execution_count": 56,
   "metadata": {},
   "outputs": [
    {
     "data": {
      "text/plain": [
       "302.6666666666667"
      ]
     },
     "execution_count": 56,
     "metadata": {},
     "output_type": "execute_result"
    }
   ],
   "source": [
    "# 10분당 평균 대여율 = 평균서비스율\n",
    "\n",
    "mu22 = df_rental_hour_group['count'].sum() / 6\n",
    "mu22"
   ]
  },
  {
   "cell_type": "markdown",
   "metadata": {},
   "source": [
    "#### 23시"
   ]
  },
  {
   "cell_type": "code",
   "execution_count": 57,
   "metadata": {},
   "outputs": [
    {
     "data": {
      "text/html": [
       "<div>\n",
       "<style scoped>\n",
       "    .dataframe tbody tr th:only-of-type {\n",
       "        vertical-align: middle;\n",
       "    }\n",
       "\n",
       "    .dataframe tbody tr th {\n",
       "        vertical-align: top;\n",
       "    }\n",
       "\n",
       "    .dataframe thead th {\n",
       "        text-align: right;\n",
       "    }\n",
       "</style>\n",
       "<table border=\"1\" class=\"dataframe\">\n",
       "  <thead>\n",
       "    <tr style=\"text-align: right;\">\n",
       "      <th></th>\n",
       "      <th>대여시간_분_그룹</th>\n",
       "      <th>count</th>\n",
       "    </tr>\n",
       "  </thead>\n",
       "  <tbody>\n",
       "    <tr>\n",
       "      <th>0</th>\n",
       "      <td>0</td>\n",
       "      <td>262</td>\n",
       "    </tr>\n",
       "    <tr>\n",
       "      <th>1</th>\n",
       "      <td>10</td>\n",
       "      <td>259</td>\n",
       "    </tr>\n",
       "    <tr>\n",
       "      <th>2</th>\n",
       "      <td>20</td>\n",
       "      <td>174</td>\n",
       "    </tr>\n",
       "    <tr>\n",
       "      <th>3</th>\n",
       "      <td>30</td>\n",
       "      <td>205</td>\n",
       "    </tr>\n",
       "    <tr>\n",
       "      <th>4</th>\n",
       "      <td>40</td>\n",
       "      <td>156</td>\n",
       "    </tr>\n",
       "    <tr>\n",
       "      <th>5</th>\n",
       "      <td>50</td>\n",
       "      <td>131</td>\n",
       "    </tr>\n",
       "  </tbody>\n",
       "</table>\n",
       "</div>"
      ],
      "text/plain": [
       "   대여시간_분_그룹  count\n",
       "0          0    262\n",
       "1         10    259\n",
       "2         20    174\n",
       "3         30    205\n",
       "4         40    156\n",
       "5         50    131"
      ]
     },
     "execution_count": 57,
     "metadata": {},
     "output_type": "execute_result"
    }
   ],
   "source": [
    "df_rental_hour = df_rental[df_rental['대여시간'] == 23]\n",
    "df_rental_hour.reset_index(drop = True, inplace = True)\n",
    "df_rental_hour['대여시간_분_그룹'] = -1\n",
    "for i in range(len(df_rental_hour)):\n",
    "    if df_rental_hour['대여시간_분'][i] >= 50:\n",
    "        df_rental_hour['대여시간_분_그룹'][i] = 50\n",
    "    elif df_rental_hour['대여시간_분'][i] >= 40:\n",
    "        df_rental_hour['대여시간_분_그룹'][i] = 40\n",
    "    elif df_rental_hour['대여시간_분'][i] >= 30:\n",
    "        df_rental_hour['대여시간_분_그룹'][i] = 30\n",
    "    elif df_rental_hour['대여시간_분'][i] >= 20:\n",
    "        df_rental_hour['대여시간_분_그룹'][i] = 20\n",
    "    elif df_rental_hour['대여시간_분'][i] >= 10:\n",
    "        df_rental_hour['대여시간_분_그룹'][i] = 10\n",
    "    else:\n",
    "        df_rental_hour['대여시간_분_그룹'][i] = 0\n",
    "df_rental_hour_group = df_rental_hour.groupby('대여시간_분_그룹')[['대여시간_분']].count().reset_index()\n",
    "df_rental_hour_group.rename(columns = {'대여시간_분' : 'count'}, inplace = True)\n",
    "df_rental_hour_group"
   ]
  },
  {
   "cell_type": "code",
   "execution_count": 58,
   "metadata": {},
   "outputs": [
    {
     "data": {
      "text/plain": [
       "197.83333333333334"
      ]
     },
     "execution_count": 58,
     "metadata": {},
     "output_type": "execute_result"
    }
   ],
   "source": [
    "# 10분당 평균 대여율 = 평균서비스율\n",
    "\n",
    "mu23 = df_rental_hour_group['count'].sum() / 6\n",
    "mu23"
   ]
  },
  {
   "cell_type": "markdown",
   "metadata": {},
   "source": [
    "- 2020년 6월 한달동안의 뚝섬유원지역 1번출구 앞 대여소의 평균서비스율 뮤(10분당 평균 대여수)는"
   ]
  },
  {
   "cell_type": "code",
   "execution_count": 59,
   "metadata": {},
   "outputs": [
    {
     "data": {
      "text/html": [
       "<div>\n",
       "<style scoped>\n",
       "    .dataframe tbody tr th:only-of-type {\n",
       "        vertical-align: middle;\n",
       "    }\n",
       "\n",
       "    .dataframe tbody tr th {\n",
       "        vertical-align: top;\n",
       "    }\n",
       "\n",
       "    .dataframe thead th {\n",
       "        text-align: right;\n",
       "    }\n",
       "</style>\n",
       "<table border=\"1\" class=\"dataframe\">\n",
       "  <thead>\n",
       "    <tr style=\"text-align: right;\">\n",
       "      <th></th>\n",
       "      <th>time</th>\n",
       "      <th>mu</th>\n",
       "    </tr>\n",
       "  </thead>\n",
       "  <tbody>\n",
       "    <tr>\n",
       "      <th>0</th>\n",
       "      <td>0시</td>\n",
       "      <td>107.333333</td>\n",
       "    </tr>\n",
       "    <tr>\n",
       "      <th>1</th>\n",
       "      <td>1시</td>\n",
       "      <td>59.833333</td>\n",
       "    </tr>\n",
       "    <tr>\n",
       "      <th>2</th>\n",
       "      <td>2시</td>\n",
       "      <td>38.666667</td>\n",
       "    </tr>\n",
       "    <tr>\n",
       "      <th>3</th>\n",
       "      <td>3시</td>\n",
       "      <td>19.500000</td>\n",
       "    </tr>\n",
       "    <tr>\n",
       "      <th>4</th>\n",
       "      <td>4시</td>\n",
       "      <td>19.666667</td>\n",
       "    </tr>\n",
       "    <tr>\n",
       "      <th>5</th>\n",
       "      <td>5시</td>\n",
       "      <td>10.166667</td>\n",
       "    </tr>\n",
       "    <tr>\n",
       "      <th>6</th>\n",
       "      <td>6시</td>\n",
       "      <td>18.333333</td>\n",
       "    </tr>\n",
       "    <tr>\n",
       "      <th>7</th>\n",
       "      <td>7시</td>\n",
       "      <td>29.500000</td>\n",
       "    </tr>\n",
       "    <tr>\n",
       "      <th>8</th>\n",
       "      <td>8시</td>\n",
       "      <td>76.500000</td>\n",
       "    </tr>\n",
       "    <tr>\n",
       "      <th>9</th>\n",
       "      <td>9시</td>\n",
       "      <td>30.166667</td>\n",
       "    </tr>\n",
       "    <tr>\n",
       "      <th>10</th>\n",
       "      <td>10시</td>\n",
       "      <td>40.166667</td>\n",
       "    </tr>\n",
       "    <tr>\n",
       "      <th>11</th>\n",
       "      <td>11시</td>\n",
       "      <td>40.666667</td>\n",
       "    </tr>\n",
       "    <tr>\n",
       "      <th>12</th>\n",
       "      <td>12시</td>\n",
       "      <td>41.666667</td>\n",
       "    </tr>\n",
       "    <tr>\n",
       "      <th>13</th>\n",
       "      <td>13시</td>\n",
       "      <td>45.666667</td>\n",
       "    </tr>\n",
       "    <tr>\n",
       "      <th>14</th>\n",
       "      <td>14시</td>\n",
       "      <td>56.166667</td>\n",
       "    </tr>\n",
       "    <tr>\n",
       "      <th>15</th>\n",
       "      <td>15시</td>\n",
       "      <td>87.000000</td>\n",
       "    </tr>\n",
       "    <tr>\n",
       "      <th>16</th>\n",
       "      <td>16시</td>\n",
       "      <td>112.500000</td>\n",
       "    </tr>\n",
       "    <tr>\n",
       "      <th>17</th>\n",
       "      <td>17시</td>\n",
       "      <td>162.000000</td>\n",
       "    </tr>\n",
       "    <tr>\n",
       "      <th>18</th>\n",
       "      <td>18시</td>\n",
       "      <td>237.000000</td>\n",
       "    </tr>\n",
       "    <tr>\n",
       "      <th>19</th>\n",
       "      <td>19시</td>\n",
       "      <td>292.833333</td>\n",
       "    </tr>\n",
       "    <tr>\n",
       "      <th>20</th>\n",
       "      <td>20시</td>\n",
       "      <td>326.166667</td>\n",
       "    </tr>\n",
       "    <tr>\n",
       "      <th>21</th>\n",
       "      <td>21시</td>\n",
       "      <td>373.833333</td>\n",
       "    </tr>\n",
       "    <tr>\n",
       "      <th>22</th>\n",
       "      <td>22시</td>\n",
       "      <td>302.666667</td>\n",
       "    </tr>\n",
       "    <tr>\n",
       "      <th>23</th>\n",
       "      <td>23시</td>\n",
       "      <td>197.833333</td>\n",
       "    </tr>\n",
       "  </tbody>\n",
       "</table>\n",
       "</div>"
      ],
      "text/plain": [
       "   time          mu\n",
       "0    0시  107.333333\n",
       "1    1시   59.833333\n",
       "2    2시   38.666667\n",
       "3    3시   19.500000\n",
       "4    4시   19.666667\n",
       "5    5시   10.166667\n",
       "6    6시   18.333333\n",
       "7    7시   29.500000\n",
       "8    8시   76.500000\n",
       "9    9시   30.166667\n",
       "10  10시   40.166667\n",
       "11  11시   40.666667\n",
       "12  12시   41.666667\n",
       "13  13시   45.666667\n",
       "14  14시   56.166667\n",
       "15  15시   87.000000\n",
       "16  16시  112.500000\n",
       "17  17시  162.000000\n",
       "18  18시  237.000000\n",
       "19  19시  292.833333\n",
       "20  20시  326.166667\n",
       "21  21시  373.833333\n",
       "22  22시  302.666667\n",
       "23  23시  197.833333"
      ]
     },
     "execution_count": 59,
     "metadata": {},
     "output_type": "execute_result"
    }
   ],
   "source": [
    "a = [mu0, mu1, mu2, mu3, mu4, mu5, mu6, mu7, mu8, mu9, mu10, mu11, mu12, mu13, mu14, mu15, mu16, mu17, mu18, mu19, mu20, mu21, mu22, mu23]\n",
    "time = ['0시', '1시', '2시', '3시', '4시', '5시', '6시', '7시', '8시', '9시', '10시', '11시', '12시', '13시', '14시',\n",
    "       '15시', '16시', '17시', '18시', '19시', '20시', '21시', '22시', '23시']\n",
    "\n",
    "result = pd.DataFrame(time)\n",
    "result.columns = ['time']\n",
    "result['mu'] = a\n",
    "result"
   ]
  },
  {
   "cell_type": "markdown",
   "metadata": {},
   "source": [
    "### 평균도착률(10분당 자전거 반납수의 평균) = $\\lambda$\n",
    "- $\\lambda$ = 10이면 10분동안 평균 10대의 자전거를 반납"
   ]
  },
  {
   "cell_type": "code",
   "execution_count": 60,
   "metadata": {},
   "outputs": [
    {
     "data": {
      "text/html": [
       "<div>\n",
       "<style scoped>\n",
       "    .dataframe tbody tr th:only-of-type {\n",
       "        vertical-align: middle;\n",
       "    }\n",
       "\n",
       "    .dataframe tbody tr th {\n",
       "        vertical-align: top;\n",
       "    }\n",
       "\n",
       "    .dataframe thead th {\n",
       "        text-align: right;\n",
       "    }\n",
       "</style>\n",
       "<table border=\"1\" class=\"dataframe\">\n",
       "  <thead>\n",
       "    <tr style=\"text-align: right;\">\n",
       "      <th></th>\n",
       "      <th>반납일시</th>\n",
       "      <th>반납대여소명</th>\n",
       "      <th>반납월</th>\n",
       "      <th>반납일</th>\n",
       "      <th>반납요일</th>\n",
       "      <th>반납시간</th>\n",
       "      <th>반납시간_분</th>\n",
       "    </tr>\n",
       "  </thead>\n",
       "  <tbody>\n",
       "    <tr>\n",
       "      <th>0</th>\n",
       "      <td>2020-06-01 00:41:00</td>\n",
       "      <td>청암자이아파트앞</td>\n",
       "      <td>6</td>\n",
       "      <td>1</td>\n",
       "      <td>0</td>\n",
       "      <td>0</td>\n",
       "      <td>41</td>\n",
       "    </tr>\n",
       "    <tr>\n",
       "      <th>1</th>\n",
       "      <td>2020-06-01 00:08:25</td>\n",
       "      <td>은평구청 교차로</td>\n",
       "      <td>6</td>\n",
       "      <td>1</td>\n",
       "      <td>0</td>\n",
       "      <td>0</td>\n",
       "      <td>8</td>\n",
       "    </tr>\n",
       "    <tr>\n",
       "      <th>2</th>\n",
       "      <td>2020-06-01 00:14:50</td>\n",
       "      <td>바우뫼문화복지회관</td>\n",
       "      <td>6</td>\n",
       "      <td>1</td>\n",
       "      <td>0</td>\n",
       "      <td>0</td>\n",
       "      <td>14</td>\n",
       "    </tr>\n",
       "    <tr>\n",
       "      <th>3</th>\n",
       "      <td>2020-06-01 00:07:13</td>\n",
       "      <td>능골근린공원</td>\n",
       "      <td>6</td>\n",
       "      <td>1</td>\n",
       "      <td>0</td>\n",
       "      <td>0</td>\n",
       "      <td>7</td>\n",
       "    </tr>\n",
       "    <tr>\n",
       "      <th>4</th>\n",
       "      <td>2020-06-01 00:21:38</td>\n",
       "      <td>청계8가 사거리</td>\n",
       "      <td>6</td>\n",
       "      <td>1</td>\n",
       "      <td>0</td>\n",
       "      <td>0</td>\n",
       "      <td>21</td>\n",
       "    </tr>\n",
       "    <tr>\n",
       "      <th>...</th>\n",
       "      <td>...</td>\n",
       "      <td>...</td>\n",
       "      <td>...</td>\n",
       "      <td>...</td>\n",
       "      <td>...</td>\n",
       "      <td>...</td>\n",
       "      <td>...</td>\n",
       "    </tr>\n",
       "    <tr>\n",
       "      <th>2725083</th>\n",
       "      <td>2020-06-30 23:59:41</td>\n",
       "      <td>해공공원(천호동)</td>\n",
       "      <td>6</td>\n",
       "      <td>30</td>\n",
       "      <td>1</td>\n",
       "      <td>23</td>\n",
       "      <td>59</td>\n",
       "    </tr>\n",
       "    <tr>\n",
       "      <th>2725088</th>\n",
       "      <td>2020-06-30 23:59:21</td>\n",
       "      <td>가재울 초등학교</td>\n",
       "      <td>6</td>\n",
       "      <td>30</td>\n",
       "      <td>1</td>\n",
       "      <td>23</td>\n",
       "      <td>59</td>\n",
       "    </tr>\n",
       "    <tr>\n",
       "      <th>2725106</th>\n",
       "      <td>2020-06-30 23:59:48</td>\n",
       "      <td>한신16차아파트 119동 앞</td>\n",
       "      <td>6</td>\n",
       "      <td>30</td>\n",
       "      <td>1</td>\n",
       "      <td>23</td>\n",
       "      <td>59</td>\n",
       "    </tr>\n",
       "    <tr>\n",
       "      <th>2725126</th>\n",
       "      <td>2020-06-30 23:58:15</td>\n",
       "      <td>쌍문현대1차아파트 108동 앞</td>\n",
       "      <td>6</td>\n",
       "      <td>30</td>\n",
       "      <td>1</td>\n",
       "      <td>23</td>\n",
       "      <td>58</td>\n",
       "    </tr>\n",
       "    <tr>\n",
       "      <th>2725136</th>\n",
       "      <td>2020-06-30 23:59:49</td>\n",
       "      <td>방이삼거리</td>\n",
       "      <td>6</td>\n",
       "      <td>30</td>\n",
       "      <td>1</td>\n",
       "      <td>23</td>\n",
       "      <td>59</td>\n",
       "    </tr>\n",
       "  </tbody>\n",
       "</table>\n",
       "<p>2724719 rows × 7 columns</p>\n",
       "</div>"
      ],
      "text/plain": [
       "                       반납일시            반납대여소명  반납월  반납일  반납요일  반납시간  반납시간_분\n",
       "0       2020-06-01 00:41:00          청암자이아파트앞    6    1     0     0      41\n",
       "1       2020-06-01 00:08:25          은평구청 교차로    6    1     0     0       8\n",
       "2       2020-06-01 00:14:50         바우뫼문화복지회관    6    1     0     0      14\n",
       "3       2020-06-01 00:07:13            능골근린공원    6    1     0     0       7\n",
       "4       2020-06-01 00:21:38          청계8가 사거리    6    1     0     0      21\n",
       "...                     ...               ...  ...  ...   ...   ...     ...\n",
       "2725083 2020-06-30 23:59:41         해공공원(천호동)    6   30     1    23      59\n",
       "2725088 2020-06-30 23:59:21          가재울 초등학교    6   30     1    23      59\n",
       "2725106 2020-06-30 23:59:48   한신16차아파트 119동 앞    6   30     1    23      59\n",
       "2725126 2020-06-30 23:58:15  쌍문현대1차아파트 108동 앞    6   30     1    23      58\n",
       "2725136 2020-06-30 23:59:49             방이삼거리    6   30     1    23      59\n",
       "\n",
       "[2724719 rows x 7 columns]"
      ]
     },
     "execution_count": 60,
     "metadata": {},
     "output_type": "execute_result"
    }
   ],
   "source": [
    "df_return = df[['반납일시', '반납대여소명', '반납월', '반납일', '반납요일', '반납시간', '반납시간_분']]\n",
    "df_return"
   ]
  },
  {
   "cell_type": "code",
   "execution_count": 61,
   "metadata": {},
   "outputs": [
    {
     "data": {
      "text/html": [
       "<div>\n",
       "<style scoped>\n",
       "    .dataframe tbody tr th:only-of-type {\n",
       "        vertical-align: middle;\n",
       "    }\n",
       "\n",
       "    .dataframe tbody tr th {\n",
       "        vertical-align: top;\n",
       "    }\n",
       "\n",
       "    .dataframe thead th {\n",
       "        text-align: right;\n",
       "    }\n",
       "</style>\n",
       "<table border=\"1\" class=\"dataframe\">\n",
       "  <thead>\n",
       "    <tr style=\"text-align: right;\">\n",
       "      <th></th>\n",
       "      <th>반납일시</th>\n",
       "      <th>반납대여소명</th>\n",
       "      <th>반납월</th>\n",
       "      <th>반납일</th>\n",
       "      <th>반납요일</th>\n",
       "      <th>반납시간</th>\n",
       "      <th>반납시간_분</th>\n",
       "    </tr>\n",
       "  </thead>\n",
       "  <tbody>\n",
       "    <tr>\n",
       "      <th>1041</th>\n",
       "      <td>2020-06-01 01:35:30</td>\n",
       "      <td>뚝섬유원지역 1번출구 앞</td>\n",
       "      <td>6</td>\n",
       "      <td>1</td>\n",
       "      <td>0</td>\n",
       "      <td>1</td>\n",
       "      <td>35</td>\n",
       "    </tr>\n",
       "    <tr>\n",
       "      <th>1423</th>\n",
       "      <td>2020-06-01 02:14:24</td>\n",
       "      <td>뚝섬유원지역 1번출구 앞</td>\n",
       "      <td>6</td>\n",
       "      <td>1</td>\n",
       "      <td>0</td>\n",
       "      <td>2</td>\n",
       "      <td>14</td>\n",
       "    </tr>\n",
       "    <tr>\n",
       "      <th>1457</th>\n",
       "      <td>2020-06-01 02:14:29</td>\n",
       "      <td>뚝섬유원지역 1번출구 앞</td>\n",
       "      <td>6</td>\n",
       "      <td>1</td>\n",
       "      <td>0</td>\n",
       "      <td>2</td>\n",
       "      <td>14</td>\n",
       "    </tr>\n",
       "    <tr>\n",
       "      <th>1863</th>\n",
       "      <td>2020-06-01 02:35:28</td>\n",
       "      <td>뚝섬유원지역 1번출구 앞</td>\n",
       "      <td>6</td>\n",
       "      <td>1</td>\n",
       "      <td>0</td>\n",
       "      <td>2</td>\n",
       "      <td>35</td>\n",
       "    </tr>\n",
       "    <tr>\n",
       "      <th>2187</th>\n",
       "      <td>2020-06-01 03:46:45</td>\n",
       "      <td>뚝섬유원지역 1번출구 앞</td>\n",
       "      <td>6</td>\n",
       "      <td>1</td>\n",
       "      <td>0</td>\n",
       "      <td>3</td>\n",
       "      <td>46</td>\n",
       "    </tr>\n",
       "    <tr>\n",
       "      <th>...</th>\n",
       "      <td>...</td>\n",
       "      <td>...</td>\n",
       "      <td>...</td>\n",
       "      <td>...</td>\n",
       "      <td>...</td>\n",
       "      <td>...</td>\n",
       "      <td>...</td>\n",
       "    </tr>\n",
       "    <tr>\n",
       "      <th>2721580</th>\n",
       "      <td>2020-06-30 20:59:00</td>\n",
       "      <td>뚝섬유원지역 1번출구 앞</td>\n",
       "      <td>6</td>\n",
       "      <td>30</td>\n",
       "      <td>1</td>\n",
       "      <td>20</td>\n",
       "      <td>59</td>\n",
       "    </tr>\n",
       "    <tr>\n",
       "      <th>2721735</th>\n",
       "      <td>2020-06-30 21:08:08</td>\n",
       "      <td>뚝섬유원지역 1번출구 앞</td>\n",
       "      <td>6</td>\n",
       "      <td>30</td>\n",
       "      <td>1</td>\n",
       "      <td>21</td>\n",
       "      <td>8</td>\n",
       "    </tr>\n",
       "    <tr>\n",
       "      <th>2722064</th>\n",
       "      <td>2020-06-30 22:04:57</td>\n",
       "      <td>뚝섬유원지역 1번출구 앞</td>\n",
       "      <td>6</td>\n",
       "      <td>30</td>\n",
       "      <td>1</td>\n",
       "      <td>22</td>\n",
       "      <td>4</td>\n",
       "    </tr>\n",
       "    <tr>\n",
       "      <th>2722381</th>\n",
       "      <td>2020-06-30 22:09:16</td>\n",
       "      <td>뚝섬유원지역 1번출구 앞</td>\n",
       "      <td>6</td>\n",
       "      <td>30</td>\n",
       "      <td>1</td>\n",
       "      <td>22</td>\n",
       "      <td>9</td>\n",
       "    </tr>\n",
       "    <tr>\n",
       "      <th>2723844</th>\n",
       "      <td>2020-06-30 23:17:37</td>\n",
       "      <td>뚝섬유원지역 1번출구 앞</td>\n",
       "      <td>6</td>\n",
       "      <td>30</td>\n",
       "      <td>1</td>\n",
       "      <td>23</td>\n",
       "      <td>17</td>\n",
       "    </tr>\n",
       "  </tbody>\n",
       "</table>\n",
       "<p>17603 rows × 7 columns</p>\n",
       "</div>"
      ],
      "text/plain": [
       "                       반납일시         반납대여소명  반납월  반납일  반납요일  반납시간  반납시간_분\n",
       "1041    2020-06-01 01:35:30  뚝섬유원지역 1번출구 앞    6    1     0     1      35\n",
       "1423    2020-06-01 02:14:24  뚝섬유원지역 1번출구 앞    6    1     0     2      14\n",
       "1457    2020-06-01 02:14:29  뚝섬유원지역 1번출구 앞    6    1     0     2      14\n",
       "1863    2020-06-01 02:35:28  뚝섬유원지역 1번출구 앞    6    1     0     2      35\n",
       "2187    2020-06-01 03:46:45  뚝섬유원지역 1번출구 앞    6    1     0     3      46\n",
       "...                     ...            ...  ...  ...   ...   ...     ...\n",
       "2721580 2020-06-30 20:59:00  뚝섬유원지역 1번출구 앞    6   30     1    20      59\n",
       "2721735 2020-06-30 21:08:08  뚝섬유원지역 1번출구 앞    6   30     1    21       8\n",
       "2722064 2020-06-30 22:04:57  뚝섬유원지역 1번출구 앞    6   30     1    22       4\n",
       "2722381 2020-06-30 22:09:16  뚝섬유원지역 1번출구 앞    6   30     1    22       9\n",
       "2723844 2020-06-30 23:17:37  뚝섬유원지역 1번출구 앞    6   30     1    23      17\n",
       "\n",
       "[17603 rows x 7 columns]"
      ]
     },
     "execution_count": 61,
     "metadata": {},
     "output_type": "execute_result"
    }
   ],
   "source": [
    "df_return = df_return[df_return['반납대여소명'] == '뚝섬유원지역 1번출구 앞']\n",
    "df_return"
   ]
  },
  {
   "cell_type": "markdown",
   "metadata": {},
   "source": [
    "#### 0시"
   ]
  },
  {
   "cell_type": "code",
   "execution_count": 62,
   "metadata": {},
   "outputs": [
    {
     "data": {
      "text/html": [
       "<div>\n",
       "<style scoped>\n",
       "    .dataframe tbody tr th:only-of-type {\n",
       "        vertical-align: middle;\n",
       "    }\n",
       "\n",
       "    .dataframe tbody tr th {\n",
       "        vertical-align: top;\n",
       "    }\n",
       "\n",
       "    .dataframe thead th {\n",
       "        text-align: right;\n",
       "    }\n",
       "</style>\n",
       "<table border=\"1\" class=\"dataframe\">\n",
       "  <thead>\n",
       "    <tr style=\"text-align: right;\">\n",
       "      <th></th>\n",
       "      <th>반납시간_분_그룹</th>\n",
       "      <th>count</th>\n",
       "    </tr>\n",
       "  </thead>\n",
       "  <tbody>\n",
       "    <tr>\n",
       "      <th>0</th>\n",
       "      <td>0</td>\n",
       "      <td>127</td>\n",
       "    </tr>\n",
       "    <tr>\n",
       "      <th>1</th>\n",
       "      <td>10</td>\n",
       "      <td>112</td>\n",
       "    </tr>\n",
       "    <tr>\n",
       "      <th>2</th>\n",
       "      <td>20</td>\n",
       "      <td>90</td>\n",
       "    </tr>\n",
       "    <tr>\n",
       "      <th>3</th>\n",
       "      <td>30</td>\n",
       "      <td>89</td>\n",
       "    </tr>\n",
       "    <tr>\n",
       "      <th>4</th>\n",
       "      <td>40</td>\n",
       "      <td>91</td>\n",
       "    </tr>\n",
       "    <tr>\n",
       "      <th>5</th>\n",
       "      <td>50</td>\n",
       "      <td>91</td>\n",
       "    </tr>\n",
       "  </tbody>\n",
       "</table>\n",
       "</div>"
      ],
      "text/plain": [
       "   반납시간_분_그룹  count\n",
       "0          0    127\n",
       "1         10    112\n",
       "2         20     90\n",
       "3         30     89\n",
       "4         40     91\n",
       "5         50     91"
      ]
     },
     "execution_count": 62,
     "metadata": {},
     "output_type": "execute_result"
    }
   ],
   "source": [
    "df_return_hour = df_return[df_return['반납시간'] == 0]\n",
    "df_return_hour.reset_index(drop = True, inplace = True)\n",
    "df_return_hour['반납시간_분_그룹'] = -1\n",
    "for i in range(len(df_return_hour)):\n",
    "    if df_return_hour['반납시간_분'][i] >= 50:\n",
    "        df_return_hour['반납시간_분_그룹'][i] = 50\n",
    "    elif df_return_hour['반납시간_분'][i] >= 40:\n",
    "        df_return_hour['반납시간_분_그룹'][i] = 40\n",
    "    elif df_return_hour['반납시간_분'][i] >= 30:\n",
    "        df_return_hour['반납시간_분_그룹'][i] = 30\n",
    "    elif df_return_hour['반납시간_분'][i] >= 20:\n",
    "        df_return_hour['반납시간_분_그룹'][i] = 20\n",
    "    elif df_return_hour['반납시간_분'][i] >= 10:\n",
    "        df_return_hour['반납시간_분_그룹'][i] = 10\n",
    "    else:\n",
    "        df_return_hour['반납시간_분_그룹'][i] = 0\n",
    "df_return_hour_group = df_return_hour.groupby('반납시간_분_그룹')[['반납시간_분']].count().reset_index()\n",
    "df_return_hour_group.rename(columns = {'반납시간_분' : 'count'}, inplace = True)\n",
    "df_return_hour_group"
   ]
  },
  {
   "cell_type": "code",
   "execution_count": 63,
   "metadata": {},
   "outputs": [
    {
     "data": {
      "text/plain": [
       "100.0"
      ]
     },
     "execution_count": 63,
     "metadata": {},
     "output_type": "execute_result"
    }
   ],
   "source": [
    "# 10분당 평균도착률(10분당 자전거 반납수의 평균) = lambda\n",
    "# lambda = 10이면 10분동안 평균 10대의 자전거를 반납\n",
    "\n",
    "lda0 = df_return_hour_group['count'].sum() / 6\n",
    "lda0"
   ]
  },
  {
   "cell_type": "markdown",
   "metadata": {},
   "source": [
    "#### 1시"
   ]
  },
  {
   "cell_type": "code",
   "execution_count": 64,
   "metadata": {},
   "outputs": [
    {
     "data": {
      "text/html": [
       "<div>\n",
       "<style scoped>\n",
       "    .dataframe tbody tr th:only-of-type {\n",
       "        vertical-align: middle;\n",
       "    }\n",
       "\n",
       "    .dataframe tbody tr th {\n",
       "        vertical-align: top;\n",
       "    }\n",
       "\n",
       "    .dataframe thead th {\n",
       "        text-align: right;\n",
       "    }\n",
       "</style>\n",
       "<table border=\"1\" class=\"dataframe\">\n",
       "  <thead>\n",
       "    <tr style=\"text-align: right;\">\n",
       "      <th></th>\n",
       "      <th>반납시간_분_그룹</th>\n",
       "      <th>count</th>\n",
       "    </tr>\n",
       "  </thead>\n",
       "  <tbody>\n",
       "    <tr>\n",
       "      <th>0</th>\n",
       "      <td>0</td>\n",
       "      <td>62</td>\n",
       "    </tr>\n",
       "    <tr>\n",
       "      <th>1</th>\n",
       "      <td>10</td>\n",
       "      <td>83</td>\n",
       "    </tr>\n",
       "    <tr>\n",
       "      <th>2</th>\n",
       "      <td>20</td>\n",
       "      <td>77</td>\n",
       "    </tr>\n",
       "    <tr>\n",
       "      <th>3</th>\n",
       "      <td>30</td>\n",
       "      <td>55</td>\n",
       "    </tr>\n",
       "    <tr>\n",
       "      <th>4</th>\n",
       "      <td>40</td>\n",
       "      <td>44</td>\n",
       "    </tr>\n",
       "    <tr>\n",
       "      <th>5</th>\n",
       "      <td>50</td>\n",
       "      <td>49</td>\n",
       "    </tr>\n",
       "  </tbody>\n",
       "</table>\n",
       "</div>"
      ],
      "text/plain": [
       "   반납시간_분_그룹  count\n",
       "0          0     62\n",
       "1         10     83\n",
       "2         20     77\n",
       "3         30     55\n",
       "4         40     44\n",
       "5         50     49"
      ]
     },
     "execution_count": 64,
     "metadata": {},
     "output_type": "execute_result"
    }
   ],
   "source": [
    "df_return_hour = df_return[df_return['반납시간'] == 1]\n",
    "df_return_hour.reset_index(drop = True, inplace = True)\n",
    "df_return_hour['반납시간_분_그룹'] = -1\n",
    "for i in range(len(df_return_hour)):\n",
    "    if df_return_hour['반납시간_분'][i] >= 50:\n",
    "        df_return_hour['반납시간_분_그룹'][i] = 50\n",
    "    elif df_return_hour['반납시간_분'][i] >= 40:\n",
    "        df_return_hour['반납시간_분_그룹'][i] = 40\n",
    "    elif df_return_hour['반납시간_분'][i] >= 30:\n",
    "        df_return_hour['반납시간_분_그룹'][i] = 30\n",
    "    elif df_return_hour['반납시간_분'][i] >= 20:\n",
    "        df_return_hour['반납시간_분_그룹'][i] = 20\n",
    "    elif df_return_hour['반납시간_분'][i] >= 10:\n",
    "        df_return_hour['반납시간_분_그룹'][i] = 10\n",
    "    else:\n",
    "        df_return_hour['반납시간_분_그룹'][i] = 0\n",
    "df_return_hour_group = df_return_hour.groupby('반납시간_분_그룹')[['반납시간_분']].count().reset_index()\n",
    "df_return_hour_group.rename(columns = {'반납시간_분' : 'count'}, inplace = True)\n",
    "df_return_hour_group"
   ]
  },
  {
   "cell_type": "code",
   "execution_count": 65,
   "metadata": {},
   "outputs": [
    {
     "data": {
      "text/plain": [
       "61.666666666666664"
      ]
     },
     "execution_count": 65,
     "metadata": {},
     "output_type": "execute_result"
    }
   ],
   "source": [
    "# 10분당 평균도착률(10분당 자전거 반납수의 평균) = lambda\n",
    "# lambda = 10이면 10분동안 평균 10대의 자전거를 반납\n",
    "\n",
    "lda1 = df_return_hour_group['count'].sum() / 6\n",
    "lda1"
   ]
  },
  {
   "cell_type": "markdown",
   "metadata": {},
   "source": [
    "#### 2시"
   ]
  },
  {
   "cell_type": "code",
   "execution_count": 66,
   "metadata": {},
   "outputs": [
    {
     "data": {
      "text/html": [
       "<div>\n",
       "<style scoped>\n",
       "    .dataframe tbody tr th:only-of-type {\n",
       "        vertical-align: middle;\n",
       "    }\n",
       "\n",
       "    .dataframe tbody tr th {\n",
       "        vertical-align: top;\n",
       "    }\n",
       "\n",
       "    .dataframe thead th {\n",
       "        text-align: right;\n",
       "    }\n",
       "</style>\n",
       "<table border=\"1\" class=\"dataframe\">\n",
       "  <thead>\n",
       "    <tr style=\"text-align: right;\">\n",
       "      <th></th>\n",
       "      <th>반납시간_분_그룹</th>\n",
       "      <th>count</th>\n",
       "    </tr>\n",
       "  </thead>\n",
       "  <tbody>\n",
       "    <tr>\n",
       "      <th>0</th>\n",
       "      <td>0</td>\n",
       "      <td>42</td>\n",
       "    </tr>\n",
       "    <tr>\n",
       "      <th>1</th>\n",
       "      <td>10</td>\n",
       "      <td>53</td>\n",
       "    </tr>\n",
       "    <tr>\n",
       "      <th>2</th>\n",
       "      <td>20</td>\n",
       "      <td>43</td>\n",
       "    </tr>\n",
       "    <tr>\n",
       "      <th>3</th>\n",
       "      <td>30</td>\n",
       "      <td>40</td>\n",
       "    </tr>\n",
       "    <tr>\n",
       "      <th>4</th>\n",
       "      <td>40</td>\n",
       "      <td>28</td>\n",
       "    </tr>\n",
       "    <tr>\n",
       "      <th>5</th>\n",
       "      <td>50</td>\n",
       "      <td>30</td>\n",
       "    </tr>\n",
       "  </tbody>\n",
       "</table>\n",
       "</div>"
      ],
      "text/plain": [
       "   반납시간_분_그룹  count\n",
       "0          0     42\n",
       "1         10     53\n",
       "2         20     43\n",
       "3         30     40\n",
       "4         40     28\n",
       "5         50     30"
      ]
     },
     "execution_count": 66,
     "metadata": {},
     "output_type": "execute_result"
    }
   ],
   "source": [
    "df_return_hour = df_return[df_return['반납시간'] == 2]\n",
    "df_return_hour.reset_index(drop = True, inplace = True)\n",
    "df_return_hour['반납시간_분_그룹'] = -1\n",
    "for i in range(len(df_return_hour)):\n",
    "    if df_return_hour['반납시간_분'][i] >= 50:\n",
    "        df_return_hour['반납시간_분_그룹'][i] = 50\n",
    "    elif df_return_hour['반납시간_분'][i] >= 40:\n",
    "        df_return_hour['반납시간_분_그룹'][i] = 40\n",
    "    elif df_return_hour['반납시간_분'][i] >= 30:\n",
    "        df_return_hour['반납시간_분_그룹'][i] = 30\n",
    "    elif df_return_hour['반납시간_분'][i] >= 20:\n",
    "        df_return_hour['반납시간_분_그룹'][i] = 20\n",
    "    elif df_return_hour['반납시간_분'][i] >= 10:\n",
    "        df_return_hour['반납시간_분_그룹'][i] = 10\n",
    "    else:\n",
    "        df_return_hour['반납시간_분_그룹'][i] = 0\n",
    "df_return_hour_group = df_return_hour.groupby('반납시간_분_그룹')[['반납시간_분']].count().reset_index()\n",
    "df_return_hour_group.rename(columns = {'반납시간_분' : 'count'}, inplace = True)\n",
    "df_return_hour_group"
   ]
  },
  {
   "cell_type": "code",
   "execution_count": 67,
   "metadata": {},
   "outputs": [
    {
     "data": {
      "text/plain": [
       "39.333333333333336"
      ]
     },
     "execution_count": 67,
     "metadata": {},
     "output_type": "execute_result"
    }
   ],
   "source": [
    "# 10분당 평균도착률(10분당 자전거 반납수의 평균) = lambda\n",
    "# lambda = 10이면 10분동안 평균 10대의 자전거를 반납\n",
    "\n",
    "lda2 = df_return_hour_group['count'].sum() / 6\n",
    "lda2"
   ]
  },
  {
   "cell_type": "markdown",
   "metadata": {},
   "source": [
    "#### 3시"
   ]
  },
  {
   "cell_type": "code",
   "execution_count": 68,
   "metadata": {},
   "outputs": [
    {
     "data": {
      "text/html": [
       "<div>\n",
       "<style scoped>\n",
       "    .dataframe tbody tr th:only-of-type {\n",
       "        vertical-align: middle;\n",
       "    }\n",
       "\n",
       "    .dataframe tbody tr th {\n",
       "        vertical-align: top;\n",
       "    }\n",
       "\n",
       "    .dataframe thead th {\n",
       "        text-align: right;\n",
       "    }\n",
       "</style>\n",
       "<table border=\"1\" class=\"dataframe\">\n",
       "  <thead>\n",
       "    <tr style=\"text-align: right;\">\n",
       "      <th></th>\n",
       "      <th>반납시간_분_그룹</th>\n",
       "      <th>count</th>\n",
       "    </tr>\n",
       "  </thead>\n",
       "  <tbody>\n",
       "    <tr>\n",
       "      <th>0</th>\n",
       "      <td>0</td>\n",
       "      <td>31</td>\n",
       "    </tr>\n",
       "    <tr>\n",
       "      <th>1</th>\n",
       "      <td>10</td>\n",
       "      <td>35</td>\n",
       "    </tr>\n",
       "    <tr>\n",
       "      <th>2</th>\n",
       "      <td>20</td>\n",
       "      <td>24</td>\n",
       "    </tr>\n",
       "    <tr>\n",
       "      <th>3</th>\n",
       "      <td>30</td>\n",
       "      <td>16</td>\n",
       "    </tr>\n",
       "    <tr>\n",
       "      <th>4</th>\n",
       "      <td>40</td>\n",
       "      <td>18</td>\n",
       "    </tr>\n",
       "    <tr>\n",
       "      <th>5</th>\n",
       "      <td>50</td>\n",
       "      <td>13</td>\n",
       "    </tr>\n",
       "  </tbody>\n",
       "</table>\n",
       "</div>"
      ],
      "text/plain": [
       "   반납시간_분_그룹  count\n",
       "0          0     31\n",
       "1         10     35\n",
       "2         20     24\n",
       "3         30     16\n",
       "4         40     18\n",
       "5         50     13"
      ]
     },
     "execution_count": 68,
     "metadata": {},
     "output_type": "execute_result"
    }
   ],
   "source": [
    "df_return_hour = df_return[df_return['반납시간'] == 3]\n",
    "df_return_hour.reset_index(drop = True, inplace = True)\n",
    "df_return_hour['반납시간_분_그룹'] = -1\n",
    "for i in range(len(df_return_hour)):\n",
    "    if df_return_hour['반납시간_분'][i] >= 50:\n",
    "        df_return_hour['반납시간_분_그룹'][i] = 50\n",
    "    elif df_return_hour['반납시간_분'][i] >= 40:\n",
    "        df_return_hour['반납시간_분_그룹'][i] = 40\n",
    "    elif df_return_hour['반납시간_분'][i] >= 30:\n",
    "        df_return_hour['반납시간_분_그룹'][i] = 30\n",
    "    elif df_return_hour['반납시간_분'][i] >= 20:\n",
    "        df_return_hour['반납시간_분_그룹'][i] = 20\n",
    "    elif df_return_hour['반납시간_분'][i] >= 10:\n",
    "        df_return_hour['반납시간_분_그룹'][i] = 10\n",
    "    else:\n",
    "        df_return_hour['반납시간_분_그룹'][i] = 0\n",
    "df_return_hour_group = df_return_hour.groupby('반납시간_분_그룹')[['반납시간_분']].count().reset_index()\n",
    "df_return_hour_group.rename(columns = {'반납시간_분' : 'count'}, inplace = True)\n",
    "df_return_hour_group"
   ]
  },
  {
   "cell_type": "code",
   "execution_count": 69,
   "metadata": {},
   "outputs": [
    {
     "data": {
      "text/plain": [
       "22.833333333333332"
      ]
     },
     "execution_count": 69,
     "metadata": {},
     "output_type": "execute_result"
    }
   ],
   "source": [
    "# 10분당 평균도착률(10분당 자전거 반납수의 평균) = lambda\n",
    "# lambda = 10이면 10분동안 평균 10대의 자전거를 반납\n",
    "\n",
    "lda3 = df_return_hour_group['count'].sum() / 6\n",
    "lda3"
   ]
  },
  {
   "cell_type": "markdown",
   "metadata": {},
   "source": [
    "#### 4시"
   ]
  },
  {
   "cell_type": "code",
   "execution_count": 70,
   "metadata": {},
   "outputs": [
    {
     "data": {
      "text/html": [
       "<div>\n",
       "<style scoped>\n",
       "    .dataframe tbody tr th:only-of-type {\n",
       "        vertical-align: middle;\n",
       "    }\n",
       "\n",
       "    .dataframe tbody tr th {\n",
       "        vertical-align: top;\n",
       "    }\n",
       "\n",
       "    .dataframe thead th {\n",
       "        text-align: right;\n",
       "    }\n",
       "</style>\n",
       "<table border=\"1\" class=\"dataframe\">\n",
       "  <thead>\n",
       "    <tr style=\"text-align: right;\">\n",
       "      <th></th>\n",
       "      <th>반납시간_분_그룹</th>\n",
       "      <th>count</th>\n",
       "    </tr>\n",
       "  </thead>\n",
       "  <tbody>\n",
       "    <tr>\n",
       "      <th>0</th>\n",
       "      <td>0</td>\n",
       "      <td>18</td>\n",
       "    </tr>\n",
       "    <tr>\n",
       "      <th>1</th>\n",
       "      <td>10</td>\n",
       "      <td>18</td>\n",
       "    </tr>\n",
       "    <tr>\n",
       "      <th>2</th>\n",
       "      <td>20</td>\n",
       "      <td>21</td>\n",
       "    </tr>\n",
       "    <tr>\n",
       "      <th>3</th>\n",
       "      <td>30</td>\n",
       "      <td>21</td>\n",
       "    </tr>\n",
       "    <tr>\n",
       "      <th>4</th>\n",
       "      <td>40</td>\n",
       "      <td>8</td>\n",
       "    </tr>\n",
       "    <tr>\n",
       "      <th>5</th>\n",
       "      <td>50</td>\n",
       "      <td>19</td>\n",
       "    </tr>\n",
       "  </tbody>\n",
       "</table>\n",
       "</div>"
      ],
      "text/plain": [
       "   반납시간_분_그룹  count\n",
       "0          0     18\n",
       "1         10     18\n",
       "2         20     21\n",
       "3         30     21\n",
       "4         40      8\n",
       "5         50     19"
      ]
     },
     "execution_count": 70,
     "metadata": {},
     "output_type": "execute_result"
    }
   ],
   "source": [
    "df_return_hour = df_return[df_return['반납시간'] == 4]\n",
    "df_return_hour.reset_index(drop = True, inplace = True)\n",
    "df_return_hour['반납시간_분_그룹'] = -1\n",
    "for i in range(len(df_return_hour)):\n",
    "    if df_return_hour['반납시간_분'][i] >= 50:\n",
    "        df_return_hour['반납시간_분_그룹'][i] = 50\n",
    "    elif df_return_hour['반납시간_분'][i] >= 40:\n",
    "        df_return_hour['반납시간_분_그룹'][i] = 40\n",
    "    elif df_return_hour['반납시간_분'][i] >= 30:\n",
    "        df_return_hour['반납시간_분_그룹'][i] = 30\n",
    "    elif df_return_hour['반납시간_분'][i] >= 20:\n",
    "        df_return_hour['반납시간_분_그룹'][i] = 20\n",
    "    elif df_return_hour['반납시간_분'][i] >= 10:\n",
    "        df_return_hour['반납시간_분_그룹'][i] = 10\n",
    "    else:\n",
    "        df_return_hour['반납시간_분_그룹'][i] = 0\n",
    "df_return_hour_group = df_return_hour.groupby('반납시간_분_그룹')[['반납시간_분']].count().reset_index()\n",
    "df_return_hour_group.rename(columns = {'반납시간_분' : 'count'}, inplace = True)\n",
    "df_return_hour_group"
   ]
  },
  {
   "cell_type": "code",
   "execution_count": 71,
   "metadata": {},
   "outputs": [
    {
     "data": {
      "text/plain": [
       "17.5"
      ]
     },
     "execution_count": 71,
     "metadata": {},
     "output_type": "execute_result"
    }
   ],
   "source": [
    "# 10분당 평균도착률(10분당 자전거 반납수의 평균) = lambda\n",
    "# lambda = 10이면 10분동안 평균 10대의 자전거를 반납\n",
    "\n",
    "lda4 = df_return_hour_group['count'].sum() / 6\n",
    "lda4"
   ]
  },
  {
   "cell_type": "markdown",
   "metadata": {},
   "source": [
    "#### 5시"
   ]
  },
  {
   "cell_type": "code",
   "execution_count": 72,
   "metadata": {},
   "outputs": [
    {
     "data": {
      "text/html": [
       "<div>\n",
       "<style scoped>\n",
       "    .dataframe tbody tr th:only-of-type {\n",
       "        vertical-align: middle;\n",
       "    }\n",
       "\n",
       "    .dataframe tbody tr th {\n",
       "        vertical-align: top;\n",
       "    }\n",
       "\n",
       "    .dataframe thead th {\n",
       "        text-align: right;\n",
       "    }\n",
       "</style>\n",
       "<table border=\"1\" class=\"dataframe\">\n",
       "  <thead>\n",
       "    <tr style=\"text-align: right;\">\n",
       "      <th></th>\n",
       "      <th>반납시간_분_그룹</th>\n",
       "      <th>count</th>\n",
       "    </tr>\n",
       "  </thead>\n",
       "  <tbody>\n",
       "    <tr>\n",
       "      <th>0</th>\n",
       "      <td>0</td>\n",
       "      <td>8</td>\n",
       "    </tr>\n",
       "    <tr>\n",
       "      <th>1</th>\n",
       "      <td>10</td>\n",
       "      <td>9</td>\n",
       "    </tr>\n",
       "    <tr>\n",
       "      <th>2</th>\n",
       "      <td>20</td>\n",
       "      <td>20</td>\n",
       "    </tr>\n",
       "    <tr>\n",
       "      <th>3</th>\n",
       "      <td>30</td>\n",
       "      <td>7</td>\n",
       "    </tr>\n",
       "    <tr>\n",
       "      <th>4</th>\n",
       "      <td>40</td>\n",
       "      <td>42</td>\n",
       "    </tr>\n",
       "    <tr>\n",
       "      <th>5</th>\n",
       "      <td>50</td>\n",
       "      <td>10</td>\n",
       "    </tr>\n",
       "  </tbody>\n",
       "</table>\n",
       "</div>"
      ],
      "text/plain": [
       "   반납시간_분_그룹  count\n",
       "0          0      8\n",
       "1         10      9\n",
       "2         20     20\n",
       "3         30      7\n",
       "4         40     42\n",
       "5         50     10"
      ]
     },
     "execution_count": 72,
     "metadata": {},
     "output_type": "execute_result"
    }
   ],
   "source": [
    "df_return_hour = df_return[df_return['반납시간'] == 5]\n",
    "df_return_hour.reset_index(drop = True, inplace = True)\n",
    "df_return_hour['반납시간_분_그룹'] = -1\n",
    "for i in range(len(df_return_hour)):\n",
    "    if df_return_hour['반납시간_분'][i] >= 50:\n",
    "        df_return_hour['반납시간_분_그룹'][i] = 50\n",
    "    elif df_return_hour['반납시간_분'][i] >= 40:\n",
    "        df_return_hour['반납시간_분_그룹'][i] = 40\n",
    "    elif df_return_hour['반납시간_분'][i] >= 30:\n",
    "        df_return_hour['반납시간_분_그룹'][i] = 30\n",
    "    elif df_return_hour['반납시간_분'][i] >= 20:\n",
    "        df_return_hour['반납시간_분_그룹'][i] = 20\n",
    "    elif df_return_hour['반납시간_분'][i] >= 10:\n",
    "        df_return_hour['반납시간_분_그룹'][i] = 10\n",
    "    else:\n",
    "        df_return_hour['반납시간_분_그룹'][i] = 0\n",
    "df_return_hour_group = df_return_hour.groupby('반납시간_분_그룹')[['반납시간_분']].count().reset_index()\n",
    "df_return_hour_group.rename(columns = {'반납시간_분' : 'count'}, inplace = True)\n",
    "df_return_hour_group"
   ]
  },
  {
   "cell_type": "code",
   "execution_count": 73,
   "metadata": {},
   "outputs": [
    {
     "data": {
      "text/plain": [
       "16.0"
      ]
     },
     "execution_count": 73,
     "metadata": {},
     "output_type": "execute_result"
    }
   ],
   "source": [
    "# 10분당 평균도착률(10분당 자전거 반납수의 평균) = lambda\n",
    "# lambda = 10이면 10분동안 평균 10대의 자전거를 반납\n",
    "\n",
    "lda5 = df_return_hour_group['count'].sum() / 6\n",
    "lda5"
   ]
  },
  {
   "cell_type": "markdown",
   "metadata": {},
   "source": [
    "#### 6시"
   ]
  },
  {
   "cell_type": "code",
   "execution_count": 74,
   "metadata": {},
   "outputs": [
    {
     "data": {
      "text/html": [
       "<div>\n",
       "<style scoped>\n",
       "    .dataframe tbody tr th:only-of-type {\n",
       "        vertical-align: middle;\n",
       "    }\n",
       "\n",
       "    .dataframe tbody tr th {\n",
       "        vertical-align: top;\n",
       "    }\n",
       "\n",
       "    .dataframe thead th {\n",
       "        text-align: right;\n",
       "    }\n",
       "</style>\n",
       "<table border=\"1\" class=\"dataframe\">\n",
       "  <thead>\n",
       "    <tr style=\"text-align: right;\">\n",
       "      <th></th>\n",
       "      <th>반납시간_분_그룹</th>\n",
       "      <th>count</th>\n",
       "    </tr>\n",
       "  </thead>\n",
       "  <tbody>\n",
       "    <tr>\n",
       "      <th>0</th>\n",
       "      <td>0</td>\n",
       "      <td>12</td>\n",
       "    </tr>\n",
       "    <tr>\n",
       "      <th>1</th>\n",
       "      <td>10</td>\n",
       "      <td>9</td>\n",
       "    </tr>\n",
       "    <tr>\n",
       "      <th>2</th>\n",
       "      <td>20</td>\n",
       "      <td>12</td>\n",
       "    </tr>\n",
       "    <tr>\n",
       "      <th>3</th>\n",
       "      <td>30</td>\n",
       "      <td>41</td>\n",
       "    </tr>\n",
       "    <tr>\n",
       "      <th>4</th>\n",
       "      <td>40</td>\n",
       "      <td>26</td>\n",
       "    </tr>\n",
       "    <tr>\n",
       "      <th>5</th>\n",
       "      <td>50</td>\n",
       "      <td>20</td>\n",
       "    </tr>\n",
       "  </tbody>\n",
       "</table>\n",
       "</div>"
      ],
      "text/plain": [
       "   반납시간_분_그룹  count\n",
       "0          0     12\n",
       "1         10      9\n",
       "2         20     12\n",
       "3         30     41\n",
       "4         40     26\n",
       "5         50     20"
      ]
     },
     "execution_count": 74,
     "metadata": {},
     "output_type": "execute_result"
    }
   ],
   "source": [
    "df_return_hour = df_return[df_return['반납시간'] == 6]\n",
    "df_return_hour.reset_index(drop = True, inplace = True)\n",
    "df_return_hour['반납시간_분_그룹'] = -1\n",
    "for i in range(len(df_return_hour)):\n",
    "    if df_return_hour['반납시간_분'][i] >= 50:\n",
    "        df_return_hour['반납시간_분_그룹'][i] = 50\n",
    "    elif df_return_hour['반납시간_분'][i] >= 40:\n",
    "        df_return_hour['반납시간_분_그룹'][i] = 40\n",
    "    elif df_return_hour['반납시간_분'][i] >= 30:\n",
    "        df_return_hour['반납시간_분_그룹'][i] = 30\n",
    "    elif df_return_hour['반납시간_분'][i] >= 20:\n",
    "        df_return_hour['반납시간_분_그룹'][i] = 20\n",
    "    elif df_return_hour['반납시간_분'][i] >= 10:\n",
    "        df_return_hour['반납시간_분_그룹'][i] = 10\n",
    "    else:\n",
    "        df_return_hour['반납시간_분_그룹'][i] = 0\n",
    "df_return_hour_group = df_return_hour.groupby('반납시간_분_그룹')[['반납시간_분']].count().reset_index()\n",
    "df_return_hour_group.rename(columns = {'반납시간_분' : 'count'}, inplace = True)\n",
    "df_return_hour_group"
   ]
  },
  {
   "cell_type": "code",
   "execution_count": 75,
   "metadata": {},
   "outputs": [
    {
     "data": {
      "text/plain": [
       "20.0"
      ]
     },
     "execution_count": 75,
     "metadata": {},
     "output_type": "execute_result"
    }
   ],
   "source": [
    "# 10분당 평균도착률(10분당 자전거 반납수의 평균) = lambda\n",
    "# lambda = 10이면 10분동안 평균 10대의 자전거를 반납\n",
    "\n",
    "lda6 = df_return_hour_group['count'].sum() / 6\n",
    "lda6"
   ]
  },
  {
   "cell_type": "markdown",
   "metadata": {},
   "source": [
    "#### 7시"
   ]
  },
  {
   "cell_type": "code",
   "execution_count": 76,
   "metadata": {},
   "outputs": [
    {
     "data": {
      "text/html": [
       "<div>\n",
       "<style scoped>\n",
       "    .dataframe tbody tr th:only-of-type {\n",
       "        vertical-align: middle;\n",
       "    }\n",
       "\n",
       "    .dataframe tbody tr th {\n",
       "        vertical-align: top;\n",
       "    }\n",
       "\n",
       "    .dataframe thead th {\n",
       "        text-align: right;\n",
       "    }\n",
       "</style>\n",
       "<table border=\"1\" class=\"dataframe\">\n",
       "  <thead>\n",
       "    <tr style=\"text-align: right;\">\n",
       "      <th></th>\n",
       "      <th>반납시간_분_그룹</th>\n",
       "      <th>count</th>\n",
       "    </tr>\n",
       "  </thead>\n",
       "  <tbody>\n",
       "    <tr>\n",
       "      <th>0</th>\n",
       "      <td>0</td>\n",
       "      <td>46</td>\n",
       "    </tr>\n",
       "    <tr>\n",
       "      <th>1</th>\n",
       "      <td>10</td>\n",
       "      <td>36</td>\n",
       "    </tr>\n",
       "    <tr>\n",
       "      <th>2</th>\n",
       "      <td>20</td>\n",
       "      <td>36</td>\n",
       "    </tr>\n",
       "    <tr>\n",
       "      <th>3</th>\n",
       "      <td>30</td>\n",
       "      <td>44</td>\n",
       "    </tr>\n",
       "    <tr>\n",
       "      <th>4</th>\n",
       "      <td>40</td>\n",
       "      <td>76</td>\n",
       "    </tr>\n",
       "    <tr>\n",
       "      <th>5</th>\n",
       "      <td>50</td>\n",
       "      <td>70</td>\n",
       "    </tr>\n",
       "  </tbody>\n",
       "</table>\n",
       "</div>"
      ],
      "text/plain": [
       "   반납시간_분_그룹  count\n",
       "0          0     46\n",
       "1         10     36\n",
       "2         20     36\n",
       "3         30     44\n",
       "4         40     76\n",
       "5         50     70"
      ]
     },
     "execution_count": 76,
     "metadata": {},
     "output_type": "execute_result"
    }
   ],
   "source": [
    "df_return_hour = df_return[df_return['반납시간'] == 7]\n",
    "df_return_hour.reset_index(drop = True, inplace = True)\n",
    "df_return_hour['반납시간_분_그룹'] = -1\n",
    "for i in range(len(df_return_hour)):\n",
    "    if df_return_hour['반납시간_분'][i] >= 50:\n",
    "        df_return_hour['반납시간_분_그룹'][i] = 50\n",
    "    elif df_return_hour['반납시간_분'][i] >= 40:\n",
    "        df_return_hour['반납시간_분_그룹'][i] = 40\n",
    "    elif df_return_hour['반납시간_분'][i] >= 30:\n",
    "        df_return_hour['반납시간_분_그룹'][i] = 30\n",
    "    elif df_return_hour['반납시간_분'][i] >= 20:\n",
    "        df_return_hour['반납시간_분_그룹'][i] = 20\n",
    "    elif df_return_hour['반납시간_분'][i] >= 10:\n",
    "        df_return_hour['반납시간_분_그룹'][i] = 10\n",
    "    else:\n",
    "        df_return_hour['반납시간_분_그룹'][i] = 0\n",
    "df_return_hour_group = df_return_hour.groupby('반납시간_분_그룹')[['반납시간_분']].count().reset_index()\n",
    "df_return_hour_group.rename(columns = {'반납시간_분' : 'count'}, inplace = True)\n",
    "df_return_hour_group"
   ]
  },
  {
   "cell_type": "code",
   "execution_count": 77,
   "metadata": {},
   "outputs": [
    {
     "data": {
      "text/plain": [
       "51.333333333333336"
      ]
     },
     "execution_count": 77,
     "metadata": {},
     "output_type": "execute_result"
    }
   ],
   "source": [
    "# 10분당 평균도착률(10분당 자전거 반납수의 평균) = lambda\n",
    "# lambda = 10이면 10분동안 평균 10대의 자전거를 반납\n",
    "\n",
    "lda7 = df_return_hour_group['count'].sum() / 6\n",
    "lda7"
   ]
  },
  {
   "cell_type": "markdown",
   "metadata": {},
   "source": [
    "#### 8시"
   ]
  },
  {
   "cell_type": "code",
   "execution_count": 78,
   "metadata": {},
   "outputs": [
    {
     "data": {
      "text/html": [
       "<div>\n",
       "<style scoped>\n",
       "    .dataframe tbody tr th:only-of-type {\n",
       "        vertical-align: middle;\n",
       "    }\n",
       "\n",
       "    .dataframe tbody tr th {\n",
       "        vertical-align: top;\n",
       "    }\n",
       "\n",
       "    .dataframe thead th {\n",
       "        text-align: right;\n",
       "    }\n",
       "</style>\n",
       "<table border=\"1\" class=\"dataframe\">\n",
       "  <thead>\n",
       "    <tr style=\"text-align: right;\">\n",
       "      <th></th>\n",
       "      <th>반납시간_분_그룹</th>\n",
       "      <th>count</th>\n",
       "    </tr>\n",
       "  </thead>\n",
       "  <tbody>\n",
       "    <tr>\n",
       "      <th>0</th>\n",
       "      <td>0</td>\n",
       "      <td>50</td>\n",
       "    </tr>\n",
       "    <tr>\n",
       "      <th>1</th>\n",
       "      <td>10</td>\n",
       "      <td>100</td>\n",
       "    </tr>\n",
       "    <tr>\n",
       "      <th>2</th>\n",
       "      <td>20</td>\n",
       "      <td>90</td>\n",
       "    </tr>\n",
       "    <tr>\n",
       "      <th>3</th>\n",
       "      <td>30</td>\n",
       "      <td>77</td>\n",
       "    </tr>\n",
       "    <tr>\n",
       "      <th>4</th>\n",
       "      <td>40</td>\n",
       "      <td>42</td>\n",
       "    </tr>\n",
       "    <tr>\n",
       "      <th>5</th>\n",
       "      <td>50</td>\n",
       "      <td>49</td>\n",
       "    </tr>\n",
       "  </tbody>\n",
       "</table>\n",
       "</div>"
      ],
      "text/plain": [
       "   반납시간_분_그룹  count\n",
       "0          0     50\n",
       "1         10    100\n",
       "2         20     90\n",
       "3         30     77\n",
       "4         40     42\n",
       "5         50     49"
      ]
     },
     "execution_count": 78,
     "metadata": {},
     "output_type": "execute_result"
    }
   ],
   "source": [
    "df_return_hour = df_return[df_return['반납시간'] == 8]\n",
    "df_return_hour.reset_index(drop = True, inplace = True)\n",
    "df_return_hour['반납시간_분_그룹'] = -1\n",
    "for i in range(len(df_return_hour)):\n",
    "    if df_return_hour['반납시간_분'][i] >= 50:\n",
    "        df_return_hour['반납시간_분_그룹'][i] = 50\n",
    "    elif df_return_hour['반납시간_분'][i] >= 40:\n",
    "        df_return_hour['반납시간_분_그룹'][i] = 40\n",
    "    elif df_return_hour['반납시간_분'][i] >= 30:\n",
    "        df_return_hour['반납시간_분_그룹'][i] = 30\n",
    "    elif df_return_hour['반납시간_분'][i] >= 20:\n",
    "        df_return_hour['반납시간_분_그룹'][i] = 20\n",
    "    elif df_return_hour['반납시간_분'][i] >= 10:\n",
    "        df_return_hour['반납시간_분_그룹'][i] = 10\n",
    "    else:\n",
    "        df_return_hour['반납시간_분_그룹'][i] = 0\n",
    "df_return_hour_group = df_return_hour.groupby('반납시간_분_그룹')[['반납시간_분']].count().reset_index()\n",
    "df_return_hour_group.rename(columns = {'반납시간_분' : 'count'}, inplace = True)\n",
    "df_return_hour_group"
   ]
  },
  {
   "cell_type": "code",
   "execution_count": 79,
   "metadata": {},
   "outputs": [
    {
     "data": {
      "text/plain": [
       "68.0"
      ]
     },
     "execution_count": 79,
     "metadata": {},
     "output_type": "execute_result"
    }
   ],
   "source": [
    "# 10분당 평균도착률(10분당 자전거 반납수의 평균) = lambda\n",
    "# lambda = 10이면 10분동안 평균 10대의 자전거를 반납\n",
    "\n",
    "lda8 = df_return_hour_group['count'].sum() / 6\n",
    "lda8"
   ]
  },
  {
   "cell_type": "markdown",
   "metadata": {},
   "source": [
    "#### 9시"
   ]
  },
  {
   "cell_type": "code",
   "execution_count": 80,
   "metadata": {},
   "outputs": [
    {
     "data": {
      "text/html": [
       "<div>\n",
       "<style scoped>\n",
       "    .dataframe tbody tr th:only-of-type {\n",
       "        vertical-align: middle;\n",
       "    }\n",
       "\n",
       "    .dataframe tbody tr th {\n",
       "        vertical-align: top;\n",
       "    }\n",
       "\n",
       "    .dataframe thead th {\n",
       "        text-align: right;\n",
       "    }\n",
       "</style>\n",
       "<table border=\"1\" class=\"dataframe\">\n",
       "  <thead>\n",
       "    <tr style=\"text-align: right;\">\n",
       "      <th></th>\n",
       "      <th>반납시간_분_그룹</th>\n",
       "      <th>count</th>\n",
       "    </tr>\n",
       "  </thead>\n",
       "  <tbody>\n",
       "    <tr>\n",
       "      <th>0</th>\n",
       "      <td>0</td>\n",
       "      <td>55</td>\n",
       "    </tr>\n",
       "    <tr>\n",
       "      <th>1</th>\n",
       "      <td>10</td>\n",
       "      <td>27</td>\n",
       "    </tr>\n",
       "    <tr>\n",
       "      <th>2</th>\n",
       "      <td>20</td>\n",
       "      <td>39</td>\n",
       "    </tr>\n",
       "    <tr>\n",
       "      <th>3</th>\n",
       "      <td>30</td>\n",
       "      <td>32</td>\n",
       "    </tr>\n",
       "    <tr>\n",
       "      <th>4</th>\n",
       "      <td>40</td>\n",
       "      <td>30</td>\n",
       "    </tr>\n",
       "    <tr>\n",
       "      <th>5</th>\n",
       "      <td>50</td>\n",
       "      <td>38</td>\n",
       "    </tr>\n",
       "  </tbody>\n",
       "</table>\n",
       "</div>"
      ],
      "text/plain": [
       "   반납시간_분_그룹  count\n",
       "0          0     55\n",
       "1         10     27\n",
       "2         20     39\n",
       "3         30     32\n",
       "4         40     30\n",
       "5         50     38"
      ]
     },
     "execution_count": 80,
     "metadata": {},
     "output_type": "execute_result"
    }
   ],
   "source": [
    "df_return_hour = df_return[df_return['반납시간'] == 9]\n",
    "df_return_hour.reset_index(drop = True, inplace = True)\n",
    "df_return_hour['반납시간_분_그룹'] = -1\n",
    "for i in range(len(df_return_hour)):\n",
    "    if df_return_hour['반납시간_분'][i] >= 50:\n",
    "        df_return_hour['반납시간_분_그룹'][i] = 50\n",
    "    elif df_return_hour['반납시간_분'][i] >= 40:\n",
    "        df_return_hour['반납시간_분_그룹'][i] = 40\n",
    "    elif df_return_hour['반납시간_분'][i] >= 30:\n",
    "        df_return_hour['반납시간_분_그룹'][i] = 30\n",
    "    elif df_return_hour['반납시간_분'][i] >= 20:\n",
    "        df_return_hour['반납시간_분_그룹'][i] = 20\n",
    "    elif df_return_hour['반납시간_분'][i] >= 10:\n",
    "        df_return_hour['반납시간_분_그룹'][i] = 10\n",
    "    else:\n",
    "        df_return_hour['반납시간_분_그룹'][i] = 0\n",
    "df_return_hour_group = df_return_hour.groupby('반납시간_분_그룹')[['반납시간_분']].count().reset_index()\n",
    "df_return_hour_group.rename(columns = {'반납시간_분' : 'count'}, inplace = True)\n",
    "df_return_hour_group"
   ]
  },
  {
   "cell_type": "code",
   "execution_count": 81,
   "metadata": {},
   "outputs": [
    {
     "data": {
      "text/plain": [
       "36.833333333333336"
      ]
     },
     "execution_count": 81,
     "metadata": {},
     "output_type": "execute_result"
    }
   ],
   "source": [
    "# 10분당 평균도착률(10분당 자전거 반납수의 평균) = lambda\n",
    "# lambda = 10이면 10분동안 평균 10대의 자전거를 반납\n",
    "\n",
    "lda9 = df_return_hour_group['count'].sum() / 6\n",
    "lda9"
   ]
  },
  {
   "cell_type": "markdown",
   "metadata": {},
   "source": [
    "#### 10시"
   ]
  },
  {
   "cell_type": "code",
   "execution_count": 82,
   "metadata": {},
   "outputs": [
    {
     "data": {
      "text/html": [
       "<div>\n",
       "<style scoped>\n",
       "    .dataframe tbody tr th:only-of-type {\n",
       "        vertical-align: middle;\n",
       "    }\n",
       "\n",
       "    .dataframe tbody tr th {\n",
       "        vertical-align: top;\n",
       "    }\n",
       "\n",
       "    .dataframe thead th {\n",
       "        text-align: right;\n",
       "    }\n",
       "</style>\n",
       "<table border=\"1\" class=\"dataframe\">\n",
       "  <thead>\n",
       "    <tr style=\"text-align: right;\">\n",
       "      <th></th>\n",
       "      <th>반납시간_분_그룹</th>\n",
       "      <th>count</th>\n",
       "    </tr>\n",
       "  </thead>\n",
       "  <tbody>\n",
       "    <tr>\n",
       "      <th>0</th>\n",
       "      <td>0</td>\n",
       "      <td>38</td>\n",
       "    </tr>\n",
       "    <tr>\n",
       "      <th>1</th>\n",
       "      <td>10</td>\n",
       "      <td>27</td>\n",
       "    </tr>\n",
       "    <tr>\n",
       "      <th>2</th>\n",
       "      <td>20</td>\n",
       "      <td>48</td>\n",
       "    </tr>\n",
       "    <tr>\n",
       "      <th>3</th>\n",
       "      <td>30</td>\n",
       "      <td>57</td>\n",
       "    </tr>\n",
       "    <tr>\n",
       "      <th>4</th>\n",
       "      <td>40</td>\n",
       "      <td>43</td>\n",
       "    </tr>\n",
       "    <tr>\n",
       "      <th>5</th>\n",
       "      <td>50</td>\n",
       "      <td>52</td>\n",
       "    </tr>\n",
       "  </tbody>\n",
       "</table>\n",
       "</div>"
      ],
      "text/plain": [
       "   반납시간_분_그룹  count\n",
       "0          0     38\n",
       "1         10     27\n",
       "2         20     48\n",
       "3         30     57\n",
       "4         40     43\n",
       "5         50     52"
      ]
     },
     "execution_count": 82,
     "metadata": {},
     "output_type": "execute_result"
    }
   ],
   "source": [
    "df_return_hour = df_return[df_return['반납시간'] == 10]\n",
    "df_return_hour.reset_index(drop = True, inplace = True)\n",
    "df_return_hour['반납시간_분_그룹'] = -1\n",
    "for i in range(len(df_return_hour)):\n",
    "    if df_return_hour['반납시간_분'][i] >= 50:\n",
    "        df_return_hour['반납시간_분_그룹'][i] = 50\n",
    "    elif df_return_hour['반납시간_분'][i] >= 40:\n",
    "        df_return_hour['반납시간_분_그룹'][i] = 40\n",
    "    elif df_return_hour['반납시간_분'][i] >= 30:\n",
    "        df_return_hour['반납시간_분_그룹'][i] = 30\n",
    "    elif df_return_hour['반납시간_분'][i] >= 20:\n",
    "        df_return_hour['반납시간_분_그룹'][i] = 20\n",
    "    elif df_return_hour['반납시간_분'][i] >= 10:\n",
    "        df_return_hour['반납시간_분_그룹'][i] = 10\n",
    "    else:\n",
    "        df_return_hour['반납시간_분_그룹'][i] = 0\n",
    "df_return_hour_group = df_return_hour.groupby('반납시간_분_그룹')[['반납시간_분']].count().reset_index()\n",
    "df_return_hour_group.rename(columns = {'반납시간_분' : 'count'}, inplace = True)\n",
    "df_return_hour_group"
   ]
  },
  {
   "cell_type": "code",
   "execution_count": 83,
   "metadata": {},
   "outputs": [
    {
     "data": {
      "text/plain": [
       "44.166666666666664"
      ]
     },
     "execution_count": 83,
     "metadata": {},
     "output_type": "execute_result"
    }
   ],
   "source": [
    "# 10분당 평균도착률(10분당 자전거 반납수의 평균) = lambda\n",
    "# lambda = 10이면 10분동안 평균 10대의 자전거를 반납\n",
    "\n",
    "lda10 = df_return_hour_group['count'].sum() / 6\n",
    "lda10"
   ]
  },
  {
   "cell_type": "markdown",
   "metadata": {},
   "source": [
    "#### 11시"
   ]
  },
  {
   "cell_type": "code",
   "execution_count": 84,
   "metadata": {},
   "outputs": [
    {
     "data": {
      "text/html": [
       "<div>\n",
       "<style scoped>\n",
       "    .dataframe tbody tr th:only-of-type {\n",
       "        vertical-align: middle;\n",
       "    }\n",
       "\n",
       "    .dataframe tbody tr th {\n",
       "        vertical-align: top;\n",
       "    }\n",
       "\n",
       "    .dataframe thead th {\n",
       "        text-align: right;\n",
       "    }\n",
       "</style>\n",
       "<table border=\"1\" class=\"dataframe\">\n",
       "  <thead>\n",
       "    <tr style=\"text-align: right;\">\n",
       "      <th></th>\n",
       "      <th>반납시간_분_그룹</th>\n",
       "      <th>count</th>\n",
       "    </tr>\n",
       "  </thead>\n",
       "  <tbody>\n",
       "    <tr>\n",
       "      <th>0</th>\n",
       "      <td>0</td>\n",
       "      <td>36</td>\n",
       "    </tr>\n",
       "    <tr>\n",
       "      <th>1</th>\n",
       "      <td>10</td>\n",
       "      <td>44</td>\n",
       "    </tr>\n",
       "    <tr>\n",
       "      <th>2</th>\n",
       "      <td>20</td>\n",
       "      <td>61</td>\n",
       "    </tr>\n",
       "    <tr>\n",
       "      <th>3</th>\n",
       "      <td>30</td>\n",
       "      <td>50</td>\n",
       "    </tr>\n",
       "    <tr>\n",
       "      <th>4</th>\n",
       "      <td>40</td>\n",
       "      <td>30</td>\n",
       "    </tr>\n",
       "    <tr>\n",
       "      <th>5</th>\n",
       "      <td>50</td>\n",
       "      <td>48</td>\n",
       "    </tr>\n",
       "  </tbody>\n",
       "</table>\n",
       "</div>"
      ],
      "text/plain": [
       "   반납시간_분_그룹  count\n",
       "0          0     36\n",
       "1         10     44\n",
       "2         20     61\n",
       "3         30     50\n",
       "4         40     30\n",
       "5         50     48"
      ]
     },
     "execution_count": 84,
     "metadata": {},
     "output_type": "execute_result"
    }
   ],
   "source": [
    "df_return_hour = df_return[df_return['반납시간'] == 11]\n",
    "df_return_hour.reset_index(drop = True, inplace = True)\n",
    "df_return_hour['반납시간_분_그룹'] = -1\n",
    "for i in range(len(df_return_hour)):\n",
    "    if df_return_hour['반납시간_분'][i] >= 50:\n",
    "        df_return_hour['반납시간_분_그룹'][i] = 50\n",
    "    elif df_return_hour['반납시간_분'][i] >= 40:\n",
    "        df_return_hour['반납시간_분_그룹'][i] = 40\n",
    "    elif df_return_hour['반납시간_분'][i] >= 30:\n",
    "        df_return_hour['반납시간_분_그룹'][i] = 30\n",
    "    elif df_return_hour['반납시간_분'][i] >= 20:\n",
    "        df_return_hour['반납시간_분_그룹'][i] = 20\n",
    "    elif df_return_hour['반납시간_분'][i] >= 10:\n",
    "        df_return_hour['반납시간_분_그룹'][i] = 10\n",
    "    else:\n",
    "        df_return_hour['반납시간_분_그룹'][i] = 0\n",
    "df_return_hour_group = df_return_hour.groupby('반납시간_분_그룹')[['반납시간_분']].count().reset_index()\n",
    "df_return_hour_group.rename(columns = {'반납시간_분' : 'count'}, inplace = True)\n",
    "df_return_hour_group"
   ]
  },
  {
   "cell_type": "code",
   "execution_count": 85,
   "metadata": {},
   "outputs": [
    {
     "data": {
      "text/plain": [
       "44.833333333333336"
      ]
     },
     "execution_count": 85,
     "metadata": {},
     "output_type": "execute_result"
    }
   ],
   "source": [
    "# 10분당 평균도착률(10분당 자전거 반납수의 평균) = lambda\n",
    "# lambda = 10이면 10분동안 평균 10대의 자전거를 반납\n",
    "\n",
    "lda11 = df_return_hour_group['count'].sum() / 6\n",
    "lda11"
   ]
  },
  {
   "cell_type": "markdown",
   "metadata": {},
   "source": [
    "#### 12시"
   ]
  },
  {
   "cell_type": "code",
   "execution_count": 86,
   "metadata": {},
   "outputs": [
    {
     "data": {
      "text/html": [
       "<div>\n",
       "<style scoped>\n",
       "    .dataframe tbody tr th:only-of-type {\n",
       "        vertical-align: middle;\n",
       "    }\n",
       "\n",
       "    .dataframe tbody tr th {\n",
       "        vertical-align: top;\n",
       "    }\n",
       "\n",
       "    .dataframe thead th {\n",
       "        text-align: right;\n",
       "    }\n",
       "</style>\n",
       "<table border=\"1\" class=\"dataframe\">\n",
       "  <thead>\n",
       "    <tr style=\"text-align: right;\">\n",
       "      <th></th>\n",
       "      <th>반납시간_분_그룹</th>\n",
       "      <th>count</th>\n",
       "    </tr>\n",
       "  </thead>\n",
       "  <tbody>\n",
       "    <tr>\n",
       "      <th>0</th>\n",
       "      <td>0</td>\n",
       "      <td>47</td>\n",
       "    </tr>\n",
       "    <tr>\n",
       "      <th>1</th>\n",
       "      <td>10</td>\n",
       "      <td>42</td>\n",
       "    </tr>\n",
       "    <tr>\n",
       "      <th>2</th>\n",
       "      <td>20</td>\n",
       "      <td>62</td>\n",
       "    </tr>\n",
       "    <tr>\n",
       "      <th>3</th>\n",
       "      <td>30</td>\n",
       "      <td>45</td>\n",
       "    </tr>\n",
       "    <tr>\n",
       "      <th>4</th>\n",
       "      <td>40</td>\n",
       "      <td>38</td>\n",
       "    </tr>\n",
       "    <tr>\n",
       "      <th>5</th>\n",
       "      <td>50</td>\n",
       "      <td>43</td>\n",
       "    </tr>\n",
       "  </tbody>\n",
       "</table>\n",
       "</div>"
      ],
      "text/plain": [
       "   반납시간_분_그룹  count\n",
       "0          0     47\n",
       "1         10     42\n",
       "2         20     62\n",
       "3         30     45\n",
       "4         40     38\n",
       "5         50     43"
      ]
     },
     "execution_count": 86,
     "metadata": {},
     "output_type": "execute_result"
    }
   ],
   "source": [
    "df_return_hour = df_return[df_return['반납시간'] == 12]\n",
    "df_return_hour.reset_index(drop = True, inplace = True)\n",
    "df_return_hour['반납시간_분_그룹'] = -1\n",
    "for i in range(len(df_return_hour)):\n",
    "    if df_return_hour['반납시간_분'][i] >= 50:\n",
    "        df_return_hour['반납시간_분_그룹'][i] = 50\n",
    "    elif df_return_hour['반납시간_분'][i] >= 40:\n",
    "        df_return_hour['반납시간_분_그룹'][i] = 40\n",
    "    elif df_return_hour['반납시간_분'][i] >= 30:\n",
    "        df_return_hour['반납시간_분_그룹'][i] = 30\n",
    "    elif df_return_hour['반납시간_분'][i] >= 20:\n",
    "        df_return_hour['반납시간_분_그룹'][i] = 20\n",
    "    elif df_return_hour['반납시간_분'][i] >= 10:\n",
    "        df_return_hour['반납시간_분_그룹'][i] = 10\n",
    "    else:\n",
    "        df_return_hour['반납시간_분_그룹'][i] = 0\n",
    "df_return_hour_group = df_return_hour.groupby('반납시간_분_그룹')[['반납시간_분']].count().reset_index()\n",
    "df_return_hour_group.rename(columns = {'반납시간_분' : 'count'}, inplace = True)\n",
    "df_return_hour_group"
   ]
  },
  {
   "cell_type": "code",
   "execution_count": 87,
   "metadata": {},
   "outputs": [
    {
     "data": {
      "text/plain": [
       "46.166666666666664"
      ]
     },
     "execution_count": 87,
     "metadata": {},
     "output_type": "execute_result"
    }
   ],
   "source": [
    "# 10분당 평균도착률(10분당 자전거 반납수의 평균) = lambda\n",
    "# lambda = 10이면 10분동안 평균 10대의 자전거를 반납\n",
    "\n",
    "lda12 = df_return_hour_group['count'].sum() / 6\n",
    "lda12"
   ]
  },
  {
   "cell_type": "markdown",
   "metadata": {},
   "source": [
    "#### 13시"
   ]
  },
  {
   "cell_type": "code",
   "execution_count": 88,
   "metadata": {},
   "outputs": [
    {
     "data": {
      "text/html": [
       "<div>\n",
       "<style scoped>\n",
       "    .dataframe tbody tr th:only-of-type {\n",
       "        vertical-align: middle;\n",
       "    }\n",
       "\n",
       "    .dataframe tbody tr th {\n",
       "        vertical-align: top;\n",
       "    }\n",
       "\n",
       "    .dataframe thead th {\n",
       "        text-align: right;\n",
       "    }\n",
       "</style>\n",
       "<table border=\"1\" class=\"dataframe\">\n",
       "  <thead>\n",
       "    <tr style=\"text-align: right;\">\n",
       "      <th></th>\n",
       "      <th>반납시간_분_그룹</th>\n",
       "      <th>count</th>\n",
       "    </tr>\n",
       "  </thead>\n",
       "  <tbody>\n",
       "    <tr>\n",
       "      <th>0</th>\n",
       "      <td>0</td>\n",
       "      <td>37</td>\n",
       "    </tr>\n",
       "    <tr>\n",
       "      <th>1</th>\n",
       "      <td>10</td>\n",
       "      <td>44</td>\n",
       "    </tr>\n",
       "    <tr>\n",
       "      <th>2</th>\n",
       "      <td>20</td>\n",
       "      <td>41</td>\n",
       "    </tr>\n",
       "    <tr>\n",
       "      <th>3</th>\n",
       "      <td>30</td>\n",
       "      <td>37</td>\n",
       "    </tr>\n",
       "    <tr>\n",
       "      <th>4</th>\n",
       "      <td>40</td>\n",
       "      <td>37</td>\n",
       "    </tr>\n",
       "    <tr>\n",
       "      <th>5</th>\n",
       "      <td>50</td>\n",
       "      <td>42</td>\n",
       "    </tr>\n",
       "  </tbody>\n",
       "</table>\n",
       "</div>"
      ],
      "text/plain": [
       "   반납시간_분_그룹  count\n",
       "0          0     37\n",
       "1         10     44\n",
       "2         20     41\n",
       "3         30     37\n",
       "4         40     37\n",
       "5         50     42"
      ]
     },
     "execution_count": 88,
     "metadata": {},
     "output_type": "execute_result"
    }
   ],
   "source": [
    "df_return_hour = df_return[df_return['반납시간'] == 13]\n",
    "df_return_hour.reset_index(drop = True, inplace = True)\n",
    "df_return_hour['반납시간_분_그룹'] = -1\n",
    "for i in range(len(df_return_hour)):\n",
    "    if df_return_hour['반납시간_분'][i] >= 50:\n",
    "        df_return_hour['반납시간_분_그룹'][i] = 50\n",
    "    elif df_return_hour['반납시간_분'][i] >= 40:\n",
    "        df_return_hour['반납시간_분_그룹'][i] = 40\n",
    "    elif df_return_hour['반납시간_분'][i] >= 30:\n",
    "        df_return_hour['반납시간_분_그룹'][i] = 30\n",
    "    elif df_return_hour['반납시간_분'][i] >= 20:\n",
    "        df_return_hour['반납시간_분_그룹'][i] = 20\n",
    "    elif df_return_hour['반납시간_분'][i] >= 10:\n",
    "        df_return_hour['반납시간_분_그룹'][i] = 10\n",
    "    else:\n",
    "        df_return_hour['반납시간_분_그룹'][i] = 0\n",
    "df_return_hour_group = df_return_hour.groupby('반납시간_분_그룹')[['반납시간_분']].count().reset_index()\n",
    "df_return_hour_group.rename(columns = {'반납시간_분' : 'count'}, inplace = True)\n",
    "df_return_hour_group"
   ]
  },
  {
   "cell_type": "code",
   "execution_count": 89,
   "metadata": {},
   "outputs": [
    {
     "data": {
      "text/plain": [
       "39.666666666666664"
      ]
     },
     "execution_count": 89,
     "metadata": {},
     "output_type": "execute_result"
    }
   ],
   "source": [
    "# 10분당 평균도착률(10분당 자전거 반납수의 평균) = lambda\n",
    "# lambda = 10이면 10분동안 평균 10대의 자전거를 반납\n",
    "\n",
    "lda13 = df_return_hour_group['count'].sum() / 6\n",
    "lda13"
   ]
  },
  {
   "cell_type": "markdown",
   "metadata": {},
   "source": [
    "#### 14시"
   ]
  },
  {
   "cell_type": "code",
   "execution_count": 90,
   "metadata": {},
   "outputs": [
    {
     "data": {
      "text/html": [
       "<div>\n",
       "<style scoped>\n",
       "    .dataframe tbody tr th:only-of-type {\n",
       "        vertical-align: middle;\n",
       "    }\n",
       "\n",
       "    .dataframe tbody tr th {\n",
       "        vertical-align: top;\n",
       "    }\n",
       "\n",
       "    .dataframe thead th {\n",
       "        text-align: right;\n",
       "    }\n",
       "</style>\n",
       "<table border=\"1\" class=\"dataframe\">\n",
       "  <thead>\n",
       "    <tr style=\"text-align: right;\">\n",
       "      <th></th>\n",
       "      <th>반납시간_분_그룹</th>\n",
       "      <th>count</th>\n",
       "    </tr>\n",
       "  </thead>\n",
       "  <tbody>\n",
       "    <tr>\n",
       "      <th>0</th>\n",
       "      <td>0</td>\n",
       "      <td>39</td>\n",
       "    </tr>\n",
       "    <tr>\n",
       "      <th>1</th>\n",
       "      <td>10</td>\n",
       "      <td>56</td>\n",
       "    </tr>\n",
       "    <tr>\n",
       "      <th>2</th>\n",
       "      <td>20</td>\n",
       "      <td>52</td>\n",
       "    </tr>\n",
       "    <tr>\n",
       "      <th>3</th>\n",
       "      <td>30</td>\n",
       "      <td>66</td>\n",
       "    </tr>\n",
       "    <tr>\n",
       "      <th>4</th>\n",
       "      <td>40</td>\n",
       "      <td>66</td>\n",
       "    </tr>\n",
       "    <tr>\n",
       "      <th>5</th>\n",
       "      <td>50</td>\n",
       "      <td>79</td>\n",
       "    </tr>\n",
       "  </tbody>\n",
       "</table>\n",
       "</div>"
      ],
      "text/plain": [
       "   반납시간_분_그룹  count\n",
       "0          0     39\n",
       "1         10     56\n",
       "2         20     52\n",
       "3         30     66\n",
       "4         40     66\n",
       "5         50     79"
      ]
     },
     "execution_count": 90,
     "metadata": {},
     "output_type": "execute_result"
    }
   ],
   "source": [
    "df_return_hour = df_return[df_return['반납시간'] == 14]\n",
    "df_return_hour.reset_index(drop = True, inplace = True)\n",
    "df_return_hour['반납시간_분_그룹'] = -1\n",
    "for i in range(len(df_return_hour)):\n",
    "    if df_return_hour['반납시간_분'][i] >= 50:\n",
    "        df_return_hour['반납시간_분_그룹'][i] = 50\n",
    "    elif df_return_hour['반납시간_분'][i] >= 40:\n",
    "        df_return_hour['반납시간_분_그룹'][i] = 40\n",
    "    elif df_return_hour['반납시간_분'][i] >= 30:\n",
    "        df_return_hour['반납시간_분_그룹'][i] = 30\n",
    "    elif df_return_hour['반납시간_분'][i] >= 20:\n",
    "        df_return_hour['반납시간_분_그룹'][i] = 20\n",
    "    elif df_return_hour['반납시간_분'][i] >= 10:\n",
    "        df_return_hour['반납시간_분_그룹'][i] = 10\n",
    "    else:\n",
    "        df_return_hour['반납시간_분_그룹'][i] = 0\n",
    "df_return_hour_group = df_return_hour.groupby('반납시간_분_그룹')[['반납시간_분']].count().reset_index()\n",
    "df_return_hour_group.rename(columns = {'반납시간_분' : 'count'}, inplace = True)\n",
    "df_return_hour_group"
   ]
  },
  {
   "cell_type": "code",
   "execution_count": 91,
   "metadata": {},
   "outputs": [
    {
     "data": {
      "text/plain": [
       "59.666666666666664"
      ]
     },
     "execution_count": 91,
     "metadata": {},
     "output_type": "execute_result"
    }
   ],
   "source": [
    "# 10분당 평균도착률(10분당 자전거 반납수의 평균) = lambda\n",
    "# lambda = 10이면 10분동안 평균 10대의 자전거를 반납\n",
    "\n",
    "lda14 = df_return_hour_group['count'].sum() / 6\n",
    "lda14"
   ]
  },
  {
   "cell_type": "markdown",
   "metadata": {},
   "source": [
    "#### 15시"
   ]
  },
  {
   "cell_type": "code",
   "execution_count": 92,
   "metadata": {},
   "outputs": [
    {
     "data": {
      "text/html": [
       "<div>\n",
       "<style scoped>\n",
       "    .dataframe tbody tr th:only-of-type {\n",
       "        vertical-align: middle;\n",
       "    }\n",
       "\n",
       "    .dataframe tbody tr th {\n",
       "        vertical-align: top;\n",
       "    }\n",
       "\n",
       "    .dataframe thead th {\n",
       "        text-align: right;\n",
       "    }\n",
       "</style>\n",
       "<table border=\"1\" class=\"dataframe\">\n",
       "  <thead>\n",
       "    <tr style=\"text-align: right;\">\n",
       "      <th></th>\n",
       "      <th>반납시간_분_그룹</th>\n",
       "      <th>count</th>\n",
       "    </tr>\n",
       "  </thead>\n",
       "  <tbody>\n",
       "    <tr>\n",
       "      <th>0</th>\n",
       "      <td>0</td>\n",
       "      <td>76</td>\n",
       "    </tr>\n",
       "    <tr>\n",
       "      <th>1</th>\n",
       "      <td>10</td>\n",
       "      <td>83</td>\n",
       "    </tr>\n",
       "    <tr>\n",
       "      <th>2</th>\n",
       "      <td>20</td>\n",
       "      <td>91</td>\n",
       "    </tr>\n",
       "    <tr>\n",
       "      <th>3</th>\n",
       "      <td>30</td>\n",
       "      <td>111</td>\n",
       "    </tr>\n",
       "    <tr>\n",
       "      <th>4</th>\n",
       "      <td>40</td>\n",
       "      <td>87</td>\n",
       "    </tr>\n",
       "    <tr>\n",
       "      <th>5</th>\n",
       "      <td>50</td>\n",
       "      <td>93</td>\n",
       "    </tr>\n",
       "  </tbody>\n",
       "</table>\n",
       "</div>"
      ],
      "text/plain": [
       "   반납시간_분_그룹  count\n",
       "0          0     76\n",
       "1         10     83\n",
       "2         20     91\n",
       "3         30    111\n",
       "4         40     87\n",
       "5         50     93"
      ]
     },
     "execution_count": 92,
     "metadata": {},
     "output_type": "execute_result"
    }
   ],
   "source": [
    "df_return_hour = df_return[df_return['반납시간'] == 15]\n",
    "df_return_hour.reset_index(drop = True, inplace = True)\n",
    "df_return_hour['반납시간_분_그룹'] = -1\n",
    "for i in range(len(df_return_hour)):\n",
    "    if df_return_hour['반납시간_분'][i] >= 50:\n",
    "        df_return_hour['반납시간_분_그룹'][i] = 50\n",
    "    elif df_return_hour['반납시간_분'][i] >= 40:\n",
    "        df_return_hour['반납시간_분_그룹'][i] = 40\n",
    "    elif df_return_hour['반납시간_분'][i] >= 30:\n",
    "        df_return_hour['반납시간_분_그룹'][i] = 30\n",
    "    elif df_return_hour['반납시간_분'][i] >= 20:\n",
    "        df_return_hour['반납시간_분_그룹'][i] = 20\n",
    "    elif df_return_hour['반납시간_분'][i] >= 10:\n",
    "        df_return_hour['반납시간_분_그룹'][i] = 10\n",
    "    else:\n",
    "        df_return_hour['반납시간_분_그룹'][i] = 0\n",
    "df_return_hour_group = df_return_hour.groupby('반납시간_분_그룹')[['반납시간_분']].count().reset_index()\n",
    "df_return_hour_group.rename(columns = {'반납시간_분' : 'count'}, inplace = True)\n",
    "df_return_hour_group"
   ]
  },
  {
   "cell_type": "code",
   "execution_count": 93,
   "metadata": {},
   "outputs": [
    {
     "data": {
      "text/plain": [
       "90.16666666666667"
      ]
     },
     "execution_count": 93,
     "metadata": {},
     "output_type": "execute_result"
    }
   ],
   "source": [
    "# 10분당 평균도착률(10분당 자전거 반납수의 평균) = lambda\n",
    "# lambda = 10이면 10분동안 평균 10대의 자전거를 반납\n",
    "\n",
    "lda15 = df_return_hour_group['count'].sum() / 6\n",
    "lda15"
   ]
  },
  {
   "cell_type": "markdown",
   "metadata": {},
   "source": [
    "#### 16시"
   ]
  },
  {
   "cell_type": "code",
   "execution_count": 94,
   "metadata": {},
   "outputs": [
    {
     "data": {
      "text/html": [
       "<div>\n",
       "<style scoped>\n",
       "    .dataframe tbody tr th:only-of-type {\n",
       "        vertical-align: middle;\n",
       "    }\n",
       "\n",
       "    .dataframe tbody tr th {\n",
       "        vertical-align: top;\n",
       "    }\n",
       "\n",
       "    .dataframe thead th {\n",
       "        text-align: right;\n",
       "    }\n",
       "</style>\n",
       "<table border=\"1\" class=\"dataframe\">\n",
       "  <thead>\n",
       "    <tr style=\"text-align: right;\">\n",
       "      <th></th>\n",
       "      <th>반납시간_분_그룹</th>\n",
       "      <th>count</th>\n",
       "    </tr>\n",
       "  </thead>\n",
       "  <tbody>\n",
       "    <tr>\n",
       "      <th>0</th>\n",
       "      <td>0</td>\n",
       "      <td>100</td>\n",
       "    </tr>\n",
       "    <tr>\n",
       "      <th>1</th>\n",
       "      <td>10</td>\n",
       "      <td>110</td>\n",
       "    </tr>\n",
       "    <tr>\n",
       "      <th>2</th>\n",
       "      <td>20</td>\n",
       "      <td>102</td>\n",
       "    </tr>\n",
       "    <tr>\n",
       "      <th>3</th>\n",
       "      <td>30</td>\n",
       "      <td>123</td>\n",
       "    </tr>\n",
       "    <tr>\n",
       "      <th>4</th>\n",
       "      <td>40</td>\n",
       "      <td>116</td>\n",
       "    </tr>\n",
       "    <tr>\n",
       "      <th>5</th>\n",
       "      <td>50</td>\n",
       "      <td>151</td>\n",
       "    </tr>\n",
       "  </tbody>\n",
       "</table>\n",
       "</div>"
      ],
      "text/plain": [
       "   반납시간_분_그룹  count\n",
       "0          0    100\n",
       "1         10    110\n",
       "2         20    102\n",
       "3         30    123\n",
       "4         40    116\n",
       "5         50    151"
      ]
     },
     "execution_count": 94,
     "metadata": {},
     "output_type": "execute_result"
    }
   ],
   "source": [
    "df_return_hour = df_return[df_return['반납시간'] == 16]\n",
    "df_return_hour.reset_index(drop = True, inplace = True)\n",
    "df_return_hour['반납시간_분_그룹'] = -1\n",
    "for i in range(len(df_return_hour)):\n",
    "    if df_return_hour['반납시간_분'][i] >= 50:\n",
    "        df_return_hour['반납시간_분_그룹'][i] = 50\n",
    "    elif df_return_hour['반납시간_분'][i] >= 40:\n",
    "        df_return_hour['반납시간_분_그룹'][i] = 40\n",
    "    elif df_return_hour['반납시간_분'][i] >= 30:\n",
    "        df_return_hour['반납시간_분_그룹'][i] = 30\n",
    "    elif df_return_hour['반납시간_분'][i] >= 20:\n",
    "        df_return_hour['반납시간_분_그룹'][i] = 20\n",
    "    elif df_return_hour['반납시간_분'][i] >= 10:\n",
    "        df_return_hour['반납시간_분_그룹'][i] = 10\n",
    "    else:\n",
    "        df_return_hour['반납시간_분_그룹'][i] = 0\n",
    "df_return_hour_group = df_return_hour.groupby('반납시간_분_그룹')[['반납시간_분']].count().reset_index()\n",
    "df_return_hour_group.rename(columns = {'반납시간_분' : 'count'}, inplace = True)\n",
    "df_return_hour_group"
   ]
  },
  {
   "cell_type": "code",
   "execution_count": 95,
   "metadata": {},
   "outputs": [
    {
     "data": {
      "text/plain": [
       "117.0"
      ]
     },
     "execution_count": 95,
     "metadata": {},
     "output_type": "execute_result"
    }
   ],
   "source": [
    "# 10분당 평균도착률(10분당 자전거 반납수의 평균) = lambda\n",
    "# lambda = 10이면 10분동안 평균 10대의 자전거를 반납\n",
    "\n",
    "lda16 = df_return_hour_group['count'].sum() / 6\n",
    "lda16"
   ]
  },
  {
   "cell_type": "markdown",
   "metadata": {},
   "source": [
    "#### 17시"
   ]
  },
  {
   "cell_type": "code",
   "execution_count": 96,
   "metadata": {},
   "outputs": [
    {
     "data": {
      "text/html": [
       "<div>\n",
       "<style scoped>\n",
       "    .dataframe tbody tr th:only-of-type {\n",
       "        vertical-align: middle;\n",
       "    }\n",
       "\n",
       "    .dataframe tbody tr th {\n",
       "        vertical-align: top;\n",
       "    }\n",
       "\n",
       "    .dataframe thead th {\n",
       "        text-align: right;\n",
       "    }\n",
       "</style>\n",
       "<table border=\"1\" class=\"dataframe\">\n",
       "  <thead>\n",
       "    <tr style=\"text-align: right;\">\n",
       "      <th></th>\n",
       "      <th>반납시간_분_그룹</th>\n",
       "      <th>count</th>\n",
       "    </tr>\n",
       "  </thead>\n",
       "  <tbody>\n",
       "    <tr>\n",
       "      <th>0</th>\n",
       "      <td>0</td>\n",
       "      <td>151</td>\n",
       "    </tr>\n",
       "    <tr>\n",
       "      <th>1</th>\n",
       "      <td>10</td>\n",
       "      <td>148</td>\n",
       "    </tr>\n",
       "    <tr>\n",
       "      <th>2</th>\n",
       "      <td>20</td>\n",
       "      <td>177</td>\n",
       "    </tr>\n",
       "    <tr>\n",
       "      <th>3</th>\n",
       "      <td>30</td>\n",
       "      <td>203</td>\n",
       "    </tr>\n",
       "    <tr>\n",
       "      <th>4</th>\n",
       "      <td>40</td>\n",
       "      <td>188</td>\n",
       "    </tr>\n",
       "    <tr>\n",
       "      <th>5</th>\n",
       "      <td>50</td>\n",
       "      <td>209</td>\n",
       "    </tr>\n",
       "  </tbody>\n",
       "</table>\n",
       "</div>"
      ],
      "text/plain": [
       "   반납시간_분_그룹  count\n",
       "0          0    151\n",
       "1         10    148\n",
       "2         20    177\n",
       "3         30    203\n",
       "4         40    188\n",
       "5         50    209"
      ]
     },
     "execution_count": 96,
     "metadata": {},
     "output_type": "execute_result"
    }
   ],
   "source": [
    "df_return_hour = df_return[df_return['반납시간'] == 17]\n",
    "df_return_hour.reset_index(drop = True, inplace = True)\n",
    "df_return_hour['반납시간_분_그룹'] = -1\n",
    "for i in range(len(df_return_hour)):\n",
    "    if df_return_hour['반납시간_분'][i] >= 50:\n",
    "        df_return_hour['반납시간_분_그룹'][i] = 50\n",
    "    elif df_return_hour['반납시간_분'][i] >= 40:\n",
    "        df_return_hour['반납시간_분_그룹'][i] = 40\n",
    "    elif df_return_hour['반납시간_분'][i] >= 30:\n",
    "        df_return_hour['반납시간_분_그룹'][i] = 30\n",
    "    elif df_return_hour['반납시간_분'][i] >= 20:\n",
    "        df_return_hour['반납시간_분_그룹'][i] = 20\n",
    "    elif df_return_hour['반납시간_분'][i] >= 10:\n",
    "        df_return_hour['반납시간_분_그룹'][i] = 10\n",
    "    else:\n",
    "        df_return_hour['반납시간_분_그룹'][i] = 0\n",
    "df_return_hour_group = df_return_hour.groupby('반납시간_분_그룹')[['반납시간_분']].count().reset_index()\n",
    "df_return_hour_group.rename(columns = {'반납시간_분' : 'count'}, inplace = True)\n",
    "df_return_hour_group"
   ]
  },
  {
   "cell_type": "code",
   "execution_count": 97,
   "metadata": {},
   "outputs": [
    {
     "data": {
      "text/plain": [
       "179.33333333333334"
      ]
     },
     "execution_count": 97,
     "metadata": {},
     "output_type": "execute_result"
    }
   ],
   "source": [
    "# 10분당 평균도착률(10분당 자전거 반납수의 평균) = lambda\n",
    "# lambda = 10이면 10분동안 평균 10대의 자전거를 반납\n",
    "\n",
    "lda17 = df_return_hour_group['count'].sum() / 6\n",
    "lda17"
   ]
  },
  {
   "cell_type": "markdown",
   "metadata": {},
   "source": [
    "#### 18시"
   ]
  },
  {
   "cell_type": "code",
   "execution_count": 98,
   "metadata": {},
   "outputs": [
    {
     "data": {
      "text/html": [
       "<div>\n",
       "<style scoped>\n",
       "    .dataframe tbody tr th:only-of-type {\n",
       "        vertical-align: middle;\n",
       "    }\n",
       "\n",
       "    .dataframe tbody tr th {\n",
       "        vertical-align: top;\n",
       "    }\n",
       "\n",
       "    .dataframe thead th {\n",
       "        text-align: right;\n",
       "    }\n",
       "</style>\n",
       "<table border=\"1\" class=\"dataframe\">\n",
       "  <thead>\n",
       "    <tr style=\"text-align: right;\">\n",
       "      <th></th>\n",
       "      <th>반납시간_분_그룹</th>\n",
       "      <th>count</th>\n",
       "    </tr>\n",
       "  </thead>\n",
       "  <tbody>\n",
       "    <tr>\n",
       "      <th>0</th>\n",
       "      <td>0</td>\n",
       "      <td>245</td>\n",
       "    </tr>\n",
       "    <tr>\n",
       "      <th>1</th>\n",
       "      <td>10</td>\n",
       "      <td>282</td>\n",
       "    </tr>\n",
       "    <tr>\n",
       "      <th>2</th>\n",
       "      <td>20</td>\n",
       "      <td>223</td>\n",
       "    </tr>\n",
       "    <tr>\n",
       "      <th>3</th>\n",
       "      <td>30</td>\n",
       "      <td>291</td>\n",
       "    </tr>\n",
       "    <tr>\n",
       "      <th>4</th>\n",
       "      <td>40</td>\n",
       "      <td>314</td>\n",
       "    </tr>\n",
       "    <tr>\n",
       "      <th>5</th>\n",
       "      <td>50</td>\n",
       "      <td>338</td>\n",
       "    </tr>\n",
       "  </tbody>\n",
       "</table>\n",
       "</div>"
      ],
      "text/plain": [
       "   반납시간_분_그룹  count\n",
       "0          0    245\n",
       "1         10    282\n",
       "2         20    223\n",
       "3         30    291\n",
       "4         40    314\n",
       "5         50    338"
      ]
     },
     "execution_count": 98,
     "metadata": {},
     "output_type": "execute_result"
    }
   ],
   "source": [
    "df_return_hour = df_return[df_return['반납시간'] == 18]\n",
    "df_return_hour.reset_index(drop = True, inplace = True)\n",
    "df_return_hour['반납시간_분_그룹'] = -1\n",
    "for i in range(len(df_return_hour)):\n",
    "    if df_return_hour['반납시간_분'][i] >= 50:\n",
    "        df_return_hour['반납시간_분_그룹'][i] = 50\n",
    "    elif df_return_hour['반납시간_분'][i] >= 40:\n",
    "        df_return_hour['반납시간_분_그룹'][i] = 40\n",
    "    elif df_return_hour['반납시간_분'][i] >= 30:\n",
    "        df_return_hour['반납시간_분_그룹'][i] = 30\n",
    "    elif df_return_hour['반납시간_분'][i] >= 20:\n",
    "        df_return_hour['반납시간_분_그룹'][i] = 20\n",
    "    elif df_return_hour['반납시간_분'][i] >= 10:\n",
    "        df_return_hour['반납시간_분_그룹'][i] = 10\n",
    "    else:\n",
    "        df_return_hour['반납시간_분_그룹'][i] = 0\n",
    "df_return_hour_group = df_return_hour.groupby('반납시간_분_그룹')[['반납시간_분']].count().reset_index()\n",
    "df_return_hour_group.rename(columns = {'반납시간_분' : 'count'}, inplace = True)\n",
    "df_return_hour_group"
   ]
  },
  {
   "cell_type": "code",
   "execution_count": 99,
   "metadata": {},
   "outputs": [
    {
     "data": {
      "text/plain": [
       "282.1666666666667"
      ]
     },
     "execution_count": 99,
     "metadata": {},
     "output_type": "execute_result"
    }
   ],
   "source": [
    "# 10분당 평균도착률(10분당 자전거 반납수의 평균) = lambda\n",
    "# lambda = 10이면 10분동안 평균 10대의 자전거를 반납\n",
    "\n",
    "lda18 = df_return_hour_group['count'].sum() / 6\n",
    "lda18"
   ]
  },
  {
   "cell_type": "markdown",
   "metadata": {},
   "source": [
    "#### 19시"
   ]
  },
  {
   "cell_type": "code",
   "execution_count": 100,
   "metadata": {},
   "outputs": [
    {
     "data": {
      "text/html": [
       "<div>\n",
       "<style scoped>\n",
       "    .dataframe tbody tr th:only-of-type {\n",
       "        vertical-align: middle;\n",
       "    }\n",
       "\n",
       "    .dataframe tbody tr th {\n",
       "        vertical-align: top;\n",
       "    }\n",
       "\n",
       "    .dataframe thead th {\n",
       "        text-align: right;\n",
       "    }\n",
       "</style>\n",
       "<table border=\"1\" class=\"dataframe\">\n",
       "  <thead>\n",
       "    <tr style=\"text-align: right;\">\n",
       "      <th></th>\n",
       "      <th>반납시간_분_그룹</th>\n",
       "      <th>count</th>\n",
       "    </tr>\n",
       "  </thead>\n",
       "  <tbody>\n",
       "    <tr>\n",
       "      <th>0</th>\n",
       "      <td>0</td>\n",
       "      <td>298</td>\n",
       "    </tr>\n",
       "    <tr>\n",
       "      <th>1</th>\n",
       "      <td>10</td>\n",
       "      <td>302</td>\n",
       "    </tr>\n",
       "    <tr>\n",
       "      <th>2</th>\n",
       "      <td>20</td>\n",
       "      <td>287</td>\n",
       "    </tr>\n",
       "    <tr>\n",
       "      <th>3</th>\n",
       "      <td>30</td>\n",
       "      <td>288</td>\n",
       "    </tr>\n",
       "    <tr>\n",
       "      <th>4</th>\n",
       "      <td>40</td>\n",
       "      <td>366</td>\n",
       "    </tr>\n",
       "    <tr>\n",
       "      <th>5</th>\n",
       "      <td>50</td>\n",
       "      <td>322</td>\n",
       "    </tr>\n",
       "  </tbody>\n",
       "</table>\n",
       "</div>"
      ],
      "text/plain": [
       "   반납시간_분_그룹  count\n",
       "0          0    298\n",
       "1         10    302\n",
       "2         20    287\n",
       "3         30    288\n",
       "4         40    366\n",
       "5         50    322"
      ]
     },
     "execution_count": 100,
     "metadata": {},
     "output_type": "execute_result"
    }
   ],
   "source": [
    "df_return_hour = df_return[df_return['반납시간'] == 19]\n",
    "df_return_hour.reset_index(drop = True, inplace = True)\n",
    "df_return_hour['반납시간_분_그룹'] = -1\n",
    "for i in range(len(df_return_hour)):\n",
    "    if df_return_hour['반납시간_분'][i] >= 50:\n",
    "        df_return_hour['반납시간_분_그룹'][i] = 50\n",
    "    elif df_return_hour['반납시간_분'][i] >= 40:\n",
    "        df_return_hour['반납시간_분_그룹'][i] = 40\n",
    "    elif df_return_hour['반납시간_분'][i] >= 30:\n",
    "        df_return_hour['반납시간_분_그룹'][i] = 30\n",
    "    elif df_return_hour['반납시간_분'][i] >= 20:\n",
    "        df_return_hour['반납시간_분_그룹'][i] = 20\n",
    "    elif df_return_hour['반납시간_분'][i] >= 10:\n",
    "        df_return_hour['반납시간_분_그룹'][i] = 10\n",
    "    else:\n",
    "        df_return_hour['반납시간_분_그룹'][i] = 0\n",
    "df_return_hour_group = df_return_hour.groupby('반납시간_분_그룹')[['반납시간_분']].count().reset_index()\n",
    "df_return_hour_group.rename(columns = {'반납시간_분' : 'count'}, inplace = True)\n",
    "df_return_hour_group"
   ]
  },
  {
   "cell_type": "code",
   "execution_count": 101,
   "metadata": {},
   "outputs": [
    {
     "data": {
      "text/plain": [
       "310.5"
      ]
     },
     "execution_count": 101,
     "metadata": {},
     "output_type": "execute_result"
    }
   ],
   "source": [
    "# 10분당 평균도착률(10분당 자전거 반납수의 평균) = lambda\n",
    "# lambda = 10이면 10분동안 평균 10대의 자전거를 반납\n",
    "\n",
    "lda19 = df_return_hour_group['count'].sum() / 6\n",
    "lda19"
   ]
  },
  {
   "cell_type": "markdown",
   "metadata": {},
   "source": [
    "#### 20시"
   ]
  },
  {
   "cell_type": "code",
   "execution_count": 102,
   "metadata": {},
   "outputs": [
    {
     "data": {
      "text/html": [
       "<div>\n",
       "<style scoped>\n",
       "    .dataframe tbody tr th:only-of-type {\n",
       "        vertical-align: middle;\n",
       "    }\n",
       "\n",
       "    .dataframe tbody tr th {\n",
       "        vertical-align: top;\n",
       "    }\n",
       "\n",
       "    .dataframe thead th {\n",
       "        text-align: right;\n",
       "    }\n",
       "</style>\n",
       "<table border=\"1\" class=\"dataframe\">\n",
       "  <thead>\n",
       "    <tr style=\"text-align: right;\">\n",
       "      <th></th>\n",
       "      <th>반납시간_분_그룹</th>\n",
       "      <th>count</th>\n",
       "    </tr>\n",
       "  </thead>\n",
       "  <tbody>\n",
       "    <tr>\n",
       "      <th>0</th>\n",
       "      <td>0</td>\n",
       "      <td>367</td>\n",
       "    </tr>\n",
       "    <tr>\n",
       "      <th>1</th>\n",
       "      <td>10</td>\n",
       "      <td>397</td>\n",
       "    </tr>\n",
       "    <tr>\n",
       "      <th>2</th>\n",
       "      <td>20</td>\n",
       "      <td>434</td>\n",
       "    </tr>\n",
       "    <tr>\n",
       "      <th>3</th>\n",
       "      <td>30</td>\n",
       "      <td>381</td>\n",
       "    </tr>\n",
       "    <tr>\n",
       "      <th>4</th>\n",
       "      <td>40</td>\n",
       "      <td>418</td>\n",
       "    </tr>\n",
       "    <tr>\n",
       "      <th>5</th>\n",
       "      <td>50</td>\n",
       "      <td>422</td>\n",
       "    </tr>\n",
       "  </tbody>\n",
       "</table>\n",
       "</div>"
      ],
      "text/plain": [
       "   반납시간_분_그룹  count\n",
       "0          0    367\n",
       "1         10    397\n",
       "2         20    434\n",
       "3         30    381\n",
       "4         40    418\n",
       "5         50    422"
      ]
     },
     "execution_count": 102,
     "metadata": {},
     "output_type": "execute_result"
    }
   ],
   "source": [
    "df_return_hour = df_return[df_return['반납시간'] == 20]\n",
    "df_return_hour.reset_index(drop = True, inplace = True)\n",
    "df_return_hour['반납시간_분_그룹'] = -1\n",
    "for i in range(len(df_return_hour)):\n",
    "    if df_return_hour['반납시간_분'][i] >= 50:\n",
    "        df_return_hour['반납시간_분_그룹'][i] = 50\n",
    "    elif df_return_hour['반납시간_분'][i] >= 40:\n",
    "        df_return_hour['반납시간_분_그룹'][i] = 40\n",
    "    elif df_return_hour['반납시간_분'][i] >= 30:\n",
    "        df_return_hour['반납시간_분_그룹'][i] = 30\n",
    "    elif df_return_hour['반납시간_분'][i] >= 20:\n",
    "        df_return_hour['반납시간_분_그룹'][i] = 20\n",
    "    elif df_return_hour['반납시간_분'][i] >= 10:\n",
    "        df_return_hour['반납시간_분_그룹'][i] = 10\n",
    "    else:\n",
    "        df_return_hour['반납시간_분_그룹'][i] = 0\n",
    "df_return_hour_group = df_return_hour.groupby('반납시간_분_그룹')[['반납시간_분']].count().reset_index()\n",
    "df_return_hour_group.rename(columns = {'반납시간_분' : 'count'}, inplace = True)\n",
    "df_return_hour_group"
   ]
  },
  {
   "cell_type": "code",
   "execution_count": 103,
   "metadata": {},
   "outputs": [
    {
     "data": {
      "text/plain": [
       "403.1666666666667"
      ]
     },
     "execution_count": 103,
     "metadata": {},
     "output_type": "execute_result"
    }
   ],
   "source": [
    "# 10분당 평균도착률(10분당 자전거 반납수의 평균) = lambda\n",
    "# lambda = 10이면 10분동안 평균 10대의 자전거를 반납\n",
    "\n",
    "lda20 = df_return_hour_group['count'].sum() / 6\n",
    "lda20"
   ]
  },
  {
   "cell_type": "markdown",
   "metadata": {},
   "source": [
    "#### 21시"
   ]
  },
  {
   "cell_type": "code",
   "execution_count": 104,
   "metadata": {},
   "outputs": [
    {
     "data": {
      "text/html": [
       "<div>\n",
       "<style scoped>\n",
       "    .dataframe tbody tr th:only-of-type {\n",
       "        vertical-align: middle;\n",
       "    }\n",
       "\n",
       "    .dataframe tbody tr th {\n",
       "        vertical-align: top;\n",
       "    }\n",
       "\n",
       "    .dataframe thead th {\n",
       "        text-align: right;\n",
       "    }\n",
       "</style>\n",
       "<table border=\"1\" class=\"dataframe\">\n",
       "  <thead>\n",
       "    <tr style=\"text-align: right;\">\n",
       "      <th></th>\n",
       "      <th>반납시간_분_그룹</th>\n",
       "      <th>count</th>\n",
       "    </tr>\n",
       "  </thead>\n",
       "  <tbody>\n",
       "    <tr>\n",
       "      <th>0</th>\n",
       "      <td>0</td>\n",
       "      <td>427</td>\n",
       "    </tr>\n",
       "    <tr>\n",
       "      <th>1</th>\n",
       "      <td>10</td>\n",
       "      <td>432</td>\n",
       "    </tr>\n",
       "    <tr>\n",
       "      <th>2</th>\n",
       "      <td>20</td>\n",
       "      <td>355</td>\n",
       "    </tr>\n",
       "    <tr>\n",
       "      <th>3</th>\n",
       "      <td>30</td>\n",
       "      <td>383</td>\n",
       "    </tr>\n",
       "    <tr>\n",
       "      <th>4</th>\n",
       "      <td>40</td>\n",
       "      <td>335</td>\n",
       "    </tr>\n",
       "    <tr>\n",
       "      <th>5</th>\n",
       "      <td>50</td>\n",
       "      <td>363</td>\n",
       "    </tr>\n",
       "  </tbody>\n",
       "</table>\n",
       "</div>"
      ],
      "text/plain": [
       "   반납시간_분_그룹  count\n",
       "0          0    427\n",
       "1         10    432\n",
       "2         20    355\n",
       "3         30    383\n",
       "4         40    335\n",
       "5         50    363"
      ]
     },
     "execution_count": 104,
     "metadata": {},
     "output_type": "execute_result"
    }
   ],
   "source": [
    "df_return_hour = df_return[df_return['반납시간'] == 21]\n",
    "df_return_hour.reset_index(drop = True, inplace = True)\n",
    "df_return_hour['반납시간_분_그룹'] = -1\n",
    "for i in range(len(df_return_hour)):\n",
    "    if df_return_hour['반납시간_분'][i] >= 50:\n",
    "        df_return_hour['반납시간_분_그룹'][i] = 50\n",
    "    elif df_return_hour['반납시간_분'][i] >= 40:\n",
    "        df_return_hour['반납시간_분_그룹'][i] = 40\n",
    "    elif df_return_hour['반납시간_분'][i] >= 30:\n",
    "        df_return_hour['반납시간_분_그룹'][i] = 30\n",
    "    elif df_return_hour['반납시간_분'][i] >= 20:\n",
    "        df_return_hour['반납시간_분_그룹'][i] = 20\n",
    "    elif df_return_hour['반납시간_분'][i] >= 10:\n",
    "        df_return_hour['반납시간_분_그룹'][i] = 10\n",
    "    else:\n",
    "        df_return_hour['반납시간_분_그룹'][i] = 0\n",
    "df_return_hour_group = df_return_hour.groupby('반납시간_분_그룹')[['반납시간_분']].count().reset_index()\n",
    "df_return_hour_group.rename(columns = {'반납시간_분' : 'count'}, inplace = True)\n",
    "df_return_hour_group"
   ]
  },
  {
   "cell_type": "code",
   "execution_count": 105,
   "metadata": {},
   "outputs": [
    {
     "data": {
      "text/plain": [
       "382.5"
      ]
     },
     "execution_count": 105,
     "metadata": {},
     "output_type": "execute_result"
    }
   ],
   "source": [
    "# 10분당 평균도착률(10분당 자전거 반납수의 평균) = lambda\n",
    "# lambda = 10이면 10분동안 평균 10대의 자전거를 반납\n",
    "\n",
    "lda21 = df_return_hour_group['count'].sum() / 6\n",
    "lda21"
   ]
  },
  {
   "cell_type": "markdown",
   "metadata": {},
   "source": [
    "#### 22시"
   ]
  },
  {
   "cell_type": "code",
   "execution_count": 106,
   "metadata": {},
   "outputs": [
    {
     "data": {
      "text/html": [
       "<div>\n",
       "<style scoped>\n",
       "    .dataframe tbody tr th:only-of-type {\n",
       "        vertical-align: middle;\n",
       "    }\n",
       "\n",
       "    .dataframe tbody tr th {\n",
       "        vertical-align: top;\n",
       "    }\n",
       "\n",
       "    .dataframe thead th {\n",
       "        text-align: right;\n",
       "    }\n",
       "</style>\n",
       "<table border=\"1\" class=\"dataframe\">\n",
       "  <thead>\n",
       "    <tr style=\"text-align: right;\">\n",
       "      <th></th>\n",
       "      <th>반납시간_분_그룹</th>\n",
       "      <th>count</th>\n",
       "    </tr>\n",
       "  </thead>\n",
       "  <tbody>\n",
       "    <tr>\n",
       "      <th>0</th>\n",
       "      <td>0</td>\n",
       "      <td>352</td>\n",
       "    </tr>\n",
       "    <tr>\n",
       "      <th>1</th>\n",
       "      <td>10</td>\n",
       "      <td>335</td>\n",
       "    </tr>\n",
       "    <tr>\n",
       "      <th>2</th>\n",
       "      <td>20</td>\n",
       "      <td>363</td>\n",
       "    </tr>\n",
       "    <tr>\n",
       "      <th>3</th>\n",
       "      <td>30</td>\n",
       "      <td>258</td>\n",
       "    </tr>\n",
       "    <tr>\n",
       "      <th>4</th>\n",
       "      <td>40</td>\n",
       "      <td>313</td>\n",
       "    </tr>\n",
       "    <tr>\n",
       "      <th>5</th>\n",
       "      <td>50</td>\n",
       "      <td>280</td>\n",
       "    </tr>\n",
       "  </tbody>\n",
       "</table>\n",
       "</div>"
      ],
      "text/plain": [
       "   반납시간_분_그룹  count\n",
       "0          0    352\n",
       "1         10    335\n",
       "2         20    363\n",
       "3         30    258\n",
       "4         40    313\n",
       "5         50    280"
      ]
     },
     "execution_count": 106,
     "metadata": {},
     "output_type": "execute_result"
    }
   ],
   "source": [
    "df_return_hour = df_return[df_return['반납시간'] == 22]\n",
    "df_return_hour.reset_index(drop = True, inplace = True)\n",
    "df_return_hour['반납시간_분_그룹'] = -1\n",
    "for i in range(len(df_return_hour)):\n",
    "    if df_return_hour['반납시간_분'][i] >= 50:\n",
    "        df_return_hour['반납시간_분_그룹'][i] = 50\n",
    "    elif df_return_hour['반납시간_분'][i] >= 40:\n",
    "        df_return_hour['반납시간_분_그룹'][i] = 40\n",
    "    elif df_return_hour['반납시간_분'][i] >= 30:\n",
    "        df_return_hour['반납시간_분_그룹'][i] = 30\n",
    "    elif df_return_hour['반납시간_분'][i] >= 20:\n",
    "        df_return_hour['반납시간_분_그룹'][i] = 20\n",
    "    elif df_return_hour['반납시간_분'][i] >= 10:\n",
    "        df_return_hour['반납시간_분_그룹'][i] = 10\n",
    "    else:\n",
    "        df_return_hour['반납시간_분_그룹'][i] = 0\n",
    "df_return_hour_group = df_return_hour.groupby('반납시간_분_그룹')[['반납시간_분']].count().reset_index()\n",
    "df_return_hour_group.rename(columns = {'반납시간_분' : 'count'}, inplace = True)\n",
    "df_return_hour_group"
   ]
  },
  {
   "cell_type": "code",
   "execution_count": 107,
   "metadata": {},
   "outputs": [
    {
     "data": {
      "text/plain": [
       "316.8333333333333"
      ]
     },
     "execution_count": 107,
     "metadata": {},
     "output_type": "execute_result"
    }
   ],
   "source": [
    "# 10분당 평균도착률(10분당 자전거 반납수의 평균) = lambda\n",
    "# lambda = 10이면 10분동안 평균 10대의 자전거를 반납\n",
    "\n",
    "lda22 = df_return_hour_group['count'].sum() / 6\n",
    "lda22"
   ]
  },
  {
   "cell_type": "markdown",
   "metadata": {},
   "source": [
    "#### 23시"
   ]
  },
  {
   "cell_type": "code",
   "execution_count": 108,
   "metadata": {},
   "outputs": [
    {
     "data": {
      "text/html": [
       "<div>\n",
       "<style scoped>\n",
       "    .dataframe tbody tr th:only-of-type {\n",
       "        vertical-align: middle;\n",
       "    }\n",
       "\n",
       "    .dataframe tbody tr th {\n",
       "        vertical-align: top;\n",
       "    }\n",
       "\n",
       "    .dataframe thead th {\n",
       "        text-align: right;\n",
       "    }\n",
       "</style>\n",
       "<table border=\"1\" class=\"dataframe\">\n",
       "  <thead>\n",
       "    <tr style=\"text-align: right;\">\n",
       "      <th></th>\n",
       "      <th>반납시간_분_그룹</th>\n",
       "      <th>count</th>\n",
       "    </tr>\n",
       "  </thead>\n",
       "  <tbody>\n",
       "    <tr>\n",
       "      <th>0</th>\n",
       "      <td>0</td>\n",
       "      <td>259</td>\n",
       "    </tr>\n",
       "    <tr>\n",
       "      <th>1</th>\n",
       "      <td>10</td>\n",
       "      <td>243</td>\n",
       "    </tr>\n",
       "    <tr>\n",
       "      <th>2</th>\n",
       "      <td>20</td>\n",
       "      <td>170</td>\n",
       "    </tr>\n",
       "    <tr>\n",
       "      <th>3</th>\n",
       "      <td>30</td>\n",
       "      <td>189</td>\n",
       "    </tr>\n",
       "    <tr>\n",
       "      <th>4</th>\n",
       "      <td>40</td>\n",
       "      <td>123</td>\n",
       "    </tr>\n",
       "    <tr>\n",
       "      <th>5</th>\n",
       "      <td>50</td>\n",
       "      <td>121</td>\n",
       "    </tr>\n",
       "  </tbody>\n",
       "</table>\n",
       "</div>"
      ],
      "text/plain": [
       "   반납시간_분_그룹  count\n",
       "0          0    259\n",
       "1         10    243\n",
       "2         20    170\n",
       "3         30    189\n",
       "4         40    123\n",
       "5         50    121"
      ]
     },
     "execution_count": 108,
     "metadata": {},
     "output_type": "execute_result"
    }
   ],
   "source": [
    "df_return_hour = df_return[df_return['반납시간'] == 23]\n",
    "df_return_hour.reset_index(drop = True, inplace = True)\n",
    "df_return_hour['반납시간_분_그룹'] = -1\n",
    "for i in range(len(df_return_hour)):\n",
    "    if df_return_hour['반납시간_분'][i] >= 50:\n",
    "        df_return_hour['반납시간_분_그룹'][i] = 50\n",
    "    elif df_return_hour['반납시간_분'][i] >= 40:\n",
    "        df_return_hour['반납시간_분_그룹'][i] = 40\n",
    "    elif df_return_hour['반납시간_분'][i] >= 30:\n",
    "        df_return_hour['반납시간_분_그룹'][i] = 30\n",
    "    elif df_return_hour['반납시간_분'][i] >= 20:\n",
    "        df_return_hour['반납시간_분_그룹'][i] = 20\n",
    "    elif df_return_hour['반납시간_분'][i] >= 10:\n",
    "        df_return_hour['반납시간_분_그룹'][i] = 10\n",
    "    else:\n",
    "        df_return_hour['반납시간_분_그룹'][i] = 0\n",
    "df_return_hour_group = df_return_hour.groupby('반납시간_분_그룹')[['반납시간_분']].count().reset_index()\n",
    "df_return_hour_group.rename(columns = {'반납시간_분' : 'count'}, inplace = True)\n",
    "df_return_hour_group"
   ]
  },
  {
   "cell_type": "code",
   "execution_count": 109,
   "metadata": {},
   "outputs": [
    {
     "data": {
      "text/plain": [
       "184.16666666666666"
      ]
     },
     "execution_count": 109,
     "metadata": {},
     "output_type": "execute_result"
    }
   ],
   "source": [
    "# 10분당 평균도착률(10분당 자전거 반납수의 평균) = lambda\n",
    "# lambda = 10이면 10분동안 평균 10대의 자전거를 반납\n",
    "\n",
    "lda23 = df_return_hour_group['count'].sum() / 6\n",
    "lda23"
   ]
  },
  {
   "cell_type": "markdown",
   "metadata": {},
   "source": [
    "- 2020년 6월 한달동안의 뚝섬유원지역 1번출구 앞 대여소의 평균도착률 람다(10분당 평균 반납수)는"
   ]
  },
  {
   "cell_type": "code",
   "execution_count": 110,
   "metadata": {},
   "outputs": [
    {
     "data": {
      "text/html": [
       "<div>\n",
       "<style scoped>\n",
       "    .dataframe tbody tr th:only-of-type {\n",
       "        vertical-align: middle;\n",
       "    }\n",
       "\n",
       "    .dataframe tbody tr th {\n",
       "        vertical-align: top;\n",
       "    }\n",
       "\n",
       "    .dataframe thead th {\n",
       "        text-align: right;\n",
       "    }\n",
       "</style>\n",
       "<table border=\"1\" class=\"dataframe\">\n",
       "  <thead>\n",
       "    <tr style=\"text-align: right;\">\n",
       "      <th></th>\n",
       "      <th>time</th>\n",
       "      <th>mu</th>\n",
       "      <th>lambda</th>\n",
       "    </tr>\n",
       "  </thead>\n",
       "  <tbody>\n",
       "    <tr>\n",
       "      <th>0</th>\n",
       "      <td>0시</td>\n",
       "      <td>107.333333</td>\n",
       "      <td>100.000000</td>\n",
       "    </tr>\n",
       "    <tr>\n",
       "      <th>1</th>\n",
       "      <td>1시</td>\n",
       "      <td>59.833333</td>\n",
       "      <td>61.666667</td>\n",
       "    </tr>\n",
       "    <tr>\n",
       "      <th>2</th>\n",
       "      <td>2시</td>\n",
       "      <td>38.666667</td>\n",
       "      <td>39.333333</td>\n",
       "    </tr>\n",
       "    <tr>\n",
       "      <th>3</th>\n",
       "      <td>3시</td>\n",
       "      <td>19.500000</td>\n",
       "      <td>22.833333</td>\n",
       "    </tr>\n",
       "    <tr>\n",
       "      <th>4</th>\n",
       "      <td>4시</td>\n",
       "      <td>19.666667</td>\n",
       "      <td>17.500000</td>\n",
       "    </tr>\n",
       "    <tr>\n",
       "      <th>5</th>\n",
       "      <td>5시</td>\n",
       "      <td>10.166667</td>\n",
       "      <td>16.000000</td>\n",
       "    </tr>\n",
       "    <tr>\n",
       "      <th>6</th>\n",
       "      <td>6시</td>\n",
       "      <td>18.333333</td>\n",
       "      <td>20.000000</td>\n",
       "    </tr>\n",
       "    <tr>\n",
       "      <th>7</th>\n",
       "      <td>7시</td>\n",
       "      <td>29.500000</td>\n",
       "      <td>51.333333</td>\n",
       "    </tr>\n",
       "    <tr>\n",
       "      <th>8</th>\n",
       "      <td>8시</td>\n",
       "      <td>76.500000</td>\n",
       "      <td>68.000000</td>\n",
       "    </tr>\n",
       "    <tr>\n",
       "      <th>9</th>\n",
       "      <td>9시</td>\n",
       "      <td>30.166667</td>\n",
       "      <td>36.833333</td>\n",
       "    </tr>\n",
       "    <tr>\n",
       "      <th>10</th>\n",
       "      <td>10시</td>\n",
       "      <td>40.166667</td>\n",
       "      <td>44.166667</td>\n",
       "    </tr>\n",
       "    <tr>\n",
       "      <th>11</th>\n",
       "      <td>11시</td>\n",
       "      <td>40.666667</td>\n",
       "      <td>44.833333</td>\n",
       "    </tr>\n",
       "    <tr>\n",
       "      <th>12</th>\n",
       "      <td>12시</td>\n",
       "      <td>41.666667</td>\n",
       "      <td>46.166667</td>\n",
       "    </tr>\n",
       "    <tr>\n",
       "      <th>13</th>\n",
       "      <td>13시</td>\n",
       "      <td>45.666667</td>\n",
       "      <td>39.666667</td>\n",
       "    </tr>\n",
       "    <tr>\n",
       "      <th>14</th>\n",
       "      <td>14시</td>\n",
       "      <td>56.166667</td>\n",
       "      <td>59.666667</td>\n",
       "    </tr>\n",
       "    <tr>\n",
       "      <th>15</th>\n",
       "      <td>15시</td>\n",
       "      <td>87.000000</td>\n",
       "      <td>90.166667</td>\n",
       "    </tr>\n",
       "    <tr>\n",
       "      <th>16</th>\n",
       "      <td>16시</td>\n",
       "      <td>112.500000</td>\n",
       "      <td>117.000000</td>\n",
       "    </tr>\n",
       "    <tr>\n",
       "      <th>17</th>\n",
       "      <td>17시</td>\n",
       "      <td>162.000000</td>\n",
       "      <td>179.333333</td>\n",
       "    </tr>\n",
       "    <tr>\n",
       "      <th>18</th>\n",
       "      <td>18시</td>\n",
       "      <td>237.000000</td>\n",
       "      <td>282.166667</td>\n",
       "    </tr>\n",
       "    <tr>\n",
       "      <th>19</th>\n",
       "      <td>19시</td>\n",
       "      <td>292.833333</td>\n",
       "      <td>310.500000</td>\n",
       "    </tr>\n",
       "    <tr>\n",
       "      <th>20</th>\n",
       "      <td>20시</td>\n",
       "      <td>326.166667</td>\n",
       "      <td>403.166667</td>\n",
       "    </tr>\n",
       "    <tr>\n",
       "      <th>21</th>\n",
       "      <td>21시</td>\n",
       "      <td>373.833333</td>\n",
       "      <td>382.500000</td>\n",
       "    </tr>\n",
       "    <tr>\n",
       "      <th>22</th>\n",
       "      <td>22시</td>\n",
       "      <td>302.666667</td>\n",
       "      <td>316.833333</td>\n",
       "    </tr>\n",
       "    <tr>\n",
       "      <th>23</th>\n",
       "      <td>23시</td>\n",
       "      <td>197.833333</td>\n",
       "      <td>184.166667</td>\n",
       "    </tr>\n",
       "  </tbody>\n",
       "</table>\n",
       "</div>"
      ],
      "text/plain": [
       "   time          mu      lambda\n",
       "0    0시  107.333333  100.000000\n",
       "1    1시   59.833333   61.666667\n",
       "2    2시   38.666667   39.333333\n",
       "3    3시   19.500000   22.833333\n",
       "4    4시   19.666667   17.500000\n",
       "5    5시   10.166667   16.000000\n",
       "6    6시   18.333333   20.000000\n",
       "7    7시   29.500000   51.333333\n",
       "8    8시   76.500000   68.000000\n",
       "9    9시   30.166667   36.833333\n",
       "10  10시   40.166667   44.166667\n",
       "11  11시   40.666667   44.833333\n",
       "12  12시   41.666667   46.166667\n",
       "13  13시   45.666667   39.666667\n",
       "14  14시   56.166667   59.666667\n",
       "15  15시   87.000000   90.166667\n",
       "16  16시  112.500000  117.000000\n",
       "17  17시  162.000000  179.333333\n",
       "18  18시  237.000000  282.166667\n",
       "19  19시  292.833333  310.500000\n",
       "20  20시  326.166667  403.166667\n",
       "21  21시  373.833333  382.500000\n",
       "22  22시  302.666667  316.833333\n",
       "23  23시  197.833333  184.166667"
      ]
     },
     "execution_count": 110,
     "metadata": {},
     "output_type": "execute_result"
    }
   ],
   "source": [
    "b = [lda0, lda1, lda2, lda3, lda4, lda5, lda6, lda7, lda8, lda9, lda10, lda11, lda12, lda13, lda14, lda15, lda16, lda17, lda18, lda19, lda20, lda21, lda22, lda23]\n",
    "\n",
    "result['lambda'] = b\n",
    "result"
   ]
  },
  {
   "cell_type": "markdown",
   "metadata": {},
   "source": [
    "### 가용도(고객이 station에 도착했을 때 자전거가 station에 있을 확률)\n",
    "$1 - (1 - \\frac{\\lambda}{\\mu})(\\frac{\\lambda}{\\mu})^0$ = $\\frac{\\lambda}{\\mu}$"
   ]
  },
  {
   "cell_type": "code",
   "execution_count": 111,
   "metadata": {},
   "outputs": [
    {
     "data": {
      "text/html": [
       "<div>\n",
       "<style scoped>\n",
       "    .dataframe tbody tr th:only-of-type {\n",
       "        vertical-align: middle;\n",
       "    }\n",
       "\n",
       "    .dataframe tbody tr th {\n",
       "        vertical-align: top;\n",
       "    }\n",
       "\n",
       "    .dataframe thead th {\n",
       "        text-align: right;\n",
       "    }\n",
       "</style>\n",
       "<table border=\"1\" class=\"dataframe\">\n",
       "  <thead>\n",
       "    <tr style=\"text-align: right;\">\n",
       "      <th></th>\n",
       "      <th>time</th>\n",
       "      <th>lambda</th>\n",
       "      <th>mu</th>\n",
       "      <th>가용도</th>\n",
       "    </tr>\n",
       "  </thead>\n",
       "  <tbody>\n",
       "    <tr>\n",
       "      <th>0</th>\n",
       "      <td>0시</td>\n",
       "      <td>100.000000</td>\n",
       "      <td>107.333333</td>\n",
       "      <td>0.931677</td>\n",
       "    </tr>\n",
       "    <tr>\n",
       "      <th>1</th>\n",
       "      <td>1시</td>\n",
       "      <td>61.666667</td>\n",
       "      <td>59.833333</td>\n",
       "      <td>1.030641</td>\n",
       "    </tr>\n",
       "    <tr>\n",
       "      <th>2</th>\n",
       "      <td>2시</td>\n",
       "      <td>39.333333</td>\n",
       "      <td>38.666667</td>\n",
       "      <td>1.017241</td>\n",
       "    </tr>\n",
       "    <tr>\n",
       "      <th>3</th>\n",
       "      <td>3시</td>\n",
       "      <td>22.833333</td>\n",
       "      <td>19.500000</td>\n",
       "      <td>1.170940</td>\n",
       "    </tr>\n",
       "    <tr>\n",
       "      <th>4</th>\n",
       "      <td>4시</td>\n",
       "      <td>17.500000</td>\n",
       "      <td>19.666667</td>\n",
       "      <td>0.889831</td>\n",
       "    </tr>\n",
       "    <tr>\n",
       "      <th>5</th>\n",
       "      <td>5시</td>\n",
       "      <td>16.000000</td>\n",
       "      <td>10.166667</td>\n",
       "      <td>1.573770</td>\n",
       "    </tr>\n",
       "    <tr>\n",
       "      <th>6</th>\n",
       "      <td>6시</td>\n",
       "      <td>20.000000</td>\n",
       "      <td>18.333333</td>\n",
       "      <td>1.090909</td>\n",
       "    </tr>\n",
       "    <tr>\n",
       "      <th>7</th>\n",
       "      <td>7시</td>\n",
       "      <td>51.333333</td>\n",
       "      <td>29.500000</td>\n",
       "      <td>1.740113</td>\n",
       "    </tr>\n",
       "    <tr>\n",
       "      <th>8</th>\n",
       "      <td>8시</td>\n",
       "      <td>68.000000</td>\n",
       "      <td>76.500000</td>\n",
       "      <td>0.888889</td>\n",
       "    </tr>\n",
       "    <tr>\n",
       "      <th>9</th>\n",
       "      <td>9시</td>\n",
       "      <td>36.833333</td>\n",
       "      <td>30.166667</td>\n",
       "      <td>1.220994</td>\n",
       "    </tr>\n",
       "    <tr>\n",
       "      <th>10</th>\n",
       "      <td>10시</td>\n",
       "      <td>44.166667</td>\n",
       "      <td>40.166667</td>\n",
       "      <td>1.099585</td>\n",
       "    </tr>\n",
       "    <tr>\n",
       "      <th>11</th>\n",
       "      <td>11시</td>\n",
       "      <td>44.833333</td>\n",
       "      <td>40.666667</td>\n",
       "      <td>1.102459</td>\n",
       "    </tr>\n",
       "    <tr>\n",
       "      <th>12</th>\n",
       "      <td>12시</td>\n",
       "      <td>46.166667</td>\n",
       "      <td>41.666667</td>\n",
       "      <td>1.108000</td>\n",
       "    </tr>\n",
       "    <tr>\n",
       "      <th>13</th>\n",
       "      <td>13시</td>\n",
       "      <td>39.666667</td>\n",
       "      <td>45.666667</td>\n",
       "      <td>0.868613</td>\n",
       "    </tr>\n",
       "    <tr>\n",
       "      <th>14</th>\n",
       "      <td>14시</td>\n",
       "      <td>59.666667</td>\n",
       "      <td>56.166667</td>\n",
       "      <td>1.062315</td>\n",
       "    </tr>\n",
       "    <tr>\n",
       "      <th>15</th>\n",
       "      <td>15시</td>\n",
       "      <td>90.166667</td>\n",
       "      <td>87.000000</td>\n",
       "      <td>1.036398</td>\n",
       "    </tr>\n",
       "    <tr>\n",
       "      <th>16</th>\n",
       "      <td>16시</td>\n",
       "      <td>117.000000</td>\n",
       "      <td>112.500000</td>\n",
       "      <td>1.040000</td>\n",
       "    </tr>\n",
       "    <tr>\n",
       "      <th>17</th>\n",
       "      <td>17시</td>\n",
       "      <td>179.333333</td>\n",
       "      <td>162.000000</td>\n",
       "      <td>1.106996</td>\n",
       "    </tr>\n",
       "    <tr>\n",
       "      <th>18</th>\n",
       "      <td>18시</td>\n",
       "      <td>282.166667</td>\n",
       "      <td>237.000000</td>\n",
       "      <td>1.190577</td>\n",
       "    </tr>\n",
       "    <tr>\n",
       "      <th>19</th>\n",
       "      <td>19시</td>\n",
       "      <td>310.500000</td>\n",
       "      <td>292.833333</td>\n",
       "      <td>1.060330</td>\n",
       "    </tr>\n",
       "    <tr>\n",
       "      <th>20</th>\n",
       "      <td>20시</td>\n",
       "      <td>403.166667</td>\n",
       "      <td>326.166667</td>\n",
       "      <td>1.236076</td>\n",
       "    </tr>\n",
       "    <tr>\n",
       "      <th>21</th>\n",
       "      <td>21시</td>\n",
       "      <td>382.500000</td>\n",
       "      <td>373.833333</td>\n",
       "      <td>1.023183</td>\n",
       "    </tr>\n",
       "    <tr>\n",
       "      <th>22</th>\n",
       "      <td>22시</td>\n",
       "      <td>316.833333</td>\n",
       "      <td>302.666667</td>\n",
       "      <td>1.046806</td>\n",
       "    </tr>\n",
       "    <tr>\n",
       "      <th>23</th>\n",
       "      <td>23시</td>\n",
       "      <td>184.166667</td>\n",
       "      <td>197.833333</td>\n",
       "      <td>0.930918</td>\n",
       "    </tr>\n",
       "  </tbody>\n",
       "</table>\n",
       "</div>"
      ],
      "text/plain": [
       "   time      lambda          mu       가용도\n",
       "0    0시  100.000000  107.333333  0.931677\n",
       "1    1시   61.666667   59.833333  1.030641\n",
       "2    2시   39.333333   38.666667  1.017241\n",
       "3    3시   22.833333   19.500000  1.170940\n",
       "4    4시   17.500000   19.666667  0.889831\n",
       "5    5시   16.000000   10.166667  1.573770\n",
       "6    6시   20.000000   18.333333  1.090909\n",
       "7    7시   51.333333   29.500000  1.740113\n",
       "8    8시   68.000000   76.500000  0.888889\n",
       "9    9시   36.833333   30.166667  1.220994\n",
       "10  10시   44.166667   40.166667  1.099585\n",
       "11  11시   44.833333   40.666667  1.102459\n",
       "12  12시   46.166667   41.666667  1.108000\n",
       "13  13시   39.666667   45.666667  0.868613\n",
       "14  14시   59.666667   56.166667  1.062315\n",
       "15  15시   90.166667   87.000000  1.036398\n",
       "16  16시  117.000000  112.500000  1.040000\n",
       "17  17시  179.333333  162.000000  1.106996\n",
       "18  18시  282.166667  237.000000  1.190577\n",
       "19  19시  310.500000  292.833333  1.060330\n",
       "20  20시  403.166667  326.166667  1.236076\n",
       "21  21시  382.500000  373.833333  1.023183\n",
       "22  22시  316.833333  302.666667  1.046806\n",
       "23  23시  184.166667  197.833333  0.930918"
      ]
     },
     "execution_count": 111,
     "metadata": {},
     "output_type": "execute_result"
    }
   ],
   "source": [
    "result['가용도'] = result['lambda'] / result['mu']\n",
    "result = result[['time', 'lambda', 'mu', '가용도']]\n",
    "result"
   ]
  },
  {
   "cell_type": "code",
   "execution_count": 112,
   "metadata": {},
   "outputs": [],
   "source": [
    "plt.style.use('bmh')"
   ]
  },
  {
   "cell_type": "code",
   "execution_count": 113,
   "metadata": {},
   "outputs": [
    {
     "data": {
      "image/png": "[encoded data removed]",
      "text/plain": [
       "<Figure size 1728x720 with 1 Axes>"
      ]
     },
     "metadata": {
      "needs_background": "light"
     },
     "output_type": "display_data"
    }
   ],
   "source": [
    "result.plot(kind = 'bar', x = 'time', y = 'lambda', figsize = (24, 10), \n",
    "            title = '2020년 6월 뚝섬유원지역 1번출구 앞 대여소 평균도착률(단위시간: 10분)')\n",
    "plt.show()"
   ]
  },
  {
   "cell_type": "code",
   "execution_count": 114,
   "metadata": {},
   "outputs": [
    {
     "data": {
      "image/png": "[encoded data removed]",
      "text/plain": [
       "<Figure size 1728x720 with 1 Axes>"
      ]
     },
     "metadata": {
      "needs_background": "light"
     },
     "output_type": "display_data"
    }
   ],
   "source": [
    "result.plot(kind = 'bar', x = 'time', y = 'mu', figsize = (24, 10), \n",
    "            title = '2020년 6월 뚝섬유원지역 1번출구 앞 대여소 평균서비스율(단위시간: 10분)')\n",
    "plt.show()"
   ]
  },
  {
   "cell_type": "code",
   "execution_count": 115,
   "metadata": {},
   "outputs": [
    {
     "data": {
      "image/png": "[encoded data removed]",
      "text/plain": [
       "<Figure size 1728x720 with 1 Axes>"
      ]
     },
     "metadata": {
      "needs_background": "light"
     },
     "output_type": "display_data"
    }
   ],
   "source": [
    "result.plot(kind = 'bar', x = 'time', y = '가용도', figsize = (24, 10), \n",
    "            title = '2020년 6월 뚝섬유원지역 1번출구 앞 대여소 가용도')\n",
    "plt.show()"
   ]
  },
  {
   "cell_type": "markdown",
   "metadata": {},
   "source": [
    "- 가용도가 1이하인 시간대는 반납보다 대여가 많아서 자전거 빌리기 어려움\n",
    "- 0시, 4시, 8시, 13시, 23시에 가용도가 1이하\n",
    "- 21년 6월 동일 대여소와 비교해 봤을 땐 비슷한 것 같음\n",
    "- 21년 6월 동일 대여소와 마찬가지로 롯데월드타워 대영소보다 가용도가 일정한 편이고 대부분 1보다 큼"
   ]
  }
 ],
 "metadata": {
  "kernelspec": {
   "display_name": "Python 3",
   "language": "python",
   "name": "python3"
  },
  "language_info": {
   "codemirror_mode": {
    "name": "ipython",
    "version": 3
   },
   "file_extension": ".py",
   "mimetype": "text/x-python",
   "name": "python",
   "nbconvert_exporter": "python",
   "pygments_lexer": "ipython3",
   "version": "3.7.6"
  }
 },
 "nbformat": 4,
 "nbformat_minor": 4
}
