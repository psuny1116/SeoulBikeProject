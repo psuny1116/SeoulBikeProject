{
 "cells": [
  {
   "cell_type": "markdown",
   "metadata": {},
   "source": [
    "# DTW(Dynamic Time Warping)\n",
    "* 시계열 데이터(Time Series) 간의 거리를 구하기 위한 분석 방법\n",
    "* 유클리디안 거리(Euclidean Distance)와 차이점\n",
    "    - 두 time series의 길이가 서로 달라서 유클리디안 거리를 구하려고 짝을 맞출 때 짝이 맞지 않는 경우 DTW 사용\n",
    "    - 어떤 이유로 shift가 발생했을 때, 두 time series의 모양이 얼추 비슷하다고 판단할 경우 DTW 사용\n",
    "        - 이때 유클리디안 거리를 계싼하면 두 time series의 모양이 거의 유사함에도 불구하고 거리가 큰 값이 나옴. 적절히 인덱스가 매칭이 되지 않기 때문\n",
    "* DTW는 적절한 index를 매칭 시켜서 거리를 계산함(유클리디안 거리가 최소가 되는 포인트를 매칭 시켜 줌)"
   ]
  },
  {
   "cell_type": "markdown",
   "metadata": {},
   "source": [
    "* 시계열 군집분석이란 두 시계열 간의 거리를 최소화 시키는 방법으로 시계열적 유사성에 따라 군집화를 하는 방법\n",
    "* 거리 함수에 따라 두 시계열 간의 거리를 계산하는 방법이 다르며 동적타임워핑(Dynamic Time Warping)거리함수는 모형에 제약을 받지 않음\n",
    "* 동적타임워핑 알고리즘은 두 시계열 간의 거리를 계산하여 유사도를 측정하는 알고리즘\n",
    "* 두 시계열 간의 누적거리를 계산하여 최소한의 누적 거리를 이루는 집단끼리 군집화를 시키는 방법\n",
    "* 유클리디안 거리함수는 동일한 시간대의 데이터를 비교하여 유사도를 측정하는 반면\n",
    "* 동적타임워핑 거리함수는 각 시간대의 데이터를 동적으로 비교하여 그래프의 유사도를 측정하기 때문에 왜곡된 파형에 대해서도 매칭할 수 있다는 장점을 갖고 있다\n",
    "* 동적타임워핑 알고리즘을 사용하면 시간대별 대여건수 패턴이 유사한 대여소별로 군집화를 실시할 수 있음"
   ]
  },
  {
   "cell_type": "code",
   "execution_count": null,
   "metadata": {},
   "outputs": [],
   "source": []
  }
 ],
 "metadata": {
  "kernelspec": {
   "display_name": "Python 3",
   "language": "python",
   "name": "python3"
  },
  "language_info": {
   "codemirror_mode": {
    "name": "ipython",
    "version": 3
   },
   "file_extension": ".py",
   "mimetype": "text/x-python",
   "name": "python",
   "nbconvert_exporter": "python",
   "pygments_lexer": "ipython3",
   "version": "3.7.6"
  }
 },
 "nbformat": 4,
 "nbformat_minor": 4
}
