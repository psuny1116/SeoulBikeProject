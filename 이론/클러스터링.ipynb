{
 "cells": [
  {
   "cell_type": "markdown",
   "metadata": {},
   "source": [
    "# 지도학습(supervised learning)\n",
    "\n",
    "* y = f(x)에 대해 입력변수(x)와 출력변수(y)의 관계에 대해 모델링하는 것(y에 대해 예측 또는 분류하는 문제)\n",
    "* 회귀(regression): 입력변수 x에 대해서 연속형 출력변수 y를 예측\n",
    "* 분류(classification): 입력변수 x에 대해서 이산형 출력변수 y를 예측"
   ]
  },
  {
   "cell_type": "markdown",
   "metadata": {},
   "source": [
    "# 비지도학습(unsupervised learning)\n",
    "* 출력변수 y가 존재하지 않고, 입력변수 x 간의 관계에 대해 모델링 하는 것\n",
    "* 군집분석: 유사한 데이터끼리 그룹화\n",
    "* PCA: 독립변수들의 차원을 축소화"
   ]
  },
  {
   "cell_type": "markdown",
   "metadata": {},
   "source": [
    "# 군집분석(clustering)이란\n",
    "\n",
    "* 각 데이터의 유사성을 측정하여 높은 대상 집단을 분류하고, 군집 간에 상이성을 규명하는 방법\n",
    "* 고객 segmentation(세분화)을 통한 마케팅 활용 방안/ 군집별 추가 분석 수행\n",
    "* k-means clustering: 데이터를 사용자가 지정한 k개의 군집으로 나눔\n",
    "* hierarchical clustering(계층적 군집분석): 나무 모양의 계층 구조를 형성해 나가는 방법\n",
    "* DBSCAN: k개를 설정할 필요 없이 군집화 할 수 있는 방법"
   ]
  }
 ],
 "metadata": {
  "kernelspec": {
   "display_name": "Python 3",
   "language": "python",
   "name": "python3"
  },
  "language_info": {
   "codemirror_mode": {
    "name": "ipython",
    "version": 3
   },
   "file_extension": ".py",
   "mimetype": "text/x-python",
   "name": "python",
   "nbconvert_exporter": "python",
   "pygments_lexer": "ipython3",
   "version": "3.7.6"
  }
 },
 "nbformat": 4,
 "nbformat_minor": 4
}
