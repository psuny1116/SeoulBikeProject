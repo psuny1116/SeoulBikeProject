{
 "cells": [
  {
   "cell_type": "code",
   "execution_count": 5,
   "metadata": {},
   "outputs": [],
   "source": [
    "import pandas as pd\n",
    "import numpy as np\n",
    "\n",
    "import matplotlib as mpl\n",
    "import matplotlib.pyplot as plt\n",
    "import seaborn as sns\n",
    "\n",
    "import warnings\n",
    "warnings.filterwarnings('ignore')\n",
    "\n",
    "pd.set_option('display.max_columns', None)\n",
    "\n",
    "mpl.rcParams['axes.unicode_minus'] = False\n",
    "plt.rcParams['font.family'] = 'Malgun Gothic'\n",
    "\n",
    "\n",
    "pd.set_option('display.max_rows', 500)\n",
    "pd.set_option('display.max_columns', 500)"
   ]
  },
  {
   "cell_type": "code",
   "execution_count": 6,
   "metadata": {},
   "outputs": [],
   "source": [
    "df1 = pd.read_excel('./data/1월 대여소별 Ls, Lq, Ws, Wq.xlsx')\n",
    "df2 = pd.read_excel('./data/2월 대여소별 Ls, Lq, Ws, Wq.xlsx')\n",
    "df3 = pd.read_excel('./data/3월 대여소별 Ls, Lq, Ws, Wq.xlsx')\n",
    "df4 = pd.read_excel('./data/4월 대여소별 Ls, Lq, Ws, Wq.xlsx')\n",
    "df5 = pd.read_excel('./data/5월 대여소별 Ls, Lq, Ws, Wq.xlsx')\n",
    "df6 = pd.read_excel('./data/6월 대여소별 Ls, Lq, Ws, Wq.xlsx')\n",
    "df7 = pd.read_excel('./data/7월 대여소별 Ls, Lq, Ws, Wq.xlsx')\n",
    "df8 = pd.read_excel('./data/8월 대여소별 Ls, Lq, Ws, Wq.xlsx')\n",
    "df9 = pd.read_excel('./data/9월 대여소별 Ls, Lq, Ws, Wq.xlsx')\n",
    "df10 = pd.read_excel('./data/10월 대여소별 Ls, Lq, Ws, Wq.xlsx')\n",
    "df11 = pd.read_excel('./data/11월 대여소별 Ls, Lq, Ws, Wq.xlsx')\n",
    "df12 = pd.read_excel('./data/12월 대여소별 Ls, Lq, Ws, Wq.xlsx')"
   ]
  },
  {
   "cell_type": "code",
   "execution_count": 9,
   "metadata": {},
   "outputs": [
    {
     "data": {
      "text/html": [
       "<div>\n",
       "<style scoped>\n",
       "    .dataframe tbody tr th:only-of-type {\n",
       "        vertical-align: middle;\n",
       "    }\n",
       "\n",
       "    .dataframe tbody tr th {\n",
       "        vertical-align: top;\n",
       "    }\n",
       "\n",
       "    .dataframe thead th {\n",
       "        text-align: right;\n",
       "    }\n",
       "</style>\n",
       "<table border=\"1\" class=\"dataframe\">\n",
       "  <thead>\n",
       "    <tr style=\"text-align: right;\">\n",
       "      <th></th>\n",
       "      <th>자치구</th>\n",
       "      <th>대여소명</th>\n",
       "      <th>month</th>\n",
       "      <th>시간</th>\n",
       "      <th>lambda_15</th>\n",
       "      <th>mu_15</th>\n",
       "      <th>rho</th>\n",
       "      <th>p_c</th>\n",
       "      <th>L_s</th>\n",
       "      <th>L_q</th>\n",
       "      <th>W_s</th>\n",
       "      <th>W_q</th>\n",
       "    </tr>\n",
       "  </thead>\n",
       "  <tbody>\n",
       "    <tr>\n",
       "      <th>0</th>\n",
       "      <td>중랑구</td>\n",
       "      <td>(구)신한은행 중랑교지점</td>\n",
       "      <td>1월</td>\n",
       "      <td>0</td>\n",
       "      <td>0.153226</td>\n",
       "      <td>0.137097</td>\n",
       "      <td>1.117647</td>\n",
       "      <td>0.371017</td>\n",
       "      <td>1.073998</td>\n",
       "      <td>0.371017</td>\n",
       "      <td>11.143791</td>\n",
       "      <td>3.849673</td>\n",
       "    </tr>\n",
       "    <tr>\n",
       "      <th>1</th>\n",
       "      <td>중랑구</td>\n",
       "      <td>(구)신한은행 중랑교지점</td>\n",
       "      <td>1월</td>\n",
       "      <td>1</td>\n",
       "      <td>0.056452</td>\n",
       "      <td>0.072581</td>\n",
       "      <td>0.777778</td>\n",
       "      <td>0.253886</td>\n",
       "      <td>0.834197</td>\n",
       "      <td>0.253886</td>\n",
       "      <td>19.805556</td>\n",
       "      <td>6.027778</td>\n",
       "    </tr>\n",
       "    <tr>\n",
       "      <th>2</th>\n",
       "      <td>중랑구</td>\n",
       "      <td>(구)신한은행 중랑교지점</td>\n",
       "      <td>1월</td>\n",
       "      <td>2</td>\n",
       "      <td>0.048387</td>\n",
       "      <td>0.056452</td>\n",
       "      <td>0.857143</td>\n",
       "      <td>0.283465</td>\n",
       "      <td>0.897638</td>\n",
       "      <td>0.283465</td>\n",
       "      <td>25.890110</td>\n",
       "      <td>8.175824</td>\n",
       "    </tr>\n",
       "    <tr>\n",
       "      <th>3</th>\n",
       "      <td>중랑구</td>\n",
       "      <td>(구)신한은행 중랑교지점</td>\n",
       "      <td>1월</td>\n",
       "      <td>3</td>\n",
       "      <td>0.048387</td>\n",
       "      <td>0.048387</td>\n",
       "      <td>1.000000</td>\n",
       "      <td>0.333333</td>\n",
       "      <td>1.000000</td>\n",
       "      <td>0.333333</td>\n",
       "      <td>31.000000</td>\n",
       "      <td>10.333333</td>\n",
       "    </tr>\n",
       "    <tr>\n",
       "      <th>4</th>\n",
       "      <td>중랑구</td>\n",
       "      <td>(구)신한은행 중랑교지점</td>\n",
       "      <td>1월</td>\n",
       "      <td>4</td>\n",
       "      <td>0.032258</td>\n",
       "      <td>0.048387</td>\n",
       "      <td>0.666667</td>\n",
       "      <td>0.210526</td>\n",
       "      <td>0.736842</td>\n",
       "      <td>0.210526</td>\n",
       "      <td>28.933333</td>\n",
       "      <td>8.266667</td>\n",
       "    </tr>\n",
       "  </tbody>\n",
       "</table>\n",
       "</div>"
      ],
      "text/plain": [
       "   자치구           대여소명 month  시간  lambda_15     mu_15       rho       p_c  \\\n",
       "0  중랑구  (구)신한은행 중랑교지점    1월   0   0.153226  0.137097  1.117647  0.371017   \n",
       "1  중랑구  (구)신한은행 중랑교지점    1월   1   0.056452  0.072581  0.777778  0.253886   \n",
       "2  중랑구  (구)신한은행 중랑교지점    1월   2   0.048387  0.056452  0.857143  0.283465   \n",
       "3  중랑구  (구)신한은행 중랑교지점    1월   3   0.048387  0.048387  1.000000  0.333333   \n",
       "4  중랑구  (구)신한은행 중랑교지점    1월   4   0.032258  0.048387  0.666667  0.210526   \n",
       "\n",
       "        L_s       L_q        W_s        W_q  \n",
       "0  1.073998  0.371017  11.143791   3.849673  \n",
       "1  0.834197  0.253886  19.805556   6.027778  \n",
       "2  0.897638  0.283465  25.890110   8.175824  \n",
       "3  1.000000  0.333333  31.000000  10.333333  \n",
       "4  0.736842  0.210526  28.933333   8.266667  "
      ]
     },
     "execution_count": 9,
     "metadata": {},
     "output_type": "execute_result"
    }
   ],
   "source": [
    "df = pd.merge(df1, df2, on = ['자치구', '대여소명', 'month', '시간', 'lambda_15', 'mu_15', 'rho', 'p_c', 'L_s', 'L_q', 'W_s', 'W_q'], how = 'outer')\n",
    "df = pd.merge(df, df3, on = ['자치구', '대여소명', 'month', '시간', 'lambda_15', 'mu_15', 'rho', 'p_c', 'L_s', 'L_q', 'W_s', 'W_q'], how = 'outer')\n",
    "df = pd.merge(df, df4, on = ['자치구', '대여소명', 'month', '시간', 'lambda_15', 'mu_15', 'rho', 'p_c', 'L_s', 'L_q', 'W_s', 'W_q'], how = 'outer')\n",
    "df = pd.merge(df, df5, on = ['자치구', '대여소명', 'month', '시간', 'lambda_15', 'mu_15', 'rho', 'p_c', 'L_s', 'L_q', 'W_s', 'W_q'], how = 'outer')\n",
    "df = pd.merge(df, df6, on = ['자치구', '대여소명', 'month', '시간', 'lambda_15', 'mu_15', 'rho', 'p_c', 'L_s', 'L_q', 'W_s', 'W_q'], how = 'outer')\n",
    "df = pd.merge(df, df7, on = ['자치구', '대여소명', 'month', '시간', 'lambda_15', 'mu_15', 'rho', 'p_c', 'L_s', 'L_q', 'W_s', 'W_q'], how = 'outer')\n",
    "df = pd.merge(df, df8, on = ['자치구', '대여소명', 'month', '시간', 'lambda_15', 'mu_15', 'rho', 'p_c', 'L_s', 'L_q', 'W_s', 'W_q'], how = 'outer')\n",
    "df = pd.merge(df, df9, on = ['자치구', '대여소명', 'month', '시간', 'lambda_15', 'mu_15', 'rho', 'p_c', 'L_s', 'L_q', 'W_s', 'W_q'], how = 'outer')\n",
    "df = pd.merge(df, df10, on = ['자치구', '대여소명', 'month', '시간', 'lambda_15', 'mu_15', 'rho', 'p_c', 'L_s', 'L_q', 'W_s', 'W_q'], how = 'outer')\n",
    "df = pd.merge(df, df11, on = ['자치구', '대여소명', 'month', '시간', 'lambda_15', 'mu_15', 'rho', 'p_c', 'L_s', 'L_q', 'W_s', 'W_q'], how = 'outer')\n",
    "df = pd.merge(df, df12, on = ['자치구', '대여소명', 'month', '시간', 'lambda_15', 'mu_15', 'rho', 'p_c', 'L_s', 'L_q', 'W_s', 'W_q'], how = 'outer')\n",
    "df.head()"
   ]
  },
  {
   "cell_type": "code",
   "execution_count": 3,
   "metadata": {},
   "outputs": [],
   "source": [
    "dfs1 = pd.read_excel('./data/자치구별, 특성별, ls, ws 평균/1월 특성별 Ls, Ws 평균.xlsx')\n",
    "dfs2 = pd.read_excel('./data/자치구별, 특성별, ls, ws 평균/2월 특성별 Ls, Ws 평균.xlsx')\n",
    "dfs3 = pd.read_excel('./data/자치구별, 특성별, ls, ws 평균/3월 특성별 Ls, Ws 평균.xlsx')\n",
    "dfs4 = pd.read_excel('./data/자치구별, 특성별, ls, ws 평균/4월 특성별 Ls, Ws 평균.xlsx')\n",
    "dfs5 = pd.read_excel('./data/자치구별, 특성별, ls, ws 평균/5월 특성별 Ls, Ws 평균.xlsx')\n",
    "dfs6 = pd.read_excel('./data/자치구별, 특성별, ls, ws 평균/6월 특성별 Ls, Ws 평균.xlsx')\n",
    "dfs7 = pd.read_excel('./data/자치구별, 특성별, ls, ws 평균/7월 특성별 Ls, Ws 평균.xlsx')\n",
    "dfs8 = pd.read_excel('./data/자치구별, 특성별, ls, ws 평균/8월 특성별 Ls, Ws 평균.xlsx')\n",
    "dfs9 = pd.read_excel('./data/자치구별, 특성별, ls, ws 평균/9월 특성별 Ls, Ws 평균.xlsx')\n",
    "dfs10 = pd.read_excel('./data/자치구별, 특성별, ls, ws 평균/10월 특성별 Ls, Ws 평균.xlsx')\n",
    "dfs11 = pd.read_excel('./data/자치구별, 특성별, ls, ws 평균/11월 특성별 Ls, Ws 평균.xlsx')\n",
    "dfs12 = pd.read_excel('./data/자치구별, 특성별, ls, ws 평균/12월 특성별 Ls, Ws 평균.xlsx')"
   ]
  },
  {
   "cell_type": "code",
   "execution_count": 7,
   "metadata": {
    "scrolled": true
   },
   "outputs": [
    {
     "data": {
      "text/html": [
       "<div>\n",
       "<style scoped>\n",
       "    .dataframe tbody tr th:only-of-type {\n",
       "        vertical-align: middle;\n",
       "    }\n",
       "\n",
       "    .dataframe tbody tr th {\n",
       "        vertical-align: top;\n",
       "    }\n",
       "\n",
       "    .dataframe thead th {\n",
       "        text-align: right;\n",
       "    }\n",
       "</style>\n",
       "<table border=\"1\" class=\"dataframe\">\n",
       "  <thead>\n",
       "    <tr style=\"text-align: right;\">\n",
       "      <th></th>\n",
       "      <th>특성</th>\n",
       "      <th>month</th>\n",
       "      <th>L_s</th>\n",
       "      <th>W_s</th>\n",
       "    </tr>\n",
       "  </thead>\n",
       "  <tbody>\n",
       "    <tr>\n",
       "      <th>0</th>\n",
       "      <td>공원</td>\n",
       "      <td>1월</td>\n",
       "      <td>0.464272</td>\n",
       "      <td>12.250600</td>\n",
       "    </tr>\n",
       "    <tr>\n",
       "      <th>1</th>\n",
       "      <td>아파트</td>\n",
       "      <td>1월</td>\n",
       "      <td>0.404258</td>\n",
       "      <td>11.412954</td>\n",
       "    </tr>\n",
       "    <tr>\n",
       "      <th>2</th>\n",
       "      <td>지하철</td>\n",
       "      <td>1월</td>\n",
       "      <td>0.831131</td>\n",
       "      <td>17.409342</td>\n",
       "    </tr>\n",
       "    <tr>\n",
       "      <th>3</th>\n",
       "      <td>학교</td>\n",
       "      <td>1월</td>\n",
       "      <td>0.308512</td>\n",
       "      <td>8.675467</td>\n",
       "    </tr>\n",
       "    <tr>\n",
       "      <th>4</th>\n",
       "      <td>공원</td>\n",
       "      <td>2월</td>\n",
       "      <td>0.935824</td>\n",
       "      <td>17.565140</td>\n",
       "    </tr>\n",
       "  </tbody>\n",
       "</table>\n",
       "</div>"
      ],
      "text/plain": [
       "    특성 month       L_s        W_s\n",
       "0   공원    1월  0.464272  12.250600\n",
       "1  아파트    1월  0.404258  11.412954\n",
       "2  지하철    1월  0.831131  17.409342\n",
       "3   학교    1월  0.308512   8.675467\n",
       "4   공원    2월  0.935824  17.565140"
      ]
     },
     "execution_count": 7,
     "metadata": {},
     "output_type": "execute_result"
    }
   ],
   "source": [
    "dfs = pd.merge(dfs1, dfs2, on = ['특성', 'month', 'L_s', 'W_s'], how = 'outer')\n",
    "dfs = pd.merge(dfs, dfs3, on = ['특성', 'month', 'L_s', 'W_s'], how = 'outer')\n",
    "dfs = pd.merge(dfs, dfs4, on = ['특성', 'month', 'L_s', 'W_s'], how = 'outer')\n",
    "dfs = pd.merge(dfs, dfs5, on = ['특성', 'month', 'L_s', 'W_s'], how = 'outer')\n",
    "dfs = pd.merge(dfs, dfs6, on = ['특성', 'month', 'L_s', 'W_s'], how = 'outer')\n",
    "dfs = pd.merge(dfs, dfs7, on = ['특성', 'month', 'L_s', 'W_s'], how = 'outer')\n",
    "dfs = pd.merge(dfs, dfs8, on = ['특성', 'month', 'L_s', 'W_s'], how = 'outer')\n",
    "dfs = pd.merge(dfs, dfs9, on = ['특성', 'month', 'L_s', 'W_s'], how = 'outer')\n",
    "dfs = pd.merge(dfs, dfs10, on = ['특성', 'month', 'L_s', 'W_s'], how = 'outer')\n",
    "dfs = pd.merge(dfs, dfs11, on = ['특성', 'month', 'L_s', 'W_s'], how = 'outer')\n",
    "dfs = pd.merge(dfs, dfs12, on = ['특성', 'month', 'L_s', 'W_s'], how = 'outer')\n",
    "dfs.head()"
   ]
  },
  {
   "cell_type": "markdown",
   "metadata": {},
   "source": [
    "#### df 데이터 이용"
   ]
  },
  {
   "cell_type": "code",
   "execution_count": 10,
   "metadata": {},
   "outputs": [
    {
     "data": {
      "image/png": "[encoded data removed]",
      "text/plain": [
       "<Figure size 1440x360 with 1 Axes>"
      ]
     },
     "metadata": {
      "needs_background": "light"
     },
     "output_type": "display_data"
    }
   ],
   "source": [
    "plt.figure(figsize = (20, 5))\n",
    "sns.boxplot(x = '자치구', y = 'L_s', data = df)\n",
    "plt.title('자치구별 L_s 그래프')\n",
    "plt.show()"
   ]
  },
  {
   "cell_type": "code",
   "execution_count": 11,
   "metadata": {},
   "outputs": [
    {
     "data": {
      "image/png": "[encoded data removed]",
      "text/plain": [
       "<Figure size 1440x360 with 1 Axes>"
      ]
     },
     "metadata": {
      "needs_background": "light"
     },
     "output_type": "display_data"
    }
   ],
   "source": [
    "plt.figure(figsize = (20, 5))\n",
    "sns.barplot(x = '자치구', y = 'L_s', hue = 'month', data = df)\n",
    "plt.show()"
   ]
  },
  {
   "cell_type": "code",
   "execution_count": 12,
   "metadata": {},
   "outputs": [
    {
     "data": {
      "image/png": "[encoded data removed]",
      "text/plain": [
       "<Figure size 1440x360 with 1 Axes>"
      ]
     },
     "metadata": {
      "needs_background": "light"
     },
     "output_type": "display_data"
    }
   ],
   "source": [
    "plt.figure(figsize = (20, 5))\n",
    "sns.boxplot(x = '자치구', y = 'W_s', data = df)\n",
    "plt.title('자치구별 W_s 그래프')\n",
    "plt.show()"
   ]
  },
  {
   "cell_type": "code",
   "execution_count": 13,
   "metadata": {},
   "outputs": [
    {
     "data": {
      "image/png": "[encoded data removed]",
      "text/plain": [
       "<Figure size 1440x360 with 1 Axes>"
      ]
     },
     "metadata": {
      "needs_background": "light"
     },
     "output_type": "display_data"
    }
   ],
   "source": [
    "plt.figure(figsize = (20, 5))\n",
    "sns.barplot(x = '자치구', y = 'W_s', hue = 'month', data = df)\n",
    "plt.show()"
   ]
  },
  {
   "cell_type": "code",
   "execution_count": 14,
   "metadata": {},
   "outputs": [
    {
     "data": {
      "image/png": "[encoded data removed]",
      "text/plain": [
       "<Figure size 1440x360 with 1 Axes>"
      ]
     },
     "metadata": {
      "needs_background": "light"
     },
     "output_type": "display_data"
    }
   ],
   "source": [
    "plt.figure(figsize = (20, 5))\n",
    "sns.boxplot(x = 'month', y = 'L_s', data = df)\n",
    "plt.title('월별 L_s 그래프')\n",
    "plt.show()"
   ]
  },
  {
   "cell_type": "code",
   "execution_count": 15,
   "metadata": {},
   "outputs": [
    {
     "data": {
      "image/png": "[encoded data removed]",
      "text/plain": [
       "<Figure size 1440x360 with 1 Axes>"
      ]
     },
     "metadata": {
      "needs_background": "light"
     },
     "output_type": "display_data"
    }
   ],
   "source": [
    "plt.figure(figsize = (20, 5))\n",
    "sns.barplot(x = 'month', y = 'L_s', hue = '자치구', data = df)\n",
    "plt.show()"
   ]
  },
  {
   "cell_type": "code",
   "execution_count": 16,
   "metadata": {},
   "outputs": [
    {
     "data": {
      "image/png": "[encoded data removed]",
      "text/plain": [
       "<Figure size 1440x360 with 1 Axes>"
      ]
     },
     "metadata": {
      "needs_background": "light"
     },
     "output_type": "display_data"
    }
   ],
   "source": [
    "plt.figure(figsize = (20, 5))\n",
    "sns.boxplot(x = 'month', y = 'W_s', data = df)\n",
    "plt.title('월별 W_s 그래프')\n",
    "plt.show()"
   ]
  },
  {
   "cell_type": "code",
   "execution_count": 17,
   "metadata": {},
   "outputs": [
    {
     "data": {
      "image/png": "[encoded data removed]",
      "text/plain": [
       "<Figure size 1440x360 with 1 Axes>"
      ]
     },
     "metadata": {
      "needs_background": "light"
     },
     "output_type": "display_data"
    }
   ],
   "source": [
    "plt.figure(figsize = (20, 5))\n",
    "sns.barplot(x = 'month', y = 'W_s', hue = '자치구', data = df)\n",
    "plt.show()"
   ]
  },
  {
   "cell_type": "markdown",
   "metadata": {},
   "source": [
    "#### dfs데이터 이용"
   ]
  },
  {
   "cell_type": "code",
   "execution_count": 18,
   "metadata": {},
   "outputs": [
    {
     "data": {
      "image/png": "[encoded data removed]",
      "text/plain": [
       "<Figure size 1440x360 with 1 Axes>"
      ]
     },
     "metadata": {
      "needs_background": "light"
     },
     "output_type": "display_data"
    }
   ],
   "source": [
    "plt.figure(figsize = (20, 5))\n",
    "sns.boxplot(x = '특성', y = 'L_s', data = dfs)\n",
    "plt.title('특성별 L_s 그래프')\n",
    "plt.show()"
   ]
  },
  {
   "cell_type": "code",
   "execution_count": 19,
   "metadata": {},
   "outputs": [
    {
     "data": {
      "image/png": "[encoded data removed]",
      "text/plain": [
       "<Figure size 1440x360 with 1 Axes>"
      ]
     },
     "metadata": {
      "needs_background": "light"
     },
     "output_type": "display_data"
    }
   ],
   "source": [
    "plt.figure(figsize = (20, 5))\n",
    "sns.barplot(x = '특성', y = 'L_s', hue = 'month', data = dfs)\n",
    "plt.title('특성별 월별 L_s 그래프')\n",
    "plt.show()"
   ]
  },
  {
   "cell_type": "code",
   "execution_count": 20,
   "metadata": {},
   "outputs": [
    {
     "data": {
      "image/png": "[encoded data removed]",
      "text/plain": [
       "<Figure size 1440x360 with 1 Axes>"
      ]
     },
     "metadata": {
      "needs_background": "light"
     },
     "output_type": "display_data"
    }
   ],
   "source": [
    "plt.figure(figsize = (20, 5))\n",
    "sns.boxplot(x = '특성', y = 'W_s', data = dfs)\n",
    "plt.title('특성별 W_s 그래프')\n",
    "plt.show()"
   ]
  },
  {
   "cell_type": "code",
   "execution_count": 21,
   "metadata": {},
   "outputs": [
    {
     "data": {
      "image/png": "[encoded data removed]",
      "text/plain": [
       "<Figure size 1440x360 with 1 Axes>"
      ]
     },
     "metadata": {
      "needs_background": "light"
     },
     "output_type": "display_data"
    }
   ],
   "source": [
    "plt.figure(figsize = (20, 5))\n",
    "sns.barplot(x = '특성', y = 'W_s', hue = 'month', data = dfs)\n",
    "plt.title('특성별 월별 W_s 그래프')\n",
    "plt.show()"
   ]
  },
  {
   "cell_type": "code",
   "execution_count": 22,
   "metadata": {},
   "outputs": [
    {
     "data": {
      "image/png": "[encoded data removed]",
      "text/plain": [
       "<Figure size 1440x360 with 1 Axes>"
      ]
     },
     "metadata": {
      "needs_background": "light"
     },
     "output_type": "display_data"
    }
   ],
   "source": [
    "plt.figure(figsize = (20, 5))\n",
    "sns.boxplot(x = 'month', y = 'L_s', data = dfs)\n",
    "plt.show()"
   ]
  },
  {
   "cell_type": "code",
   "execution_count": 23,
   "metadata": {},
   "outputs": [
    {
     "data": {
      "image/png": "[encoded data removed]",
      "text/plain": [
       "<Figure size 1440x360 with 1 Axes>"
      ]
     },
     "metadata": {
      "needs_background": "light"
     },
     "output_type": "display_data"
    }
   ],
   "source": [
    "plt.figure(figsize = (20, 5))\n",
    "sns.barplot(x = 'month', y = 'L_s', hue = '특성', data = dfs)\n",
    "plt.show()"
   ]
  },
  {
   "cell_type": "code",
   "execution_count": 24,
   "metadata": {},
   "outputs": [
    {
     "data": {
      "image/png": "[encoded data removed]",
      "text/plain": [
       "<Figure size 1440x360 with 1 Axes>"
      ]
     },
     "metadata": {
      "needs_background": "light"
     },
     "output_type": "display_data"
    }
   ],
   "source": [
    "plt.figure(figsize = (20, 5))\n",
    "sns.boxplot(x = 'month', y = 'W_s', data = dfs)\n",
    "plt.show()"
   ]
  },
  {
   "cell_type": "code",
   "execution_count": 25,
   "metadata": {},
   "outputs": [
    {
     "data": {
      "image/png": "[encoded data removed]",
      "text/plain": [
       "<Figure size 1440x360 with 1 Axes>"
      ]
     },
     "metadata": {
      "needs_background": "light"
     },
     "output_type": "display_data"
    }
   ],
   "source": [
    "plt.figure(figsize = (20, 5))\n",
    "sns.barplot(x = 'month', y = 'W_s', hue = '특성', data = dfs)\n",
    "plt.show()"
   ]
  },
  {
   "cell_type": "code",
   "execution_count": null,
   "metadata": {},
   "outputs": [],
   "source": []
  },
  {
   "cell_type": "markdown",
   "metadata": {},
   "source": [
    "#### data데이터 이용"
   ]
  },
  {
   "cell_type": "code",
   "execution_count": 26,
   "metadata": {},
   "outputs": [
    {
     "data": {
      "image/png": "[encoded data removed]",
      "text/plain": [
       "<Figure size 1440x360 with 1 Axes>"
      ]
     },
     "metadata": {
      "needs_background": "light"
     },
     "output_type": "display_data"
    }
   ],
   "source": [
    "plt.figure(figsize = (20, 5))\n",
    "sns.boxplot(x = '자치구', y = 'L_s', data = data)\n",
    "plt.show()"
   ]
  },
  {
   "cell_type": "code",
   "execution_count": 27,
   "metadata": {},
   "outputs": [
    {
     "data": {
      "image/png": "[encoded data removed]",
      "text/plain": [
       "<Figure size 1440x360 with 1 Axes>"
      ]
     },
     "metadata": {
      "needs_background": "light"
     },
     "output_type": "display_data"
    }
   ],
   "source": [
    "plt.figure(figsize = (20, 5))\n",
    "sns.barplot(x = '자치구', y = 'L_s', hue = 'season', data = data)\n",
    "plt.show()"
   ]
  },
  {
   "cell_type": "code",
   "execution_count": 28,
   "metadata": {},
   "outputs": [
    {
     "data": {
      "image/png": "[encoded data removed]",
      "text/plain": [
       "<Figure size 1440x360 with 1 Axes>"
      ]
     },
     "metadata": {
      "needs_background": "light"
     },
     "output_type": "display_data"
    }
   ],
   "source": [
    "plt.figure(figsize = (20, 5))\n",
    "sns.boxplot(x = '자치구', y = 'W_s', data = data)\n",
    "plt.show()"
   ]
  },
  {
   "cell_type": "code",
   "execution_count": 29,
   "metadata": {},
   "outputs": [
    {
     "data": {
      "image/png": "[encoded data removed]",
      "text/plain": [
       "<Figure size 1440x360 with 1 Axes>"
      ]
     },
     "metadata": {
      "needs_background": "light"
     },
     "output_type": "display_data"
    }
   ],
   "source": [
    "plt.figure(figsize = (20, 5))\n",
    "sns.barplot(x = '자치구', y = 'W_s', hue = 'season', data = data)\n",
    "plt.show()"
   ]
  },
  {
   "cell_type": "code",
   "execution_count": 30,
   "metadata": {},
   "outputs": [
    {
     "data": {
      "image/png": "[encoded data removed]",
      "text/plain": [
       "<Figure size 1440x360 with 1 Axes>"
      ]
     },
     "metadata": {
      "needs_background": "light"
     },
     "output_type": "display_data"
    }
   ],
   "source": [
    "plt.figure(figsize = (20, 5))\n",
    "sns.boxplot(x = 'season', y = 'L_s', data = data)\n",
    "plt.show()"
   ]
  },
  {
   "cell_type": "code",
   "execution_count": 31,
   "metadata": {},
   "outputs": [
    {
     "data": {
      "image/png": "[encoded data removed]",
      "text/plain": [
       "<Figure size 1440x360 with 1 Axes>"
      ]
     },
     "metadata": {
      "needs_background": "light"
     },
     "output_type": "display_data"
    }
   ],
   "source": [
    "plt.figure(figsize = (20, 5))\n",
    "sns.barplot(x = 'season', y = 'L_s', hue = '자치구', data = data)\n",
    "plt.show()"
   ]
  },
  {
   "cell_type": "code",
   "execution_count": 32,
   "metadata": {},
   "outputs": [
    {
     "data": {
      "image/png": "[encoded data removed]",
      "text/plain": [
       "<Figure size 1440x360 with 1 Axes>"
      ]
     },
     "metadata": {
      "needs_background": "light"
     },
     "output_type": "display_data"
    }
   ],
   "source": [
    "plt.figure(figsize = (20, 5))\n",
    "sns.boxplot(x = 'season', y = 'W_s', data = data)\n",
    "plt.show()"
   ]
  },
  {
   "cell_type": "code",
   "execution_count": 33,
   "metadata": {},
   "outputs": [
    {
     "data": {
      "image/png": "[encoded data removed]",
      "text/plain": [
       "<Figure size 1440x360 with 1 Axes>"
      ]
     },
     "metadata": {
      "needs_background": "light"
     },
     "output_type": "display_data"
    }
   ],
   "source": [
    "plt.figure(figsize = (20, 5))\n",
    "sns.barplot(x = 'season', y = 'W_s', hue = '자치구', data = data)\n",
    "plt.show()"
   ]
  },
  {
   "cell_type": "markdown",
   "metadata": {},
   "source": [
    "#### datas데이터 이용"
   ]
  },
  {
   "cell_type": "code",
   "execution_count": 34,
   "metadata": {},
   "outputs": [
    {
     "data": {
      "image/png": "[encoded data removed]",
      "text/plain": [
       "<Figure size 1440x360 with 1 Axes>"
      ]
     },
     "metadata": {
      "needs_background": "light"
     },
     "output_type": "display_data"
    }
   ],
   "source": [
    "plt.figure(figsize = (20, 5))\n",
    "sns.boxplot(x = '특성', y = 'L_s', data = datas)\n",
    "plt.show()"
   ]
  },
  {
   "cell_type": "code",
   "execution_count": 35,
   "metadata": {},
   "outputs": [
    {
     "data": {
      "image/png": "[encoded data removed]",
      "text/plain": [
       "<Figure size 1440x360 with 1 Axes>"
      ]
     },
     "metadata": {
      "needs_background": "light"
     },
     "output_type": "display_data"
    }
   ],
   "source": [
    "plt.figure(figsize = (20, 5))\n",
    "sns.barplot(x = '특성', y = 'L_s', hue = 'season', data = datas)\n",
    "plt.show()"
   ]
  },
  {
   "cell_type": "code",
   "execution_count": 36,
   "metadata": {},
   "outputs": [
    {
     "data": {
      "image/png": "[encoded data removed]",
      "text/plain": [
       "<Figure size 1440x360 with 1 Axes>"
      ]
     },
     "metadata": {
      "needs_background": "light"
     },
     "output_type": "display_data"
    }
   ],
   "source": [
    "plt.figure(figsize = (20, 5))\n",
    "sns.boxplot(x = '특성', y = 'W_s', data = datas)\n",
    "plt.show()"
   ]
  },
  {
   "cell_type": "code",
   "execution_count": 37,
   "metadata": {},
   "outputs": [
    {
     "data": {
      "image/png": "[encoded data removed]",
      "text/plain": [
       "<Figure size 1440x360 with 1 Axes>"
      ]
     },
     "metadata": {
      "needs_background": "light"
     },
     "output_type": "display_data"
    }
   ],
   "source": [
    "plt.figure(figsize = (20, 5))\n",
    "sns.barplot(x = '특성', y = 'W_s', hue = 'season', data = datas)\n",
    "plt.show()"
   ]
  },
  {
   "cell_type": "code",
   "execution_count": 38,
   "metadata": {},
   "outputs": [
    {
     "data": {
      "image/png": "[encoded data removed]",
      "text/plain": [
       "<Figure size 1440x360 with 1 Axes>"
      ]
     },
     "metadata": {
      "needs_background": "light"
     },
     "output_type": "display_data"
    }
   ],
   "source": [
    "plt.figure(figsize = (20, 5))\n",
    "sns.boxplot(x = 'season', y = 'L_s', data = datas)\n",
    "plt.show()"
   ]
  },
  {
   "cell_type": "code",
   "execution_count": 39,
   "metadata": {},
   "outputs": [
    {
     "data": {
      "image/png": "[encoded data removed]",
      "text/plain": [
       "<Figure size 1440x360 with 1 Axes>"
      ]
     },
     "metadata": {
      "needs_background": "light"
     },
     "output_type": "display_data"
    }
   ],
   "source": [
    "plt.figure(figsize = (20, 5))\n",
    "sns.barplot(x = 'season', y = 'L_s', hue = '특성', data = datas)\n",
    "plt.show()"
   ]
  },
  {
   "cell_type": "code",
   "execution_count": 40,
   "metadata": {},
   "outputs": [
    {
     "data": {
      "image/png": "[encoded data removed]",
      "text/plain": [
       "<Figure size 1440x360 with 1 Axes>"
      ]
     },
     "metadata": {
      "needs_background": "light"
     },
     "output_type": "display_data"
    }
   ],
   "source": [
    "plt.figure(figsize = (20, 5))\n",
    "sns.boxplot(x = 'season', y = 'W_s', data = datas)\n",
    "plt.show()"
   ]
  },
  {
   "cell_type": "code",
   "execution_count": 41,
   "metadata": {},
   "outputs": [
    {
     "data": {
      "image/png": "[encoded data removed]",
      "text/plain": [
       "<Figure size 1440x360 with 1 Axes>"
      ]
     },
     "metadata": {
      "needs_background": "light"
     },
     "output_type": "display_data"
    }
   ],
   "source": [
    "plt.figure(figsize = (20, 5))\n",
    "sns.barplot(x = 'season', y = 'W_s', hue = '특성', data = datas)\n",
    "plt.show()"
   ]
  },
  {
   "cell_type": "markdown",
   "metadata": {},
   "source": [
    "# ANOVA\n",
    "### 월별(또는 계절별) L_s, W_s의 평균 차이의 ANOVA 분석"
   ]
  },
  {
   "cell_type": "markdown",
   "metadata": {},
   "source": [
    "- L_s, W_s가 자치구에 따라 유의미한 차이가 있는지 분석을 위해 일원분산분석 수행\n",
    "- 자치구 항목에 대해 F칼럼의 값이 검정통계량이 되며\n",
    "- PR(>F)칼럼이 해당 항목의 p-value가 됨\n",
    "- p-value가 0에 근접할 정도로 작으면 유의수준 0.05하에서 자치구가 L_s, W_s에 유의미한 영향을 끼침을 나타냄"
   ]
  },
  {
   "cell_type": "markdown",
   "metadata": {},
   "source": [
    "#### df데이터 이용"
   ]
  },
  {
   "cell_type": "code",
   "execution_count": 42,
   "metadata": {},
   "outputs": [
    {
     "data": {
      "text/html": [
       "<div>\n",
       "<style scoped>\n",
       "    .dataframe tbody tr th:only-of-type {\n",
       "        vertical-align: middle;\n",
       "    }\n",
       "\n",
       "    .dataframe tbody tr th {\n",
       "        vertical-align: top;\n",
       "    }\n",
       "\n",
       "    .dataframe thead th {\n",
       "        text-align: right;\n",
       "    }\n",
       "</style>\n",
       "<table border=\"1\" class=\"dataframe\">\n",
       "  <thead>\n",
       "    <tr style=\"text-align: right;\">\n",
       "      <th></th>\n",
       "      <th>df</th>\n",
       "      <th>sum_sq</th>\n",
       "      <th>mean_sq</th>\n",
       "      <th>F</th>\n",
       "      <th>PR(&gt;F)</th>\n",
       "    </tr>\n",
       "  </thead>\n",
       "  <tbody>\n",
       "    <tr>\n",
       "      <th>C(자치구)</th>\n",
       "      <td>24.0</td>\n",
       "      <td>103.159340</td>\n",
       "      <td>4.298306</td>\n",
       "      <td>8.1929</td>\n",
       "      <td>6.055849e-21</td>\n",
       "    </tr>\n",
       "    <tr>\n",
       "      <th>Residual</th>\n",
       "      <td>275.0</td>\n",
       "      <td>144.275417</td>\n",
       "      <td>0.524638</td>\n",
       "      <td>NaN</td>\n",
       "      <td>NaN</td>\n",
       "    </tr>\n",
       "  </tbody>\n",
       "</table>\n",
       "</div>"
      ],
      "text/plain": [
       "             df      sum_sq   mean_sq       F        PR(>F)\n",
       "C(자치구)     24.0  103.159340  4.298306  8.1929  6.055849e-21\n",
       "Residual  275.0  144.275417  0.524638     NaN           NaN"
      ]
     },
     "execution_count": 42,
     "metadata": {},
     "output_type": "execute_result"
    }
   ],
   "source": [
    "from statsmodels.formula.api import ols\n",
    "from statsmodels.stats.anova import anova_lm\n",
    "\n",
    "model = ols('L_s ~ C(자치구)', df).fit()\n",
    "anova_lm(model)"
   ]
  },
  {
   "cell_type": "code",
   "execution_count": 43,
   "metadata": {},
   "outputs": [
    {
     "data": {
      "text/html": [
       "<div>\n",
       "<style scoped>\n",
       "    .dataframe tbody tr th:only-of-type {\n",
       "        vertical-align: middle;\n",
       "    }\n",
       "\n",
       "    .dataframe tbody tr th {\n",
       "        vertical-align: top;\n",
       "    }\n",
       "\n",
       "    .dataframe thead th {\n",
       "        text-align: right;\n",
       "    }\n",
       "</style>\n",
       "<table border=\"1\" class=\"dataframe\">\n",
       "  <thead>\n",
       "    <tr style=\"text-align: right;\">\n",
       "      <th></th>\n",
       "      <th>df</th>\n",
       "      <th>sum_sq</th>\n",
       "      <th>mean_sq</th>\n",
       "      <th>F</th>\n",
       "      <th>PR(&gt;F)</th>\n",
       "    </tr>\n",
       "  </thead>\n",
       "  <tbody>\n",
       "    <tr>\n",
       "      <th>C(자치구)</th>\n",
       "      <td>24.0</td>\n",
       "      <td>3765.182341</td>\n",
       "      <td>156.882598</td>\n",
       "      <td>8.191557</td>\n",
       "      <td>6.106718e-21</td>\n",
       "    </tr>\n",
       "    <tr>\n",
       "      <th>Residual</th>\n",
       "      <td>275.0</td>\n",
       "      <td>5266.729173</td>\n",
       "      <td>19.151742</td>\n",
       "      <td>NaN</td>\n",
       "      <td>NaN</td>\n",
       "    </tr>\n",
       "  </tbody>\n",
       "</table>\n",
       "</div>"
      ],
      "text/plain": [
       "             df       sum_sq     mean_sq         F        PR(>F)\n",
       "C(자치구)     24.0  3765.182341  156.882598  8.191557  6.106718e-21\n",
       "Residual  275.0  5266.729173   19.151742       NaN           NaN"
      ]
     },
     "execution_count": 43,
     "metadata": {},
     "output_type": "execute_result"
    }
   ],
   "source": [
    "model = ols('W_s ~ C(자치구)', df).fit()\n",
    "anova_lm(model)"
   ]
  },
  {
   "cell_type": "code",
   "execution_count": 44,
   "metadata": {},
   "outputs": [
    {
     "data": {
      "text/html": [
       "<div>\n",
       "<style scoped>\n",
       "    .dataframe tbody tr th:only-of-type {\n",
       "        vertical-align: middle;\n",
       "    }\n",
       "\n",
       "    .dataframe tbody tr th {\n",
       "        vertical-align: top;\n",
       "    }\n",
       "\n",
       "    .dataframe thead th {\n",
       "        text-align: right;\n",
       "    }\n",
       "</style>\n",
       "<table border=\"1\" class=\"dataframe\">\n",
       "  <thead>\n",
       "    <tr style=\"text-align: right;\">\n",
       "      <th></th>\n",
       "      <th>df</th>\n",
       "      <th>sum_sq</th>\n",
       "      <th>mean_sq</th>\n",
       "      <th>F</th>\n",
       "      <th>PR(&gt;F)</th>\n",
       "    </tr>\n",
       "  </thead>\n",
       "  <tbody>\n",
       "    <tr>\n",
       "      <th>C(month)</th>\n",
       "      <td>11.0</td>\n",
       "      <td>124.930663</td>\n",
       "      <td>11.357333</td>\n",
       "      <td>26.70043</td>\n",
       "      <td>5.543452e-38</td>\n",
       "    </tr>\n",
       "    <tr>\n",
       "      <th>Residual</th>\n",
       "      <td>288.0</td>\n",
       "      <td>122.504093</td>\n",
       "      <td>0.425361</td>\n",
       "      <td>NaN</td>\n",
       "      <td>NaN</td>\n",
       "    </tr>\n",
       "  </tbody>\n",
       "</table>\n",
       "</div>"
      ],
      "text/plain": [
       "             df      sum_sq    mean_sq         F        PR(>F)\n",
       "C(month)   11.0  124.930663  11.357333  26.70043  5.543452e-38\n",
       "Residual  288.0  122.504093   0.425361       NaN           NaN"
      ]
     },
     "execution_count": 44,
     "metadata": {},
     "output_type": "execute_result"
    }
   ],
   "source": [
    "model = ols('L_s ~ C(month)', df).fit()\n",
    "anova_lm(model)"
   ]
  },
  {
   "cell_type": "code",
   "execution_count": 45,
   "metadata": {},
   "outputs": [
    {
     "data": {
      "text/html": [
       "<div>\n",
       "<style scoped>\n",
       "    .dataframe tbody tr th:only-of-type {\n",
       "        vertical-align: middle;\n",
       "    }\n",
       "\n",
       "    .dataframe tbody tr th {\n",
       "        vertical-align: top;\n",
       "    }\n",
       "\n",
       "    .dataframe thead th {\n",
       "        text-align: right;\n",
       "    }\n",
       "</style>\n",
       "<table border=\"1\" class=\"dataframe\">\n",
       "  <thead>\n",
       "    <tr style=\"text-align: right;\">\n",
       "      <th></th>\n",
       "      <th>df</th>\n",
       "      <th>sum_sq</th>\n",
       "      <th>mean_sq</th>\n",
       "      <th>F</th>\n",
       "      <th>PR(&gt;F)</th>\n",
       "    </tr>\n",
       "  </thead>\n",
       "  <tbody>\n",
       "    <tr>\n",
       "      <th>C(month)</th>\n",
       "      <td>11.0</td>\n",
       "      <td>3991.779848</td>\n",
       "      <td>362.889077</td>\n",
       "      <td>20.735977</td>\n",
       "      <td>9.364185e-31</td>\n",
       "    </tr>\n",
       "    <tr>\n",
       "      <th>Residual</th>\n",
       "      <td>288.0</td>\n",
       "      <td>5040.131666</td>\n",
       "      <td>17.500457</td>\n",
       "      <td>NaN</td>\n",
       "      <td>NaN</td>\n",
       "    </tr>\n",
       "  </tbody>\n",
       "</table>\n",
       "</div>"
      ],
      "text/plain": [
       "             df       sum_sq     mean_sq          F        PR(>F)\n",
       "C(month)   11.0  3991.779848  362.889077  20.735977  9.364185e-31\n",
       "Residual  288.0  5040.131666   17.500457        NaN           NaN"
      ]
     },
     "execution_count": 45,
     "metadata": {},
     "output_type": "execute_result"
    }
   ],
   "source": [
    "model = ols('W_s ~ C(month)', df).fit()\n",
    "anova_lm(model)"
   ]
  },
  {
   "cell_type": "markdown",
   "metadata": {},
   "source": [
    "#### 이원분산분석(자치구와 월이 L_s, W_s에 영향을 미치는지 살펴보기 위한 코드)"
   ]
  },
  {
   "cell_type": "code",
   "execution_count": 46,
   "metadata": {},
   "outputs": [
    {
     "data": {
      "text/html": [
       "<div>\n",
       "<style scoped>\n",
       "    .dataframe tbody tr th:only-of-type {\n",
       "        vertical-align: middle;\n",
       "    }\n",
       "\n",
       "    .dataframe tbody tr th {\n",
       "        vertical-align: top;\n",
       "    }\n",
       "\n",
       "    .dataframe thead th {\n",
       "        text-align: right;\n",
       "    }\n",
       "</style>\n",
       "<table border=\"1\" class=\"dataframe\">\n",
       "  <thead>\n",
       "    <tr style=\"text-align: right;\">\n",
       "      <th></th>\n",
       "      <th>df</th>\n",
       "      <th>sum_sq</th>\n",
       "      <th>mean_sq</th>\n",
       "      <th>F</th>\n",
       "      <th>PR(&gt;F)</th>\n",
       "    </tr>\n",
       "  </thead>\n",
       "  <tbody>\n",
       "    <tr>\n",
       "      <th>C(자치구)</th>\n",
       "      <td>24.0</td>\n",
       "      <td>103.159340</td>\n",
       "      <td>4.298306</td>\n",
       "      <td>58.659456</td>\n",
       "      <td>2.053235e-91</td>\n",
       "    </tr>\n",
       "    <tr>\n",
       "      <th>C(month)</th>\n",
       "      <td>11.0</td>\n",
       "      <td>124.930663</td>\n",
       "      <td>11.357333</td>\n",
       "      <td>154.994783</td>\n",
       "      <td>2.499278e-108</td>\n",
       "    </tr>\n",
       "    <tr>\n",
       "      <th>Residual</th>\n",
       "      <td>264.0</td>\n",
       "      <td>19.344754</td>\n",
       "      <td>0.073276</td>\n",
       "      <td>NaN</td>\n",
       "      <td>NaN</td>\n",
       "    </tr>\n",
       "  </tbody>\n",
       "</table>\n",
       "</div>"
      ],
      "text/plain": [
       "             df      sum_sq    mean_sq           F         PR(>F)\n",
       "C(자치구)     24.0  103.159340   4.298306   58.659456   2.053235e-91\n",
       "C(month)   11.0  124.930663  11.357333  154.994783  2.499278e-108\n",
       "Residual  264.0   19.344754   0.073276         NaN            NaN"
      ]
     },
     "execution_count": 46,
     "metadata": {},
     "output_type": "execute_result"
    }
   ],
   "source": [
    "model = ols('L_s ~ C(자치구) + C(month)', df).fit()\n",
    "anova_lm(model)\n",
    "# p-value가 작으면 L_s에 유의미한 영향을 끼치는 변수"
   ]
  },
  {
   "cell_type": "code",
   "execution_count": null,
   "metadata": {},
   "outputs": [],
   "source": []
  },
  {
   "cell_type": "markdown",
   "metadata": {},
   "source": [
    "#### dfs데이터 이용"
   ]
  },
  {
   "cell_type": "code",
   "execution_count": 47,
   "metadata": {},
   "outputs": [
    {
     "data": {
      "text/html": [
       "<div>\n",
       "<style scoped>\n",
       "    .dataframe tbody tr th:only-of-type {\n",
       "        vertical-align: middle;\n",
       "    }\n",
       "\n",
       "    .dataframe tbody tr th {\n",
       "        vertical-align: top;\n",
       "    }\n",
       "\n",
       "    .dataframe thead th {\n",
       "        text-align: right;\n",
       "    }\n",
       "</style>\n",
       "<table border=\"1\" class=\"dataframe\">\n",
       "  <thead>\n",
       "    <tr style=\"text-align: right;\">\n",
       "      <th></th>\n",
       "      <th>df</th>\n",
       "      <th>sum_sq</th>\n",
       "      <th>mean_sq</th>\n",
       "      <th>F</th>\n",
       "      <th>PR(&gt;F)</th>\n",
       "    </tr>\n",
       "  </thead>\n",
       "  <tbody>\n",
       "    <tr>\n",
       "      <th>C(특성)</th>\n",
       "      <td>3.0</td>\n",
       "      <td>13.482524</td>\n",
       "      <td>4.494175</td>\n",
       "      <td>8.580936</td>\n",
       "      <td>0.000135</td>\n",
       "    </tr>\n",
       "    <tr>\n",
       "      <th>Residual</th>\n",
       "      <td>44.0</td>\n",
       "      <td>23.044536</td>\n",
       "      <td>0.523739</td>\n",
       "      <td>NaN</td>\n",
       "      <td>NaN</td>\n",
       "    </tr>\n",
       "  </tbody>\n",
       "</table>\n",
       "</div>"
      ],
      "text/plain": [
       "            df     sum_sq   mean_sq         F    PR(>F)\n",
       "C(특성)      3.0  13.482524  4.494175  8.580936  0.000135\n",
       "Residual  44.0  23.044536  0.523739       NaN       NaN"
      ]
     },
     "execution_count": 47,
     "metadata": {},
     "output_type": "execute_result"
    }
   ],
   "source": [
    "from statsmodels.formula.api import ols\n",
    "from statsmodels.stats.anova import anova_lm\n",
    "\n",
    "model = ols('L_s ~ C(특성)', dfs).fit()\n",
    "anova_lm(model)"
   ]
  },
  {
   "cell_type": "code",
   "execution_count": 48,
   "metadata": {},
   "outputs": [
    {
     "data": {
      "text/html": [
       "<div>\n",
       "<style scoped>\n",
       "    .dataframe tbody tr th:only-of-type {\n",
       "        vertical-align: middle;\n",
       "    }\n",
       "\n",
       "    .dataframe tbody tr th {\n",
       "        vertical-align: top;\n",
       "    }\n",
       "\n",
       "    .dataframe thead th {\n",
       "        text-align: right;\n",
       "    }\n",
       "</style>\n",
       "<table border=\"1\" class=\"dataframe\">\n",
       "  <thead>\n",
       "    <tr style=\"text-align: right;\">\n",
       "      <th></th>\n",
       "      <th>df</th>\n",
       "      <th>sum_sq</th>\n",
       "      <th>mean_sq</th>\n",
       "      <th>F</th>\n",
       "      <th>PR(&gt;F)</th>\n",
       "    </tr>\n",
       "  </thead>\n",
       "  <tbody>\n",
       "    <tr>\n",
       "      <th>C(특성)</th>\n",
       "      <td>3.0</td>\n",
       "      <td>253.342121</td>\n",
       "      <td>84.447374</td>\n",
       "      <td>4.536675</td>\n",
       "      <td>0.007422</td>\n",
       "    </tr>\n",
       "    <tr>\n",
       "      <th>Residual</th>\n",
       "      <td>44.0</td>\n",
       "      <td>819.032508</td>\n",
       "      <td>18.614375</td>\n",
       "      <td>NaN</td>\n",
       "      <td>NaN</td>\n",
       "    </tr>\n",
       "  </tbody>\n",
       "</table>\n",
       "</div>"
      ],
      "text/plain": [
       "            df      sum_sq    mean_sq         F    PR(>F)\n",
       "C(특성)      3.0  253.342121  84.447374  4.536675  0.007422\n",
       "Residual  44.0  819.032508  18.614375       NaN       NaN"
      ]
     },
     "execution_count": 48,
     "metadata": {},
     "output_type": "execute_result"
    }
   ],
   "source": [
    "model = ols('W_s ~ C(특성)', dfs).fit()\n",
    "anova_lm(model)"
   ]
  },
  {
   "cell_type": "code",
   "execution_count": 49,
   "metadata": {},
   "outputs": [
    {
     "data": {
      "text/html": [
       "<div>\n",
       "<style scoped>\n",
       "    .dataframe tbody tr th:only-of-type {\n",
       "        vertical-align: middle;\n",
       "    }\n",
       "\n",
       "    .dataframe tbody tr th {\n",
       "        vertical-align: top;\n",
       "    }\n",
       "\n",
       "    .dataframe thead th {\n",
       "        text-align: right;\n",
       "    }\n",
       "</style>\n",
       "<table border=\"1\" class=\"dataframe\">\n",
       "  <thead>\n",
       "    <tr style=\"text-align: right;\">\n",
       "      <th></th>\n",
       "      <th>df</th>\n",
       "      <th>sum_sq</th>\n",
       "      <th>mean_sq</th>\n",
       "      <th>F</th>\n",
       "      <th>PR(&gt;F)</th>\n",
       "    </tr>\n",
       "  </thead>\n",
       "  <tbody>\n",
       "    <tr>\n",
       "      <th>C(month)</th>\n",
       "      <td>11.0</td>\n",
       "      <td>21.039833</td>\n",
       "      <td>1.912712</td>\n",
       "      <td>4.446092</td>\n",
       "      <td>0.000314</td>\n",
       "    </tr>\n",
       "    <tr>\n",
       "      <th>Residual</th>\n",
       "      <td>36.0</td>\n",
       "      <td>15.487228</td>\n",
       "      <td>0.430201</td>\n",
       "      <td>NaN</td>\n",
       "      <td>NaN</td>\n",
       "    </tr>\n",
       "  </tbody>\n",
       "</table>\n",
       "</div>"
      ],
      "text/plain": [
       "            df     sum_sq   mean_sq         F    PR(>F)\n",
       "C(month)  11.0  21.039833  1.912712  4.446092  0.000314\n",
       "Residual  36.0  15.487228  0.430201       NaN       NaN"
      ]
     },
     "execution_count": 49,
     "metadata": {},
     "output_type": "execute_result"
    }
   ],
   "source": [
    "model = ols('L_s ~ C(month)', dfs).fit()\n",
    "anova_lm(model)"
   ]
  },
  {
   "cell_type": "code",
   "execution_count": 50,
   "metadata": {},
   "outputs": [
    {
     "data": {
      "text/html": [
       "<div>\n",
       "<style scoped>\n",
       "    .dataframe tbody tr th:only-of-type {\n",
       "        vertical-align: middle;\n",
       "    }\n",
       "\n",
       "    .dataframe tbody tr th {\n",
       "        vertical-align: top;\n",
       "    }\n",
       "\n",
       "    .dataframe thead th {\n",
       "        text-align: right;\n",
       "    }\n",
       "</style>\n",
       "<table border=\"1\" class=\"dataframe\">\n",
       "  <thead>\n",
       "    <tr style=\"text-align: right;\">\n",
       "      <th></th>\n",
       "      <th>df</th>\n",
       "      <th>sum_sq</th>\n",
       "      <th>mean_sq</th>\n",
       "      <th>F</th>\n",
       "      <th>PR(&gt;F)</th>\n",
       "    </tr>\n",
       "  </thead>\n",
       "  <tbody>\n",
       "    <tr>\n",
       "      <th>C(month)</th>\n",
       "      <td>11.0</td>\n",
       "      <td>702.416146</td>\n",
       "      <td>63.856013</td>\n",
       "      <td>6.213715</td>\n",
       "      <td>0.000013</td>\n",
       "    </tr>\n",
       "    <tr>\n",
       "      <th>Residual</th>\n",
       "      <td>36.0</td>\n",
       "      <td>369.958483</td>\n",
       "      <td>10.276625</td>\n",
       "      <td>NaN</td>\n",
       "      <td>NaN</td>\n",
       "    </tr>\n",
       "  </tbody>\n",
       "</table>\n",
       "</div>"
      ],
      "text/plain": [
       "            df      sum_sq    mean_sq         F    PR(>F)\n",
       "C(month)  11.0  702.416146  63.856013  6.213715  0.000013\n",
       "Residual  36.0  369.958483  10.276625       NaN       NaN"
      ]
     },
     "execution_count": 50,
     "metadata": {},
     "output_type": "execute_result"
    }
   ],
   "source": [
    "model = ols('W_s ~ C(month)', dfs).fit()\n",
    "anova_lm(model)"
   ]
  },
  {
   "cell_type": "markdown",
   "metadata": {},
   "source": [
    "#### 이원분산분석(특성과 월이 L_s, W_s에 영향을 미치는지 살펴보기 위한 코드)"
   ]
  },
  {
   "cell_type": "code",
   "execution_count": 51,
   "metadata": {},
   "outputs": [
    {
     "data": {
      "text/html": [
       "<div>\n",
       "<style scoped>\n",
       "    .dataframe tbody tr th:only-of-type {\n",
       "        vertical-align: middle;\n",
       "    }\n",
       "\n",
       "    .dataframe tbody tr th {\n",
       "        vertical-align: top;\n",
       "    }\n",
       "\n",
       "    .dataframe thead th {\n",
       "        text-align: right;\n",
       "    }\n",
       "</style>\n",
       "<table border=\"1\" class=\"dataframe\">\n",
       "  <thead>\n",
       "    <tr style=\"text-align: right;\">\n",
       "      <th></th>\n",
       "      <th>df</th>\n",
       "      <th>sum_sq</th>\n",
       "      <th>mean_sq</th>\n",
       "      <th>F</th>\n",
       "      <th>PR(&gt;F)</th>\n",
       "    </tr>\n",
       "  </thead>\n",
       "  <tbody>\n",
       "    <tr>\n",
       "      <th>C(특성)</th>\n",
       "      <td>3.0</td>\n",
       "      <td>13.482524</td>\n",
       "      <td>4.494175</td>\n",
       "      <td>73.979907</td>\n",
       "      <td>9.814453e-15</td>\n",
       "    </tr>\n",
       "    <tr>\n",
       "      <th>C(month)</th>\n",
       "      <td>11.0</td>\n",
       "      <td>21.039833</td>\n",
       "      <td>1.912712</td>\n",
       "      <td>31.485704</td>\n",
       "      <td>2.461091e-14</td>\n",
       "    </tr>\n",
       "    <tr>\n",
       "      <th>Residual</th>\n",
       "      <td>33.0</td>\n",
       "      <td>2.004703</td>\n",
       "      <td>0.060749</td>\n",
       "      <td>NaN</td>\n",
       "      <td>NaN</td>\n",
       "    </tr>\n",
       "  </tbody>\n",
       "</table>\n",
       "</div>"
      ],
      "text/plain": [
       "            df     sum_sq   mean_sq          F        PR(>F)\n",
       "C(특성)      3.0  13.482524  4.494175  73.979907  9.814453e-15\n",
       "C(month)  11.0  21.039833  1.912712  31.485704  2.461091e-14\n",
       "Residual  33.0   2.004703  0.060749        NaN           NaN"
      ]
     },
     "execution_count": 51,
     "metadata": {},
     "output_type": "execute_result"
    }
   ],
   "source": [
    "model = ols('L_s ~ C(특성) + C(month)', dfs).fit()\n",
    "anova_lm(model)\n",
    "# p-value가 작으면 L_s에 유의미한 영향을 끼치는 변수"
   ]
  },
  {
   "cell_type": "code",
   "execution_count": null,
   "metadata": {},
   "outputs": [],
   "source": []
  },
  {
   "cell_type": "markdown",
   "metadata": {},
   "source": [
    "#### data데이터 이용"
   ]
  },
  {
   "cell_type": "code",
   "execution_count": 52,
   "metadata": {},
   "outputs": [
    {
     "data": {
      "text/html": [
       "<div>\n",
       "<style scoped>\n",
       "    .dataframe tbody tr th:only-of-type {\n",
       "        vertical-align: middle;\n",
       "    }\n",
       "\n",
       "    .dataframe tbody tr th {\n",
       "        vertical-align: top;\n",
       "    }\n",
       "\n",
       "    .dataframe thead th {\n",
       "        text-align: right;\n",
       "    }\n",
       "</style>\n",
       "<table border=\"1\" class=\"dataframe\">\n",
       "  <thead>\n",
       "    <tr style=\"text-align: right;\">\n",
       "      <th></th>\n",
       "      <th>df</th>\n",
       "      <th>sum_sq</th>\n",
       "      <th>mean_sq</th>\n",
       "      <th>F</th>\n",
       "      <th>PR(&gt;F)</th>\n",
       "    </tr>\n",
       "  </thead>\n",
       "  <tbody>\n",
       "    <tr>\n",
       "      <th>C(자치구)</th>\n",
       "      <td>24.0</td>\n",
       "      <td>36.640948</td>\n",
       "      <td>1.526706</td>\n",
       "      <td>3.204069</td>\n",
       "      <td>0.000063</td>\n",
       "    </tr>\n",
       "    <tr>\n",
       "      <th>Residual</th>\n",
       "      <td>75.0</td>\n",
       "      <td>35.736729</td>\n",
       "      <td>0.476490</td>\n",
       "      <td>NaN</td>\n",
       "      <td>NaN</td>\n",
       "    </tr>\n",
       "  </tbody>\n",
       "</table>\n",
       "</div>"
      ],
      "text/plain": [
       "            df     sum_sq   mean_sq         F    PR(>F)\n",
       "C(자치구)    24.0  36.640948  1.526706  3.204069  0.000063\n",
       "Residual  75.0  35.736729  0.476490       NaN       NaN"
      ]
     },
     "execution_count": 52,
     "metadata": {},
     "output_type": "execute_result"
    }
   ],
   "source": [
    "from statsmodels.formula.api import ols\n",
    "from statsmodels.stats.anova import anova_lm\n",
    "\n",
    "model = ols('L_s ~ C(자치구)', data).fit()\n",
    "anova_lm(model)"
   ]
  },
  {
   "cell_type": "code",
   "execution_count": 53,
   "metadata": {},
   "outputs": [
    {
     "data": {
      "text/html": [
       "<div>\n",
       "<style scoped>\n",
       "    .dataframe tbody tr th:only-of-type {\n",
       "        vertical-align: middle;\n",
       "    }\n",
       "\n",
       "    .dataframe tbody tr th {\n",
       "        vertical-align: top;\n",
       "    }\n",
       "\n",
       "    .dataframe thead th {\n",
       "        text-align: right;\n",
       "    }\n",
       "</style>\n",
       "<table border=\"1\" class=\"dataframe\">\n",
       "  <thead>\n",
       "    <tr style=\"text-align: right;\">\n",
       "      <th></th>\n",
       "      <th>df</th>\n",
       "      <th>sum_sq</th>\n",
       "      <th>mean_sq</th>\n",
       "      <th>F</th>\n",
       "      <th>PR(&gt;F)</th>\n",
       "    </tr>\n",
       "  </thead>\n",
       "  <tbody>\n",
       "    <tr>\n",
       "      <th>C(자치구)</th>\n",
       "      <td>24.0</td>\n",
       "      <td>2689.729558</td>\n",
       "      <td>112.072065</td>\n",
       "      <td>2.307508</td>\n",
       "      <td>0.003237</td>\n",
       "    </tr>\n",
       "    <tr>\n",
       "      <th>Residual</th>\n",
       "      <td>75.0</td>\n",
       "      <td>3642.632862</td>\n",
       "      <td>48.568438</td>\n",
       "      <td>NaN</td>\n",
       "      <td>NaN</td>\n",
       "    </tr>\n",
       "  </tbody>\n",
       "</table>\n",
       "</div>"
      ],
      "text/plain": [
       "            df       sum_sq     mean_sq         F    PR(>F)\n",
       "C(자치구)    24.0  2689.729558  112.072065  2.307508  0.003237\n",
       "Residual  75.0  3642.632862   48.568438       NaN       NaN"
      ]
     },
     "execution_count": 53,
     "metadata": {},
     "output_type": "execute_result"
    }
   ],
   "source": [
    "model = ols('W_s ~ C(자치구)', data).fit()\n",
    "anova_lm(model)"
   ]
  },
  {
   "cell_type": "code",
   "execution_count": 54,
   "metadata": {},
   "outputs": [
    {
     "data": {
      "text/html": [
       "<div>\n",
       "<style scoped>\n",
       "    .dataframe tbody tr th:only-of-type {\n",
       "        vertical-align: middle;\n",
       "    }\n",
       "\n",
       "    .dataframe tbody tr th {\n",
       "        vertical-align: top;\n",
       "    }\n",
       "\n",
       "    .dataframe thead th {\n",
       "        text-align: right;\n",
       "    }\n",
       "</style>\n",
       "<table border=\"1\" class=\"dataframe\">\n",
       "  <thead>\n",
       "    <tr style=\"text-align: right;\">\n",
       "      <th></th>\n",
       "      <th>df</th>\n",
       "      <th>sum_sq</th>\n",
       "      <th>mean_sq</th>\n",
       "      <th>F</th>\n",
       "      <th>PR(&gt;F)</th>\n",
       "    </tr>\n",
       "  </thead>\n",
       "  <tbody>\n",
       "    <tr>\n",
       "      <th>C(season)</th>\n",
       "      <td>3.0</td>\n",
       "      <td>31.154301</td>\n",
       "      <td>10.384767</td>\n",
       "      <td>24.183794</td>\n",
       "      <td>9.660971e-12</td>\n",
       "    </tr>\n",
       "    <tr>\n",
       "      <th>Residual</th>\n",
       "      <td>96.0</td>\n",
       "      <td>41.223376</td>\n",
       "      <td>0.429410</td>\n",
       "      <td>NaN</td>\n",
       "      <td>NaN</td>\n",
       "    </tr>\n",
       "  </tbody>\n",
       "</table>\n",
       "</div>"
      ],
      "text/plain": [
       "             df     sum_sq    mean_sq          F        PR(>F)\n",
       "C(season)   3.0  31.154301  10.384767  24.183794  9.660971e-12\n",
       "Residual   96.0  41.223376   0.429410        NaN           NaN"
      ]
     },
     "execution_count": 54,
     "metadata": {},
     "output_type": "execute_result"
    }
   ],
   "source": [
    "model = ols('L_s ~ C(season)', data).fit()\n",
    "anova_lm(model)"
   ]
  },
  {
   "cell_type": "code",
   "execution_count": 55,
   "metadata": {},
   "outputs": [
    {
     "data": {
      "text/html": [
       "<div>\n",
       "<style scoped>\n",
       "    .dataframe tbody tr th:only-of-type {\n",
       "        vertical-align: middle;\n",
       "    }\n",
       "\n",
       "    .dataframe tbody tr th {\n",
       "        vertical-align: top;\n",
       "    }\n",
       "\n",
       "    .dataframe thead th {\n",
       "        text-align: right;\n",
       "    }\n",
       "</style>\n",
       "<table border=\"1\" class=\"dataframe\">\n",
       "  <thead>\n",
       "    <tr style=\"text-align: right;\">\n",
       "      <th></th>\n",
       "      <th>df</th>\n",
       "      <th>sum_sq</th>\n",
       "      <th>mean_sq</th>\n",
       "      <th>F</th>\n",
       "      <th>PR(&gt;F)</th>\n",
       "    </tr>\n",
       "  </thead>\n",
       "  <tbody>\n",
       "    <tr>\n",
       "      <th>C(season)</th>\n",
       "      <td>3.0</td>\n",
       "      <td>2810.905851</td>\n",
       "      <td>936.968617</td>\n",
       "      <td>25.54312</td>\n",
       "      <td>3.112084e-12</td>\n",
       "    </tr>\n",
       "    <tr>\n",
       "      <th>Residual</th>\n",
       "      <td>96.0</td>\n",
       "      <td>3521.456569</td>\n",
       "      <td>36.681839</td>\n",
       "      <td>NaN</td>\n",
       "      <td>NaN</td>\n",
       "    </tr>\n",
       "  </tbody>\n",
       "</table>\n",
       "</div>"
      ],
      "text/plain": [
       "             df       sum_sq     mean_sq         F        PR(>F)\n",
       "C(season)   3.0  2810.905851  936.968617  25.54312  3.112084e-12\n",
       "Residual   96.0  3521.456569   36.681839       NaN           NaN"
      ]
     },
     "execution_count": 55,
     "metadata": {},
     "output_type": "execute_result"
    }
   ],
   "source": [
    "model = ols('W_s ~ C(season)', data).fit()\n",
    "anova_lm(model)"
   ]
  },
  {
   "cell_type": "markdown",
   "metadata": {},
   "source": [
    "#### 이원분산분석(자치구와 season이 L_s, W_s에 영향을 미치는지 살펴보기 위한 코드)"
   ]
  },
  {
   "cell_type": "code",
   "execution_count": 56,
   "metadata": {},
   "outputs": [
    {
     "data": {
      "text/html": [
       "<div>\n",
       "<style scoped>\n",
       "    .dataframe tbody tr th:only-of-type {\n",
       "        vertical-align: middle;\n",
       "    }\n",
       "\n",
       "    .dataframe tbody tr th {\n",
       "        vertical-align: top;\n",
       "    }\n",
       "\n",
       "    .dataframe thead th {\n",
       "        text-align: right;\n",
       "    }\n",
       "</style>\n",
       "<table border=\"1\" class=\"dataframe\">\n",
       "  <thead>\n",
       "    <tr style=\"text-align: right;\">\n",
       "      <th></th>\n",
       "      <th>df</th>\n",
       "      <th>sum_sq</th>\n",
       "      <th>mean_sq</th>\n",
       "      <th>F</th>\n",
       "      <th>PR(&gt;F)</th>\n",
       "    </tr>\n",
       "  </thead>\n",
       "  <tbody>\n",
       "    <tr>\n",
       "      <th>C(자치구)</th>\n",
       "      <td>24.0</td>\n",
       "      <td>36.640948</td>\n",
       "      <td>1.526706</td>\n",
       "      <td>23.987903</td>\n",
       "      <td>2.231975e-25</td>\n",
       "    </tr>\n",
       "    <tr>\n",
       "      <th>C(season)</th>\n",
       "      <td>3.0</td>\n",
       "      <td>31.154301</td>\n",
       "      <td>10.384767</td>\n",
       "      <td>163.167468</td>\n",
       "      <td>4.936994e-32</td>\n",
       "    </tr>\n",
       "    <tr>\n",
       "      <th>Residual</th>\n",
       "      <td>72.0</td>\n",
       "      <td>4.582428</td>\n",
       "      <td>0.063645</td>\n",
       "      <td>NaN</td>\n",
       "      <td>NaN</td>\n",
       "    </tr>\n",
       "  </tbody>\n",
       "</table>\n",
       "</div>"
      ],
      "text/plain": [
       "             df     sum_sq    mean_sq           F        PR(>F)\n",
       "C(자치구)     24.0  36.640948   1.526706   23.987903  2.231975e-25\n",
       "C(season)   3.0  31.154301  10.384767  163.167468  4.936994e-32\n",
       "Residual   72.0   4.582428   0.063645         NaN           NaN"
      ]
     },
     "execution_count": 56,
     "metadata": {},
     "output_type": "execute_result"
    }
   ],
   "source": [
    "model = ols('L_s ~ C(자치구) + C(season)', data).fit()\n",
    "anova_lm(model)\n",
    "# p-value가 작으면 L_s에 유의미한 영향을 끼치는 변수"
   ]
  },
  {
   "cell_type": "code",
   "execution_count": null,
   "metadata": {},
   "outputs": [],
   "source": []
  },
  {
   "cell_type": "markdown",
   "metadata": {},
   "source": [
    "#### datas데이터 이용"
   ]
  },
  {
   "cell_type": "code",
   "execution_count": 57,
   "metadata": {},
   "outputs": [
    {
     "data": {
      "text/html": [
       "<div>\n",
       "<style scoped>\n",
       "    .dataframe tbody tr th:only-of-type {\n",
       "        vertical-align: middle;\n",
       "    }\n",
       "\n",
       "    .dataframe tbody tr th {\n",
       "        vertical-align: top;\n",
       "    }\n",
       "\n",
       "    .dataframe thead th {\n",
       "        text-align: right;\n",
       "    }\n",
       "</style>\n",
       "<table border=\"1\" class=\"dataframe\">\n",
       "  <thead>\n",
       "    <tr style=\"text-align: right;\">\n",
       "      <th></th>\n",
       "      <th>df</th>\n",
       "      <th>sum_sq</th>\n",
       "      <th>mean_sq</th>\n",
       "      <th>F</th>\n",
       "      <th>PR(&gt;F)</th>\n",
       "    </tr>\n",
       "  </thead>\n",
       "  <tbody>\n",
       "    <tr>\n",
       "      <th>C(특성)</th>\n",
       "      <td>3.0</td>\n",
       "      <td>5.056147</td>\n",
       "      <td>1.685382</td>\n",
       "      <td>3.578228</td>\n",
       "      <td>0.046849</td>\n",
       "    </tr>\n",
       "    <tr>\n",
       "      <th>Residual</th>\n",
       "      <td>12.0</td>\n",
       "      <td>5.652124</td>\n",
       "      <td>0.471010</td>\n",
       "      <td>NaN</td>\n",
       "      <td>NaN</td>\n",
       "    </tr>\n",
       "  </tbody>\n",
       "</table>\n",
       "</div>"
      ],
      "text/plain": [
       "            df    sum_sq   mean_sq         F    PR(>F)\n",
       "C(특성)      3.0  5.056147  1.685382  3.578228  0.046849\n",
       "Residual  12.0  5.652124  0.471010       NaN       NaN"
      ]
     },
     "execution_count": 57,
     "metadata": {},
     "output_type": "execute_result"
    }
   ],
   "source": [
    "from statsmodels.formula.api import ols\n",
    "from statsmodels.stats.anova import anova_lm\n",
    "\n",
    "model = ols('L_s ~ C(특성)', datas).fit()\n",
    "anova_lm(model)"
   ]
  },
  {
   "cell_type": "code",
   "execution_count": 58,
   "metadata": {},
   "outputs": [
    {
     "data": {
      "text/html": [
       "<div>\n",
       "<style scoped>\n",
       "    .dataframe tbody tr th:only-of-type {\n",
       "        vertical-align: middle;\n",
       "    }\n",
       "\n",
       "    .dataframe tbody tr th {\n",
       "        vertical-align: top;\n",
       "    }\n",
       "\n",
       "    .dataframe thead th {\n",
       "        text-align: right;\n",
       "    }\n",
       "</style>\n",
       "<table border=\"1\" class=\"dataframe\">\n",
       "  <thead>\n",
       "    <tr style=\"text-align: right;\">\n",
       "      <th></th>\n",
       "      <th>df</th>\n",
       "      <th>sum_sq</th>\n",
       "      <th>mean_sq</th>\n",
       "      <th>F</th>\n",
       "      <th>PR(&gt;F)</th>\n",
       "    </tr>\n",
       "  </thead>\n",
       "  <tbody>\n",
       "    <tr>\n",
       "      <th>C(특성)</th>\n",
       "      <td>3.0</td>\n",
       "      <td>158.199506</td>\n",
       "      <td>52.733169</td>\n",
       "      <td>1.08414</td>\n",
       "      <td>0.392936</td>\n",
       "    </tr>\n",
       "    <tr>\n",
       "      <th>Residual</th>\n",
       "      <td>12.0</td>\n",
       "      <td>583.686843</td>\n",
       "      <td>48.640570</td>\n",
       "      <td>NaN</td>\n",
       "      <td>NaN</td>\n",
       "    </tr>\n",
       "  </tbody>\n",
       "</table>\n",
       "</div>"
      ],
      "text/plain": [
       "            df      sum_sq    mean_sq        F    PR(>F)\n",
       "C(특성)      3.0  158.199506  52.733169  1.08414  0.392936\n",
       "Residual  12.0  583.686843  48.640570      NaN       NaN"
      ]
     },
     "execution_count": 58,
     "metadata": {},
     "output_type": "execute_result"
    }
   ],
   "source": [
    "model = ols('W_s ~ C(특성)', datas).fit()\n",
    "anova_lm(model)"
   ]
  },
  {
   "cell_type": "code",
   "execution_count": 59,
   "metadata": {},
   "outputs": [
    {
     "data": {
      "text/html": [
       "<div>\n",
       "<style scoped>\n",
       "    .dataframe tbody tr th:only-of-type {\n",
       "        vertical-align: middle;\n",
       "    }\n",
       "\n",
       "    .dataframe tbody tr th {\n",
       "        vertical-align: top;\n",
       "    }\n",
       "\n",
       "    .dataframe thead th {\n",
       "        text-align: right;\n",
       "    }\n",
       "</style>\n",
       "<table border=\"1\" class=\"dataframe\">\n",
       "  <thead>\n",
       "    <tr style=\"text-align: right;\">\n",
       "      <th></th>\n",
       "      <th>df</th>\n",
       "      <th>sum_sq</th>\n",
       "      <th>mean_sq</th>\n",
       "      <th>F</th>\n",
       "      <th>PR(&gt;F)</th>\n",
       "    </tr>\n",
       "  </thead>\n",
       "  <tbody>\n",
       "    <tr>\n",
       "      <th>C(season)</th>\n",
       "      <td>3.0</td>\n",
       "      <td>5.258104</td>\n",
       "      <td>1.752701</td>\n",
       "      <td>3.85904</td>\n",
       "      <td>0.038221</td>\n",
       "    </tr>\n",
       "    <tr>\n",
       "      <th>Residual</th>\n",
       "      <td>12.0</td>\n",
       "      <td>5.450168</td>\n",
       "      <td>0.454181</td>\n",
       "      <td>NaN</td>\n",
       "      <td>NaN</td>\n",
       "    </tr>\n",
       "  </tbody>\n",
       "</table>\n",
       "</div>"
      ],
      "text/plain": [
       "             df    sum_sq   mean_sq        F    PR(>F)\n",
       "C(season)   3.0  5.258104  1.752701  3.85904  0.038221\n",
       "Residual   12.0  5.450168  0.454181      NaN       NaN"
      ]
     },
     "execution_count": 59,
     "metadata": {},
     "output_type": "execute_result"
    }
   ],
   "source": [
    "model = ols('L_s ~ C(season)', datas).fit()\n",
    "anova_lm(model)"
   ]
  },
  {
   "cell_type": "code",
   "execution_count": 60,
   "metadata": {},
   "outputs": [
    {
     "data": {
      "text/html": [
       "<div>\n",
       "<style scoped>\n",
       "    .dataframe tbody tr th:only-of-type {\n",
       "        vertical-align: middle;\n",
       "    }\n",
       "\n",
       "    .dataframe tbody tr th {\n",
       "        vertical-align: top;\n",
       "    }\n",
       "\n",
       "    .dataframe thead th {\n",
       "        text-align: right;\n",
       "    }\n",
       "</style>\n",
       "<table border=\"1\" class=\"dataframe\">\n",
       "  <thead>\n",
       "    <tr style=\"text-align: right;\">\n",
       "      <th></th>\n",
       "      <th>df</th>\n",
       "      <th>sum_sq</th>\n",
       "      <th>mean_sq</th>\n",
       "      <th>F</th>\n",
       "      <th>PR(&gt;F)</th>\n",
       "    </tr>\n",
       "  </thead>\n",
       "  <tbody>\n",
       "    <tr>\n",
       "      <th>C(season)</th>\n",
       "      <td>3.0</td>\n",
       "      <td>511.856388</td>\n",
       "      <td>170.618796</td>\n",
       "      <td>8.900691</td>\n",
       "      <td>0.002232</td>\n",
       "    </tr>\n",
       "    <tr>\n",
       "      <th>Residual</th>\n",
       "      <td>12.0</td>\n",
       "      <td>230.029961</td>\n",
       "      <td>19.169163</td>\n",
       "      <td>NaN</td>\n",
       "      <td>NaN</td>\n",
       "    </tr>\n",
       "  </tbody>\n",
       "</table>\n",
       "</div>"
      ],
      "text/plain": [
       "             df      sum_sq     mean_sq         F    PR(>F)\n",
       "C(season)   3.0  511.856388  170.618796  8.900691  0.002232\n",
       "Residual   12.0  230.029961   19.169163       NaN       NaN"
      ]
     },
     "execution_count": 60,
     "metadata": {},
     "output_type": "execute_result"
    }
   ],
   "source": [
    "model = ols('W_s ~ C(season)', datas).fit()\n",
    "anova_lm(model)"
   ]
  },
  {
   "cell_type": "markdown",
   "metadata": {},
   "source": [
    "#### 이원분산분석(특성 season이 L_s, W_s에 영향을 미치는지 살펴보기 위한 코드)"
   ]
  },
  {
   "cell_type": "code",
   "execution_count": 61,
   "metadata": {},
   "outputs": [
    {
     "data": {
      "text/html": [
       "<div>\n",
       "<style scoped>\n",
       "    .dataframe tbody tr th:only-of-type {\n",
       "        vertical-align: middle;\n",
       "    }\n",
       "\n",
       "    .dataframe tbody tr th {\n",
       "        vertical-align: top;\n",
       "    }\n",
       "\n",
       "    .dataframe thead th {\n",
       "        text-align: right;\n",
       "    }\n",
       "</style>\n",
       "<table border=\"1\" class=\"dataframe\">\n",
       "  <thead>\n",
       "    <tr style=\"text-align: right;\">\n",
       "      <th></th>\n",
       "      <th>df</th>\n",
       "      <th>sum_sq</th>\n",
       "      <th>mean_sq</th>\n",
       "      <th>F</th>\n",
       "      <th>PR(&gt;F)</th>\n",
       "    </tr>\n",
       "  </thead>\n",
       "  <tbody>\n",
       "    <tr>\n",
       "      <th>C(특성)</th>\n",
       "      <td>3.0</td>\n",
       "      <td>5.056147</td>\n",
       "      <td>1.685382</td>\n",
       "      <td>38.496623</td>\n",
       "      <td>0.000018</td>\n",
       "    </tr>\n",
       "    <tr>\n",
       "      <th>C(season)</th>\n",
       "      <td>3.0</td>\n",
       "      <td>5.258104</td>\n",
       "      <td>1.752701</td>\n",
       "      <td>40.034283</td>\n",
       "      <td>0.000016</td>\n",
       "    </tr>\n",
       "    <tr>\n",
       "      <th>Residual</th>\n",
       "      <td>9.0</td>\n",
       "      <td>0.394020</td>\n",
       "      <td>0.043780</td>\n",
       "      <td>NaN</td>\n",
       "      <td>NaN</td>\n",
       "    </tr>\n",
       "  </tbody>\n",
       "</table>\n",
       "</div>"
      ],
      "text/plain": [
       "            df    sum_sq   mean_sq          F    PR(>F)\n",
       "C(특성)      3.0  5.056147  1.685382  38.496623  0.000018\n",
       "C(season)  3.0  5.258104  1.752701  40.034283  0.000016\n",
       "Residual   9.0  0.394020  0.043780        NaN       NaN"
      ]
     },
     "execution_count": 61,
     "metadata": {},
     "output_type": "execute_result"
    }
   ],
   "source": [
    "model = ols('L_s ~ C(특성) + C(season)', datas).fit()\n",
    "anova_lm(model)\n",
    "# p-value가 작으면 L_s에 유의미한 영향을 끼치는 변수"
   ]
  },
  {
   "cell_type": "code",
   "execution_count": null,
   "metadata": {},
   "outputs": [],
   "source": []
  },
  {
   "cell_type": "markdown",
   "metadata": {},
   "source": [
    "# Rank Order Correlation test\n",
    "### L_s, W_s의 자치구별 순위의 상관계수 분석\n",
    "1. 피어슨 상관계수(pearson correlation coefficient): 자치구별 분석 안됨. 각 월별 L_s, W_s 상관분석만 가능\n",
    "2. 켄달 상관계수(kendall rank order correlation coefficient)\n",
    "3. 스피어만 상관계수(spearman rank order correlation coefficient)"
   ]
  },
  {
   "cell_type": "markdown",
   "metadata": {},
   "source": [
    "#### df데이터 이용"
   ]
  },
  {
   "cell_type": "markdown",
   "metadata": {},
   "source": [
    "#### 피어슨 상관계수\n",
    "- 두 변수간 선형적인 관계가 있는지 판단\n",
    "- 피어슨 상관계수가 0에 가까운 수치를 보이면 선형적인 관계가 낮음을 의미\n",
    "- 피어슨 상관계수는 -1 ~ 1의 값을 가짐\n",
    "- -1에 가까울수록 두 변수는 음의 선형적인 상관관계\n",
    "- 1에 가까울수록 두 변수는 양의 선형적인 상관관계"
   ]
  },
  {
   "cell_type": "code",
   "execution_count": 62,
   "metadata": {},
   "outputs": [],
   "source": [
    "df1 = df[df['month'] == '1월']\n",
    "df2 = df[df['month'] == '2월']\n",
    "df3 = df[df['month'] == '3월']\n",
    "df4 = df[df['month'] == '4월']\n",
    "df5 = df[df['month'] == '5월']\n",
    "df6 = df[df['month'] == '6월']\n",
    "df7 = df[df['month'] == '7월']\n",
    "df8 = df[df['month'] == '8월']\n",
    "df9 = df[df['month'] == '9월']\n",
    "df10 = df[df['month'] == '10월']\n",
    "df11 = df[df['month'] == '11월']\n",
    "df12 = df[df['month'] == '12월']"
   ]
  },
  {
   "cell_type": "code",
   "execution_count": 63,
   "metadata": {},
   "outputs": [
    {
     "name": "stdout",
     "output_type": "stream",
     "text": [
      "correlation coefficient: 0.9526004586813487, p-value : 2.2343294327681018e-13\n"
     ]
    }
   ],
   "source": [
    "import scipy.stats as stats\n",
    "\n",
    "# 1월\n",
    "\n",
    "rho, p_val = stats.pearsonr(df1['L_s'], df1['W_s'])\n",
    "print('correlation coefficient: {}, p-value : {}'.format(rho, p_val))"
   ]
  },
  {
   "cell_type": "markdown",
   "metadata": {},
   "source": [
    "- 첫번째 값은 피어슨 상관계수 값\n",
    "- 두번째 값은 p-value값\n",
    "- 이 p-value값은 아래와 같은 가설하에서 산출된 값으로 실행 결과 값은 p-value가 거의 0인 수준으로 유의수준 0.05(5%)하에서 상관계수가 0이 아니라고 말할 수 있음\n",
    "- 즉, 상관계수는 0이라는 귀무가설을 기각할 수 있음\n",
    "- 가설: H0: rho_xy = 0, H1: rho_xy != 0"
   ]
  },
  {
   "cell_type": "code",
   "execution_count": 64,
   "metadata": {},
   "outputs": [
    {
     "name": "stdout",
     "output_type": "stream",
     "text": [
      "correlation coefficient: 0.8870068808867927, p-value : 3.510157269232479e-09\n"
     ]
    }
   ],
   "source": [
    "# 2월\n",
    "\n",
    "rho, p_val = stats.pearsonr(df2['L_s'], df2['W_s'])\n",
    "print('correlation coefficient: {}, p-value : {}'.format(rho, p_val))"
   ]
  },
  {
   "cell_type": "code",
   "execution_count": 65,
   "metadata": {},
   "outputs": [
    {
     "name": "stdout",
     "output_type": "stream",
     "text": [
      "correlation coefficient: 0.8097652146444472, p-value : 9.413886314554888e-07\n"
     ]
    }
   ],
   "source": [
    "# 3월\n",
    "\n",
    "rho, p_val = stats.pearsonr(df3['L_s'], df3['W_s'])\n",
    "print('correlation coefficient: {}, p-value : {}'.format(rho, p_val))"
   ]
  },
  {
   "cell_type": "code",
   "execution_count": 66,
   "metadata": {},
   "outputs": [
    {
     "name": "stdout",
     "output_type": "stream",
     "text": [
      "correlation coefficient: 0.7184393377770852, p-value : 5.236167861780774e-05\n"
     ]
    }
   ],
   "source": [
    "# 4월\n",
    "\n",
    "rho, p_val = stats.pearsonr(df4['L_s'], df4['W_s'])\n",
    "print('correlation coefficient: {}, p-value : {}'.format(rho, p_val))"
   ]
  },
  {
   "cell_type": "code",
   "execution_count": 67,
   "metadata": {},
   "outputs": [
    {
     "name": "stdout",
     "output_type": "stream",
     "text": [
      "correlation coefficient: 0.6693651993549316, p-value : 0.00025301959013876375\n"
     ]
    }
   ],
   "source": [
    "# 5월\n",
    "\n",
    "rho, p_val = stats.pearsonr(df5['L_s'], df5['W_s'])\n",
    "print('correlation coefficient: {}, p-value : {}'.format(rho, p_val))"
   ]
  },
  {
   "cell_type": "code",
   "execution_count": 68,
   "metadata": {},
   "outputs": [
    {
     "name": "stdout",
     "output_type": "stream",
     "text": [
      "correlation coefficient: 0.27785541980512224, p-value : 0.1786864595028745\n"
     ]
    }
   ],
   "source": [
    "# 6월\n",
    "\n",
    "rho, p_val = stats.pearsonr(df6['L_s'], df6['W_s'])\n",
    "print('correlation coefficient: {}, p-value : {}'.format(rho, p_val))"
   ]
  },
  {
   "cell_type": "code",
   "execution_count": 69,
   "metadata": {},
   "outputs": [
    {
     "name": "stdout",
     "output_type": "stream",
     "text": [
      "correlation coefficient: 0.24749794420606824, p-value : 0.2329464986470247\n"
     ]
    }
   ],
   "source": [
    "# 7월\n",
    "\n",
    "rho, p_val = stats.pearsonr(df7['L_s'], df7['W_s'])\n",
    "print('correlation coefficient: {}, p-value : {}'.format(rho, p_val))"
   ]
  },
  {
   "cell_type": "code",
   "execution_count": 70,
   "metadata": {},
   "outputs": [
    {
     "name": "stdout",
     "output_type": "stream",
     "text": [
      "correlation coefficient: 0.6385243145127716, p-value : 0.0005926297435843884\n"
     ]
    }
   ],
   "source": [
    "# 8월\n",
    "\n",
    "rho, p_val = stats.pearsonr(df8['L_s'], df8['W_s'])\n",
    "print('correlation coefficient: {}, p-value : {}'.format(rho, p_val))"
   ]
  },
  {
   "cell_type": "code",
   "execution_count": 71,
   "metadata": {},
   "outputs": [
    {
     "name": "stdout",
     "output_type": "stream",
     "text": [
      "correlation coefficient: 0.47512326988751885, p-value : 0.0163878598891715\n"
     ]
    }
   ],
   "source": [
    "# 9월\n",
    "\n",
    "rho, p_val = stats.pearsonr(df9['L_s'], df9['W_s'])\n",
    "print('correlation coefficient: {}, p-value : {}'.format(rho, p_val))"
   ]
  },
  {
   "cell_type": "code",
   "execution_count": 72,
   "metadata": {},
   "outputs": [
    {
     "name": "stdout",
     "output_type": "stream",
     "text": [
      "correlation coefficient: 0.5114589978849474, p-value : 0.008970071078740179\n"
     ]
    }
   ],
   "source": [
    "# 10월\n",
    "\n",
    "rho, p_val = stats.pearsonr(df10['L_s'], df10['W_s'])\n",
    "print('correlation coefficient: {}, p-value : {}'.format(rho, p_val))"
   ]
  },
  {
   "cell_type": "code",
   "execution_count": 73,
   "metadata": {},
   "outputs": [
    {
     "name": "stdout",
     "output_type": "stream",
     "text": [
      "correlation coefficient: 0.6516765778765568, p-value : 0.00041698975196896354\n"
     ]
    }
   ],
   "source": [
    "# 11월\n",
    "\n",
    "rho, p_val = stats.pearsonr(df11['L_s'], df11['W_s'])\n",
    "print('correlation coefficient: {}, p-value : {}'.format(rho, p_val))"
   ]
  },
  {
   "cell_type": "code",
   "execution_count": 74,
   "metadata": {},
   "outputs": [
    {
     "name": "stdout",
     "output_type": "stream",
     "text": [
      "correlation coefficient: 0.913423213631183, p-value : 1.8760309304340677e-10\n"
     ]
    }
   ],
   "source": [
    "# 12월\n",
    "\n",
    "rho, p_val = stats.pearsonr(df12['L_s'], df12['W_s'])\n",
    "print('correlation coefficient: {}, p-value : {}'.format(rho, p_val))"
   ]
  },
  {
   "cell_type": "markdown",
   "metadata": {},
   "source": [
    "#### 스피어만 상관계수\n",
    "- 피어슨 상관계수는 원 데이터 수치값을 그대로 활용하는 반면\n",
    "- 스피어만 상관계수는 데이터의 순서통계량 값을 활용하여 순서값의 피어슨 상관계수인 셈\n",
    "- 즉, x변수 내의 데이터에서 제일 큰 값을 1, 두번째 큰 값을 2등으로 변환시키고,\n",
    "- y변수도 동일하게 변환시킨 후 변환된 값들 간의 피어슨 상관계수인 셈"
   ]
  },
  {
   "cell_type": "code",
   "execution_count": 76,
   "metadata": {
    "scrolled": false
   },
   "outputs": [
    {
     "data": {
      "text/html": [
       "<div>\n",
       "<style scoped>\n",
       "    .dataframe tbody tr th:only-of-type {\n",
       "        vertical-align: middle;\n",
       "    }\n",
       "\n",
       "    .dataframe tbody tr th {\n",
       "        vertical-align: top;\n",
       "    }\n",
       "\n",
       "    .dataframe thead th {\n",
       "        text-align: right;\n",
       "    }\n",
       "</style>\n",
       "<table border=\"1\" class=\"dataframe\">\n",
       "  <thead>\n",
       "    <tr style=\"text-align: right;\">\n",
       "      <th></th>\n",
       "      <th>자치구</th>\n",
       "      <th>L_s</th>\n",
       "      <th>W_s</th>\n",
       "    </tr>\n",
       "  </thead>\n",
       "  <tbody>\n",
       "    <tr>\n",
       "      <th>0</th>\n",
       "      <td>강남구</td>\n",
       "      <td>0.650323</td>\n",
       "      <td>10.187722</td>\n",
       "    </tr>\n",
       "    <tr>\n",
       "      <th>1</th>\n",
       "      <td>강동구</td>\n",
       "      <td>1.369660</td>\n",
       "      <td>14.224855</td>\n",
       "    </tr>\n",
       "    <tr>\n",
       "      <th>2</th>\n",
       "      <td>강북구</td>\n",
       "      <td>1.039649</td>\n",
       "      <td>9.915900</td>\n",
       "    </tr>\n",
       "    <tr>\n",
       "      <th>3</th>\n",
       "      <td>강서구</td>\n",
       "      <td>2.223104</td>\n",
       "      <td>21.573819</td>\n",
       "    </tr>\n",
       "    <tr>\n",
       "      <th>4</th>\n",
       "      <td>관악구</td>\n",
       "      <td>1.827448</td>\n",
       "      <td>9.445690</td>\n",
       "    </tr>\n",
       "    <tr>\n",
       "      <th>5</th>\n",
       "      <td>광진구</td>\n",
       "      <td>2.486049</td>\n",
       "      <td>15.232942</td>\n",
       "    </tr>\n",
       "    <tr>\n",
       "      <th>6</th>\n",
       "      <td>구로구</td>\n",
       "      <td>1.646003</td>\n",
       "      <td>18.665552</td>\n",
       "    </tr>\n",
       "    <tr>\n",
       "      <th>7</th>\n",
       "      <td>금천구</td>\n",
       "      <td>0.849961</td>\n",
       "      <td>16.566422</td>\n",
       "    </tr>\n",
       "    <tr>\n",
       "      <th>8</th>\n",
       "      <td>노원구</td>\n",
       "      <td>1.804340</td>\n",
       "      <td>11.266610</td>\n",
       "    </tr>\n",
       "    <tr>\n",
       "      <th>9</th>\n",
       "      <td>도봉구</td>\n",
       "      <td>1.250441</td>\n",
       "      <td>12.283387</td>\n",
       "    </tr>\n",
       "    <tr>\n",
       "      <th>10</th>\n",
       "      <td>동대문구</td>\n",
       "      <td>1.623945</td>\n",
       "      <td>14.178489</td>\n",
       "    </tr>\n",
       "    <tr>\n",
       "      <th>11</th>\n",
       "      <td>동작구</td>\n",
       "      <td>1.396572</td>\n",
       "      <td>12.162859</td>\n",
       "    </tr>\n",
       "    <tr>\n",
       "      <th>12</th>\n",
       "      <td>마포구</td>\n",
       "      <td>2.435663</td>\n",
       "      <td>22.218389</td>\n",
       "    </tr>\n",
       "    <tr>\n",
       "      <th>13</th>\n",
       "      <td>서대문구</td>\n",
       "      <td>1.102806</td>\n",
       "      <td>11.525425</td>\n",
       "    </tr>\n",
       "    <tr>\n",
       "      <th>14</th>\n",
       "      <td>서초구</td>\n",
       "      <td>1.066824</td>\n",
       "      <td>15.226306</td>\n",
       "    </tr>\n",
       "    <tr>\n",
       "      <th>15</th>\n",
       "      <td>성동구</td>\n",
       "      <td>2.188301</td>\n",
       "      <td>19.027163</td>\n",
       "    </tr>\n",
       "    <tr>\n",
       "      <th>16</th>\n",
       "      <td>성북구</td>\n",
       "      <td>1.541487</td>\n",
       "      <td>10.898285</td>\n",
       "    </tr>\n",
       "    <tr>\n",
       "      <th>17</th>\n",
       "      <td>송파구</td>\n",
       "      <td>1.643186</td>\n",
       "      <td>16.669299</td>\n",
       "    </tr>\n",
       "    <tr>\n",
       "      <th>18</th>\n",
       "      <td>양천구</td>\n",
       "      <td>2.003317</td>\n",
       "      <td>16.300556</td>\n",
       "    </tr>\n",
       "    <tr>\n",
       "      <th>19</th>\n",
       "      <td>영등포구</td>\n",
       "      <td>2.917150</td>\n",
       "      <td>23.241736</td>\n",
       "    </tr>\n",
       "    <tr>\n",
       "      <th>20</th>\n",
       "      <td>용산구</td>\n",
       "      <td>1.175485</td>\n",
       "      <td>15.377731</td>\n",
       "    </tr>\n",
       "    <tr>\n",
       "      <th>21</th>\n",
       "      <td>은평구</td>\n",
       "      <td>1.311835</td>\n",
       "      <td>12.491654</td>\n",
       "    </tr>\n",
       "    <tr>\n",
       "      <th>22</th>\n",
       "      <td>종로구</td>\n",
       "      <td>1.212681</td>\n",
       "      <td>23.859252</td>\n",
       "    </tr>\n",
       "    <tr>\n",
       "      <th>23</th>\n",
       "      <td>중구</td>\n",
       "      <td>0.758916</td>\n",
       "      <td>21.898350</td>\n",
       "    </tr>\n",
       "    <tr>\n",
       "      <th>24</th>\n",
       "      <td>중랑구</td>\n",
       "      <td>1.368817</td>\n",
       "      <td>10.192001</td>\n",
       "    </tr>\n",
       "  </tbody>\n",
       "</table>\n",
       "</div>"
      ],
      "text/plain": [
       "     자치구       L_s        W_s\n",
       "0    강남구  0.650323  10.187722\n",
       "1    강동구  1.369660  14.224855\n",
       "2    강북구  1.039649   9.915900\n",
       "3    강서구  2.223104  21.573819\n",
       "4    관악구  1.827448   9.445690\n",
       "5    광진구  2.486049  15.232942\n",
       "6    구로구  1.646003  18.665552\n",
       "7    금천구  0.849961  16.566422\n",
       "8    노원구  1.804340  11.266610\n",
       "9    도봉구  1.250441  12.283387\n",
       "10  동대문구  1.623945  14.178489\n",
       "11   동작구  1.396572  12.162859\n",
       "12   마포구  2.435663  22.218389\n",
       "13  서대문구  1.102806  11.525425\n",
       "14   서초구  1.066824  15.226306\n",
       "15   성동구  2.188301  19.027163\n",
       "16   성북구  1.541487  10.898285\n",
       "17   송파구  1.643186  16.669299\n",
       "18   양천구  2.003317  16.300556\n",
       "19  영등포구  2.917150  23.241736\n",
       "20   용산구  1.175485  15.377731\n",
       "21   은평구  1.311835  12.491654\n",
       "22   종로구  1.212681  23.859252\n",
       "23    중구  0.758916  21.898350\n",
       "24   중랑구  1.368817  10.192001"
      ]
     },
     "execution_count": 76,
     "metadata": {},
     "output_type": "execute_result"
    }
   ],
   "source": [
    "dfy = pd.read_excel('./data/자치구별, 특성별, ls, ws 평균/1년 전체 자치구별 Ls, Ws 평균.xlsx')\n",
    "dfy"
   ]
  },
  {
   "cell_type": "code",
   "execution_count": 79,
   "metadata": {},
   "outputs": [
    {
     "data": {
      "text/html": [
       "<div>\n",
       "<style scoped>\n",
       "    .dataframe tbody tr th:only-of-type {\n",
       "        vertical-align: middle;\n",
       "    }\n",
       "\n",
       "    .dataframe tbody tr th {\n",
       "        vertical-align: top;\n",
       "    }\n",
       "\n",
       "    .dataframe thead th {\n",
       "        text-align: right;\n",
       "    }\n",
       "</style>\n",
       "<table border=\"1\" class=\"dataframe\">\n",
       "  <thead>\n",
       "    <tr style=\"text-align: right;\">\n",
       "      <th></th>\n",
       "      <th>자치구</th>\n",
       "      <th>L_s</th>\n",
       "      <th>W_s</th>\n",
       "      <th>자치구 대여건수 순위</th>\n",
       "    </tr>\n",
       "  </thead>\n",
       "  <tbody>\n",
       "    <tr>\n",
       "      <th>0</th>\n",
       "      <td>강남구</td>\n",
       "      <td>0.650323</td>\n",
       "      <td>10.187722</td>\n",
       "      <td>12</td>\n",
       "    </tr>\n",
       "    <tr>\n",
       "      <th>1</th>\n",
       "      <td>강동구</td>\n",
       "      <td>1.369660</td>\n",
       "      <td>14.224855</td>\n",
       "      <td>13</td>\n",
       "    </tr>\n",
       "    <tr>\n",
       "      <th>2</th>\n",
       "      <td>강북구</td>\n",
       "      <td>1.039649</td>\n",
       "      <td>9.915900</td>\n",
       "      <td>23</td>\n",
       "    </tr>\n",
       "    <tr>\n",
       "      <th>3</th>\n",
       "      <td>강서구</td>\n",
       "      <td>2.223104</td>\n",
       "      <td>21.573819</td>\n",
       "      <td>3</td>\n",
       "    </tr>\n",
       "    <tr>\n",
       "      <th>4</th>\n",
       "      <td>관악구</td>\n",
       "      <td>1.827448</td>\n",
       "      <td>9.445690</td>\n",
       "      <td>15</td>\n",
       "    </tr>\n",
       "    <tr>\n",
       "      <th>5</th>\n",
       "      <td>광진구</td>\n",
       "      <td>2.486049</td>\n",
       "      <td>15.232942</td>\n",
       "      <td>5</td>\n",
       "    </tr>\n",
       "    <tr>\n",
       "      <th>6</th>\n",
       "      <td>구로구</td>\n",
       "      <td>1.646003</td>\n",
       "      <td>18.665552</td>\n",
       "      <td>11</td>\n",
       "    </tr>\n",
       "    <tr>\n",
       "      <th>7</th>\n",
       "      <td>금천구</td>\n",
       "      <td>0.849961</td>\n",
       "      <td>16.566422</td>\n",
       "      <td>25</td>\n",
       "    </tr>\n",
       "    <tr>\n",
       "      <th>8</th>\n",
       "      <td>노원구</td>\n",
       "      <td>1.804340</td>\n",
       "      <td>11.266610</td>\n",
       "      <td>6</td>\n",
       "    </tr>\n",
       "    <tr>\n",
       "      <th>9</th>\n",
       "      <td>도봉구</td>\n",
       "      <td>1.250441</td>\n",
       "      <td>12.283387</td>\n",
       "      <td>24</td>\n",
       "    </tr>\n",
       "    <tr>\n",
       "      <th>10</th>\n",
       "      <td>동대문구</td>\n",
       "      <td>1.623945</td>\n",
       "      <td>14.178489</td>\n",
       "      <td>14</td>\n",
       "    </tr>\n",
       "    <tr>\n",
       "      <th>11</th>\n",
       "      <td>동작구</td>\n",
       "      <td>1.396572</td>\n",
       "      <td>12.162859</td>\n",
       "      <td>20</td>\n",
       "    </tr>\n",
       "    <tr>\n",
       "      <th>12</th>\n",
       "      <td>마포구</td>\n",
       "      <td>2.435663</td>\n",
       "      <td>22.218389</td>\n",
       "      <td>4</td>\n",
       "    </tr>\n",
       "    <tr>\n",
       "      <th>13</th>\n",
       "      <td>서대문구</td>\n",
       "      <td>1.102806</td>\n",
       "      <td>11.525425</td>\n",
       "      <td>18</td>\n",
       "    </tr>\n",
       "    <tr>\n",
       "      <th>14</th>\n",
       "      <td>서초구</td>\n",
       "      <td>1.066824</td>\n",
       "      <td>15.226306</td>\n",
       "      <td>8</td>\n",
       "    </tr>\n",
       "    <tr>\n",
       "      <th>15</th>\n",
       "      <td>성동구</td>\n",
       "      <td>2.188301</td>\n",
       "      <td>19.027163</td>\n",
       "      <td>7</td>\n",
       "    </tr>\n",
       "    <tr>\n",
       "      <th>16</th>\n",
       "      <td>성북구</td>\n",
       "      <td>1.541487</td>\n",
       "      <td>10.898285</td>\n",
       "      <td>16</td>\n",
       "    </tr>\n",
       "    <tr>\n",
       "      <th>17</th>\n",
       "      <td>송파구</td>\n",
       "      <td>1.643186</td>\n",
       "      <td>16.669299</td>\n",
       "      <td>2</td>\n",
       "    </tr>\n",
       "    <tr>\n",
       "      <th>18</th>\n",
       "      <td>양천구</td>\n",
       "      <td>2.003317</td>\n",
       "      <td>16.300556</td>\n",
       "      <td>10</td>\n",
       "    </tr>\n",
       "    <tr>\n",
       "      <th>19</th>\n",
       "      <td>영등포구</td>\n",
       "      <td>2.917150</td>\n",
       "      <td>23.241736</td>\n",
       "      <td>1</td>\n",
       "    </tr>\n",
       "    <tr>\n",
       "      <th>20</th>\n",
       "      <td>용산구</td>\n",
       "      <td>1.175485</td>\n",
       "      <td>15.377731</td>\n",
       "      <td>22</td>\n",
       "    </tr>\n",
       "    <tr>\n",
       "      <th>21</th>\n",
       "      <td>은평구</td>\n",
       "      <td>1.311835</td>\n",
       "      <td>12.491654</td>\n",
       "      <td>17</td>\n",
       "    </tr>\n",
       "    <tr>\n",
       "      <th>22</th>\n",
       "      <td>종로구</td>\n",
       "      <td>1.212681</td>\n",
       "      <td>23.859252</td>\n",
       "      <td>9</td>\n",
       "    </tr>\n",
       "    <tr>\n",
       "      <th>23</th>\n",
       "      <td>중구</td>\n",
       "      <td>0.758916</td>\n",
       "      <td>21.898350</td>\n",
       "      <td>21</td>\n",
       "    </tr>\n",
       "    <tr>\n",
       "      <th>24</th>\n",
       "      <td>중랑구</td>\n",
       "      <td>1.368817</td>\n",
       "      <td>10.192001</td>\n",
       "      <td>19</td>\n",
       "    </tr>\n",
       "  </tbody>\n",
       "</table>\n",
       "</div>"
      ],
      "text/plain": [
       "     자치구       L_s        W_s  자치구 대여건수 순위\n",
       "0    강남구  0.650323  10.187722           12\n",
       "1    강동구  1.369660  14.224855           13\n",
       "2    강북구  1.039649   9.915900           23\n",
       "3    강서구  2.223104  21.573819            3\n",
       "4    관악구  1.827448   9.445690           15\n",
       "5    광진구  2.486049  15.232942            5\n",
       "6    구로구  1.646003  18.665552           11\n",
       "7    금천구  0.849961  16.566422           25\n",
       "8    노원구  1.804340  11.266610            6\n",
       "9    도봉구  1.250441  12.283387           24\n",
       "10  동대문구  1.623945  14.178489           14\n",
       "11   동작구  1.396572  12.162859           20\n",
       "12   마포구  2.435663  22.218389            4\n",
       "13  서대문구  1.102806  11.525425           18\n",
       "14   서초구  1.066824  15.226306            8\n",
       "15   성동구  2.188301  19.027163            7\n",
       "16   성북구  1.541487  10.898285           16\n",
       "17   송파구  1.643186  16.669299            2\n",
       "18   양천구  2.003317  16.300556           10\n",
       "19  영등포구  2.917150  23.241736            1\n",
       "20   용산구  1.175485  15.377731           22\n",
       "21   은평구  1.311835  12.491654           17\n",
       "22   종로구  1.212681  23.859252            9\n",
       "23    중구  0.758916  21.898350           21\n",
       "24   중랑구  1.368817  10.192001           19"
      ]
     },
     "execution_count": 79,
     "metadata": {},
     "output_type": "execute_result"
    }
   ],
   "source": [
    "dfy['자치구 대여건수 순위'] = [12, 13, 23, 3, 15, 5, 11, 25, 6, 24, 14, 20, 4, 18, 8, 7, 16, 2, 10, 1, 22, 17, 9, 21, 19]\n",
    "dfy"
   ]
  },
  {
   "cell_type": "code",
   "execution_count": 80,
   "metadata": {},
   "outputs": [
    {
     "name": "stdout",
     "output_type": "stream",
     "text": [
      "correlation coefficient: -0.71, p-value : 7.020466733169794e-05\n"
     ]
    }
   ],
   "source": [
    "rho, p_val = stats.spearmanr(dfy['자치구 대여건수 순위'], dfy['L_s'])\n",
    "print('correlation coefficient: {}, p-value : {}'.format(rho, p_val))"
   ]
  },
  {
   "cell_type": "code",
   "execution_count": 81,
   "metadata": {},
   "outputs": [
    {
     "name": "stdout",
     "output_type": "stream",
     "text": [
      "correlation coefficient: -0.4723076923076923, p-value : 0.017127174630535404\n"
     ]
    }
   ],
   "source": [
    "rho, p_val = stats.spearmanr(dfy['자치구 대여건수 순위'], dfy['W_s'])\n",
    "print('correlation coefficient: {}, p-value : {}'.format(rho, p_val))"
   ]
  },
  {
   "cell_type": "code",
   "execution_count": 82,
   "metadata": {},
   "outputs": [
    {
     "name": "stdout",
     "output_type": "stream",
     "text": [
      "correlation coefficient: 0.41056278403093366, p-value : 1.255694042325485e-13\n"
     ]
    }
   ],
   "source": [
    "rho, p_val = stats.spearmanr(df['L_s'], df['W_s'])\n",
    "print('correlation coefficient: {}, p-value : {}'.format(rho, p_val))"
   ]
  },
  {
   "cell_type": "code",
   "execution_count": null,
   "metadata": {},
   "outputs": [],
   "source": []
  },
  {
   "cell_type": "code",
   "execution_count": null,
   "metadata": {},
   "outputs": [],
   "source": []
  },
  {
   "cell_type": "code",
   "execution_count": 75,
   "metadata": {},
   "outputs": [
    {
     "name": "stdout",
     "output_type": "stream",
     "text": [
      "correlation coefficient: -0.0029837378422688486, p-value : 0.9589556098932235\n"
     ]
    }
   ],
   "source": [
    "rho, p_val = stats.spearmanr(df['자치구'], df['L_s'])\n",
    "print('correlation coefficient: {}, p-value : {}'.format(rho, p_val))"
   ]
  },
  {
   "cell_type": "markdown",
   "metadata": {},
   "source": [
    "- 첫번째 값은 스피어만 상관계수 값\n",
    "- 두번째 값은 p-value값\n",
    "- 이 p-value값은 아래와 같은 가설 하에서 산출된 값으로\n",
    "- 실행 결과 값은 p-value가 0.95수준으로 유의수준 0.05(5%)하에서 상관계수가 0이 아니라고 말할 수 없음.\n",
    "- 즉, 상관계수는 0이라는 귀무가설을 기각할 수 없음\n",
    "- 가설: H0: rho_xy = 0, H1: rho_xy != 0"
   ]
  },
  {
   "cell_type": "code",
   "execution_count": 76,
   "metadata": {},
   "outputs": [
    {
     "name": "stdout",
     "output_type": "stream",
     "text": [
      "correlation coefficient: 0.18699335926333555, p-value : 0.0011377291768750089\n"
     ]
    }
   ],
   "source": [
    "rho, p_val = stats.spearmanr(df['자치구'], df['W_s'])\n",
    "print('correlation coefficient: {}, p-value : {}'.format(rho, p_val))"
   ]
  },
  {
   "cell_type": "code",
   "execution_count": 77,
   "metadata": {},
   "outputs": [
    {
     "name": "stdout",
     "output_type": "stream",
     "text": [
      "correlation coefficient: 0.26097585635290893, p-value : 4.6276696131746255e-06\n"
     ]
    }
   ],
   "source": [
    "rho, p_val = stats.spearmanr(df['month'], df['L_s'])\n",
    "print('correlation coefficient: {}, p-value : {}'.format(rho, p_val))"
   ]
  },
  {
   "cell_type": "code",
   "execution_count": 78,
   "metadata": {},
   "outputs": [
    {
     "name": "stdout",
     "output_type": "stream",
     "text": [
      "correlation coefficient: -0.15478368101730675, p-value : 0.007232481090975793\n"
     ]
    }
   ],
   "source": [
    "rho, p_val = stats.spearmanr(df['month'], df['W_s'])\n",
    "print('correlation coefficient: {}, p-value : {}'.format(rho, p_val))"
   ]
  },
  {
   "cell_type": "code",
   "execution_count": 156,
   "metadata": {},
   "outputs": [
    {
     "name": "stdout",
     "output_type": "stream",
     "text": [
      "correlation coefficient: 0.41056278403093366, p-value : 1.255694042325485e-13\n"
     ]
    }
   ],
   "source": [
    "rho, p_val = stats.spearmanr(df['L_s'], df['W_s'])\n",
    "print('correlation coefficient: {}, p-value : {}'.format(rho, p_val))"
   ]
  },
  {
   "cell_type": "markdown",
   "metadata": {},
   "source": [
    "#### 켄달 상관계수\n",
    "- 두 변수 간에 방향을 분석하여 산출하는 방법\n",
    "- 즉, 한 변수가 증가할 때 다른 변수도 증가하는 횟수와 감소하는 횟수를 전체 측정하여 그 차이를 분석하여 상관계수로 표현하는 방법"
   ]
  },
  {
   "cell_type": "code",
   "execution_count": 79,
   "metadata": {},
   "outputs": [
    {
     "name": "stdout",
     "output_type": "stream",
     "text": [
      "correlation coefficient: -0.004861728208428877, p-value : 0.9018253988900088\n"
     ]
    }
   ],
   "source": [
    "rho, p_val = stats.kendalltau(df['자치구'], df['L_s'])\n",
    "print('correlation coefficient: {}, p-value : {}'.format(rho, p_val))"
   ]
  },
  {
   "cell_type": "markdown",
   "metadata": {},
   "source": [
    "- 첫번째 값은 켄달 상관계수 값\n",
    "- 두번째 값은 p-value 값\n",
    "- 이 p-value값은 아래와 같은 가설하에서 산출된 값으로\n",
    "- 실행 결과 값은 p-value가 0.9 수준으로 유의수준 0.05(5%)하에서 상관계수가 0이 아니라고 말할 수 없음\n",
    "- 즉, 상관계수는 0이라는 귀무가설을 기각할 수 없음\n",
    "- 가설: H0: rho_xy = 0, H1: rho_xy != 0"
   ]
  },
  {
   "cell_type": "code",
   "execution_count": 80,
   "metadata": {},
   "outputs": [
    {
     "name": "stdout",
     "output_type": "stream",
     "text": [
      "correlation coefficient: 0.13003987039741538, p-value : 0.0009686482218729645\n"
     ]
    }
   ],
   "source": [
    "rho, p_val = stats.kendalltau(df['자치구'], df['W_s'])\n",
    "print('correlation coefficient: {}, p-value : {}'.format(rho, p_val))"
   ]
  },
  {
   "cell_type": "code",
   "execution_count": 81,
   "metadata": {},
   "outputs": [
    {
     "name": "stdout",
     "output_type": "stream",
     "text": [
      "correlation coefficient: 0.17911133627270084, p-value : 8.461297445264954e-06\n"
     ]
    }
   ],
   "source": [
    "rho, p_val = stats.kendalltau(df['month'], df['L_s'])\n",
    "print('correlation coefficient: {}, p-value : {}'.format(rho, p_val))"
   ]
  },
  {
   "cell_type": "code",
   "execution_count": 82,
   "metadata": {},
   "outputs": [
    {
     "name": "stdout",
     "output_type": "stream",
     "text": [
      "correlation coefficient: -0.09597242940468706, p-value : 0.01702716980368064\n"
     ]
    }
   ],
   "source": [
    "rho, p_val = stats.kendalltau(df['month'], df['W_s'])\n",
    "print('correlation coefficient: {}, p-value : {}'.format(rho, p_val))"
   ]
  },
  {
   "cell_type": "code",
   "execution_count": null,
   "metadata": {},
   "outputs": [],
   "source": []
  },
  {
   "cell_type": "markdown",
   "metadata": {},
   "source": [
    "#### dfs데이터 이용"
   ]
  },
  {
   "cell_type": "markdown",
   "metadata": {},
   "source": [
    "#### 피어슨 상관계수\n",
    "- 두 변수간 선형적인 관계가 있는지 판단\n",
    "- 피어슨 상관계수가 0에 가까운 수치를 보이면 선형적인 관계가 낮음을 의미\n",
    "- 피어슨 상관계수는 -1 ~ 1의 값을 가짐\n",
    "- -1에 가까울수록 두 변수는 음의 선형적인 상관관계\n",
    "- 1에 가까울수록 두 변수는 양의 선형적인 상관관계"
   ]
  },
  {
   "cell_type": "code",
   "execution_count": 83,
   "metadata": {},
   "outputs": [],
   "source": [
    "dfs1 = dfs[dfs['month'] == '1월']\n",
    "dfs2 = dfs[dfs['month'] == '2월']\n",
    "dfs3 = dfs[dfs['month'] == '3월']\n",
    "dfs4 = dfs[dfs['month'] == '4월']\n",
    "dfs5 = dfs[dfs['month'] == '5월']\n",
    "dfs6 = dfs[dfs['month'] == '6월']\n",
    "dfs7 = dfs[dfs['month'] == '7월']\n",
    "dfs8 = dfs[dfs['month'] == '8월']\n",
    "dfs9 = dfs[dfs['month'] == '9월']\n",
    "dfs10 = dfs[dfs['month'] == '10월']\n",
    "dfs11 = dfs[dfs['month'] == '11월']\n",
    "dfs12 = dfs[dfs['month'] == '12월']"
   ]
  },
  {
   "cell_type": "code",
   "execution_count": 84,
   "metadata": {},
   "outputs": [
    {
     "name": "stdout",
     "output_type": "stream",
     "text": [
      "correlation coefficient: 0.9875778945709561, p-value : 0.012422105429043873\n"
     ]
    }
   ],
   "source": [
    "import scipy.stats as stats\n",
    "\n",
    "# 1월\n",
    "\n",
    "rho, p_val = stats.pearsonr(dfs1['L_s'], dfs1['W_s'])\n",
    "print('correlation coefficient: {}, p-value : {}'.format(rho, p_val))"
   ]
  },
  {
   "cell_type": "markdown",
   "metadata": {},
   "source": [
    "- 첫번째 값은 피어슨 상관계수 값\n",
    "- 두번째 값은 p-value값\n",
    "- 이 p-value값은 아래와 같은 가설하에서 산출된 값으로 실행 결과 값은 p-value가 거의 0인 수준으로 유의수준 0.05(5%)하에서 상관계수가 0이 아니라고 말할 수 있음\n",
    "- 즉, 상관계수는 0이라는 귀무가설을 기각할 수 있음\n",
    "- 가설: H0: rho_xy = 0, H1: rho_xy != 0"
   ]
  },
  {
   "cell_type": "code",
   "execution_count": 85,
   "metadata": {},
   "outputs": [
    {
     "name": "stdout",
     "output_type": "stream",
     "text": [
      "correlation coefficient: 0.9941672514984046, p-value : 0.005832748501595431\n"
     ]
    }
   ],
   "source": [
    "# 2월\n",
    "\n",
    "rho, p_val = stats.pearsonr(dfs2['L_s'], dfs2['W_s'])\n",
    "print('correlation coefficient: {}, p-value : {}'.format(rho, p_val))"
   ]
  },
  {
   "cell_type": "code",
   "execution_count": 86,
   "metadata": {},
   "outputs": [
    {
     "name": "stdout",
     "output_type": "stream",
     "text": [
      "correlation coefficient: 0.9974831620245271, p-value : 0.002516837975472863\n"
     ]
    }
   ],
   "source": [
    "# 3월\n",
    "\n",
    "rho, p_val = stats.pearsonr(dfs3['L_s'], dfs3['W_s'])\n",
    "print('correlation coefficient: {}, p-value : {}'.format(rho, p_val))"
   ]
  },
  {
   "cell_type": "code",
   "execution_count": 87,
   "metadata": {},
   "outputs": [
    {
     "name": "stdout",
     "output_type": "stream",
     "text": [
      "correlation coefficient: 0.852735051596972, p-value : 0.14726494840302795\n"
     ]
    }
   ],
   "source": [
    "# 4월\n",
    "\n",
    "rho, p_val = stats.pearsonr(dfs4['L_s'], dfs4['W_s'])\n",
    "print('correlation coefficient: {}, p-value : {}'.format(rho, p_val))"
   ]
  },
  {
   "cell_type": "code",
   "execution_count": 88,
   "metadata": {},
   "outputs": [
    {
     "name": "stdout",
     "output_type": "stream",
     "text": [
      "correlation coefficient: 0.9721767134927579, p-value : 0.027823286507242084\n"
     ]
    }
   ],
   "source": [
    "# 5월\n",
    "\n",
    "rho, p_val = stats.pearsonr(dfs5['L_s'], dfs5['W_s'])\n",
    "print('correlation coefficient: {}, p-value : {}'.format(rho, p_val))"
   ]
  },
  {
   "cell_type": "code",
   "execution_count": 89,
   "metadata": {},
   "outputs": [
    {
     "name": "stdout",
     "output_type": "stream",
     "text": [
      "correlation coefficient: 0.6101922368316832, p-value : 0.3898077631683168\n"
     ]
    }
   ],
   "source": [
    "# 6월\n",
    "\n",
    "rho, p_val = stats.pearsonr(dfs6['L_s'], dfs6['W_s'])\n",
    "print('correlation coefficient: {}, p-value : {}'.format(rho, p_val))"
   ]
  },
  {
   "cell_type": "code",
   "execution_count": 90,
   "metadata": {},
   "outputs": [
    {
     "name": "stdout",
     "output_type": "stream",
     "text": [
      "correlation coefficient: 0.4562473682385005, p-value : 0.5437526317614996\n"
     ]
    }
   ],
   "source": [
    "# 7월\n",
    "\n",
    "rho, p_val = stats.pearsonr(dfs7['L_s'], dfs7['W_s'])\n",
    "print('correlation coefficient: {}, p-value : {}'.format(rho, p_val))"
   ]
  },
  {
   "cell_type": "code",
   "execution_count": 91,
   "metadata": {},
   "outputs": [
    {
     "name": "stdout",
     "output_type": "stream",
     "text": [
      "correlation coefficient: 0.7326359802324658, p-value : 0.2673640197675342\n"
     ]
    }
   ],
   "source": [
    "# 8월\n",
    "\n",
    "rho, p_val = stats.pearsonr(dfs8['L_s'], dfs8['W_s'])\n",
    "print('correlation coefficient: {}, p-value : {}'.format(rho, p_val))"
   ]
  },
  {
   "cell_type": "code",
   "execution_count": 92,
   "metadata": {},
   "outputs": [
    {
     "name": "stdout",
     "output_type": "stream",
     "text": [
      "correlation coefficient: 0.6784525337584251, p-value : 0.32154746624157493\n"
     ]
    }
   ],
   "source": [
    "# 9월\n",
    "\n",
    "rho, p_val = stats.pearsonr(dfs9['L_s'], dfs9['W_s'])\n",
    "print('correlation coefficient: {}, p-value : {}'.format(rho, p_val))"
   ]
  },
  {
   "cell_type": "code",
   "execution_count": 93,
   "metadata": {},
   "outputs": [
    {
     "name": "stdout",
     "output_type": "stream",
     "text": [
      "correlation coefficient: 0.7180828769861344, p-value : 0.2819171230138656\n"
     ]
    }
   ],
   "source": [
    "# 10월\n",
    "\n",
    "rho, p_val = stats.pearsonr(dfs10['L_s'], dfs10['W_s'])\n",
    "print('correlation coefficient: {}, p-value : {}'.format(rho, p_val))"
   ]
  },
  {
   "cell_type": "code",
   "execution_count": 94,
   "metadata": {},
   "outputs": [
    {
     "name": "stdout",
     "output_type": "stream",
     "text": [
      "correlation coefficient: 0.5834294039121086, p-value : 0.4165705960878914\n"
     ]
    }
   ],
   "source": [
    "# 11월\n",
    "\n",
    "rho, p_val = stats.pearsonr(dfs11['L_s'], dfs11['W_s'])\n",
    "print('correlation coefficient: {}, p-value : {}'.format(rho, p_val))"
   ]
  },
  {
   "cell_type": "code",
   "execution_count": 95,
   "metadata": {},
   "outputs": [
    {
     "name": "stdout",
     "output_type": "stream",
     "text": [
      "correlation coefficient: 0.9571430553836477, p-value : 0.042856944616352255\n"
     ]
    }
   ],
   "source": [
    "# 12월\n",
    "\n",
    "rho, p_val = stats.pearsonr(dfs12['L_s'], dfs12['W_s'])\n",
    "print('correlation coefficient: {}, p-value : {}'.format(rho, p_val))"
   ]
  },
  {
   "cell_type": "markdown",
   "metadata": {},
   "source": [
    "#### 스피어만 상관계수\n",
    "- 피어슨 상관계수는 원 데이터 수치값을 그대로 활용하는 반면\n",
    "- 스피어만 상관계수는 데이터의 순서통계량 값을 활용하여 순서값의 피어슨 상관계수인 셈\n",
    "- 즉, x변수 내의 데이터에서 제일 큰 값을 1, 두번째 큰 값을 2등으로 변환시키고,\n",
    "- y변수도 동일하게 변환시킨 후 변환된 값들 간의 피어슨 상관계수인 셈"
   ]
  },
  {
   "cell_type": "code",
   "execution_count": 96,
   "metadata": {},
   "outputs": [
    {
     "name": "stdout",
     "output_type": "stream",
     "text": [
      "correlation coefficient: -0.12374715910398798, p-value : 0.4020454135222973\n"
     ]
    }
   ],
   "source": [
    "rho, p_val = stats.spearmanr(dfs['특성'], dfs['L_s'])\n",
    "print('correlation coefficient: {}, p-value : {}'.format(rho, p_val))"
   ]
  },
  {
   "cell_type": "markdown",
   "metadata": {},
   "source": [
    "- 첫번째 값은 스피어만 상관계수 값\n",
    "- 두번째 값은 p-value값\n",
    "- 이 p-value값은 아래와 같은 가설 하에서 산출된 값으로\n",
    "- 실행 결과 값은 p-value가 0.95수준으로 유의수준 0.05(5%)하에서 상관계수가 0이 아니라고 말할 수 없음.\n",
    "- 즉, 상관계수는 0이라는 귀무가설을 기각할 수 없음\n",
    "- 가설: H0: rho_xy = 0, H1: rho_xy != 0"
   ]
  },
  {
   "cell_type": "code",
   "execution_count": 97,
   "metadata": {},
   "outputs": [
    {
     "name": "stdout",
     "output_type": "stream",
     "text": [
      "correlation coefficient: -0.13585285945111722, p-value : 0.3572153060224408\n"
     ]
    }
   ],
   "source": [
    "rho, p_val = stats.spearmanr(dfs['특성'], dfs['W_s'])\n",
    "print('correlation coefficient: {}, p-value : {}'.format(rho, p_val))"
   ]
  },
  {
   "cell_type": "code",
   "execution_count": 98,
   "metadata": {},
   "outputs": [
    {
     "name": "stdout",
     "output_type": "stream",
     "text": [
      "correlation coefficient: 0.3241141237779311, p-value : 0.024615365624763855\n"
     ]
    }
   ],
   "source": [
    "rho, p_val = stats.spearmanr(dfs['month'], dfs['L_s'])\n",
    "print('correlation coefficient: {}, p-value : {}'.format(rho, p_val))"
   ]
  },
  {
   "cell_type": "code",
   "execution_count": 99,
   "metadata": {},
   "outputs": [
    {
     "name": "stdout",
     "output_type": "stream",
     "text": [
      "correlation coefficient: -0.17991818967780315, p-value : 0.22107776116445046\n"
     ]
    }
   ],
   "source": [
    "rho, p_val = stats.spearmanr(dfs['month'], dfs['W_s'])\n",
    "print('correlation coefficient: {}, p-value : {}'.format(rho, p_val))"
   ]
  },
  {
   "cell_type": "markdown",
   "metadata": {},
   "source": [
    "#### 켄달 상관계수\n",
    "- 두 변수 간에 방향을 분석하여 산출하는 방법\n",
    "- 즉, 한 변수가 증가할 때 다른 변수도 증가하는 횟수와 감소하는 횟수를 전체 측정하여 그 차이를 분석하여 상관계수로 표현하는 방법"
   ]
  },
  {
   "cell_type": "code",
   "execution_count": 100,
   "metadata": {},
   "outputs": [
    {
     "name": "stdout",
     "output_type": "stream",
     "text": [
      "correlation coefficient: -0.09521742500557005, p-value : 0.3870130177921891\n"
     ]
    }
   ],
   "source": [
    "rho, p_val = stats.kendalltau(dfs['특성'], dfs['L_s'])\n",
    "print('correlation coefficient: {}, p-value : {}'.format(rho, p_val))"
   ]
  },
  {
   "cell_type": "markdown",
   "metadata": {},
   "source": [
    "- 첫번째 값은 켄달 상관계수 값\n",
    "- 두번째 값은 p-value 값\n",
    "- 이 p-value값은 아래와 같은 가설하에서 산출된 값으로\n",
    "- 실행 결과 값은 p-value가 0.9 수준으로 유의수준 0.05(5%)하에서 상관계수가 0이 아니라고 말할 수 없음\n",
    "- 즉, 상관계수는 0이라는 귀무가설을 기각할 수 없음\n",
    "- 가설: H0: rho_xy = 0, H1: rho_xy != 0"
   ]
  },
  {
   "cell_type": "code",
   "execution_count": 101,
   "metadata": {},
   "outputs": [
    {
     "name": "stdout",
     "output_type": "stream",
     "text": [
      "correlation coefficient: -0.101295132984649, p-value : 0.3574354869621784\n"
     ]
    }
   ],
   "source": [
    "rho, p_val = stats.kendalltau(dfs['특성'], dfs['W_s'])\n",
    "print('correlation coefficient: {}, p-value : {}'.format(rho, p_val))"
   ]
  },
  {
   "cell_type": "code",
   "execution_count": 102,
   "metadata": {},
   "outputs": [
    {
     "name": "stdout",
     "output_type": "stream",
     "text": [
      "correlation coefficient: 0.22173224647149434, p-value : 0.0307884499440156\n"
     ]
    }
   ],
   "source": [
    "rho, p_val = stats.kendalltau(dfs['month'], dfs['L_s'])\n",
    "print('correlation coefficient: {}, p-value : {}'.format(rho, p_val))"
   ]
  },
  {
   "cell_type": "code",
   "execution_count": 103,
   "metadata": {},
   "outputs": [
    {
     "name": "stdout",
     "output_type": "stream",
     "text": [
      "correlation coefficient: -0.11727986590227799, p-value : 0.25329961430664916\n"
     ]
    }
   ],
   "source": [
    "rho, p_val = stats.kendalltau(dfs['month'], dfs['W_s'])\n",
    "print('correlation coefficient: {}, p-value : {}'.format(rho, p_val))"
   ]
  },
  {
   "cell_type": "code",
   "execution_count": null,
   "metadata": {},
   "outputs": [],
   "source": []
  },
  {
   "cell_type": "markdown",
   "metadata": {},
   "source": [
    "#### data데이터 이용"
   ]
  },
  {
   "cell_type": "markdown",
   "metadata": {},
   "source": [
    "#### 피어슨 상관계수\n",
    "- 두 변수간 선형적인 관계가 있는지 판단\n",
    "- 피어슨 상관계수가 0에 가까운 수치를 보이면 선형적인 관계가 낮음을 의미\n",
    "- 피어슨 상관계수는 -1 ~ 1의 값을 가짐\n",
    "- -1에 가까울수록 두 변수는 음의 선형적인 상관관계\n",
    "- 1에 가까울수록 두 변수는 양의 선형적인 상관관계"
   ]
  },
  {
   "cell_type": "code",
   "execution_count": 104,
   "metadata": {},
   "outputs": [],
   "source": [
    "data1 = data[data['season'] == '봄']\n",
    "data2 = data[data['season'] == '여름']\n",
    "data3 = data[data['season'] == '가을']\n",
    "data4 = data[data['season'] == '겨울']"
   ]
  },
  {
   "cell_type": "code",
   "execution_count": 105,
   "metadata": {},
   "outputs": [
    {
     "name": "stdout",
     "output_type": "stream",
     "text": [
      "correlation coefficient: 0.3416923425170086, p-value : 0.09457464573689449\n"
     ]
    }
   ],
   "source": [
    "import scipy.stats as stats\n",
    "\n",
    "# 봄\n",
    "\n",
    "rho, p_val = stats.pearsonr(data1['L_s'], data1['W_s'])\n",
    "print('correlation coefficient: {}, p-value : {}'.format(rho, p_val))"
   ]
  },
  {
   "cell_type": "markdown",
   "metadata": {},
   "source": [
    "- 첫번째 값은 피어슨 상관계수 값\n",
    "- 두번째 값은 p-value값\n",
    "- 이 p-value값은 아래와 같은 가설하에서 산출된 값으로 실행 결과 값은 p-value가 거의 0인 수준으로 유의수준 0.05(5%)하에서 상관계수가 0이 아니라고 말할 수 있음\n",
    "- 즉, 상관계수는 0이라는 귀무가설을 기각할 수 있음\n",
    "- 가설: H0: rho_xy = 0, H1: rho_xy != 0"
   ]
  },
  {
   "cell_type": "code",
   "execution_count": 106,
   "metadata": {},
   "outputs": [
    {
     "name": "stdout",
     "output_type": "stream",
     "text": [
      "correlation coefficient: 0.22482344291269996, p-value : 0.2799311113786895\n"
     ]
    }
   ],
   "source": [
    "# 여름\n",
    "\n",
    "rho, p_val = stats.pearsonr(data2['L_s'], data2['W_s'])\n",
    "print('correlation coefficient: {}, p-value : {}'.format(rho, p_val))"
   ]
  },
  {
   "cell_type": "code",
   "execution_count": 107,
   "metadata": {},
   "outputs": [
    {
     "name": "stdout",
     "output_type": "stream",
     "text": [
      "correlation coefficient: 0.32312021916104533, p-value : 0.11514351062993336\n"
     ]
    }
   ],
   "source": [
    "# 가을\n",
    "\n",
    "rho, p_val = stats.pearsonr(data3['L_s'], data3['W_s'])\n",
    "print('correlation coefficient: {}, p-value : {}'.format(rho, p_val))"
   ]
  },
  {
   "cell_type": "code",
   "execution_count": 108,
   "metadata": {},
   "outputs": [
    {
     "name": "stdout",
     "output_type": "stream",
     "text": [
      "correlation coefficient: 0.7206766051366751, p-value : 4.8361232287513226e-05\n"
     ]
    }
   ],
   "source": [
    "# 겨울\n",
    "\n",
    "rho, p_val = stats.pearsonr(data4['L_s'], data4['W_s'])\n",
    "print('correlation coefficient: {}, p-value : {}'.format(rho, p_val))"
   ]
  },
  {
   "cell_type": "markdown",
   "metadata": {},
   "source": [
    "#### 스피어만 상관계수\n",
    "- 피어슨 상관계수는 원 데이터 수치값을 그대로 활용하는 반면\n",
    "- 스피어만 상관계수는 데이터의 순서통계량 값을 활용하여 순서값의 피어슨 상관계수인 셈\n",
    "- 즉, x변수 내의 데이터에서 제일 큰 값을 1, 두번째 큰 값을 2등으로 변환시키고,\n",
    "- y변수도 동일하게 변환시킨 후 변환된 값들 간의 피어슨 상관계수인 셈"
   ]
  },
  {
   "cell_type": "code",
   "execution_count": 109,
   "metadata": {},
   "outputs": [
    {
     "name": "stdout",
     "output_type": "stream",
     "text": [
      "correlation coefficient: -0.0035550227700554375, p-value : 0.971997307018565\n"
     ]
    }
   ],
   "source": [
    "rho, p_val = stats.spearmanr(data['자치구'], data['L_s'])\n",
    "print('correlation coefficient: {}, p-value : {}'.format(rho, p_val))"
   ]
  },
  {
   "cell_type": "markdown",
   "metadata": {},
   "source": [
    "- 첫번째 값은 스피어만 상관계수 값\n",
    "- 두번째 값은 p-value값\n",
    "- 이 p-value값은 아래와 같은 가설 하에서 산출된 값으로\n",
    "- 실행 결과 값은 p-value가 0.95수준으로 유의수준 0.05(5%)하에서 상관계수가 0이 아니라고 말할 수 없음.\n",
    "- 즉, 상관계수는 0이라는 귀무가설을 기각할 수 없음\n",
    "- 가설: H0: rho_xy = 0, H1: rho_xy != 0"
   ]
  },
  {
   "cell_type": "code",
   "execution_count": 110,
   "metadata": {},
   "outputs": [
    {
     "name": "stdout",
     "output_type": "stream",
     "text": [
      "correlation coefficient: 0.21901822714436134, p-value : 0.02857501724691305\n"
     ]
    }
   ],
   "source": [
    "rho, p_val = stats.spearmanr(data['자치구'], data['W_s'])\n",
    "print('correlation coefficient: {}, p-value : {}'.format(rho, p_val))"
   ]
  },
  {
   "cell_type": "code",
   "execution_count": 111,
   "metadata": {},
   "outputs": [
    {
     "name": "stdout",
     "output_type": "stream",
     "text": [
      "correlation coefficient: 0.0938858107199669, p-value : 0.3528327791244604\n"
     ]
    }
   ],
   "source": [
    "rho, p_val = stats.spearmanr(data['season'], data['L_s'])\n",
    "print('correlation coefficient: {}, p-value : {}'.format(rho, p_val))"
   ]
  },
  {
   "cell_type": "code",
   "execution_count": 112,
   "metadata": {},
   "outputs": [
    {
     "name": "stdout",
     "output_type": "stream",
     "text": [
      "correlation coefficient: -0.21132053766012354, p-value : 0.034812398288628574\n"
     ]
    }
   ],
   "source": [
    "rho, p_val = stats.spearmanr(data['season'], data['W_s'])\n",
    "print('correlation coefficient: {}, p-value : {}'.format(rho, p_val))"
   ]
  },
  {
   "cell_type": "markdown",
   "metadata": {},
   "source": [
    "#### 켄달 상관계수\n",
    "- 두 변수 간에 방향을 분석하여 산출하는 방법\n",
    "- 즉, 한 변수가 증가할 때 다른 변수도 증가하는 횟수와 감소하는 횟수를 전체 측정하여 그 차이를 분석하여 상관계수로 표현하는 방법"
   ]
  },
  {
   "cell_type": "code",
   "execution_count": 113,
   "metadata": {},
   "outputs": [
    {
     "name": "stdout",
     "output_type": "stream",
     "text": [
      "correlation coefficient: -0.0024618298195866546, p-value : 0.9714643281734804\n"
     ]
    }
   ],
   "source": [
    "rho, p_val = stats.kendalltau(data['자치구'], data['L_s'])\n",
    "print('correlation coefficient: {}, p-value : {}'.format(rho, p_val))"
   ]
  },
  {
   "cell_type": "markdown",
   "metadata": {},
   "source": [
    "- 첫번째 값은 켄달 상관계수 값\n",
    "- 두번째 값은 p-value 값\n",
    "- 이 p-value값은 아래와 같은 가설하에서 산출된 값으로\n",
    "- 실행 결과 값은 p-value가 0.9 수준으로 유의수준 0.05(5%)하에서 상관계수가 0이 아니라고 말할 수 없음\n",
    "- 즉, 상관계수는 0이라는 귀무가설을 기각할 수 없음\n",
    "- 가설: H0: rho_xy = 0, H1: rho_xy != 0"
   ]
  },
  {
   "cell_type": "code",
   "execution_count": 114,
   "metadata": {},
   "outputs": [
    {
     "name": "stdout",
     "output_type": "stream",
     "text": [
      "correlation coefficient: 0.15181283887451036, p-value : 0.027389114341332753\n"
     ]
    }
   ],
   "source": [
    "rho, p_val = stats.kendalltau(data['자치구'], data['W_s'])\n",
    "print('correlation coefficient: {}, p-value : {}'.format(rho, p_val))"
   ]
  },
  {
   "cell_type": "code",
   "execution_count": 115,
   "metadata": {},
   "outputs": [
    {
     "name": "stdout",
     "output_type": "stream",
     "text": [
      "correlation coefficient: 0.07148789071247325, p-value : 0.3428096921728344\n"
     ]
    }
   ],
   "source": [
    "rho, p_val = stats.kendalltau(data['season'], data['L_s'])\n",
    "print('correlation coefficient: {}, p-value : {}'.format(rho, p_val))"
   ]
  },
  {
   "cell_type": "code",
   "execution_count": 116,
   "metadata": {},
   "outputs": [
    {
     "name": "stdout",
     "output_type": "stream",
     "text": [
      "correlation coefficient: -0.1313706043612333, p-value : 0.0812884709555348\n"
     ]
    }
   ],
   "source": [
    "rho, p_val = stats.kendalltau(data['season'], data['W_s'])\n",
    "print('correlation coefficient: {}, p-value : {}'.format(rho, p_val))"
   ]
  },
  {
   "cell_type": "code",
   "execution_count": null,
   "metadata": {},
   "outputs": [],
   "source": []
  },
  {
   "cell_type": "markdown",
   "metadata": {},
   "source": [
    "#### datas데이터 이용"
   ]
  },
  {
   "cell_type": "markdown",
   "metadata": {},
   "source": [
    "#### 피어슨 상관계수\n",
    "- 두 변수간 선형적인 관계가 있는지 판단\n",
    "- 피어슨 상관계수가 0에 가까운 수치를 보이면 선형적인 관계가 낮음을 의미\n",
    "- 피어슨 상관계수는 -1 ~ 1의 값을 가짐\n",
    "- -1에 가까울수록 두 변수는 음의 선형적인 상관관계\n",
    "- 1에 가까울수록 두 변수는 양의 선형적인 상관관계"
   ]
  },
  {
   "cell_type": "code",
   "execution_count": 117,
   "metadata": {},
   "outputs": [],
   "source": [
    "datas1 = datas[datas['season'] == '봄']\n",
    "datas2 = datas[datas['season'] == '여름']\n",
    "datas3 = datas[datas['season'] == '가을']\n",
    "datas4 = datas[datas['season'] == '겨울']"
   ]
  },
  {
   "cell_type": "code",
   "execution_count": 118,
   "metadata": {},
   "outputs": [
    {
     "name": "stdout",
     "output_type": "stream",
     "text": [
      "correlation coefficient: 0.6513449978811046, p-value : 0.34865500211889544\n"
     ]
    }
   ],
   "source": [
    "import scipy.stats as stats\n",
    "\n",
    "# 봄\n",
    "\n",
    "rho, p_val = stats.pearsonr(datas1['L_s'], datas1['W_s'])\n",
    "print('correlation coefficient: {}, p-value : {}'.format(rho, p_val))"
   ]
  },
  {
   "cell_type": "markdown",
   "metadata": {},
   "source": [
    "- 첫번째 값은 피어슨 상관계수 값\n",
    "- 두번째 값은 p-value값\n",
    "- 이 p-value값은 아래와 같은 가설하에서 산출된 값으로 실행 결과 값은 p-value가 거의 0인 수준으로 유의수준 0.05(5%)하에서 상관계수가 0이 아니라고 말할 수 있음\n",
    "- 즉, 상관계수는 0이라는 귀무가설을 기각할 수 있음\n",
    "- 가설: H0: rho_xy = 0, H1: rho_xy != 0"
   ]
  },
  {
   "cell_type": "code",
   "execution_count": 119,
   "metadata": {},
   "outputs": [
    {
     "name": "stdout",
     "output_type": "stream",
     "text": [
      "correlation coefficient: 0.5381300396660734, p-value : 0.4618699603339266\n"
     ]
    }
   ],
   "source": [
    "# 여름\n",
    "\n",
    "rho, p_val = stats.pearsonr(datas2['L_s'], datas2['W_s'])\n",
    "print('correlation coefficient: {}, p-value : {}'.format(rho, p_val))"
   ]
  },
  {
   "cell_type": "code",
   "execution_count": 120,
   "metadata": {},
   "outputs": [
    {
     "name": "stdout",
     "output_type": "stream",
     "text": [
      "correlation coefficient: 0.34775945216281134, p-value : 0.6522405478371887\n"
     ]
    }
   ],
   "source": [
    "# 가을\n",
    "\n",
    "rho, p_val = stats.pearsonr(datas3['L_s'], datas3['W_s'])\n",
    "print('correlation coefficient: {}, p-value : {}'.format(rho, p_val))"
   ]
  },
  {
   "cell_type": "code",
   "execution_count": 121,
   "metadata": {},
   "outputs": [
    {
     "name": "stdout",
     "output_type": "stream",
     "text": [
      "correlation coefficient: 0.9454483858909482, p-value : 0.05455161410905185\n"
     ]
    }
   ],
   "source": [
    "# 겨울\n",
    "\n",
    "rho, p_val = stats.pearsonr(datas4['L_s'], datas4['W_s'])\n",
    "print('correlation coefficient: {}, p-value : {}'.format(rho, p_val))"
   ]
  },
  {
   "cell_type": "markdown",
   "metadata": {},
   "source": [
    "#### 스피어만 상관계수\n",
    "- 피어슨 상관계수는 원 데이터 수치값을 그대로 활용하는 반면\n",
    "- 스피어만 상관계수는 데이터의 순서통계량 값을 활용하여 순서값의 피어슨 상관계수인 셈\n",
    "- 즉, x변수 내의 데이터에서 제일 큰 값을 1, 두번째 큰 값을 2등으로 변환시키고,\n",
    "- y변수도 동일하게 변환시킨 후 변환된 값들 간의 피어슨 상관계수인 셈"
   ]
  },
  {
   "cell_type": "code",
   "execution_count": 122,
   "metadata": {},
   "outputs": [
    {
     "name": "stdout",
     "output_type": "stream",
     "text": [
      "correlation coefficient: -0.24253562503633297, p-value : 0.36543033859146357\n"
     ]
    }
   ],
   "source": [
    "rho, p_val = stats.spearmanr(datas['특성'], datas['L_s'])\n",
    "print('correlation coefficient: {}, p-value : {}'.format(rho, p_val))"
   ]
  },
  {
   "cell_type": "markdown",
   "metadata": {},
   "source": [
    "- 첫번째 값은 스피어만 상관계수 값\n",
    "- 두번째 값은 p-value값\n",
    "- 이 p-value값은 아래와 같은 가설 하에서 산출된 값으로\n",
    "- 실행 결과 값은 p-value가 0.95수준으로 유의수준 0.05(5%)하에서 상관계수가 0이 아니라고 말할 수 없음.\n",
    "- 즉, 상관계수는 0이라는 귀무가설을 기각할 수 없음\n",
    "- 가설: H0: rho_xy = 0, H1: rho_xy != 0"
   ]
  },
  {
   "cell_type": "code",
   "execution_count": 123,
   "metadata": {},
   "outputs": [
    {
     "name": "stdout",
     "output_type": "stream",
     "text": [
      "correlation coefficient: -0.19402850002906638, p-value : 0.47149737345813814\n"
     ]
    }
   ],
   "source": [
    "rho, p_val = stats.spearmanr(datas['특성'], datas['W_s'])\n",
    "print('correlation coefficient: {}, p-value : {}'.format(rho, p_val))"
   ]
  },
  {
   "cell_type": "code",
   "execution_count": 124,
   "metadata": {},
   "outputs": [
    {
     "name": "stdout",
     "output_type": "stream",
     "text": [
      "correlation coefficient: 0.0727606875108999, p-value : 0.7888622154669134\n"
     ]
    }
   ],
   "source": [
    "rho, p_val = stats.spearmanr(datas['season'], datas['L_s'])\n",
    "print('correlation coefficient: {}, p-value : {}'.format(rho, p_val))"
   ]
  },
  {
   "cell_type": "code",
   "execution_count": 125,
   "metadata": {},
   "outputs": [
    {
     "name": "stdout",
     "output_type": "stream",
     "text": [
      "correlation coefficient: -0.2667891875399663, p-value : 0.3178674173225788\n"
     ]
    }
   ],
   "source": [
    "rho, p_val = stats.spearmanr(datas['season'], datas['W_s'])\n",
    "print('correlation coefficient: {}, p-value : {}'.format(rho, p_val))"
   ]
  },
  {
   "cell_type": "markdown",
   "metadata": {},
   "source": [
    "#### 켄달 상관계수\n",
    "- 두 변수 간에 방향을 분석하여 산출하는 방법\n",
    "- 즉, 한 변수가 증가할 때 다른 변수도 증가하는 횟수와 감소하는 횟수를 전체 측정하여 그 차이를 분석하여 상관계수로 표현하는 방법"
   ]
  },
  {
   "cell_type": "code",
   "execution_count": 126,
   "metadata": {},
   "outputs": [
    {
     "name": "stdout",
     "output_type": "stream",
     "text": [
      "correlation coefficient: -0.18633899812498247, p-value : 0.3503765223385297\n"
     ]
    }
   ],
   "source": [
    "rho, p_val = stats.kendalltau(datas['특성'], datas['L_s'])\n",
    "print('correlation coefficient: {}, p-value : {}'.format(rho, p_val))"
   ]
  },
  {
   "cell_type": "markdown",
   "metadata": {},
   "source": [
    "- 첫번째 값은 켄달 상관계수 값\n",
    "- 두번째 값은 p-value 값\n",
    "- 이 p-value값은 아래와 같은 가설하에서 산출된 값으로\n",
    "- 실행 결과 값은 p-value가 0.9 수준으로 유의수준 0.05(5%)하에서 상관계수가 0이 아니라고 말할 수 없음\n",
    "- 즉, 상관계수는 0이라는 귀무가설을 기각할 수 없음\n",
    "- 가설: H0: rho_xy = 0, H1: rho_xy != 0"
   ]
  },
  {
   "cell_type": "code",
   "execution_count": 127,
   "metadata": {},
   "outputs": [
    {
     "name": "stdout",
     "output_type": "stream",
     "text": [
      "correlation coefficient: -0.18633899812498247, p-value : 0.3503765223385297\n"
     ]
    }
   ],
   "source": [
    "rho, p_val = stats.kendalltau(datas['특성'], datas['W_s'])\n",
    "print('correlation coefficient: {}, p-value : {}'.format(rho, p_val))"
   ]
  },
  {
   "cell_type": "code",
   "execution_count": 128,
   "metadata": {},
   "outputs": [
    {
     "name": "stdout",
     "output_type": "stream",
     "text": [
      "correlation coefficient: 0.05590169943749475, p-value : 0.7793564699075208\n"
     ]
    }
   ],
   "source": [
    "rho, p_val = stats.kendalltau(datas['season'], datas['L_s'])\n",
    "print('correlation coefficient: {}, p-value : {}'.format(rho, p_val))"
   ]
  },
  {
   "cell_type": "code",
   "execution_count": 129,
   "metadata": {},
   "outputs": [
    {
     "name": "stdout",
     "output_type": "stream",
     "text": [
      "correlation coefficient: -0.13043729868748774, p-value : 0.513304171034827\n"
     ]
    }
   ],
   "source": [
    "rho, p_val = stats.kendalltau(datas['season'], datas['W_s'])\n",
    "print('correlation coefficient: {}, p-value : {}'.format(rho, p_val))"
   ]
  },
  {
   "cell_type": "code",
   "execution_count": null,
   "metadata": {},
   "outputs": [],
   "source": []
  },
  {
   "cell_type": "markdown",
   "metadata": {},
   "source": [
    "# T-test\n",
    "### 특성(학교, 공원, 아파트, 지하철)에 따른 L_s, W_s의 평균 차이의 T-test"
   ]
  },
  {
   "cell_type": "markdown",
   "metadata": {},
   "source": [
    "#### dfs데이터 이용(특성, month)"
   ]
  },
  {
   "cell_type": "markdown",
   "metadata": {},
   "source": [
    "- 이표본 t검정\n",
    "- 각 특성별 평균이 같은지에 대한 검증을 수행\n",
    "- 가설: H0: 뮤1 = 뮤2, H1: 뮤1 != 뮤2"
   ]
  },
  {
   "cell_type": "code",
   "execution_count": 130,
   "metadata": {},
   "outputs": [],
   "source": [
    "park = dfs[dfs['특성'] == '공원']\n",
    "apart = dfs[dfs['특성'] == '아파트']\n",
    "subway = dfs[dfs['특성'] == '지하철']\n",
    "school = dfs[dfs['특성'] == '학교']"
   ]
  },
  {
   "cell_type": "code",
   "execution_count": 160,
   "metadata": {},
   "outputs": [],
   "source": [
    "nsubway = dfs[~dfs['특성'].str.contains('지하철')]\n",
    "npark = dfs[~dfs['특성'].str.contains('공원')]\n",
    "napart = dfs[~dfs['특성'].str.contains('아파트')]\n",
    "nschool = dfs[~dfs['특성'].str.contains('학교')]"
   ]
  },
  {
   "cell_type": "code",
   "execution_count": 131,
   "metadata": {},
   "outputs": [
    {
     "name": "stdout",
     "output_type": "stream",
     "text": [
      "t-statistics : 1.2501882939722564, p-value : 0.22436602678569367\n"
     ]
    }
   ],
   "source": [
    "from scipy import stats\n",
    "\n",
    "t_stat, p_val = stats.ttest_ind(park.L_s, apart.L_s, equal_var = True, alternative = 'two-sided')\n",
    "print('t-statistics : {}, p-value : {}'.format(t_stat, p_val))"
   ]
  },
  {
   "cell_type": "markdown",
   "metadata": {},
   "source": [
    "- p-value가 0.2수준으로 5%(0.05)유의수준에서 귀무가설 기각할 수 없음"
   ]
  },
  {
   "cell_type": "code",
   "execution_count": 132,
   "metadata": {},
   "outputs": [
    {
     "name": "stdout",
     "output_type": "stream",
     "text": [
      "t-statistics : -2.3321322852010633, p-value : 0.029246747697189344\n"
     ]
    }
   ],
   "source": [
    "t_stat, p_val = stats.ttest_ind(park.L_s, subway.L_s, equal_var = True, alternative = 'two-sided')\n",
    "print('t-statistics : {}, p-value : {}'.format(t_stat, p_val))"
   ]
  },
  {
   "cell_type": "code",
   "execution_count": 133,
   "metadata": {},
   "outputs": [
    {
     "name": "stdout",
     "output_type": "stream",
     "text": [
      "t-statistics : 2.161547799280534, p-value : 0.041802346679078006\n"
     ]
    }
   ],
   "source": [
    "t_stat, p_val = stats.ttest_ind(park.L_s, school.L_s, equal_var = True, alternative = 'two-sided')\n",
    "print('t-statistics : {}, p-value : {}'.format(t_stat, p_val))"
   ]
  },
  {
   "cell_type": "code",
   "execution_count": 134,
   "metadata": {},
   "outputs": [
    {
     "name": "stdout",
     "output_type": "stream",
     "text": [
      "t-statistics : -3.54584090229428, p-value : 0.001813085804243341\n"
     ]
    }
   ],
   "source": [
    "t_stat, p_val = stats.ttest_ind(apart.L_s, subway.L_s, equal_var = True, alternative = 'two-sided')\n",
    "print('t-statistics : {}, p-value : {}'.format(t_stat, p_val))"
   ]
  },
  {
   "cell_type": "code",
   "execution_count": 135,
   "metadata": {},
   "outputs": [
    {
     "name": "stdout",
     "output_type": "stream",
     "text": [
      "t-statistics : 1.0536508027889973, p-value : 0.30347805329433863\n"
     ]
    }
   ],
   "source": [
    "t_stat, p_val = stats.ttest_ind(apart.L_s, school.L_s, equal_var = True, alternative = 'two-sided')\n",
    "print('t-statistics : {}, p-value : {}'.format(t_stat, p_val))"
   ]
  },
  {
   "cell_type": "code",
   "execution_count": 136,
   "metadata": {},
   "outputs": [
    {
     "name": "stdout",
     "output_type": "stream",
     "text": [
      "t-statistics : 4.309273594543964, p-value : 0.00028345250141670065\n"
     ]
    }
   ],
   "source": [
    "t_stat, p_val = stats.ttest_ind(subway.L_s, school.L_s, equal_var = True, alternative = 'two-sided')\n",
    "print('t-statistics : {}, p-value : {}'.format(t_stat, p_val))"
   ]
  },
  {
   "cell_type": "code",
   "execution_count": 161,
   "metadata": {},
   "outputs": [
    {
     "name": "stdout",
     "output_type": "stream",
     "text": [
      "t-statistics : 3.5563365341732744, p-value : 0.0010269680745544007\n"
     ]
    }
   ],
   "source": [
    "t_stat, p_val = stats.ttest_ind(subway.L_s, nsubway.L_s, equal_var = True, alternative = 'two-sided')\n",
    "print('t-statistics : {}, p-value : {}'.format(t_stat, p_val))"
   ]
  },
  {
   "cell_type": "code",
   "execution_count": 162,
   "metadata": {},
   "outputs": [
    {
     "name": "stdout",
     "output_type": "stream",
     "text": [
      "t-statistics : 0.14940198469012594, p-value : 0.8820265670725886\n"
     ]
    }
   ],
   "source": [
    "t_stat, p_val = stats.ttest_ind(park.L_s, npark.L_s, equal_var = True, alternative = 'two-sided')\n",
    "print('t-statistics : {}, p-value : {}'.format(t_stat, p_val))"
   ]
  },
  {
   "cell_type": "code",
   "execution_count": 163,
   "metadata": {},
   "outputs": [
    {
     "name": "stdout",
     "output_type": "stream",
     "text": [
      "t-statistics : -0.8548437811914916, p-value : 0.3979952619954782\n"
     ]
    }
   ],
   "source": [
    "t_stat, p_val = stats.ttest_ind(apart.L_s, napart.L_s, equal_var = True, alternative = 'two-sided')\n",
    "print('t-statistics : {}, p-value : {}'.format(t_stat, p_val))"
   ]
  },
  {
   "cell_type": "code",
   "execution_count": 164,
   "metadata": {},
   "outputs": [
    {
     "name": "stdout",
     "output_type": "stream",
     "text": [
      "t-statistics : -1.5217469941674704, p-value : 0.136351251078484\n"
     ]
    }
   ],
   "source": [
    "t_stat, p_val = stats.ttest_ind(school.L_s, nschool.L_s, equal_var = True, alternative = 'two-sided')\n",
    "print('t-statistics : {}, p-value : {}'.format(t_stat, p_val))"
   ]
  },
  {
   "cell_type": "code",
   "execution_count": null,
   "metadata": {},
   "outputs": [],
   "source": []
  },
  {
   "cell_type": "code",
   "execution_count": 137,
   "metadata": {},
   "outputs": [
    {
     "name": "stdout",
     "output_type": "stream",
     "text": [
      "t-statistics : 2.1444849719910906, p-value : 0.04329561439313048\n"
     ]
    }
   ],
   "source": [
    "from scipy import stats\n",
    "\n",
    "t_stat, p_val = stats.ttest_ind(park.W_s, apart.W_s, equal_var = True, alternative = 'two-sided')\n",
    "print('t-statistics : {}, p-value : {}'.format(t_stat, p_val))"
   ]
  },
  {
   "cell_type": "markdown",
   "metadata": {},
   "source": [
    "- p-value가 0.04수준으로 5%(0.05)유의수준에서 귀무가설 기각할 수 있음"
   ]
  },
  {
   "cell_type": "code",
   "execution_count": 138,
   "metadata": {},
   "outputs": [
    {
     "name": "stdout",
     "output_type": "stream",
     "text": [
      "t-statistics : -0.8570321791748959, p-value : 0.4006668408759987\n"
     ]
    }
   ],
   "source": [
    "t_stat, p_val = stats.ttest_ind(park.W_s, subway.W_s, equal_var = True, alternative = 'two-sided')\n",
    "print('t-statistics : {}, p-value : {}'.format(t_stat, p_val))"
   ]
  },
  {
   "cell_type": "code",
   "execution_count": 139,
   "metadata": {},
   "outputs": [
    {
     "name": "stdout",
     "output_type": "stream",
     "text": [
      "t-statistics : 2.1465134862021005, p-value : 0.043115597905865846\n"
     ]
    }
   ],
   "source": [
    "t_stat, p_val = stats.ttest_ind(park.W_s, school.W_s, equal_var = True, alternative = 'two-sided')\n",
    "print('t-statistics : {}, p-value : {}'.format(t_stat, p_val))"
   ]
  },
  {
   "cell_type": "code",
   "execution_count": 140,
   "metadata": {},
   "outputs": [
    {
     "name": "stdout",
     "output_type": "stream",
     "text": [
      "t-statistics : -2.8294258356742263, p-value : 0.009759995533285446\n"
     ]
    }
   ],
   "source": [
    "t_stat, p_val = stats.ttest_ind(apart.W_s, subway.W_s, equal_var = True, alternative = 'two-sided')\n",
    "print('t-statistics : {}, p-value : {}'.format(t_stat, p_val))"
   ]
  },
  {
   "cell_type": "code",
   "execution_count": 141,
   "metadata": {},
   "outputs": [
    {
     "name": "stdout",
     "output_type": "stream",
     "text": [
      "t-statistics : -0.04402304882052011, p-value : 0.9652831688907892\n"
     ]
    }
   ],
   "source": [
    "t_stat, p_val = stats.ttest_ind(apart.W_s, school.W_s, equal_var = True, alternative = 'two-sided')\n",
    "print('t-statistics : {}, p-value : {}'.format(t_stat, p_val))"
   ]
  },
  {
   "cell_type": "code",
   "execution_count": 142,
   "metadata": {},
   "outputs": [
    {
     "name": "stdout",
     "output_type": "stream",
     "text": [
      "t-statistics : 2.8362952934033046, p-value : 0.009608387419391037\n"
     ]
    }
   ],
   "source": [
    "t_stat, p_val = stats.ttest_ind(subway.W_s, school.W_s, equal_var = True, alternative = 'two-sided')\n",
    "print('t-statistics : {}, p-value : {}'.format(t_stat, p_val))"
   ]
  },
  {
   "cell_type": "code",
   "execution_count": 165,
   "metadata": {},
   "outputs": [
    {
     "name": "stdout",
     "output_type": "stream",
     "text": [
      "t-statistics : 2.989318858757378, p-value : 0.004882274657209892\n"
     ]
    }
   ],
   "source": [
    "t_stat, p_val = stats.ttest_ind(subway.W_s, nsubway.W_s, equal_var = True, alternative = 'two-sided')\n",
    "print('t-statistics : {}, p-value : {}'.format(t_stat, p_val))"
   ]
  },
  {
   "cell_type": "code",
   "execution_count": 166,
   "metadata": {},
   "outputs": [
    {
     "name": "stdout",
     "output_type": "stream",
     "text": [
      "t-statistics : 2.661922016974281, p-value : 0.01132492539684795\n"
     ]
    }
   ],
   "source": [
    "t_stat, p_val = stats.ttest_ind(park.W_s, npark.W_s, equal_var = True, alternative = 'two-sided')\n",
    "print('t-statistics : {}, p-value : {}'.format(t_stat, p_val))"
   ]
  },
  {
   "cell_type": "code",
   "execution_count": 167,
   "metadata": {},
   "outputs": [
    {
     "name": "stdout",
     "output_type": "stream",
     "text": [
      "t-statistics : -0.5124520871940812, p-value : 0.6113005970192404\n"
     ]
    }
   ],
   "source": [
    "t_stat, p_val = stats.ttest_ind(apart.W_s, napart.W_s, equal_var = True, alternative = 'two-sided')\n",
    "print('t-statistics : {}, p-value : {}'.format(t_stat, p_val))"
   ]
  },
  {
   "cell_type": "code",
   "execution_count": 168,
   "metadata": {},
   "outputs": [
    {
     "name": "stdout",
     "output_type": "stream",
     "text": [
      "t-statistics : 0.24402313597557368, p-value : 0.8085256367175274\n"
     ]
    }
   ],
   "source": [
    "t_stat, p_val = stats.ttest_ind(school.W_s, nschool.W_s, equal_var = True, alternative = 'two-sided')\n",
    "print('t-statistics : {}, p-value : {}'.format(t_stat, p_val))"
   ]
  },
  {
   "cell_type": "code",
   "execution_count": null,
   "metadata": {},
   "outputs": [],
   "source": []
  },
  {
   "cell_type": "markdown",
   "metadata": {},
   "source": [
    "#### datas데이터 이용(특성, season)"
   ]
  },
  {
   "cell_type": "markdown",
   "metadata": {},
   "source": [
    "- 이표본 t검정\n",
    "- 각 특성별 평균이 같은지에 대한 검증을 수행\n",
    "- 가설: H0: 뮤1 = 뮤2, H1: 뮤1 != 뮤2"
   ]
  },
  {
   "cell_type": "code",
   "execution_count": 143,
   "metadata": {},
   "outputs": [],
   "source": [
    "park = datas[datas['특성'] == '공원']\n",
    "apart = datas[datas['특성'] == '아파트']\n",
    "subway = datas[datas['특성'] == '지하철']\n",
    "school = datas[datas['특성'] == '학교']"
   ]
  },
  {
   "cell_type": "code",
   "execution_count": 144,
   "metadata": {},
   "outputs": [
    {
     "name": "stdout",
     "output_type": "stream",
     "text": [
      "t-statistics : 0.8553398711755946, p-value : 0.425195190639449\n"
     ]
    }
   ],
   "source": [
    "from scipy import stats\n",
    "\n",
    "t_stat, p_val = stats.ttest_ind(park.L_s, apart.L_s, equal_var = True, alternative = 'two-sided')\n",
    "print('t-statistics : {}, p-value : {}'.format(t_stat, p_val))"
   ]
  },
  {
   "cell_type": "markdown",
   "metadata": {},
   "source": [
    "- p-value가 0.4수준으로 5%(0.05)유의수준에서 귀무가설 기각할 수 없음"
   ]
  },
  {
   "cell_type": "code",
   "execution_count": 145,
   "metadata": {},
   "outputs": [
    {
     "name": "stdout",
     "output_type": "stream",
     "text": [
      "t-statistics : -1.4918349227147338, p-value : 0.18634176067533853\n"
     ]
    }
   ],
   "source": [
    "t_stat, p_val = stats.ttest_ind(park.L_s, subway.L_s, equal_var = True, alternative = 'two-sided')\n",
    "print('t-statistics : {}, p-value : {}'.format(t_stat, p_val))"
   ]
  },
  {
   "cell_type": "code",
   "execution_count": 146,
   "metadata": {},
   "outputs": [
    {
     "name": "stdout",
     "output_type": "stream",
     "text": [
      "t-statistics : 1.4180946538286086, p-value : 0.2059484431001393\n"
     ]
    }
   ],
   "source": [
    "t_stat, p_val = stats.ttest_ind(park.L_s, school.L_s, equal_var = True, alternative = 'two-sided')\n",
    "print('t-statistics : {}, p-value : {}'.format(t_stat, p_val))"
   ]
  },
  {
   "cell_type": "code",
   "execution_count": 147,
   "metadata": {},
   "outputs": [
    {
     "name": "stdout",
     "output_type": "stream",
     "text": [
      "t-statistics : -2.318347228708551, p-value : 0.05958367158420426\n"
     ]
    }
   ],
   "source": [
    "t_stat, p_val = stats.ttest_ind(apart.L_s, subway.L_s, equal_var = True, alternative = 'two-sided')\n",
    "print('t-statistics : {}, p-value : {}'.format(t_stat, p_val))"
   ]
  },
  {
   "cell_type": "code",
   "execution_count": 148,
   "metadata": {},
   "outputs": [
    {
     "name": "stdout",
     "output_type": "stream",
     "text": [
      "t-statistics : 0.6179326111576814, p-value : 0.5593285281570338\n"
     ]
    }
   ],
   "source": [
    "t_stat, p_val = stats.ttest_ind(apart.L_s, school.L_s, equal_var = True, alternative = 'two-sided')\n",
    "print('t-statistics : {}, p-value : {}'.format(t_stat, p_val))"
   ]
  },
  {
   "cell_type": "code",
   "execution_count": 149,
   "metadata": {},
   "outputs": [
    {
     "name": "stdout",
     "output_type": "stream",
     "text": [
      "t-statistics : 2.8118189183179148, p-value : 0.030682635023292784\n"
     ]
    }
   ],
   "source": [
    "t_stat, p_val = stats.ttest_ind(subway.L_s, school.L_s, equal_var = True, alternative = 'two-sided')\n",
    "print('t-statistics : {}, p-value : {}'.format(t_stat, p_val))"
   ]
  },
  {
   "cell_type": "code",
   "execution_count": null,
   "metadata": {},
   "outputs": [],
   "source": []
  },
  {
   "cell_type": "code",
   "execution_count": 150,
   "metadata": {},
   "outputs": [
    {
     "name": "stdout",
     "output_type": "stream",
     "text": [
      "t-statistics : 1.542638899470484, p-value : 0.1738601500625646\n"
     ]
    }
   ],
   "source": [
    "from scipy import stats\n",
    "\n",
    "t_stat, p_val = stats.ttest_ind(park.W_s, apart.W_s, equal_var = True, alternative = 'two-sided')\n",
    "print('t-statistics : {}, p-value : {}'.format(t_stat, p_val))"
   ]
  },
  {
   "cell_type": "markdown",
   "metadata": {},
   "source": [
    "- p-value가 0.17수준으로 5%(0.05)유의수준에서 귀무가설 기각할 수 없음"
   ]
  },
  {
   "cell_type": "code",
   "execution_count": 151,
   "metadata": {},
   "outputs": [
    {
     "name": "stdout",
     "output_type": "stream",
     "text": [
      "t-statistics : 0.11627862385175577, p-value : 0.9112260127689324\n"
     ]
    }
   ],
   "source": [
    "t_stat, p_val = stats.ttest_ind(park.W_s, subway.W_s, equal_var = True, alternative = 'two-sided')\n",
    "print('t-statistics : {}, p-value : {}'.format(t_stat, p_val))"
   ]
  },
  {
   "cell_type": "code",
   "execution_count": 152,
   "metadata": {},
   "outputs": [
    {
     "name": "stdout",
     "output_type": "stream",
     "text": [
      "t-statistics : 1.092492836581426, p-value : 0.31652932070139983\n"
     ]
    }
   ],
   "source": [
    "t_stat, p_val = stats.ttest_ind(park.W_s, school.W_s, equal_var = True, alternative = 'two-sided')\n",
    "print('t-statistics : {}, p-value : {}'.format(t_stat, p_val))"
   ]
  },
  {
   "cell_type": "code",
   "execution_count": 153,
   "metadata": {},
   "outputs": [
    {
     "name": "stdout",
     "output_type": "stream",
     "text": [
      "t-statistics : -1.3924118120504798, p-value : 0.21321123742533868\n"
     ]
    }
   ],
   "source": [
    "t_stat, p_val = stats.ttest_ind(apart.W_s, subway.W_s, equal_var = True, alternative = 'two-sided')\n",
    "print('t-statistics : {}, p-value : {}'.format(t_stat, p_val))"
   ]
  },
  {
   "cell_type": "code",
   "execution_count": 154,
   "metadata": {},
   "outputs": [
    {
     "name": "stdout",
     "output_type": "stream",
     "text": [
      "t-statistics : -0.561957162176103, p-value : 0.5944994174201006\n"
     ]
    }
   ],
   "source": [
    "t_stat, p_val = stats.ttest_ind(apart.W_s, school.W_s, equal_var = True, alternative = 'two-sided')\n",
    "print('t-statistics : {}, p-value : {}'.format(t_stat, p_val))"
   ]
  },
  {
   "cell_type": "code",
   "execution_count": 155,
   "metadata": {},
   "outputs": [
    {
     "name": "stdout",
     "output_type": "stream",
     "text": [
      "t-statistics : 0.9495713580697165, p-value : 0.37899316968694746\n"
     ]
    }
   ],
   "source": [
    "t_stat, p_val = stats.ttest_ind(subway.W_s, school.W_s, equal_var = True, alternative = 'two-sided')\n",
    "print('t-statistics : {}, p-value : {}'.format(t_stat, p_val))"
   ]
  },
  {
   "cell_type": "code",
   "execution_count": null,
   "metadata": {},
   "outputs": [],
   "source": []
  }
 ],
 "metadata": {
  "kernelspec": {
   "display_name": "Python 3",
   "language": "python",
   "name": "python3"
  },
  "language_info": {
   "codemirror_mode": {
    "name": "ipython",
    "version": 3
   },
   "file_extension": ".py",
   "mimetype": "text/x-python",
   "name": "python",
   "nbconvert_exporter": "python",
   "pygments_lexer": "ipython3",
   "version": "3.7.6"
  }
 },
 "nbformat": 4,
 "nbformat_minor": 4
}
